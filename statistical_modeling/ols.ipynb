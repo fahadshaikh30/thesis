{
 "cells": [
  {
   "cell_type": "code",
   "execution_count": 1,
   "metadata": {},
   "outputs": [],
   "source": [
    "import numpy as np\n",
    "import pandas as pd\n",
    "import statsmodels.api as sm\n",
    "import statsmodels.formula.api as smf\n",
    "\n",
    "import seaborn as sns\n",
    "import matplotlib.pyplot as plt"
   ]
  },
  {
   "cell_type": "code",
   "execution_count": 4,
   "metadata": {},
   "outputs": [],
   "source": [
    "df_final = pd.read_parquet(\"/Users/fahad/development/thesis/final_v2.parquet\")"
   ]
  },
  {
   "cell_type": "code",
   "execution_count": null,
   "metadata": {},
   "outputs": [],
   "source": [
    "df_final.head()"
   ]
  },
  {
   "cell_type": "code",
   "execution_count": 5,
   "metadata": {},
   "outputs": [
    {
     "data": {
      "text/plain": [
       "Index(['id', 'cleanedContent', 'label', 'category', 'emotion_label', 'text',\n",
       "       'text_without_stopwords', 'text_lemmatized',\n",
       "       'text_without_stopwords_freq', 'date', 'rawContent',\n",
       "       'probability.negative', 'probability.neutral', 'probability.positive',\n",
       "       'probability.anger', 'probability.anticipation', 'probability.fear',\n",
       "       'probability.joy', 'probability.optimism', 'probability.sadness',\n",
       "       'Normalized_sentiment_score'],\n",
       "      dtype='object')"
      ]
     },
     "execution_count": 5,
     "metadata": {},
     "output_type": "execute_result"
    }
   ],
   "source": [
    "df_final.columns"
   ]
  },
  {
   "cell_type": "code",
   "execution_count": 6,
   "metadata": {},
   "outputs": [
    {
     "ename": "NameError",
     "evalue": "name 'df' is not defined",
     "output_type": "error",
     "traceback": [
      "\u001b[0;31m---------------------------------------------------------------------------\u001b[0m",
      "\u001b[0;31mNameError\u001b[0m                                 Traceback (most recent call last)",
      "\u001b[1;32m/Users/fahad/development/thesis/statistical_modeling/ols.ipynb Cell 5\u001b[0m line \u001b[0;36m1\n\u001b[0;32m----> <a href='vscode-notebook-cell:/Users/fahad/development/thesis/statistical_modeling/ols.ipynb#Y134sZmlsZQ%3D%3D?line=0'>1</a>\u001b[0m df_final \u001b[39m=\u001b[39m df[[\u001b[39m'\u001b[39m\u001b[39mcategory\u001b[39m\u001b[39m'\u001b[39m, \u001b[39m'\u001b[39m\u001b[39mNormalized_sentiment_score\u001b[39m\u001b[39m'\u001b[39m]]\n",
      "\u001b[0;31mNameError\u001b[0m: name 'df' is not defined"
     ]
    }
   ],
   "source": [
    "df_final = df_final[['category', 'Normalized_sentiment_score']]"
   ]
  },
  {
   "cell_type": "markdown",
   "metadata": {},
   "source": [
    "# Sentiment Correlation"
   ]
  },
  {
   "cell_type": "code",
   "execution_count": null,
   "metadata": {},
   "outputs": [],
   "source": [
    "df_final = df_final[['probability.negative', 'probability.neutral', 'probability.positive']]"
   ]
  },
  {
   "cell_type": "code",
   "execution_count": null,
   "metadata": {},
   "outputs": [],
   "source": [
    "corr = df_final.corr()\n",
    "\n",
    "plt.figure(figsize=(20, 10))\n",
    "\n",
    "sns.heatmap(corr, annot=True)\n",
    "plt.show()"
   ]
  },
  {
   "cell_type": "code",
   "execution_count": null,
   "metadata": {},
   "outputs": [],
   "source": [
    "sns.clustermap(corr)"
   ]
  },
  {
   "cell_type": "code",
   "execution_count": null,
   "metadata": {},
   "outputs": [],
   "source": [
    "df_final['sum'] = df_final.sum(axis=1)"
   ]
  },
  {
   "cell_type": "code",
   "execution_count": null,
   "metadata": {},
   "outputs": [],
   "source": [
    "df_final['sum'] < 1"
   ]
  },
  {
   "cell_type": "markdown",
   "metadata": {},
   "source": [
    "# Emotion Correlation"
   ]
  },
  {
   "cell_type": "code",
   "execution_count": null,
   "metadata": {},
   "outputs": [],
   "source": [
    "df_final = df_final[['probability.anger', 'probability.anticipation', 'probability.disgust',\n",
    "       'probability.fear', 'probability.joy', 'probability.love',\n",
    "       'probability.optimism', 'probability.pessimism', 'probability.sadness',\n",
    "       'probability.surprise', 'probability.trust']]"
   ]
  },
  {
   "cell_type": "code",
   "execution_count": null,
   "metadata": {},
   "outputs": [],
   "source": [
    "corr = df_final.corr()"
   ]
  },
  {
   "cell_type": "code",
   "execution_count": null,
   "metadata": {},
   "outputs": [],
   "source": [
    "plt.figure(figsize=(20, 10))\n",
    "\n",
    "sns.heatmap(corr, annot=True)\n",
    "plt.show()"
   ]
  },
  {
   "cell_type": "code",
   "execution_count": null,
   "metadata": {},
   "outputs": [],
   "source": [
    "sns.clustermap(corr)"
   ]
  },
  {
   "cell_type": "markdown",
   "metadata": {},
   "source": [
    "optimism = optimism + trust ; remove trust\n",
    "anticipation = anticipation + surprise ; remove surprise\n",
    "anger = anger + disgust ; remove disgust\n",
    "joy = joy + love ; remove love\n"
   ]
  },
  {
   "cell_type": "code",
   "execution_count": null,
   "metadata": {},
   "outputs": [],
   "source": [
    "df_final.head()"
   ]
  },
  {
   "cell_type": "code",
   "execution_count": null,
   "metadata": {},
   "outputs": [],
   "source": [
    "df_final['emotion_label'].value_counts()"
   ]
  },
  {
   "cell_type": "code",
   "execution_count": null,
   "metadata": {},
   "outputs": [],
   "source": [
    "df_final['probability.joy'] = df_final['probability.joy'] + df_final['probability.love']\n",
    "df_final['probability.anger'] = df_final['probability.anger'] + df_final['probability.disgust']\n",
    "df_final['probability.anticipation'] = df_final['probability.anticipation'] + df_final['probability.surprise']\n",
    "df_final['probability.optimism'] = df_final['probability.optimism'] + df_final['probability.trust']\n",
    "df_final['probability.sadness'] = df_final['probability.sadness'] + df_final['probability.pessimism']"
   ]
  },
  {
   "cell_type": "code",
   "execution_count": null,
   "metadata": {},
   "outputs": [],
   "source": [
    "df_final.drop(columns=['probability.disgust', 'probability.surprise', 'probability.trust', 'probability.love', 'probability.pessimism'], inplace=True)"
   ]
  },
  {
   "cell_type": "code",
   "execution_count": null,
   "metadata": {},
   "outputs": [],
   "source": [
    "df_final.head()"
   ]
  },
  {
   "cell_type": "code",
   "execution_count": null,
   "metadata": {},
   "outputs": [],
   "source": [
    "corr = df_final.corr()\n",
    "plt.figure(figsize=(20, 10))\n",
    "\n",
    "sns.heatmap(corr, annot=True)\n",
    "plt.show()"
   ]
  },
  {
   "cell_type": "code",
   "execution_count": null,
   "metadata": {},
   "outputs": [],
   "source": [
    "df_final['emotion_label'].replace({'love': 'joy'}, inplace=True)"
   ]
  },
  {
   "cell_type": "code",
   "execution_count": null,
   "metadata": {},
   "outputs": [],
   "source": [
    "df_final['emotion_label'].replace({'disgust': 'anger'}, inplace=True)"
   ]
  },
  {
   "cell_type": "code",
   "execution_count": null,
   "metadata": {},
   "outputs": [],
   "source": [
    "df_final['emotion_label'].replace({'surprise': 'anticipation'}, inplace=True)"
   ]
  },
  {
   "cell_type": "code",
   "execution_count": null,
   "metadata": {},
   "outputs": [],
   "source": [
    "df_final.to_parquet(r\"C:\\Users\\fashaikh\\Desktop\\Thesis_main\\final_v2.parquet\")"
   ]
  },
  {
   "cell_type": "markdown",
   "metadata": {},
   "source": [
    "# Normalize Sentiment"
   ]
  },
  {
   "cell_type": "code",
   "execution_count": null,
   "metadata": {},
   "outputs": [],
   "source": [
    "df_sentiment = df_final[['id', 'probability.positive', 'probability.neutral', 'probability.negative', 'label']]"
   ]
  },
  {
   "cell_type": "code",
   "execution_count": null,
   "metadata": {},
   "outputs": [],
   "source": [
    "# Define weights\n",
    "W_positive = 1\n",
    "W_neutral = 0.5\n",
    "W_negative = 0"
   ]
  },
  {
   "cell_type": "code",
   "execution_count": null,
   "metadata": {},
   "outputs": [],
   "source": [
    "# Calculate sentiment score\n",
    "df_final['Sentiment_score'] = (W_positive * df_final['probability.positive'] + \n",
    "                         W_neutral * df_final['probability.neutral'] + \n",
    "                         W_negative * df_final['probability.negative'])\n"
   ]
  },
  {
   "cell_type": "code",
   "execution_count": null,
   "metadata": {},
   "outputs": [],
   "source": [
    "# Normalize sentiment score to the range from -1 to 1\n",
    "df_final['Normalized_sentiment_score'] = ((df_final['Sentiment_score'] - df_final['Sentiment_score'].min()) / \n",
    "                                     (df_final['Sentiment_score'].max() - df_final['Sentiment_score'].min())) * 2 - 1\n"
   ]
  },
  {
   "cell_type": "code",
   "execution_count": null,
   "metadata": {},
   "outputs": [],
   "source": [
    "df_final.drop(columns='Sentiment_score', inplace=True)"
   ]
  },
  {
   "cell_type": "code",
   "execution_count": null,
   "metadata": {},
   "outputs": [],
   "source": [
    "df_sentiment.to_parquet(r\"C:\\Users\\fashaikh\\Desktop\\Thesis_main\\normalized_sentiment.parquet\")"
   ]
  },
  {
   "cell_type": "markdown",
   "metadata": {},
   "source": [
    "# Normalize Emotions"
   ]
  },
  {
   "cell_type": "code",
   "execution_count": null,
   "metadata": {},
   "outputs": [],
   "source": [
    "df_final = pd.read_parquet(r\"C:\\Users\\fashaikh\\Desktop\\Thesis_main\\final_v2.parquet\")"
   ]
  },
  {
   "cell_type": "code",
   "execution_count": null,
   "metadata": {},
   "outputs": [],
   "source": [
    "df_final.columns"
   ]
  },
  {
   "cell_type": "code",
   "execution_count": null,
   "metadata": {},
   "outputs": [],
   "source": [
    "df_emotion = df_final[['probability.anger', 'probability.anticipation', 'probability.fear',\n",
    "       'probability.joy', 'probability.optimism', 'probability.sadness', 'emotion_label']]"
   ]
  },
  {
   "cell_type": "code",
   "execution_count": null,
   "metadata": {},
   "outputs": [],
   "source": [
    "corr = df_emotion.corr()\n",
    "plt.figure(figsize=(20, 10))\n",
    "\n",
    "sns.heatmap(corr, annot=True)\n",
    "plt.show()"
   ]
  },
  {
   "cell_type": "code",
   "execution_count": null,
   "metadata": {},
   "outputs": [],
   "source": [
    "W_anger = -1\n",
    "W_anticipation = 0\n",
    "W_fear = -0.3\n",
    "W_joy = 1\n",
    "W_optimism = 0.7\n",
    "W_sadness = -0.7"
   ]
  },
  {
   "cell_type": "code",
   "execution_count": null,
   "metadata": {},
   "outputs": [],
   "source": [
    "W_anger = 0\n",
    "W_anticipation = 0.5\n",
    "W_fear = 0.1\n",
    "W_joy = 1\n",
    "W_optimism = 0.7\n",
    "W_sadness = 0.2"
   ]
  },
  {
   "cell_type": "code",
   "execution_count": null,
   "metadata": {},
   "outputs": [],
   "source": [
    "# Calculate sentiment score\n",
    "df_final['emotion_score'] = (W_anger * df_final['probability.anger'] + \n",
    "                         W_anticipation * df_final['probability.anticipation'] + \n",
    "                         W_fear * df_final['probability.fear'] + \n",
    "                         W_joy * df_final['probability.joy'] + \n",
    "                         W_optimism * df_final['probability.optimism'] + \n",
    "                         W_sadness * df_final['probability.sadness'])"
   ]
  },
  {
   "cell_type": "code",
   "execution_count": null,
   "metadata": {},
   "outputs": [],
   "source": [
    "# Normalize sentiment score to the range from -1 to 1\n",
    "df_final['Normalized_emotion_score'] = ((df_final['emotion_score'] - df_final['emotion_score'].min()) / \n",
    "                                     (df_final['emotion_score'].max() - df_final['emotion_score'].min())) * 2 - 1"
   ]
  },
  {
   "cell_type": "code",
   "execution_count": null,
   "metadata": {},
   "outputs": [],
   "source": [
    "df_final.to_parquet(r\"C:\\Users\\fashaikh\\Desktop\\Thesis_main\\final_v2.parquet\")"
   ]
  },
  {
   "cell_type": "markdown",
   "metadata": {},
   "source": [
    "# Ordinary Least Squares"
   ]
  },
  {
   "cell_type": "code",
   "execution_count": 2,
   "metadata": {},
   "outputs": [],
   "source": [
    "df_final = pd.read_parquet(r\"C:\\Users\\fashaikh\\Desktop\\Thesis_main\\final_v2.parquet\")"
   ]
  },
  {
   "cell_type": "code",
   "execution_count": 3,
   "metadata": {},
   "outputs": [
    {
     "name": "stderr",
     "output_type": "stream",
     "text": [
      "C:\\Users\\fashaikh\\AppData\\Local\\Temp\\ipykernel_10272\\2236038258.py:1: FutureWarning: The default value of numeric_only in DataFrameGroupBy.mean is deprecated. In a future version, numeric_only will default to False. Either specify numeric_only or select only columns which should be valid for the function.\n",
      "  grouped = df_final.groupby('category').mean()\n"
     ]
    }
   ],
   "source": [
    "grouped = df_final.groupby('category').mean()"
   ]
  },
  {
   "cell_type": "code",
   "execution_count": null,
   "metadata": {},
   "outputs": [],
   "source": [
    "df_demo = pd.read_csv(r\"C:\\Users\\fashaikh\\Desktop\\Thesis_main\\thesis\\acp_data\\semi_cleaned_demo.csv\")"
   ]
  },
  {
   "cell_type": "code",
   "execution_count": null,
   "metadata": {},
   "outputs": [],
   "source": [
    "df_demo.head()"
   ]
  },
  {
   "cell_type": "code",
   "execution_count": 10,
   "metadata": {},
   "outputs": [
    {
     "data": {
      "text/plain": [
       "Index(['Community', 'Access to Exercise Opportunities',\n",
       "       'Driving Alone to Work', 'Food Insecurity',\n",
       "       'Limited Access to Healthy Foods', 'Long Commute - Driving Alone',\n",
       "       '% 65 and Older', '% American Indian or Alaska Native', '% Asian',\n",
       "       '% Below 18 Years of Age', '% Female', '% Hispanic',\n",
       "       '% Native Hawaiian or Other Pacific Islander', '% Non-Hispanic Black',\n",
       "       '% Non-Hispanic White', '% Not Proficient in English', '% Rural',\n",
       "       'Bachelor's degree', 'Census Participation', 'High School Completion',\n",
       "       'High School Graduation', 'School Segregation', 'Adult Obesity',\n",
       "       'Adult Smoking', 'Alcohol-Impaired Driving Deaths',\n",
       "       'Diabetes Prevalence', 'Excessive Drinking', 'Flu Vaccinations',\n",
       "       'Frequent Mental Distress', 'Frequent Physical Distress',\n",
       "       'Insufficient Sleep', 'Low Birthweight', 'Mammography Screening',\n",
       "       'Physical Inactivity', 'Poor or Fair Health', 'Uninsured Adults',\n",
       "       'Uninsured Children', 'Uninsured', 'Broadband Access', 'Democrat',\n",
       "       'Voter Turnout', 'Child Care Cost Burden',\n",
       "       'Children Eligible for Free or Reduced Price Lunch',\n",
       "       'Children in Poverty', 'Children in Single-Parent Households',\n",
       "       'Gender Pay Gap', 'Homeownership', 'Severe Housing Cost Burden',\n",
       "       'Severe Housing Problems', 'Unemployment'],\n",
       "      dtype='object')"
      ]
     },
     "execution_count": 10,
     "metadata": {},
     "output_type": "execute_result"
    }
   ],
   "source": [
    "df_demo.columns"
   ]
  },
  {
   "cell_type": "code",
   "execution_count": null,
   "metadata": {},
   "outputs": [],
   "source": [
    "corr = grouped.corr()\n",
    "plt.figure(figsize=(20, 10))\n",
    "sns.heatmap(corr, annot=True)\n",
    "plt.show()"
   ]
  },
  {
   "cell_type": "code",
   "execution_count": 6,
   "metadata": {},
   "outputs": [],
   "source": [
    "grouped = grouped.merge(df_demo, 'inner', right_on= 'Community', left_on='category')"
   ]
  },
  {
   "cell_type": "code",
   "execution_count": null,
   "metadata": {},
   "outputs": [],
   "source": [
    "sns.regplot(x='Insufficient Sleep', \n",
    "y='probability.joy', data=grouped)"
   ]
  },
  {
   "cell_type": "code",
   "execution_count": null,
   "metadata": {},
   "outputs": [],
   "source": [
    "grouped.head()"
   ]
  },
  {
   "cell_type": "code",
   "execution_count": 7,
   "metadata": {},
   "outputs": [],
   "source": [
    "y = grouped['Normalized_sentiment_score']"
   ]
  },
  {
   "cell_type": "code",
   "execution_count": 97,
   "metadata": {},
   "outputs": [],
   "source": [
    "x = grouped[[\n",
    "    # 'Community', \n",
    "    # 'Access to Exercise Opportunities',\n",
    "    # 'Driving Alone to Work', \n",
    "    # 'Food Insecurity',\n",
    "    # 'Limited Access to Healthy Foods', \n",
    "    # 'Long Commute - Driving Alone',\n",
    "    # '% 65 and Older', \n",
    "    # '% American Indian or Alaska Native', \n",
    "    # '% Asian',\n",
    "    # '% Below 18 Years of Age', \n",
    "    # '% Female', \n",
    "    # '% Hispanic',\n",
    "    # '% Native Hawaiian or Other Pacific Islander', \n",
    "    # '% Non-Hispanic Black',\n",
    "    # '% Non-Hispanic White', \n",
    "    # '% Not Proficient in English', \n",
    "    # '% Rural',\n",
    "    # 'Bachelor\\'s degree', \n",
    "    # 'Census Participation', \n",
    "    #  'High School Completion',\n",
    "    # 'High School Graduation', \n",
    "    #  'School Segregation', \n",
    "    # 'Adult Obesity',\n",
    "    # 'Adult Smoking', \n",
    "    # 'Alcohol-Impaired Driving Deaths',\n",
    "    # 'Diabetes Prevalence', \n",
    "    # 'Excessive Drinking', \n",
    "    # 'Flu Vaccinations',\n",
    "    # 'Frequent Mental Distress', \n",
    "    # 'Frequent Physical Distress',\n",
    "     #'Insufficient Sleep', \n",
    "    # 'Low Birthweight', \n",
    "    # 'Mammography Screening',\n",
    "    #'Physical Inactivity', \n",
    "    # 'Poor or Fair Health', \n",
    "    # 'Uninsured Adults',\n",
    "    # 'Uninsured Children', \n",
    "    # 'Uninsured', \n",
    "    # 'Broadband Access', \n",
    "    # 'Democrat',\n",
    "    # 'Voter Turnout', \n",
    "    # 'Child Care Cost Burden',\n",
    "    # 'Children Eligible for Free or Reduced Price Lunch',\n",
    "    # 'Children in Poverty', \n",
    "    # 'Children in Single-Parent Households',\n",
    "    # 'Gender Pay Gap', \n",
    "    # 'Homeownership', \n",
    "    # 'Severe Housing Cost Burden',\n",
    "    # 'Severe Housing Problems', \n",
    "     'Unemployment'\n",
    "       ]]\n",
    "x = sm.add_constant(x)"
   ]
  },
  {
   "cell_type": "code",
   "execution_count": 102,
   "metadata": {},
   "outputs": [
    {
     "name": "stderr",
     "output_type": "stream",
     "text": [
      "c:\\Users\\fashaikh\\Desktop\\Thesis_main\\thesis\\.venv\\lib\\site-packages\\scipy\\stats\\_stats_py.py:1736: UserWarning: kurtosistest only valid for n>=20 ... continuing anyway, n=15\n",
      "  warnings.warn(\"kurtosistest only valid for n>=20 ... continuing \"\n"
     ]
    }
   ],
   "source": [
    "results = sm.OLS(y, x).fit()\n",
    "# print(results.summary().as_text())\n",
    "df = results.summary2().tables[1]"
   ]
  },
  {
   "cell_type": "code",
   "execution_count": 84,
   "metadata": {},
   "outputs": [
    {
     "name": "stderr",
     "output_type": "stream",
     "text": [
      "c:\\Users\\fashaikh\\Desktop\\Thesis_main\\thesis\\.venv\\lib\\site-packages\\scipy\\stats\\_stats_py.py:1736: UserWarning: kurtosistest only valid for n>=20 ... continuing anyway, n=15\n",
      "  warnings.warn(\"kurtosistest only valid for n>=20 ... continuing \"\n"
     ]
    }
   ],
   "source": [
    "with open(r\"C:\\Users\\fashaikh\\Desktop\\Thesis_main\\thesis\\statistical_modeling\\statistically_significant\\bachelors_census.txt\", 'w') as fh:\n",
    "        fh.write(results.summary().as_text())"
   ]
  },
  {
   "cell_type": "code",
   "execution_count": null,
   "metadata": {},
   "outputs": [],
   "source": [
    "# Initialize the model\n",
    "model = sm.OLS(y, x).fit()"
   ]
  },
  {
   "cell_type": "code",
   "execution_count": null,
   "metadata": {},
   "outputs": [],
   "source": [
    "# Start backward elimination process\n",
    "while True:\n",
    "    max_p_value = model.pvalues.drop('const').max()  # Exclude p-value for the intercept\n",
    "\n",
    "    if max_p_value > 0.05:\n",
    "        max_var = model.pvalues.drop('const').idxmax()  # Variable with highest p-value\n",
    "        x = X.drop(max_var, axis=1)  # Remove the variable with highest p-value\n",
    "        model = sm.OLS(y, x).fit()  # Fit the updated model\n",
    "    else:\n",
    "        break\n",
    "\n",
    "# Print the final summary\n",
    "print(model.summary())\n"
   ]
  },
  {
   "cell_type": "code",
   "execution_count": null,
   "metadata": {},
   "outputs": [],
   "source": [
    "Y = grouped['Normalized_sentiment_score']\n",
    "X = grouped['Median Household Income']"
   ]
  },
  {
   "cell_type": "code",
   "execution_count": null,
   "metadata": {},
   "outputs": [],
   "source": [
    "test_df = df_final"
   ]
  },
  {
   "cell_type": "code",
   "execution_count": null,
   "metadata": {},
   "outputs": [],
   "source": [
    "test_df = test_df[['emotion_label', 'category']]"
   ]
  },
  {
   "cell_type": "code",
   "execution_count": null,
   "metadata": {},
   "outputs": [],
   "source": [
    "dummies = pd.get_dummies(test_df, columns=['emotion_label'], drop_first=True)"
   ]
  },
  {
   "cell_type": "code",
   "execution_count": null,
   "metadata": {},
   "outputs": [],
   "source": [
    "dummies"
   ]
  },
  {
   "cell_type": "code",
   "execution_count": null,
   "metadata": {},
   "outputs": [],
   "source": [
    "test_df = dummies.merge(df_demo, 'left', left_on='category', right_on='Community')"
   ]
  },
  {
   "cell_type": "code",
   "execution_count": null,
   "metadata": {},
   "outputs": [],
   "source": [
    "test_df.columns"
   ]
  },
  {
   "cell_type": "code",
   "execution_count": null,
   "metadata": {},
   "outputs": [],
   "source": [
    "test_df = test_df[['category', 'emotion_label_anticipation',\n",
    "       'emotion_label_fear', 'emotion_label_joy', 'emotion_label_optimism',\n",
    "       'emotion_label_sadness', 'Unemployment']]"
   ]
  },
  {
   "cell_type": "code",
   "execution_count": null,
   "metadata": {},
   "outputs": [],
   "source": [
    "y = test_df['Normalized_sentiment_score']\n",
    "x = test_df[['Unemployment', 'Bachelor\\'s degree']]\n",
    "x = sm.add_constant(x)"
   ]
  },
  {
   "cell_type": "code",
   "execution_count": null,
   "metadata": {},
   "outputs": [],
   "source": [
    "results = sm.OLS(y, x).fit()\n",
    "print(results.summary())"
   ]
  },
  {
   "cell_type": "markdown",
   "metadata": {},
   "source": [
    "# OLS Dummy"
   ]
  },
  {
   "cell_type": "code",
   "execution_count": null,
   "metadata": {},
   "outputs": [],
   "source": []
  },
  {
   "cell_type": "code",
   "execution_count": null,
   "metadata": {},
   "outputs": [],
   "source": []
  }
 ],
 "metadata": {
  "kernelspec": {
   "display_name": ".venv",
   "language": "python",
   "name": "python3"
  },
  "language_info": {
   "codemirror_mode": {
    "name": "ipython",
    "version": 3
   },
   "file_extension": ".py",
   "mimetype": "text/x-python",
   "name": "python",
   "nbconvert_exporter": "python",
   "pygments_lexer": "ipython3",
   "version": "3.9.1"
  },
  "orig_nbformat": 4
 },
 "nbformat": 4,
 "nbformat_minor": 2
}
