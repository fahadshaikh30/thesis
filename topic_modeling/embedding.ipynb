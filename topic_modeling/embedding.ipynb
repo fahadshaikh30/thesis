{
 "cells": [
  {
   "cell_type": "code",
   "execution_count": 1,
   "metadata": {},
   "outputs": [],
   "source": [
    "import pandas as pd\n",
    "import numpy as np\n",
    "import re\n",
    "import pickle\n",
    "from tqdm.auto import tqdm\n",
    "from bertopic import BERTopic\n",
    "from sentence_transformers import SentenceTransformer\n",
    "from sklearn.feature_extraction.text import CountVectorizer\n",
    "from bertopic.vectorizers import ClassTfidfTransformer\n",
    "from bertopic.representation import KeyBERTInspired\n",
    "from umap import UMAP\n",
    "from hdbscan import HDBSCAN\n",
    "from sklearn.decomposition import PCA"
   ]
  },
  {
   "attachments": {},
   "cell_type": "markdown",
   "metadata": {},
   "source": [
    "# Minimal Cleaning\n"
   ]
  },
  {
   "cell_type": "code",
   "execution_count": 2,
   "metadata": {},
   "outputs": [],
   "source": [
    "df = pd.read_parquet(r\"C:\\Users\\fashaikh\\Desktop\\Thesis_main\\topic_modeling.parquet\")"
   ]
  },
  {
   "cell_type": "code",
   "execution_count": 3,
   "metadata": {},
   "outputs": [],
   "source": [
    "def clean_tweet(text):\n",
    "    # Remove mentions\n",
    "    text = re.sub(r\"@user\", \"\", text)\n",
    "\n",
    "    # Remove URLs\n",
    "    text = re.sub(r\"http\", \"\", text)\n",
    "\n",
    "    # Remove extra whitespaces\n",
    "    text = re.sub(r\"\\s+\", \" \", text).strip()\n",
    "\n",
    "    # Remove leading whitespaces\n",
    "    text = re.sub(r\"^\\s+\", \"\", text)\n",
    "\n",
    "    # Replace &amp; with and\n",
    "    text = re.sub(r\"&amp;\", \"and\", text)\n",
    "\n",
    "    return text"
   ]
  },
  {
   "cell_type": "code",
   "execution_count": 4,
   "metadata": {},
   "outputs": [],
   "source": [
    "df[\"clean\"] = df[\"cleanedContent\"].apply(clean_tweet)"
   ]
  },
  {
   "cell_type": "code",
   "execution_count": 7,
   "metadata": {},
   "outputs": [],
   "source": [
    "df = df[[\"id\", \"category\", \"clean\"]]"
   ]
  },
  {
   "cell_type": "code",
   "execution_count": 8,
   "metadata": {},
   "outputs": [],
   "source": [
    "df.to_parquet(r\"C:\\Users\\fashaikh\\Desktop\\Thesis_main\\minimal_cleaned.parquet\")"
   ]
  },
  {
   "attachments": {},
   "cell_type": "markdown",
   "metadata": {},
   "source": [
    "# Precompute Embeddings\n"
   ]
  },
  {
   "cell_type": "code",
   "execution_count": 2,
   "metadata": {},
   "outputs": [],
   "source": [
    "df = pd.read_parquet(r\"C:\\Users\\fashaikh\\Desktop\\Thesis_main\\minimal_cleaned.parquet\")"
   ]
  },
  {
   "cell_type": "code",
   "execution_count": 3,
   "metadata": {},
   "outputs": [],
   "source": [
    "text = df[\"clean\"].to_list()"
   ]
  },
  {
   "cell_type": "code",
   "execution_count": 4,
   "metadata": {},
   "outputs": [],
   "source": [
    "sentence_model = SentenceTransformer(\"all-MiniLM-L12-v2\", device=\"cuda\")"
   ]
  },
  {
   "cell_type": "code",
   "execution_count": 5,
   "metadata": {},
   "outputs": [
    {
     "data": {
      "application/vnd.jupyter.widget-view+json": {
       "model_id": "954bc10f1db14b1bbea50617554e8d7e",
       "version_major": 2,
       "version_minor": 0
      },
      "text/plain": [
       "Batches:   0%|          | 0/146440 [00:00<?, ?it/s]"
      ]
     },
     "metadata": {},
     "output_type": "display_data"
    }
   ],
   "source": [
    "embeddings = sentence_model.encode(text, show_progress_bar=True)"
   ]
  },
  {
   "cell_type": "code",
   "execution_count": 6,
   "metadata": {},
   "outputs": [],
   "source": [
    "np.save(\"embeddings.npy\", embeddings)"
   ]
  },
  {
   "attachments": {},
   "cell_type": "markdown",
   "metadata": {},
   "source": [
    "# Rescaling embeddings with PCA\n"
   ]
  },
  {
   "cell_type": "code",
   "execution_count": 2,
   "metadata": {},
   "outputs": [],
   "source": [
    "embeddings = np.load(r\"C:\\Users\\fashaikh\\Desktop\\Thesis_main\\embeddings.npy\")"
   ]
  },
  {
   "cell_type": "code",
   "execution_count": 3,
   "metadata": {},
   "outputs": [],
   "source": [
    "def rescale(x, inplace=False):\n",
    "    \"\"\"Rescale an embedding so optimization will not have convergence issues.\"\"\"\n",
    "    if not inplace:\n",
    "        x = np.array(x, copy=True)\n",
    "\n",
    "    x /= np.std(x[:, 0]) * 10000\n",
    "\n",
    "    return x"
   ]
  },
  {
   "cell_type": "code",
   "execution_count": 4,
   "metadata": {},
   "outputs": [],
   "source": [
    "# Initialize and rescale PCA embeddings\n",
    "pca_embeddings = rescale(PCA(n_components=5).fit_transform(embeddings))"
   ]
  },
  {
   "cell_type": "code",
   "execution_count": 5,
   "metadata": {},
   "outputs": [],
   "source": [
    "np.save(\"pca_embeddings_5.npy\", pca_embeddings)"
   ]
  },
  {
   "attachments": {},
   "cell_type": "markdown",
   "metadata": {},
   "source": [
    "# Topic Modeling\n"
   ]
  },
  {
   "cell_type": "code",
   "execution_count": 2,
   "metadata": {},
   "outputs": [],
   "source": [
    "# pca_embeddings = np.load(\"pca_embeddings.npy\")\n",
    "embeddings = np.load(r\"C:\\Users\\fashaikh\\Desktop\\Thesis_main\\embeddings.npy\")"
   ]
  },
  {
   "cell_type": "markdown",
   "metadata": {},
   "source": [
    "Base Topic Model\n"
   ]
  },
  {
   "cell_type": "code",
   "execution_count": 7,
   "metadata": {},
   "outputs": [],
   "source": [
    "vectorizer_model = CountVectorizer(ngram_range=(1, 2), stop_words=\"english\", min_df=50)\n",
    "ctfidf_model = ClassTfidfTransformer(reduce_frequent_words=True)\n",
    "representation_model = KeyBERTInspired()\n",
    "\n",
    "# Start UMAP from PCA embeddings\n",
    "umap_model = UMAP(\n",
    "    n_neighbors=15,\n",
    "    n_components=5,\n",
    "    min_dist=0.0,\n",
    "    metric=\"cosine\",\n",
    "    unique=True,\n",
    "    init=pca_embeddings,\n",
    "    random_state=42,\n",
    ")\n",
    "\n",
    "topic_model = BERTopic(\n",
    "    umap_model=umap_model,\n",
    "    vectorizer_model=vectorizer_model,\n",
    "    ctfidf_model=ctfidf_model,\n",
    "    representation_model=representation_model,\n",
    "    low_memory=True,\n",
    "    verbose=True,\n",
    "    calculate_probabilities=False,\n",
    ")"
   ]
  },
  {
   "cell_type": "code",
   "execution_count": 8,
   "metadata": {},
   "outputs": [
    {
     "data": {
      "application/vnd.jupyter.widget-view+json": {
       "model_id": "ce33bc2ad13e4d7aa1e3946dc1bb2faa",
       "version_major": 2,
       "version_minor": 0
      },
      "text/plain": [
       "Batches:   0%|          | 0/146440 [00:00<?, ?it/s]"
      ]
     },
     "metadata": {},
     "output_type": "display_data"
    },
    {
     "name": "stderr",
     "output_type": "stream",
     "text": [
      "2023-07-09 14:03:39,897 - BERTopic - Transformed documents to Embeddings\n"
     ]
    }
   ],
   "source": [
    "topics, _ = topic_model.fit_transform(df[\"clean\"])"
   ]
  },
  {
   "cell_type": "code",
   "execution_count": null,
   "metadata": {},
   "outputs": [],
   "source": [
    "topic_model.get_topic_info()"
   ]
  },
  {
   "cell_type": "code",
   "execution_count": null,
   "metadata": {},
   "outputs": [],
   "source": [
    "topic_model.get_topic(0)"
   ]
  },
  {
   "cell_type": "code",
   "execution_count": null,
   "metadata": {},
   "outputs": [],
   "source": [
    "topic_model.get_document_info(text)"
   ]
  },
  {
   "cell_type": "code",
   "execution_count": null,
   "metadata": {},
   "outputs": [],
   "source": [
    "topic_model.visualize_topics()"
   ]
  },
  {
   "cell_type": "code",
   "execution_count": null,
   "metadata": {},
   "outputs": [],
   "source": [
    "topic_model.visualize_heatmap()"
   ]
  },
  {
   "cell_type": "code",
   "execution_count": null,
   "metadata": {},
   "outputs": [],
   "source": [
    "topic_model.save(\n",
    "    \"path/to/my/model_dir\",\n",
    "    serialization=\"safetensors\",\n",
    "    save_ctfidf=True,\n",
    "    save_embedding_model=sentence_model,\n",
    ")"
   ]
  },
  {
   "cell_type": "markdown",
   "metadata": {},
   "source": [
    "# Manual Topic Modeling"
   ]
  },
  {
   "cell_type": "code",
   "execution_count": 28,
   "metadata": {},
   "outputs": [],
   "source": [
    "df = pd.read_parquet(r\"C:\\Users\\fashaikh\\Desktop\\Thesis_main\\minimal_cleaned.parquet\")"
   ]
  },
  {
   "cell_type": "code",
   "execution_count": 29,
   "metadata": {},
   "outputs": [],
   "source": [
    "category_mapping = {\n",
    "    0: \"Big Cities\",\n",
    "    1: \"Exurbs\",\n",
    "    2: \"Rural Middle America\",\n",
    "    3: \"Evangelical Hubs\",\n",
    "    4: \"Graying America\",\n",
    "    5: \"Middle Suburbs\",\n",
    "    6: \"College Towns\",\n",
    "    7: \"Urban Suburbs\",\n",
    "    8: \"Hispanic Centers\",\n",
    "    9: \"Working Class Country\",\n",
    "    10: \"African American South\",\n",
    "    11: \"Aging Farmlands\",\n",
    "    12: \"Military Posts\",\n",
    "    13: \"Native American Lands\",\n",
    "    14: \"LDS Enclaves\",\n",
    "}\n",
    "df['target'] = df['category'].map({v: k for k, v in category_mapping.items()})"
   ]
  },
  {
   "cell_type": "code",
   "execution_count": 30,
   "metadata": {},
   "outputs": [],
   "source": [
    "docs = df['clean'].to_list()\n",
    "y = df['target'].to_list()"
   ]
  },
  {
   "cell_type": "code",
   "execution_count": 31,
   "metadata": {},
   "outputs": [
    {
     "name": "stderr",
     "output_type": "stream",
     "text": [
      "2023-07-09 16:50:57,049 - BERTopic - Transformed documents to Embeddings\n",
      "2023-07-09 16:50:57,050 - BERTopic - The dimensionality reduction algorithm did not contain the `y` parameter and therefore the `y` parameter was not used\n",
      "2023-07-09 16:50:57,050 - BERTopic - Reduced dimensionality\n",
      "2023-07-09 16:50:57,989 - BERTopic - Clustered reduced embeddings\n"
     ]
    }
   ],
   "source": [
    "from bertopic import BERTopic\n",
    "from bertopic.backend import BaseEmbedder\n",
    "from bertopic.cluster import BaseCluster\n",
    "from bertopic.vectorizers import ClassTfidfTransformer\n",
    "from bertopic.dimensionality import BaseDimensionalityReduction\n",
    "\n",
    "# Prepare our empty sub-models and reduce frequent words while we are at it.\n",
    "empty_embedding_model = BaseEmbedder()\n",
    "empty_dimensionality_model = BaseDimensionalityReduction()\n",
    "empty_cluster_model = BaseCluster()\n",
    "ctfidf_model = ClassTfidfTransformer(reduce_frequent_words=True)\n",
    "vectorizer_model = CountVectorizer(ngram_range=(1, 2), stop_words=\"english\")\n",
    "\n",
    "# Fit BERTopic without actually performing any clustering\n",
    "topic_model= BERTopic(\n",
    "        embedding_model=empty_embedding_model,\n",
    "        umap_model=empty_dimensionality_model,\n",
    "        hdbscan_model=empty_cluster_model,\n",
    "        ctfidf_model=ctfidf_model,\n",
    "        vectorizer_model=vectorizer_model\n",
    ")\n",
    "topics, probs = topic_model.fit_transform(docs, y=y)\n"
   ]
  },
  {
   "cell_type": "code",
   "execution_count": 32,
   "metadata": {},
   "outputs": [
    {
     "data": {
      "text/html": [
       "<div>\n",
       "<style scoped>\n",
       "    .dataframe tbody tr th:only-of-type {\n",
       "        vertical-align: middle;\n",
       "    }\n",
       "\n",
       "    .dataframe tbody tr th {\n",
       "        vertical-align: top;\n",
       "    }\n",
       "\n",
       "    .dataframe thead th {\n",
       "        text-align: right;\n",
       "    }\n",
       "</style>\n",
       "<table border=\"1\" class=\"dataframe\">\n",
       "  <thead>\n",
       "    <tr style=\"text-align: right;\">\n",
       "      <th></th>\n",
       "      <th>Topic</th>\n",
       "      <th>Count</th>\n",
       "      <th>Name</th>\n",
       "      <th>Representation</th>\n",
       "      <th>Representative_Docs</th>\n",
       "      <th>Class</th>\n",
       "    </tr>\n",
       "  </thead>\n",
       "  <tbody>\n",
       "    <tr>\n",
       "      <th>0</th>\n",
       "      <td>0</td>\n",
       "      <td>3004707</td>\n",
       "      <td>0_blacklivesmatter_blm_black_people</td>\n",
       "      <td>[blacklivesmatter, blm, black, people, police,...</td>\n",
       "      <td>[hey District reassigned a middle school teach...</td>\n",
       "      <td>Big Cities</td>\n",
       "    </tr>\n",
       "    <tr>\n",
       "      <th>1</th>\n",
       "      <td>1</td>\n",
       "      <td>688950</td>\n",
       "      <td>1_blacklivesmatter_people_black_don</td>\n",
       "      <td>[blacklivesmatter, people, black, don, justice...</td>\n",
       "      <td>[SAY THEIR NAMES! george floyd trayvon martin ...</td>\n",
       "      <td>Exurbs</td>\n",
       "    </tr>\n",
       "    <tr>\n",
       "      <th>2</th>\n",
       "      <td>2</td>\n",
       "      <td>275735</td>\n",
       "      <td>2_oh_blm_antifa_ny</td>\n",
       "      <td>[oh, blm, antifa, ny, like, people, blm antifa...</td>\n",
       "      <td>[Hi could you please sign and share this petit...</td>\n",
       "      <td>Rural Middle America</td>\n",
       "    </tr>\n",
       "    <tr>\n",
       "      <th>3</th>\n",
       "      <td>3</td>\n",
       "      <td>140394</td>\n",
       "      <td>3_ok_al_blm_antifa</td>\n",
       "      <td>[ok, al, blm, antifa, ok blm, ar, sharpton, al...</td>\n",
       "      <td>[Right. You people!?🤦🏽‍♀️ saying you don’t sup...</td>\n",
       "      <td>Evangelical Hubs</td>\n",
       "    </tr>\n",
       "    <tr>\n",
       "      <th>4</th>\n",
       "      <td>4</td>\n",
       "      <td>128348</td>\n",
       "      <td>4_ca_blm_id_antifa</td>\n",
       "      <td>[ca, blm, id, antifa, like, people, just, don,...</td>\n",
       "      <td>[I don't vote R and I support equality, but yo...</td>\n",
       "      <td>Graying America</td>\n",
       "    </tr>\n",
       "    <tr>\n",
       "      <th>5</th>\n",
       "      <td>5</td>\n",
       "      <td>104128</td>\n",
       "      <td>5_blm_antifa_like_people</td>\n",
       "      <td>[blm, antifa, like, people, don, tell, just, w...</td>\n",
       "      <td>[I support the protestors (NOT the rioters) wh...</td>\n",
       "      <td>Middle Suburbs</td>\n",
       "    </tr>\n",
       "    <tr>\n",
       "      <th>6</th>\n",
       "      <td>6</td>\n",
       "      <td>81498</td>\n",
       "      <td>6_ny_ar_blm_ms</td>\n",
       "      <td>[ny, ar, blm, ms, antifa, ar 15, 15, tx, ky, a...</td>\n",
       "      <td>[Another little trump supporter with an AR 15 ...</td>\n",
       "      <td>College Towns</td>\n",
       "    </tr>\n",
       "    <tr>\n",
       "      <th>7</th>\n",
       "      <td>7</td>\n",
       "      <td>65176</td>\n",
       "      <td>7_hi_blm_tx_antifa</td>\n",
       "      <td>[hi, blm, tx, antifa, blacklivesmatter hi, ant...</td>\n",
       "      <td>[Totalitarianism in all forms is Evil! All Fai...</td>\n",
       "      <td>Urban Suburbs</td>\n",
       "    </tr>\n",
       "    <tr>\n",
       "      <th>8</th>\n",
       "      <td>8</td>\n",
       "      <td>60391</td>\n",
       "      <td>8_ar_ar 15_15_blm</td>\n",
       "      <td>[ar, ar 15, 15, blm, antifa, tx, antifa blm, w...</td>\n",
       "      <td>[Best if viewed on Desktop or to your home the...</td>\n",
       "      <td>Hispanic Centers</td>\n",
       "    </tr>\n",
       "    <tr>\n",
       "      <th>9</th>\n",
       "      <td>9</td>\n",
       "      <td>54507</td>\n",
       "      <td>9_oh_ar_ar 15_15</td>\n",
       "      <td>[oh, ar, ar 15, 15, blm oh, blm, tn, oh right,...</td>\n",
       "      <td>[ATTN: suburban and urban women, children, and...</td>\n",
       "      <td>Working Class Country</td>\n",
       "    </tr>\n",
       "    <tr>\n",
       "      <th>10</th>\n",
       "      <td>10</td>\n",
       "      <td>39954</td>\n",
       "      <td>10_al_ar_sharpton_al sharpton</td>\n",
       "      <td>[al, ar, sharpton, al sharpton, sc, et al, ms,...</td>\n",
       "      <td>[IG - Darius Kirk / dee_kay3120 /mr.photogenic...</td>\n",
       "      <td>African American South</td>\n",
       "    </tr>\n",
       "    <tr>\n",
       "      <th>11</th>\n",
       "      <td>11</td>\n",
       "      <td>19731</td>\n",
       "      <td>11_ne_tx_sd_nd</td>\n",
       "      <td>[ne, tx, sd, nd, mt, ks, mn, blm, antifa, austin]</td>\n",
       "      <td>[I am writing in hopes that will support our c...</td>\n",
       "      <td>Aging Farmlands</td>\n",
       "    </tr>\n",
       "    <tr>\n",
       "      <th>12</th>\n",
       "      <td>12</td>\n",
       "      <td>14067</td>\n",
       "      <td>12_tx_nc_fl_ga</td>\n",
       "      <td>[tx, nc, fl, ga, blm, austin, austin tx, texas...</td>\n",
       "      <td>[I am writing in hopes that will support our c...</td>\n",
       "      <td>Military Posts</td>\n",
       "    </tr>\n",
       "    <tr>\n",
       "      <th>13</th>\n",
       "      <td>13</td>\n",
       "      <td>5575</td>\n",
       "      <td>13_nc_sd_charlotte_raleigh</td>\n",
       "      <td>[nc, sd, charlotte, raleigh, charlotte nc, blm...</td>\n",
       "      <td>[Voter suppress states (many racially gerryman...</td>\n",
       "      <td>Native American Lands</td>\n",
       "    </tr>\n",
       "    <tr>\n",
       "      <th>14</th>\n",
       "      <td>14</td>\n",
       "      <td>2910</td>\n",
       "      <td>14_ut_wy_wild_wild horses</td>\n",
       "      <td>[ut, wy, wild, wild horses, horses, occidental...</td>\n",
       "      <td>[WY BLM pushes Wild Horse Extermination Plan t...</td>\n",
       "      <td>LDS Enclaves</td>\n",
       "    </tr>\n",
       "  </tbody>\n",
       "</table>\n",
       "</div>"
      ],
      "text/plain": [
       "    Topic    Count                                 Name  \\\n",
       "0       0  3004707  0_blacklivesmatter_blm_black_people   \n",
       "1       1   688950  1_blacklivesmatter_people_black_don   \n",
       "2       2   275735                   2_oh_blm_antifa_ny   \n",
       "3       3   140394                   3_ok_al_blm_antifa   \n",
       "4       4   128348                   4_ca_blm_id_antifa   \n",
       "5       5   104128             5_blm_antifa_like_people   \n",
       "6       6    81498                       6_ny_ar_blm_ms   \n",
       "7       7    65176                   7_hi_blm_tx_antifa   \n",
       "8       8    60391                    8_ar_ar 15_15_blm   \n",
       "9       9    54507                     9_oh_ar_ar 15_15   \n",
       "10     10    39954        10_al_ar_sharpton_al sharpton   \n",
       "11     11    19731                       11_ne_tx_sd_nd   \n",
       "12     12    14067                       12_tx_nc_fl_ga   \n",
       "13     13     5575           13_nc_sd_charlotte_raleigh   \n",
       "14     14     2910            14_ut_wy_wild_wild horses   \n",
       "\n",
       "                                       Representation  \\\n",
       "0   [blacklivesmatter, blm, black, people, police,...   \n",
       "1   [blacklivesmatter, people, black, don, justice...   \n",
       "2   [oh, blm, antifa, ny, like, people, blm antifa...   \n",
       "3   [ok, al, blm, antifa, ok blm, ar, sharpton, al...   \n",
       "4   [ca, blm, id, antifa, like, people, just, don,...   \n",
       "5   [blm, antifa, like, people, don, tell, just, w...   \n",
       "6   [ny, ar, blm, ms, antifa, ar 15, 15, tx, ky, a...   \n",
       "7   [hi, blm, tx, antifa, blacklivesmatter hi, ant...   \n",
       "8   [ar, ar 15, 15, blm, antifa, tx, antifa blm, w...   \n",
       "9   [oh, ar, ar 15, 15, blm oh, blm, tn, oh right,...   \n",
       "10  [al, ar, sharpton, al sharpton, sc, et al, ms,...   \n",
       "11  [ne, tx, sd, nd, mt, ks, mn, blm, antifa, austin]   \n",
       "12  [tx, nc, fl, ga, blm, austin, austin tx, texas...   \n",
       "13  [nc, sd, charlotte, raleigh, charlotte nc, blm...   \n",
       "14  [ut, wy, wild, wild horses, horses, occidental...   \n",
       "\n",
       "                                  Representative_Docs                   Class  \n",
       "0   [hey District reassigned a middle school teach...              Big Cities  \n",
       "1   [SAY THEIR NAMES! george floyd trayvon martin ...                  Exurbs  \n",
       "2   [Hi could you please sign and share this petit...    Rural Middle America  \n",
       "3   [Right. You people!?🤦🏽‍♀️ saying you don’t sup...        Evangelical Hubs  \n",
       "4   [I don't vote R and I support equality, but yo...         Graying America  \n",
       "5   [I support the protestors (NOT the rioters) wh...          Middle Suburbs  \n",
       "6   [Another little trump supporter with an AR 15 ...           College Towns  \n",
       "7   [Totalitarianism in all forms is Evil! All Fai...           Urban Suburbs  \n",
       "8   [Best if viewed on Desktop or to your home the...        Hispanic Centers  \n",
       "9   [ATTN: suburban and urban women, children, and...   Working Class Country  \n",
       "10  [IG - Darius Kirk / dee_kay3120 /mr.photogenic...  African American South  \n",
       "11  [I am writing in hopes that will support our c...         Aging Farmlands  \n",
       "12  [I am writing in hopes that will support our c...          Military Posts  \n",
       "13  [Voter suppress states (many racially gerryman...   Native American Lands  \n",
       "14  [WY BLM pushes Wild Horse Extermination Plan t...            LDS Enclaves  "
      ]
     },
     "execution_count": 32,
     "metadata": {},
     "output_type": "execute_result"
    }
   ],
   "source": [
    "# Assign original classes to our topics\n",
    "df = topic_model.get_topic_info()\n",
    "df[\"Class\"] = df.Topic.map(category_mapping)\n",
    "df\n"
   ]
  },
  {
   "cell_type": "markdown",
   "metadata": {},
   "source": [
    "# Topic Modeling per class"
   ]
  },
  {
   "cell_type": "code",
   "execution_count": 22,
   "metadata": {},
   "outputs": [],
   "source": [
    "df = pd.read_parquet(r\"C:\\Users\\fashaikh\\Desktop\\Thesis_main\\minimal_cleaned.parquet\")\n",
    "df = df[df['category'] == 'African American South']"
   ]
  },
  {
   "cell_type": "code",
   "execution_count": 23,
   "metadata": {},
   "outputs": [],
   "source": [
    "docs = df['clean'].to_list()"
   ]
  },
  {
   "cell_type": "code",
   "execution_count": 27,
   "metadata": {},
   "outputs": [],
   "source": [
    "vectorizer_model = CountVectorizer(ngram_range=(1, 2), stop_words=\"english\")\n",
    "ctfidf_model = ClassTfidfTransformer(reduce_frequent_words=True)\n",
    "representation_model = KeyBERTInspired()\n",
    "\n",
    "umap_model = UMAP(n_neighbors=15, n_components=5, metric='cosine', low_memory=False, random_state=42)\n",
    "\n",
    "hdbscan_model = HDBSCAN(min_cluster_size=10, metric='euclidean', prediction_data=True)\n",
    "\n",
    "topic_model = BERTopic(\n",
    "    umap_model=umap_model,\n",
    "    hdbscan_model=hdbscan_model,\n",
    "    vectorizer_model=vectorizer_model,\n",
    "    ctfidf_model=ctfidf_model,\n",
    "    representation_model=representation_model,\n",
    "    verbose=True,\n",
    ")"
   ]
  },
  {
   "cell_type": "code",
   "execution_count": 28,
   "metadata": {},
   "outputs": [
    {
     "data": {
      "application/vnd.jupyter.widget-view+json": {
       "model_id": "85b2b2ee838a4bb991bfc022df0b1ef3",
       "version_major": 2,
       "version_minor": 0
      },
      "text/plain": [
       "Batches:   0%|          | 0/1249 [00:00<?, ?it/s]"
      ]
     },
     "metadata": {},
     "output_type": "display_data"
    },
    {
     "name": "stderr",
     "output_type": "stream",
     "text": [
      "2023-07-21 13:48:44,612 - BERTopic - Transformed documents to Embeddings\n",
      "2023-07-21 13:49:24,088 - BERTopic - Reduced dimensionality\n",
      "2023-07-21 13:49:26,595 - BERTopic - Clustered reduced embeddings\n"
     ]
    }
   ],
   "source": [
    "topics, probs = topic_model.fit_transform(docs)"
   ]
  },
  {
   "cell_type": "code",
   "execution_count": 29,
   "metadata": {},
   "outputs": [
    {
     "data": {
      "text/html": [
       "<div>\n",
       "<style scoped>\n",
       "    .dataframe tbody tr th:only-of-type {\n",
       "        vertical-align: middle;\n",
       "    }\n",
       "\n",
       "    .dataframe tbody tr th {\n",
       "        vertical-align: top;\n",
       "    }\n",
       "\n",
       "    .dataframe thead th {\n",
       "        text-align: right;\n",
       "    }\n",
       "</style>\n",
       "<table border=\"1\" class=\"dataframe\">\n",
       "  <thead>\n",
       "    <tr style=\"text-align: right;\">\n",
       "      <th></th>\n",
       "      <th>Topic</th>\n",
       "      <th>Count</th>\n",
       "      <th>Name</th>\n",
       "      <th>Representation</th>\n",
       "      <th>Representative_Docs</th>\n",
       "    </tr>\n",
       "  </thead>\n",
       "  <tbody>\n",
       "    <tr>\n",
       "      <th>0</th>\n",
       "      <td>-1</td>\n",
       "      <td>22593</td>\n",
       "      <td>-1_blm movement_blm antifa_antifa blm_black lives</td>\n",
       "      <td>[blm movement, blm antifa, antifa blm, black l...</td>\n",
       "      <td>[Jacob Blake shot 8 times by Wisconsin’s polic...</td>\n",
       "    </tr>\n",
       "    <tr>\n",
       "      <th>1</th>\n",
       "      <td>0</td>\n",
       "      <td>1297</td>\n",
       "      <td>0_blacklivesmatter racist_blacklivesmatter rac...</td>\n",
       "      <td>[blacklivesmatter racist, blacklivesmatter rac...</td>\n",
       "      <td>[#BlackLivesMatter accomplished absolutely not...</td>\n",
       "    </tr>\n",
       "    <tr>\n",
       "      <th>2</th>\n",
       "      <td>1</td>\n",
       "      <td>614</td>\n",
       "      <td>1_deekay3120 blacklivesmatter_deekay3120_kirk ...</td>\n",
       "      <td>[deekay3120 blacklivesmatter, deekay3120, kirk...</td>\n",
       "      <td>[IG - Darius Kirk / dee_kay3120 /mr.photogenic...</td>\n",
       "    </tr>\n",
       "    <tr>\n",
       "      <th>3</th>\n",
       "      <td>2</td>\n",
       "      <td>543</td>\n",
       "      <td>2_ar15 blm_shoot blm_ar blm_ar15 protest</td>\n",
       "      <td>[ar15 blm, shoot blm, ar blm, ar15 protest, bl...</td>\n",
       "      <td>[Lmao the country so fucked up a little white ...</td>\n",
       "    </tr>\n",
       "    <tr>\n",
       "      <th>4</th>\n",
       "      <td>3</td>\n",
       "      <td>525</td>\n",
       "      <td>3_protest tn_protests tn_tn blm_nashville blm</td>\n",
       "      <td>[protest tn, protests tn, tn blm, nashville bl...</td>\n",
       "      <td>[A peaceful BLM protest will be met with racis...</td>\n",
       "    </tr>\n",
       "    <tr>\n",
       "      <th>...</th>\n",
       "      <td>...</td>\n",
       "      <td>...</td>\n",
       "      <td>...</td>\n",
       "      <td>...</td>\n",
       "      <td>...</td>\n",
       "    </tr>\n",
       "    <tr>\n",
       "      <th>307</th>\n",
       "      <td>306</td>\n",
       "      <td>10</td>\n",
       "      <td>306_friends racism_grandmothers racism_job rac...</td>\n",
       "      <td>[friends racism, grandmothers racism, job raci...</td>\n",
       "      <td>[Thank you for writing these essential pieces ...</td>\n",
       "    </tr>\n",
       "    <tr>\n",
       "      <th>308</th>\n",
       "      <td>307</td>\n",
       "      <td>10</td>\n",
       "      <td>307_blacklivesmatter preach_blacklivesmatter r...</td>\n",
       "      <td>[blacklivesmatter preach, blacklivesmatter rev...</td>\n",
       "      <td>[Rev Al was brilliant today!! #BlackLivesMatte...</td>\n",
       "    </tr>\n",
       "    <tr>\n",
       "      <th>309</th>\n",
       "      <td>308</td>\n",
       "      <td>10</td>\n",
       "      <td>308_racing blm_motorsport_racing fans_motorspo...</td>\n",
       "      <td>[racing blm, motorsport, racing fans, motorspo...</td>\n",
       "      <td>[To be fair to the journalist, Lewis has been ...</td>\n",
       "    </tr>\n",
       "    <tr>\n",
       "      <th>310</th>\n",
       "      <td>309</td>\n",
       "      <td>10</td>\n",
       "      <td>309_blm socially_blm deleted_fr blm_blmmovemen...</td>\n",
       "      <td>[blm socially, blm deleted, fr blm, blmmovemen...</td>\n",
       "      <td>[I am not as strong as I thought I once was, I...</td>\n",
       "    </tr>\n",
       "    <tr>\n",
       "      <th>311</th>\n",
       "      <td>310</td>\n",
       "      <td>10</td>\n",
       "      <td>310_claim antifa_seriously antifa_blm burned_s...</td>\n",
       "      <td>[claim antifa, seriously antifa, blm burned, s...</td>\n",
       "      <td>[Yes - I did miss any \"left-wing politicians\" ...</td>\n",
       "    </tr>\n",
       "  </tbody>\n",
       "</table>\n",
       "<p>312 rows × 5 columns</p>\n",
       "</div>"
      ],
      "text/plain": [
       "     Topic  Count                                               Name  \\\n",
       "0       -1  22593  -1_blm movement_blm antifa_antifa blm_black lives   \n",
       "1        0   1297  0_blacklivesmatter racist_blacklivesmatter rac...   \n",
       "2        1    614  1_deekay3120 blacklivesmatter_deekay3120_kirk ...   \n",
       "3        2    543           2_ar15 blm_shoot blm_ar blm_ar15 protest   \n",
       "4        3    525      3_protest tn_protests tn_tn blm_nashville blm   \n",
       "..     ...    ...                                                ...   \n",
       "307    306     10  306_friends racism_grandmothers racism_job rac...   \n",
       "308    307     10  307_blacklivesmatter preach_blacklivesmatter r...   \n",
       "309    308     10  308_racing blm_motorsport_racing fans_motorspo...   \n",
       "310    309     10  309_blm socially_blm deleted_fr blm_blmmovemen...   \n",
       "311    310     10  310_claim antifa_seriously antifa_blm burned_s...   \n",
       "\n",
       "                                        Representation  \\\n",
       "0    [blm movement, blm antifa, antifa blm, black l...   \n",
       "1    [blacklivesmatter racist, blacklivesmatter rac...   \n",
       "2    [deekay3120 blacklivesmatter, deekay3120, kirk...   \n",
       "3    [ar15 blm, shoot blm, ar blm, ar15 protest, bl...   \n",
       "4    [protest tn, protests tn, tn blm, nashville bl...   \n",
       "..                                                 ...   \n",
       "307  [friends racism, grandmothers racism, job raci...   \n",
       "308  [blacklivesmatter preach, blacklivesmatter rev...   \n",
       "309  [racing blm, motorsport, racing fans, motorspo...   \n",
       "310  [blm socially, blm deleted, fr blm, blmmovemen...   \n",
       "311  [claim antifa, seriously antifa, blm burned, s...   \n",
       "\n",
       "                                   Representative_Docs  \n",
       "0    [Jacob Blake shot 8 times by Wisconsin’s polic...  \n",
       "1    [#BlackLivesMatter accomplished absolutely not...  \n",
       "2    [IG - Darius Kirk / dee_kay3120 /mr.photogenic...  \n",
       "3    [Lmao the country so fucked up a little white ...  \n",
       "4    [A peaceful BLM protest will be met with racis...  \n",
       "..                                                 ...  \n",
       "307  [Thank you for writing these essential pieces ...  \n",
       "308  [Rev Al was brilliant today!! #BlackLivesMatte...  \n",
       "309  [To be fair to the journalist, Lewis has been ...  \n",
       "310  [I am not as strong as I thought I once was, I...  \n",
       "311  [Yes - I did miss any \"left-wing politicians\" ...  \n",
       "\n",
       "[312 rows x 5 columns]"
      ]
     },
     "execution_count": 29,
     "metadata": {},
     "output_type": "execute_result"
    }
   ],
   "source": [
    "topic_model.get_topic_info()"
   ]
  },
  {
   "cell_type": "code",
   "execution_count": 10,
   "metadata": {},
   "outputs": [
    {
     "data": {
      "text/plain": [
       "[('blmflaming gor nws', 0.370611),\n",
       " ('jisung', 0.35617858),\n",
       " ('wy', 0.35532957),\n",
       " ('casper wy', 0.318784),\n",
       " ('blm', 0.30592605),\n",
       " ('news photos blm', 0.30376387),\n",
       " ('gor nws', 0.3034905),\n",
       " ('public assist 1001', 0.2975324),\n",
       " ('ne', 0.29471496),\n",
       " ('access', 0.29091182)]"
      ]
     },
     "execution_count": 10,
     "metadata": {},
     "output_type": "execute_result"
    }
   ],
   "source": [
    "topic_model.get_topic(-1)"
   ]
  },
  {
   "cell_type": "code",
   "execution_count": 11,
   "metadata": {},
   "outputs": [
    {
     "data": {
      "application/vnd.plotly.v1+json": {
       "config": {
        "plotlyServerURL": "https://plot.ly"
       },
       "data": [
        {
         "marker": {
          "color": "#D55E00"
         },
         "orientation": "h",
         "type": "bar",
         "x": [
          0.3438992202281952,
          0.3462790846824646,
          0.36342179775238037,
          0.38034775853157043,
          0.38474905490875244
         ],
         "xaxis": "x",
         "y": [
          "racism  ",
          "ut  ",
          "black lives matter  ",
          "ut austin  ",
          "black lives  "
         ],
         "yaxis": "y"
        },
        {
         "marker": {
          "color": "#0072B2"
         },
         "orientation": "h",
         "type": "bar",
         "x": [
          0.45990902185440063,
          0.4621985852718353,
          0.4664132595062256,
          0.5635111331939697,
          0.5638087391853333
         ],
         "xaxis": "x2",
         "y": [
          "horses  ",
          "livestock  ",
          "wheatland wy facility  ",
          "wild horses  ",
          "wildhorses  "
         ],
         "yaxis": "y2"
        },
        {
         "marker": {
          "color": "#CC79A7"
         },
         "orientation": "h",
         "type": "bar",
         "x": [
          0.5499914288520813,
          0.5644240379333496,
          0.567984402179718,
          0.5686651468276978,
          0.5980609059333801
         ],
         "xaxis": "x3",
         "y": [
          "wildhorses southern wyoming  ",
          "wild horse extermination  ",
          "lands wy blm  ",
          "protect wild horses  ",
          "grazing association rsga  "
         ],
         "yaxis": "y3"
        },
        {
         "marker": {
          "color": "#E69F00"
         },
         "orientation": "h",
         "type": "bar",
         "x": [
          0.5694224238395691,
          0.5694580078125,
          0.5933262705802917,
          0.5971972942352295,
          0.6855584979057312
         ],
         "xaxis": "x4",
         "y": [
          "wild horses wyoming  ",
          "protect wild horses  ",
          "wyoming lands blm  ",
          "grazing association rsga  ",
          "blm pushes wildhorse  "
         ],
         "yaxis": "y4"
        },
        {
         "marker": {
          "color": "#56B4E9"
         },
         "orientation": "h",
         "type": "bar",
         "x": [
          0.5136373043060303,
          0.5170574188232422,
          0.5279936194419861,
          0.5313187837600708,
          0.6615930199623108
         ],
         "xaxis": "x5",
         "y": [
          "bansurgicalsterilization blm plan  ",
          "blm plan surgically  ",
          "wildhorses ignores science  ",
          "ut wildhorses ignores  ",
          "sterilize ut wildhorses  "
         ],
         "yaxis": "y5"
        },
        {
         "marker": {
          "color": "#009E73"
         },
         "orientation": "h",
         "type": "bar",
         "x": [
          0.5040054321289062,
          0.5374617576599121,
          0.5770608186721802,
          0.5805400013923645,
          0.5824329853057861
         ],
         "xaxis": "x6",
         "y": [
          "sagegrouse habitat  ",
          "20 oilandgas lease  ",
          "oilandgas lease  ",
          "oilandgas lease sale  ",
          "2020 oilandgas lease  "
         ],
         "yaxis": "y6"
        },
        {
         "marker": {
          "color": "#F0E442"
         },
         "orientation": "h",
         "type": "bar",
         "x": [
          0.5135319232940674,
          0.5549957752227783,
          0.5602331757545471,
          0.6268805265426636,
          0.6456494331359863
         ],
         "xaxis": "x7",
         "y": [
          "fires reported  ",
          "wy blm 062220  ",
          "blm 062220  ",
          "ut blm az  ",
          "blm az  "
         ],
         "yaxis": "y7"
        },
        {
         "marker": {
          "color": "#D55E00"
         },
         "orientation": "h",
         "type": "bar",
         "x": [
          0.5736484527587891,
          0.5766804218292236,
          0.596220076084137,
          0.6049317717552185,
          0.6267235279083252
         ],
         "xaxis": "x8",
         "y": [
          "campground blm  ",
          "mountain wilderness  ",
          "campground  ",
          "canyon  ",
          "mountain wilderness ut  "
         ],
         "yaxis": "y8"
        }
       ],
       "layout": {
        "annotations": [
         {
          "font": {
           "size": 16
          },
          "showarrow": false,
          "text": "Topic 0",
          "x": 0.0875,
          "xanchor": "center",
          "xref": "paper",
          "y": 1,
          "yanchor": "bottom",
          "yref": "paper"
         },
         {
          "font": {
           "size": 16
          },
          "showarrow": false,
          "text": "Topic 1",
          "x": 0.36250000000000004,
          "xanchor": "center",
          "xref": "paper",
          "y": 1,
          "yanchor": "bottom",
          "yref": "paper"
         },
         {
          "font": {
           "size": 16
          },
          "showarrow": false,
          "text": "Topic 2",
          "x": 0.6375000000000001,
          "xanchor": "center",
          "xref": "paper",
          "y": 1,
          "yanchor": "bottom",
          "yref": "paper"
         },
         {
          "font": {
           "size": 16
          },
          "showarrow": false,
          "text": "Topic 3",
          "x": 0.9125,
          "xanchor": "center",
          "xref": "paper",
          "y": 1,
          "yanchor": "bottom",
          "yref": "paper"
         },
         {
          "font": {
           "size": 16
          },
          "showarrow": false,
          "text": "Topic 4",
          "x": 0.0875,
          "xanchor": "center",
          "xref": "paper",
          "y": 0.4,
          "yanchor": "bottom",
          "yref": "paper"
         },
         {
          "font": {
           "size": 16
          },
          "showarrow": false,
          "text": "Topic 5",
          "x": 0.36250000000000004,
          "xanchor": "center",
          "xref": "paper",
          "y": 0.4,
          "yanchor": "bottom",
          "yref": "paper"
         },
         {
          "font": {
           "size": 16
          },
          "showarrow": false,
          "text": "Topic 6",
          "x": 0.6375000000000001,
          "xanchor": "center",
          "xref": "paper",
          "y": 0.4,
          "yanchor": "bottom",
          "yref": "paper"
         },
         {
          "font": {
           "size": 16
          },
          "showarrow": false,
          "text": "Topic 7",
          "x": 0.9125,
          "xanchor": "center",
          "xref": "paper",
          "y": 0.4,
          "yanchor": "bottom",
          "yref": "paper"
         }
        ],
        "height": 500,
        "hoverlabel": {
         "bgcolor": "white",
         "font": {
          "family": "Rockwell",
          "size": 16
         }
        },
        "showlegend": false,
        "template": {
         "data": {
          "bar": [
           {
            "error_x": {
             "color": "#2a3f5f"
            },
            "error_y": {
             "color": "#2a3f5f"
            },
            "marker": {
             "line": {
              "color": "white",
              "width": 0.5
             },
             "pattern": {
              "fillmode": "overlay",
              "size": 10,
              "solidity": 0.2
             }
            },
            "type": "bar"
           }
          ],
          "barpolar": [
           {
            "marker": {
             "line": {
              "color": "white",
              "width": 0.5
             },
             "pattern": {
              "fillmode": "overlay",
              "size": 10,
              "solidity": 0.2
             }
            },
            "type": "barpolar"
           }
          ],
          "carpet": [
           {
            "aaxis": {
             "endlinecolor": "#2a3f5f",
             "gridcolor": "#C8D4E3",
             "linecolor": "#C8D4E3",
             "minorgridcolor": "#C8D4E3",
             "startlinecolor": "#2a3f5f"
            },
            "baxis": {
             "endlinecolor": "#2a3f5f",
             "gridcolor": "#C8D4E3",
             "linecolor": "#C8D4E3",
             "minorgridcolor": "#C8D4E3",
             "startlinecolor": "#2a3f5f"
            },
            "type": "carpet"
           }
          ],
          "choropleth": [
           {
            "colorbar": {
             "outlinewidth": 0,
             "ticks": ""
            },
            "type": "choropleth"
           }
          ],
          "contour": [
           {
            "colorbar": {
             "outlinewidth": 0,
             "ticks": ""
            },
            "colorscale": [
             [
              0,
              "#0d0887"
             ],
             [
              0.1111111111111111,
              "#46039f"
             ],
             [
              0.2222222222222222,
              "#7201a8"
             ],
             [
              0.3333333333333333,
              "#9c179e"
             ],
             [
              0.4444444444444444,
              "#bd3786"
             ],
             [
              0.5555555555555556,
              "#d8576b"
             ],
             [
              0.6666666666666666,
              "#ed7953"
             ],
             [
              0.7777777777777778,
              "#fb9f3a"
             ],
             [
              0.8888888888888888,
              "#fdca26"
             ],
             [
              1,
              "#f0f921"
             ]
            ],
            "type": "contour"
           }
          ],
          "contourcarpet": [
           {
            "colorbar": {
             "outlinewidth": 0,
             "ticks": ""
            },
            "type": "contourcarpet"
           }
          ],
          "heatmap": [
           {
            "colorbar": {
             "outlinewidth": 0,
             "ticks": ""
            },
            "colorscale": [
             [
              0,
              "#0d0887"
             ],
             [
              0.1111111111111111,
              "#46039f"
             ],
             [
              0.2222222222222222,
              "#7201a8"
             ],
             [
              0.3333333333333333,
              "#9c179e"
             ],
             [
              0.4444444444444444,
              "#bd3786"
             ],
             [
              0.5555555555555556,
              "#d8576b"
             ],
             [
              0.6666666666666666,
              "#ed7953"
             ],
             [
              0.7777777777777778,
              "#fb9f3a"
             ],
             [
              0.8888888888888888,
              "#fdca26"
             ],
             [
              1,
              "#f0f921"
             ]
            ],
            "type": "heatmap"
           }
          ],
          "heatmapgl": [
           {
            "colorbar": {
             "outlinewidth": 0,
             "ticks": ""
            },
            "colorscale": [
             [
              0,
              "#0d0887"
             ],
             [
              0.1111111111111111,
              "#46039f"
             ],
             [
              0.2222222222222222,
              "#7201a8"
             ],
             [
              0.3333333333333333,
              "#9c179e"
             ],
             [
              0.4444444444444444,
              "#bd3786"
             ],
             [
              0.5555555555555556,
              "#d8576b"
             ],
             [
              0.6666666666666666,
              "#ed7953"
             ],
             [
              0.7777777777777778,
              "#fb9f3a"
             ],
             [
              0.8888888888888888,
              "#fdca26"
             ],
             [
              1,
              "#f0f921"
             ]
            ],
            "type": "heatmapgl"
           }
          ],
          "histogram": [
           {
            "marker": {
             "pattern": {
              "fillmode": "overlay",
              "size": 10,
              "solidity": 0.2
             }
            },
            "type": "histogram"
           }
          ],
          "histogram2d": [
           {
            "colorbar": {
             "outlinewidth": 0,
             "ticks": ""
            },
            "colorscale": [
             [
              0,
              "#0d0887"
             ],
             [
              0.1111111111111111,
              "#46039f"
             ],
             [
              0.2222222222222222,
              "#7201a8"
             ],
             [
              0.3333333333333333,
              "#9c179e"
             ],
             [
              0.4444444444444444,
              "#bd3786"
             ],
             [
              0.5555555555555556,
              "#d8576b"
             ],
             [
              0.6666666666666666,
              "#ed7953"
             ],
             [
              0.7777777777777778,
              "#fb9f3a"
             ],
             [
              0.8888888888888888,
              "#fdca26"
             ],
             [
              1,
              "#f0f921"
             ]
            ],
            "type": "histogram2d"
           }
          ],
          "histogram2dcontour": [
           {
            "colorbar": {
             "outlinewidth": 0,
             "ticks": ""
            },
            "colorscale": [
             [
              0,
              "#0d0887"
             ],
             [
              0.1111111111111111,
              "#46039f"
             ],
             [
              0.2222222222222222,
              "#7201a8"
             ],
             [
              0.3333333333333333,
              "#9c179e"
             ],
             [
              0.4444444444444444,
              "#bd3786"
             ],
             [
              0.5555555555555556,
              "#d8576b"
             ],
             [
              0.6666666666666666,
              "#ed7953"
             ],
             [
              0.7777777777777778,
              "#fb9f3a"
             ],
             [
              0.8888888888888888,
              "#fdca26"
             ],
             [
              1,
              "#f0f921"
             ]
            ],
            "type": "histogram2dcontour"
           }
          ],
          "mesh3d": [
           {
            "colorbar": {
             "outlinewidth": 0,
             "ticks": ""
            },
            "type": "mesh3d"
           }
          ],
          "parcoords": [
           {
            "line": {
             "colorbar": {
              "outlinewidth": 0,
              "ticks": ""
             }
            },
            "type": "parcoords"
           }
          ],
          "pie": [
           {
            "automargin": true,
            "type": "pie"
           }
          ],
          "scatter": [
           {
            "fillpattern": {
             "fillmode": "overlay",
             "size": 10,
             "solidity": 0.2
            },
            "type": "scatter"
           }
          ],
          "scatter3d": [
           {
            "line": {
             "colorbar": {
              "outlinewidth": 0,
              "ticks": ""
             }
            },
            "marker": {
             "colorbar": {
              "outlinewidth": 0,
              "ticks": ""
             }
            },
            "type": "scatter3d"
           }
          ],
          "scattercarpet": [
           {
            "marker": {
             "colorbar": {
              "outlinewidth": 0,
              "ticks": ""
             }
            },
            "type": "scattercarpet"
           }
          ],
          "scattergeo": [
           {
            "marker": {
             "colorbar": {
              "outlinewidth": 0,
              "ticks": ""
             }
            },
            "type": "scattergeo"
           }
          ],
          "scattergl": [
           {
            "marker": {
             "colorbar": {
              "outlinewidth": 0,
              "ticks": ""
             }
            },
            "type": "scattergl"
           }
          ],
          "scattermapbox": [
           {
            "marker": {
             "colorbar": {
              "outlinewidth": 0,
              "ticks": ""
             }
            },
            "type": "scattermapbox"
           }
          ],
          "scatterpolar": [
           {
            "marker": {
             "colorbar": {
              "outlinewidth": 0,
              "ticks": ""
             }
            },
            "type": "scatterpolar"
           }
          ],
          "scatterpolargl": [
           {
            "marker": {
             "colorbar": {
              "outlinewidth": 0,
              "ticks": ""
             }
            },
            "type": "scatterpolargl"
           }
          ],
          "scatterternary": [
           {
            "marker": {
             "colorbar": {
              "outlinewidth": 0,
              "ticks": ""
             }
            },
            "type": "scatterternary"
           }
          ],
          "surface": [
           {
            "colorbar": {
             "outlinewidth": 0,
             "ticks": ""
            },
            "colorscale": [
             [
              0,
              "#0d0887"
             ],
             [
              0.1111111111111111,
              "#46039f"
             ],
             [
              0.2222222222222222,
              "#7201a8"
             ],
             [
              0.3333333333333333,
              "#9c179e"
             ],
             [
              0.4444444444444444,
              "#bd3786"
             ],
             [
              0.5555555555555556,
              "#d8576b"
             ],
             [
              0.6666666666666666,
              "#ed7953"
             ],
             [
              0.7777777777777778,
              "#fb9f3a"
             ],
             [
              0.8888888888888888,
              "#fdca26"
             ],
             [
              1,
              "#f0f921"
             ]
            ],
            "type": "surface"
           }
          ],
          "table": [
           {
            "cells": {
             "fill": {
              "color": "#EBF0F8"
             },
             "line": {
              "color": "white"
             }
            },
            "header": {
             "fill": {
              "color": "#C8D4E3"
             },
             "line": {
              "color": "white"
             }
            },
            "type": "table"
           }
          ]
         },
         "layout": {
          "annotationdefaults": {
           "arrowcolor": "#2a3f5f",
           "arrowhead": 0,
           "arrowwidth": 1
          },
          "autotypenumbers": "strict",
          "coloraxis": {
           "colorbar": {
            "outlinewidth": 0,
            "ticks": ""
           }
          },
          "colorscale": {
           "diverging": [
            [
             0,
             "#8e0152"
            ],
            [
             0.1,
             "#c51b7d"
            ],
            [
             0.2,
             "#de77ae"
            ],
            [
             0.3,
             "#f1b6da"
            ],
            [
             0.4,
             "#fde0ef"
            ],
            [
             0.5,
             "#f7f7f7"
            ],
            [
             0.6,
             "#e6f5d0"
            ],
            [
             0.7,
             "#b8e186"
            ],
            [
             0.8,
             "#7fbc41"
            ],
            [
             0.9,
             "#4d9221"
            ],
            [
             1,
             "#276419"
            ]
           ],
           "sequential": [
            [
             0,
             "#0d0887"
            ],
            [
             0.1111111111111111,
             "#46039f"
            ],
            [
             0.2222222222222222,
             "#7201a8"
            ],
            [
             0.3333333333333333,
             "#9c179e"
            ],
            [
             0.4444444444444444,
             "#bd3786"
            ],
            [
             0.5555555555555556,
             "#d8576b"
            ],
            [
             0.6666666666666666,
             "#ed7953"
            ],
            [
             0.7777777777777778,
             "#fb9f3a"
            ],
            [
             0.8888888888888888,
             "#fdca26"
            ],
            [
             1,
             "#f0f921"
            ]
           ],
           "sequentialminus": [
            [
             0,
             "#0d0887"
            ],
            [
             0.1111111111111111,
             "#46039f"
            ],
            [
             0.2222222222222222,
             "#7201a8"
            ],
            [
             0.3333333333333333,
             "#9c179e"
            ],
            [
             0.4444444444444444,
             "#bd3786"
            ],
            [
             0.5555555555555556,
             "#d8576b"
            ],
            [
             0.6666666666666666,
             "#ed7953"
            ],
            [
             0.7777777777777778,
             "#fb9f3a"
            ],
            [
             0.8888888888888888,
             "#fdca26"
            ],
            [
             1,
             "#f0f921"
            ]
           ]
          },
          "colorway": [
           "#636efa",
           "#EF553B",
           "#00cc96",
           "#ab63fa",
           "#FFA15A",
           "#19d3f3",
           "#FF6692",
           "#B6E880",
           "#FF97FF",
           "#FECB52"
          ],
          "font": {
           "color": "#2a3f5f"
          },
          "geo": {
           "bgcolor": "white",
           "lakecolor": "white",
           "landcolor": "white",
           "showlakes": true,
           "showland": true,
           "subunitcolor": "#C8D4E3"
          },
          "hoverlabel": {
           "align": "left"
          },
          "hovermode": "closest",
          "mapbox": {
           "style": "light"
          },
          "paper_bgcolor": "white",
          "plot_bgcolor": "white",
          "polar": {
           "angularaxis": {
            "gridcolor": "#EBF0F8",
            "linecolor": "#EBF0F8",
            "ticks": ""
           },
           "bgcolor": "white",
           "radialaxis": {
            "gridcolor": "#EBF0F8",
            "linecolor": "#EBF0F8",
            "ticks": ""
           }
          },
          "scene": {
           "xaxis": {
            "backgroundcolor": "white",
            "gridcolor": "#DFE8F3",
            "gridwidth": 2,
            "linecolor": "#EBF0F8",
            "showbackground": true,
            "ticks": "",
            "zerolinecolor": "#EBF0F8"
           },
           "yaxis": {
            "backgroundcolor": "white",
            "gridcolor": "#DFE8F3",
            "gridwidth": 2,
            "linecolor": "#EBF0F8",
            "showbackground": true,
            "ticks": "",
            "zerolinecolor": "#EBF0F8"
           },
           "zaxis": {
            "backgroundcolor": "white",
            "gridcolor": "#DFE8F3",
            "gridwidth": 2,
            "linecolor": "#EBF0F8",
            "showbackground": true,
            "ticks": "",
            "zerolinecolor": "#EBF0F8"
           }
          },
          "shapedefaults": {
           "line": {
            "color": "#2a3f5f"
           }
          },
          "ternary": {
           "aaxis": {
            "gridcolor": "#DFE8F3",
            "linecolor": "#A2B1C6",
            "ticks": ""
           },
           "baxis": {
            "gridcolor": "#DFE8F3",
            "linecolor": "#A2B1C6",
            "ticks": ""
           },
           "bgcolor": "white",
           "caxis": {
            "gridcolor": "#DFE8F3",
            "linecolor": "#A2B1C6",
            "ticks": ""
           }
          },
          "title": {
           "x": 0.05
          },
          "xaxis": {
           "automargin": true,
           "gridcolor": "#EBF0F8",
           "linecolor": "#EBF0F8",
           "ticks": "",
           "title": {
            "standoff": 15
           },
           "zerolinecolor": "#EBF0F8",
           "zerolinewidth": 2
          },
          "yaxis": {
           "automargin": true,
           "gridcolor": "#EBF0F8",
           "linecolor": "#EBF0F8",
           "ticks": "",
           "title": {
            "standoff": 15
           },
           "zerolinecolor": "#EBF0F8",
           "zerolinewidth": 2
          }
         }
        },
        "title": {
         "font": {
          "color": "Black",
          "size": 22
         },
         "text": "Topic Word Scores",
         "x": 0.5,
         "xanchor": "center",
         "yanchor": "top"
        },
        "width": 1000,
        "xaxis": {
         "anchor": "y",
         "domain": [
          0,
          0.175
         ],
         "showgrid": true
        },
        "xaxis2": {
         "anchor": "y2",
         "domain": [
          0.275,
          0.45
         ],
         "showgrid": true
        },
        "xaxis3": {
         "anchor": "y3",
         "domain": [
          0.55,
          0.7250000000000001
         ],
         "showgrid": true
        },
        "xaxis4": {
         "anchor": "y4",
         "domain": [
          0.825,
          1
         ],
         "showgrid": true
        },
        "xaxis5": {
         "anchor": "y5",
         "domain": [
          0,
          0.175
         ],
         "showgrid": true
        },
        "xaxis6": {
         "anchor": "y6",
         "domain": [
          0.275,
          0.45
         ],
         "showgrid": true
        },
        "xaxis7": {
         "anchor": "y7",
         "domain": [
          0.55,
          0.7250000000000001
         ],
         "showgrid": true
        },
        "xaxis8": {
         "anchor": "y8",
         "domain": [
          0.825,
          1
         ],
         "showgrid": true
        },
        "yaxis": {
         "anchor": "x",
         "domain": [
          0.6000000000000001,
          1
         ],
         "showgrid": true
        },
        "yaxis2": {
         "anchor": "x2",
         "domain": [
          0.6000000000000001,
          1
         ],
         "showgrid": true
        },
        "yaxis3": {
         "anchor": "x3",
         "domain": [
          0.6000000000000001,
          1
         ],
         "showgrid": true
        },
        "yaxis4": {
         "anchor": "x4",
         "domain": [
          0.6000000000000001,
          1
         ],
         "showgrid": true
        },
        "yaxis5": {
         "anchor": "x5",
         "domain": [
          0,
          0.4
         ],
         "showgrid": true
        },
        "yaxis6": {
         "anchor": "x6",
         "domain": [
          0,
          0.4
         ],
         "showgrid": true
        },
        "yaxis7": {
         "anchor": "x7",
         "domain": [
          0,
          0.4
         ],
         "showgrid": true
        },
        "yaxis8": {
         "anchor": "x8",
         "domain": [
          0,
          0.4
         ],
         "showgrid": true
        }
       }
      }
     },
     "metadata": {},
     "output_type": "display_data"
    }
   ],
   "source": [
    "topic_model.visualize_barchart()\n"
   ]
  },
  {
   "cell_type": "code",
   "execution_count": 12,
   "metadata": {},
   "outputs": [],
   "source": [
    "df_topic = topic_model.get_document_info(docs)"
   ]
  },
  {
   "cell_type": "code",
   "execution_count": 15,
   "metadata": {},
   "outputs": [],
   "source": [
    "selected_df = df_topic[(df_topic['Topic'] == 0)]"
   ]
  },
  {
   "cell_type": "code",
   "execution_count": 16,
   "metadata": {},
   "outputs": [],
   "source": [
    "docs = selected_df['Document'].to_list()"
   ]
  },
  {
   "cell_type": "code",
   "execution_count": 27,
   "metadata": {},
   "outputs": [
    {
     "data": {
      "application/vnd.plotly.v1+json": {
       "config": {
        "plotlyServerURL": "https://plot.ly"
       },
       "data": [
        {
         "customdata": [
          [
           0,
           "ncaa | utfootball | diversity | athletics | campus",
           161
          ],
          [
           1,
           "blm | racism | racist | supporting | blacks",
           158
          ],
          [
           2,
           "antifablm | antifa | protesting | riots | protesters",
           115
          ],
          [
           3,
           "blm | ut | tickets | stadium | austin",
           87
          ],
          [
           4,
           "blacklivesmatter | racists | nigerians | police | homicides",
           54
          ],
          [
           5,
           "cheney | gop | antifa | fbi | trumpendorsed",
           50
          ],
          [
           6,
           "terrorists | shooting | murdered | provo | shot",
           41
          ],
          [
           7,
           "romney | biden | senator | republican | rnc",
           33
          ],
          [
           8,
           "saltlakecity | spokane | city | nashville | seattle",
           30
          ],
          [
           9,
           "protesters | rally | arrests | riot | casper",
           30
          ],
          [
           10,
           "activist | sullivan | sullivans | sullivanparticipated | blmr",
           24
          ],
          [
           11,
           "utahvalues | utah | utahwriteroftheweek | mormons | mormon",
           22
          ],
          [
           12,
           "police | cops | cop | unarmed | anarchists",
           20
          ],
          [
           13,
           "racistsexist | supremacists | org | marxist | founder",
           17
          ],
          [
           14,
           "mitchell | jazz | nba | racists | basketball",
           16
          ],
          [
           15,
           "classrooms | schools | students | teachers | teaching",
           16
          ],
          [
           16,
           "jerseys | uniforms | shirts | jersey | wearing",
           16
          ]
         ],
         "hovertemplate": "<b>Topic %{customdata[0]}</b><br>%{customdata[1]}<br>Size: %{customdata[2]}",
         "legendgroup": "",
         "marker": {
          "color": "#B0BEC5",
          "line": {
           "color": "DarkSlateGrey",
           "width": 2
          },
          "size": [
           161,
           158,
           115,
           87,
           54,
           50,
           41,
           33,
           30,
           30,
           24,
           22,
           20,
           17,
           16,
           16,
           16
          ],
          "sizemode": "area",
          "sizeref": 0.100625,
          "symbol": "circle"
         },
         "mode": "markers",
         "name": "",
         "orientation": "v",
         "showlegend": false,
         "type": "scatter",
         "x": [
          17.722778,
          -2.7697968,
          -3.4166968,
          -2.18132,
          17.11703,
          -4.0223722,
          2.9753294,
          -4.3518696,
          17.482084,
          -3.2796602,
          2.7109067,
          -2.9270031,
          3.1598384,
          -2.3685296,
          -2.0798118,
          -2.6694713,
          -2.0401232
         ],
         "xaxis": "x",
         "y": [
          1.5402278,
          -3.8988826,
          -4.218323,
          -2.5809324,
          0.93559194,
          -4.2978415,
          -17.667551,
          -4.4632034,
          1.2985816,
          -4.5256596,
          -17.931606,
          -3.2700474,
          -17.482851,
          -3.244219,
          -2.0753713,
          -2.859882,
          -2.4405165
         ],
         "yaxis": "y"
        }
       ],
       "layout": {
        "annotations": [
         {
          "showarrow": false,
          "text": "D1",
          "x": -5.004650020599366,
          "y": -9.425042650103569,
          "yshift": 10
         },
         {
          "showarrow": false,
          "text": "D2",
          "x": 7.688272523880005,
          "xshift": 10,
          "y": 1.7712619364261628
         }
        ],
        "height": 650,
        "hoverlabel": {
         "bgcolor": "white",
         "font": {
          "family": "Rockwell",
          "size": 16
         }
        },
        "legend": {
         "itemsizing": "constant",
         "tracegroupgap": 0
        },
        "margin": {
         "t": 60
        },
        "shapes": [
         {
          "line": {
           "color": "#CFD8DC",
           "width": 2
          },
          "type": "line",
          "x0": 7.688272523880005,
          "x1": 7.688272523880005,
          "y0": -20.6213472366333,
          "y1": 1.7712619364261628
         },
         {
          "line": {
           "color": "#9E9E9E",
           "width": 2
          },
          "type": "line",
          "x0": -5.004650020599366,
          "x1": 20.381195068359375,
          "y0": -9.425042650103569,
          "y1": -9.425042650103569
         }
        ],
        "sliders": [
         {
          "active": 0,
          "pad": {
           "t": 50
          },
          "steps": [
           {
            "args": [
             {
              "marker.color": [
               [
                "red",
                "#B0BEC5",
                "#B0BEC5",
                "#B0BEC5",
                "#B0BEC5",
                "#B0BEC5",
                "#B0BEC5",
                "#B0BEC5",
                "#B0BEC5",
                "#B0BEC5",
                "#B0BEC5",
                "#B0BEC5",
                "#B0BEC5",
                "#B0BEC5",
                "#B0BEC5",
                "#B0BEC5",
                "#B0BEC5"
               ]
              ]
             }
            ],
            "label": "Topic 0",
            "method": "update"
           },
           {
            "args": [
             {
              "marker.color": [
               [
                "#B0BEC5",
                "red",
                "#B0BEC5",
                "#B0BEC5",
                "#B0BEC5",
                "#B0BEC5",
                "#B0BEC5",
                "#B0BEC5",
                "#B0BEC5",
                "#B0BEC5",
                "#B0BEC5",
                "#B0BEC5",
                "#B0BEC5",
                "#B0BEC5",
                "#B0BEC5",
                "#B0BEC5",
                "#B0BEC5"
               ]
              ]
             }
            ],
            "label": "Topic 1",
            "method": "update"
           },
           {
            "args": [
             {
              "marker.color": [
               [
                "#B0BEC5",
                "#B0BEC5",
                "red",
                "#B0BEC5",
                "#B0BEC5",
                "#B0BEC5",
                "#B0BEC5",
                "#B0BEC5",
                "#B0BEC5",
                "#B0BEC5",
                "#B0BEC5",
                "#B0BEC5",
                "#B0BEC5",
                "#B0BEC5",
                "#B0BEC5",
                "#B0BEC5",
                "#B0BEC5"
               ]
              ]
             }
            ],
            "label": "Topic 2",
            "method": "update"
           },
           {
            "args": [
             {
              "marker.color": [
               [
                "#B0BEC5",
                "#B0BEC5",
                "#B0BEC5",
                "red",
                "#B0BEC5",
                "#B0BEC5",
                "#B0BEC5",
                "#B0BEC5",
                "#B0BEC5",
                "#B0BEC5",
                "#B0BEC5",
                "#B0BEC5",
                "#B0BEC5",
                "#B0BEC5",
                "#B0BEC5",
                "#B0BEC5",
                "#B0BEC5"
               ]
              ]
             }
            ],
            "label": "Topic 3",
            "method": "update"
           },
           {
            "args": [
             {
              "marker.color": [
               [
                "#B0BEC5",
                "#B0BEC5",
                "#B0BEC5",
                "#B0BEC5",
                "red",
                "#B0BEC5",
                "#B0BEC5",
                "#B0BEC5",
                "#B0BEC5",
                "#B0BEC5",
                "#B0BEC5",
                "#B0BEC5",
                "#B0BEC5",
                "#B0BEC5",
                "#B0BEC5",
                "#B0BEC5",
                "#B0BEC5"
               ]
              ]
             }
            ],
            "label": "Topic 4",
            "method": "update"
           },
           {
            "args": [
             {
              "marker.color": [
               [
                "#B0BEC5",
                "#B0BEC5",
                "#B0BEC5",
                "#B0BEC5",
                "#B0BEC5",
                "red",
                "#B0BEC5",
                "#B0BEC5",
                "#B0BEC5",
                "#B0BEC5",
                "#B0BEC5",
                "#B0BEC5",
                "#B0BEC5",
                "#B0BEC5",
                "#B0BEC5",
                "#B0BEC5",
                "#B0BEC5"
               ]
              ]
             }
            ],
            "label": "Topic 5",
            "method": "update"
           },
           {
            "args": [
             {
              "marker.color": [
               [
                "#B0BEC5",
                "#B0BEC5",
                "#B0BEC5",
                "#B0BEC5",
                "#B0BEC5",
                "#B0BEC5",
                "red",
                "#B0BEC5",
                "#B0BEC5",
                "#B0BEC5",
                "#B0BEC5",
                "#B0BEC5",
                "#B0BEC5",
                "#B0BEC5",
                "#B0BEC5",
                "#B0BEC5",
                "#B0BEC5"
               ]
              ]
             }
            ],
            "label": "Topic 6",
            "method": "update"
           },
           {
            "args": [
             {
              "marker.color": [
               [
                "#B0BEC5",
                "#B0BEC5",
                "#B0BEC5",
                "#B0BEC5",
                "#B0BEC5",
                "#B0BEC5",
                "#B0BEC5",
                "red",
                "#B0BEC5",
                "#B0BEC5",
                "#B0BEC5",
                "#B0BEC5",
                "#B0BEC5",
                "#B0BEC5",
                "#B0BEC5",
                "#B0BEC5",
                "#B0BEC5"
               ]
              ]
             }
            ],
            "label": "Topic 7",
            "method": "update"
           },
           {
            "args": [
             {
              "marker.color": [
               [
                "#B0BEC5",
                "#B0BEC5",
                "#B0BEC5",
                "#B0BEC5",
                "#B0BEC5",
                "#B0BEC5",
                "#B0BEC5",
                "#B0BEC5",
                "red",
                "#B0BEC5",
                "#B0BEC5",
                "#B0BEC5",
                "#B0BEC5",
                "#B0BEC5",
                "#B0BEC5",
                "#B0BEC5",
                "#B0BEC5"
               ]
              ]
             }
            ],
            "label": "Topic 8",
            "method": "update"
           },
           {
            "args": [
             {
              "marker.color": [
               [
                "#B0BEC5",
                "#B0BEC5",
                "#B0BEC5",
                "#B0BEC5",
                "#B0BEC5",
                "#B0BEC5",
                "#B0BEC5",
                "#B0BEC5",
                "#B0BEC5",
                "red",
                "#B0BEC5",
                "#B0BEC5",
                "#B0BEC5",
                "#B0BEC5",
                "#B0BEC5",
                "#B0BEC5",
                "#B0BEC5"
               ]
              ]
             }
            ],
            "label": "Topic 9",
            "method": "update"
           },
           {
            "args": [
             {
              "marker.color": [
               [
                "#B0BEC5",
                "#B0BEC5",
                "#B0BEC5",
                "#B0BEC5",
                "#B0BEC5",
                "#B0BEC5",
                "#B0BEC5",
                "#B0BEC5",
                "#B0BEC5",
                "#B0BEC5",
                "red",
                "#B0BEC5",
                "#B0BEC5",
                "#B0BEC5",
                "#B0BEC5",
                "#B0BEC5",
                "#B0BEC5"
               ]
              ]
             }
            ],
            "label": "Topic 10",
            "method": "update"
           },
           {
            "args": [
             {
              "marker.color": [
               [
                "#B0BEC5",
                "#B0BEC5",
                "#B0BEC5",
                "#B0BEC5",
                "#B0BEC5",
                "#B0BEC5",
                "#B0BEC5",
                "#B0BEC5",
                "#B0BEC5",
                "#B0BEC5",
                "#B0BEC5",
                "red",
                "#B0BEC5",
                "#B0BEC5",
                "#B0BEC5",
                "#B0BEC5",
                "#B0BEC5"
               ]
              ]
             }
            ],
            "label": "Topic 11",
            "method": "update"
           },
           {
            "args": [
             {
              "marker.color": [
               [
                "#B0BEC5",
                "#B0BEC5",
                "#B0BEC5",
                "#B0BEC5",
                "#B0BEC5",
                "#B0BEC5",
                "#B0BEC5",
                "#B0BEC5",
                "#B0BEC5",
                "#B0BEC5",
                "#B0BEC5",
                "#B0BEC5",
                "red",
                "#B0BEC5",
                "#B0BEC5",
                "#B0BEC5",
                "#B0BEC5"
               ]
              ]
             }
            ],
            "label": "Topic 12",
            "method": "update"
           },
           {
            "args": [
             {
              "marker.color": [
               [
                "#B0BEC5",
                "#B0BEC5",
                "#B0BEC5",
                "#B0BEC5",
                "#B0BEC5",
                "#B0BEC5",
                "#B0BEC5",
                "#B0BEC5",
                "#B0BEC5",
                "#B0BEC5",
                "#B0BEC5",
                "#B0BEC5",
                "#B0BEC5",
                "red",
                "#B0BEC5",
                "#B0BEC5",
                "#B0BEC5"
               ]
              ]
             }
            ],
            "label": "Topic 13",
            "method": "update"
           },
           {
            "args": [
             {
              "marker.color": [
               [
                "#B0BEC5",
                "#B0BEC5",
                "#B0BEC5",
                "#B0BEC5",
                "#B0BEC5",
                "#B0BEC5",
                "#B0BEC5",
                "#B0BEC5",
                "#B0BEC5",
                "#B0BEC5",
                "#B0BEC5",
                "#B0BEC5",
                "#B0BEC5",
                "#B0BEC5",
                "red",
                "#B0BEC5",
                "#B0BEC5"
               ]
              ]
             }
            ],
            "label": "Topic 14",
            "method": "update"
           },
           {
            "args": [
             {
              "marker.color": [
               [
                "#B0BEC5",
                "#B0BEC5",
                "#B0BEC5",
                "#B0BEC5",
                "#B0BEC5",
                "#B0BEC5",
                "#B0BEC5",
                "#B0BEC5",
                "#B0BEC5",
                "#B0BEC5",
                "#B0BEC5",
                "#B0BEC5",
                "#B0BEC5",
                "#B0BEC5",
                "#B0BEC5",
                "red",
                "#B0BEC5"
               ]
              ]
             }
            ],
            "label": "Topic 15",
            "method": "update"
           },
           {
            "args": [
             {
              "marker.color": [
               [
                "#B0BEC5",
                "#B0BEC5",
                "#B0BEC5",
                "#B0BEC5",
                "#B0BEC5",
                "#B0BEC5",
                "#B0BEC5",
                "#B0BEC5",
                "#B0BEC5",
                "#B0BEC5",
                "#B0BEC5",
                "#B0BEC5",
                "#B0BEC5",
                "#B0BEC5",
                "#B0BEC5",
                "#B0BEC5",
                "red"
               ]
              ]
             }
            ],
            "label": "Topic 16",
            "method": "update"
           }
          ]
         }
        ],
        "template": {
         "data": {
          "bar": [
           {
            "error_x": {
             "color": "rgb(36,36,36)"
            },
            "error_y": {
             "color": "rgb(36,36,36)"
            },
            "marker": {
             "line": {
              "color": "white",
              "width": 0.5
             },
             "pattern": {
              "fillmode": "overlay",
              "size": 10,
              "solidity": 0.2
             }
            },
            "type": "bar"
           }
          ],
          "barpolar": [
           {
            "marker": {
             "line": {
              "color": "white",
              "width": 0.5
             },
             "pattern": {
              "fillmode": "overlay",
              "size": 10,
              "solidity": 0.2
             }
            },
            "type": "barpolar"
           }
          ],
          "carpet": [
           {
            "aaxis": {
             "endlinecolor": "rgb(36,36,36)",
             "gridcolor": "white",
             "linecolor": "white",
             "minorgridcolor": "white",
             "startlinecolor": "rgb(36,36,36)"
            },
            "baxis": {
             "endlinecolor": "rgb(36,36,36)",
             "gridcolor": "white",
             "linecolor": "white",
             "minorgridcolor": "white",
             "startlinecolor": "rgb(36,36,36)"
            },
            "type": "carpet"
           }
          ],
          "choropleth": [
           {
            "colorbar": {
             "outlinewidth": 1,
             "tickcolor": "rgb(36,36,36)",
             "ticks": "outside"
            },
            "type": "choropleth"
           }
          ],
          "contour": [
           {
            "colorbar": {
             "outlinewidth": 1,
             "tickcolor": "rgb(36,36,36)",
             "ticks": "outside"
            },
            "colorscale": [
             [
              0,
              "#440154"
             ],
             [
              0.1111111111111111,
              "#482878"
             ],
             [
              0.2222222222222222,
              "#3e4989"
             ],
             [
              0.3333333333333333,
              "#31688e"
             ],
             [
              0.4444444444444444,
              "#26828e"
             ],
             [
              0.5555555555555556,
              "#1f9e89"
             ],
             [
              0.6666666666666666,
              "#35b779"
             ],
             [
              0.7777777777777778,
              "#6ece58"
             ],
             [
              0.8888888888888888,
              "#b5de2b"
             ],
             [
              1,
              "#fde725"
             ]
            ],
            "type": "contour"
           }
          ],
          "contourcarpet": [
           {
            "colorbar": {
             "outlinewidth": 1,
             "tickcolor": "rgb(36,36,36)",
             "ticks": "outside"
            },
            "type": "contourcarpet"
           }
          ],
          "heatmap": [
           {
            "colorbar": {
             "outlinewidth": 1,
             "tickcolor": "rgb(36,36,36)",
             "ticks": "outside"
            },
            "colorscale": [
             [
              0,
              "#440154"
             ],
             [
              0.1111111111111111,
              "#482878"
             ],
             [
              0.2222222222222222,
              "#3e4989"
             ],
             [
              0.3333333333333333,
              "#31688e"
             ],
             [
              0.4444444444444444,
              "#26828e"
             ],
             [
              0.5555555555555556,
              "#1f9e89"
             ],
             [
              0.6666666666666666,
              "#35b779"
             ],
             [
              0.7777777777777778,
              "#6ece58"
             ],
             [
              0.8888888888888888,
              "#b5de2b"
             ],
             [
              1,
              "#fde725"
             ]
            ],
            "type": "heatmap"
           }
          ],
          "heatmapgl": [
           {
            "colorbar": {
             "outlinewidth": 1,
             "tickcolor": "rgb(36,36,36)",
             "ticks": "outside"
            },
            "colorscale": [
             [
              0,
              "#440154"
             ],
             [
              0.1111111111111111,
              "#482878"
             ],
             [
              0.2222222222222222,
              "#3e4989"
             ],
             [
              0.3333333333333333,
              "#31688e"
             ],
             [
              0.4444444444444444,
              "#26828e"
             ],
             [
              0.5555555555555556,
              "#1f9e89"
             ],
             [
              0.6666666666666666,
              "#35b779"
             ],
             [
              0.7777777777777778,
              "#6ece58"
             ],
             [
              0.8888888888888888,
              "#b5de2b"
             ],
             [
              1,
              "#fde725"
             ]
            ],
            "type": "heatmapgl"
           }
          ],
          "histogram": [
           {
            "marker": {
             "line": {
              "color": "white",
              "width": 0.6
             }
            },
            "type": "histogram"
           }
          ],
          "histogram2d": [
           {
            "colorbar": {
             "outlinewidth": 1,
             "tickcolor": "rgb(36,36,36)",
             "ticks": "outside"
            },
            "colorscale": [
             [
              0,
              "#440154"
             ],
             [
              0.1111111111111111,
              "#482878"
             ],
             [
              0.2222222222222222,
              "#3e4989"
             ],
             [
              0.3333333333333333,
              "#31688e"
             ],
             [
              0.4444444444444444,
              "#26828e"
             ],
             [
              0.5555555555555556,
              "#1f9e89"
             ],
             [
              0.6666666666666666,
              "#35b779"
             ],
             [
              0.7777777777777778,
              "#6ece58"
             ],
             [
              0.8888888888888888,
              "#b5de2b"
             ],
             [
              1,
              "#fde725"
             ]
            ],
            "type": "histogram2d"
           }
          ],
          "histogram2dcontour": [
           {
            "colorbar": {
             "outlinewidth": 1,
             "tickcolor": "rgb(36,36,36)",
             "ticks": "outside"
            },
            "colorscale": [
             [
              0,
              "#440154"
             ],
             [
              0.1111111111111111,
              "#482878"
             ],
             [
              0.2222222222222222,
              "#3e4989"
             ],
             [
              0.3333333333333333,
              "#31688e"
             ],
             [
              0.4444444444444444,
              "#26828e"
             ],
             [
              0.5555555555555556,
              "#1f9e89"
             ],
             [
              0.6666666666666666,
              "#35b779"
             ],
             [
              0.7777777777777778,
              "#6ece58"
             ],
             [
              0.8888888888888888,
              "#b5de2b"
             ],
             [
              1,
              "#fde725"
             ]
            ],
            "type": "histogram2dcontour"
           }
          ],
          "mesh3d": [
           {
            "colorbar": {
             "outlinewidth": 1,
             "tickcolor": "rgb(36,36,36)",
             "ticks": "outside"
            },
            "type": "mesh3d"
           }
          ],
          "parcoords": [
           {
            "line": {
             "colorbar": {
              "outlinewidth": 1,
              "tickcolor": "rgb(36,36,36)",
              "ticks": "outside"
             }
            },
            "type": "parcoords"
           }
          ],
          "pie": [
           {
            "automargin": true,
            "type": "pie"
           }
          ],
          "scatter": [
           {
            "fillpattern": {
             "fillmode": "overlay",
             "size": 10,
             "solidity": 0.2
            },
            "type": "scatter"
           }
          ],
          "scatter3d": [
           {
            "line": {
             "colorbar": {
              "outlinewidth": 1,
              "tickcolor": "rgb(36,36,36)",
              "ticks": "outside"
             }
            },
            "marker": {
             "colorbar": {
              "outlinewidth": 1,
              "tickcolor": "rgb(36,36,36)",
              "ticks": "outside"
             }
            },
            "type": "scatter3d"
           }
          ],
          "scattercarpet": [
           {
            "marker": {
             "colorbar": {
              "outlinewidth": 1,
              "tickcolor": "rgb(36,36,36)",
              "ticks": "outside"
             }
            },
            "type": "scattercarpet"
           }
          ],
          "scattergeo": [
           {
            "marker": {
             "colorbar": {
              "outlinewidth": 1,
              "tickcolor": "rgb(36,36,36)",
              "ticks": "outside"
             }
            },
            "type": "scattergeo"
           }
          ],
          "scattergl": [
           {
            "marker": {
             "colorbar": {
              "outlinewidth": 1,
              "tickcolor": "rgb(36,36,36)",
              "ticks": "outside"
             }
            },
            "type": "scattergl"
           }
          ],
          "scattermapbox": [
           {
            "marker": {
             "colorbar": {
              "outlinewidth": 1,
              "tickcolor": "rgb(36,36,36)",
              "ticks": "outside"
             }
            },
            "type": "scattermapbox"
           }
          ],
          "scatterpolar": [
           {
            "marker": {
             "colorbar": {
              "outlinewidth": 1,
              "tickcolor": "rgb(36,36,36)",
              "ticks": "outside"
             }
            },
            "type": "scatterpolar"
           }
          ],
          "scatterpolargl": [
           {
            "marker": {
             "colorbar": {
              "outlinewidth": 1,
              "tickcolor": "rgb(36,36,36)",
              "ticks": "outside"
             }
            },
            "type": "scatterpolargl"
           }
          ],
          "scatterternary": [
           {
            "marker": {
             "colorbar": {
              "outlinewidth": 1,
              "tickcolor": "rgb(36,36,36)",
              "ticks": "outside"
             }
            },
            "type": "scatterternary"
           }
          ],
          "surface": [
           {
            "colorbar": {
             "outlinewidth": 1,
             "tickcolor": "rgb(36,36,36)",
             "ticks": "outside"
            },
            "colorscale": [
             [
              0,
              "#440154"
             ],
             [
              0.1111111111111111,
              "#482878"
             ],
             [
              0.2222222222222222,
              "#3e4989"
             ],
             [
              0.3333333333333333,
              "#31688e"
             ],
             [
              0.4444444444444444,
              "#26828e"
             ],
             [
              0.5555555555555556,
              "#1f9e89"
             ],
             [
              0.6666666666666666,
              "#35b779"
             ],
             [
              0.7777777777777778,
              "#6ece58"
             ],
             [
              0.8888888888888888,
              "#b5de2b"
             ],
             [
              1,
              "#fde725"
             ]
            ],
            "type": "surface"
           }
          ],
          "table": [
           {
            "cells": {
             "fill": {
              "color": "rgb(237,237,237)"
             },
             "line": {
              "color": "white"
             }
            },
            "header": {
             "fill": {
              "color": "rgb(217,217,217)"
             },
             "line": {
              "color": "white"
             }
            },
            "type": "table"
           }
          ]
         },
         "layout": {
          "annotationdefaults": {
           "arrowhead": 0,
           "arrowwidth": 1
          },
          "autotypenumbers": "strict",
          "coloraxis": {
           "colorbar": {
            "outlinewidth": 1,
            "tickcolor": "rgb(36,36,36)",
            "ticks": "outside"
           }
          },
          "colorscale": {
           "diverging": [
            [
             0,
             "rgb(103,0,31)"
            ],
            [
             0.1,
             "rgb(178,24,43)"
            ],
            [
             0.2,
             "rgb(214,96,77)"
            ],
            [
             0.3,
             "rgb(244,165,130)"
            ],
            [
             0.4,
             "rgb(253,219,199)"
            ],
            [
             0.5,
             "rgb(247,247,247)"
            ],
            [
             0.6,
             "rgb(209,229,240)"
            ],
            [
             0.7,
             "rgb(146,197,222)"
            ],
            [
             0.8,
             "rgb(67,147,195)"
            ],
            [
             0.9,
             "rgb(33,102,172)"
            ],
            [
             1,
             "rgb(5,48,97)"
            ]
           ],
           "sequential": [
            [
             0,
             "#440154"
            ],
            [
             0.1111111111111111,
             "#482878"
            ],
            [
             0.2222222222222222,
             "#3e4989"
            ],
            [
             0.3333333333333333,
             "#31688e"
            ],
            [
             0.4444444444444444,
             "#26828e"
            ],
            [
             0.5555555555555556,
             "#1f9e89"
            ],
            [
             0.6666666666666666,
             "#35b779"
            ],
            [
             0.7777777777777778,
             "#6ece58"
            ],
            [
             0.8888888888888888,
             "#b5de2b"
            ],
            [
             1,
             "#fde725"
            ]
           ],
           "sequentialminus": [
            [
             0,
             "#440154"
            ],
            [
             0.1111111111111111,
             "#482878"
            ],
            [
             0.2222222222222222,
             "#3e4989"
            ],
            [
             0.3333333333333333,
             "#31688e"
            ],
            [
             0.4444444444444444,
             "#26828e"
            ],
            [
             0.5555555555555556,
             "#1f9e89"
            ],
            [
             0.6666666666666666,
             "#35b779"
            ],
            [
             0.7777777777777778,
             "#6ece58"
            ],
            [
             0.8888888888888888,
             "#b5de2b"
            ],
            [
             1,
             "#fde725"
            ]
           ]
          },
          "colorway": [
           "#1F77B4",
           "#FF7F0E",
           "#2CA02C",
           "#D62728",
           "#9467BD",
           "#8C564B",
           "#E377C2",
           "#7F7F7F",
           "#BCBD22",
           "#17BECF"
          ],
          "font": {
           "color": "rgb(36,36,36)"
          },
          "geo": {
           "bgcolor": "white",
           "lakecolor": "white",
           "landcolor": "white",
           "showlakes": true,
           "showland": true,
           "subunitcolor": "white"
          },
          "hoverlabel": {
           "align": "left"
          },
          "hovermode": "closest",
          "mapbox": {
           "style": "light"
          },
          "paper_bgcolor": "white",
          "plot_bgcolor": "white",
          "polar": {
           "angularaxis": {
            "gridcolor": "rgb(232,232,232)",
            "linecolor": "rgb(36,36,36)",
            "showgrid": false,
            "showline": true,
            "ticks": "outside"
           },
           "bgcolor": "white",
           "radialaxis": {
            "gridcolor": "rgb(232,232,232)",
            "linecolor": "rgb(36,36,36)",
            "showgrid": false,
            "showline": true,
            "ticks": "outside"
           }
          },
          "scene": {
           "xaxis": {
            "backgroundcolor": "white",
            "gridcolor": "rgb(232,232,232)",
            "gridwidth": 2,
            "linecolor": "rgb(36,36,36)",
            "showbackground": true,
            "showgrid": false,
            "showline": true,
            "ticks": "outside",
            "zeroline": false,
            "zerolinecolor": "rgb(36,36,36)"
           },
           "yaxis": {
            "backgroundcolor": "white",
            "gridcolor": "rgb(232,232,232)",
            "gridwidth": 2,
            "linecolor": "rgb(36,36,36)",
            "showbackground": true,
            "showgrid": false,
            "showline": true,
            "ticks": "outside",
            "zeroline": false,
            "zerolinecolor": "rgb(36,36,36)"
           },
           "zaxis": {
            "backgroundcolor": "white",
            "gridcolor": "rgb(232,232,232)",
            "gridwidth": 2,
            "linecolor": "rgb(36,36,36)",
            "showbackground": true,
            "showgrid": false,
            "showline": true,
            "ticks": "outside",
            "zeroline": false,
            "zerolinecolor": "rgb(36,36,36)"
           }
          },
          "shapedefaults": {
           "fillcolor": "black",
           "line": {
            "width": 0
           },
           "opacity": 0.3
          },
          "ternary": {
           "aaxis": {
            "gridcolor": "rgb(232,232,232)",
            "linecolor": "rgb(36,36,36)",
            "showgrid": false,
            "showline": true,
            "ticks": "outside"
           },
           "baxis": {
            "gridcolor": "rgb(232,232,232)",
            "linecolor": "rgb(36,36,36)",
            "showgrid": false,
            "showline": true,
            "ticks": "outside"
           },
           "bgcolor": "white",
           "caxis": {
            "gridcolor": "rgb(232,232,232)",
            "linecolor": "rgb(36,36,36)",
            "showgrid": false,
            "showline": true,
            "ticks": "outside"
           }
          },
          "title": {
           "x": 0.05
          },
          "xaxis": {
           "automargin": true,
           "gridcolor": "rgb(232,232,232)",
           "linecolor": "rgb(36,36,36)",
           "showgrid": false,
           "showline": true,
           "ticks": "outside",
           "title": {
            "standoff": 15
           },
           "zeroline": false,
           "zerolinecolor": "rgb(36,36,36)"
          },
          "yaxis": {
           "automargin": true,
           "gridcolor": "rgb(232,232,232)",
           "linecolor": "rgb(36,36,36)",
           "showgrid": false,
           "showline": true,
           "ticks": "outside",
           "title": {
            "standoff": 15
           },
           "zeroline": false,
           "zerolinecolor": "rgb(36,36,36)"
          }
         }
        },
        "title": {
         "font": {
          "color": "Black",
          "size": 22
         },
         "text": "<b>Intertopic Distance Map</b>",
         "x": 0.5,
         "xanchor": "center",
         "y": 0.95,
         "yanchor": "top"
        },
        "width": 650,
        "xaxis": {
         "anchor": "y",
         "domain": [
          0,
          1
         ],
         "range": [
          -5.004650020599366,
          20.381195068359375
         ],
         "title": {
          "text": ""
         },
         "visible": false
        },
        "yaxis": {
         "anchor": "x",
         "domain": [
          0,
          1
         ],
         "range": [
          -20.6213472366333,
          1.7712619364261628
         ],
         "title": {
          "text": ""
         },
         "visible": false
        }
       }
      }
     },
     "metadata": {},
     "output_type": "display_data"
    }
   ],
   "source": [
    "topic_model.visualize_topics()"
   ]
  },
  {
   "cell_type": "code",
   "execution_count": 20,
   "metadata": {},
   "outputs": [
    {
     "name": "stderr",
     "output_type": "stream",
     "text": [
      "100%|██████████| 16/16 [00:01<00:00, 13.82it/s]\n"
     ]
    }
   ],
   "source": [
    "hierarchical_topics = topic_model.hierarchical_topics(docs)\n"
   ]
  },
  {
   "cell_type": "code",
   "execution_count": 21,
   "metadata": {},
   "outputs": [
    {
     "data": {
      "application/vnd.plotly.v1+json": {
       "config": {
        "plotlyServerURL": "https://plot.ly"
       },
       "data": [
        {
         "hoverinfo": "text",
         "marker": {
          "color": "rgb(61,153,112)"
         },
         "mode": "lines",
         "text": [
          "changes ncaa_texas football_ncaa blacklivesmatter_university texas_ncaa watch",
          "",
          "",
          "blm ut_ut blm_money blm_ut sports_support blm"
         ],
         "type": "scatter",
         "x": [
          0,
          0.9109124470555131,
          0.9109124470555131,
          0
         ],
         "xaxis": "x",
         "y": [
          -15,
          -15,
          -25,
          -25
         ],
         "yaxis": "y"
        },
        {
         "hoverinfo": "text",
         "marker": {
          "color": "rgb(61,153,112)"
         },
         "mode": "lines",
         "text": [
          "students blm_students demanding_students support_schools classrooms_extortion students",
          "",
          "",
          "changes ncaa_ncaa blacklivesmatter_university texas_ut athletes_ut longhorns"
         ],
         "type": "scatter",
         "x": [
          0,
          0.9505289582216888,
          0.9505289582216888,
          0.9109124470555131
         ],
         "xaxis": "x",
         "y": [
          -5,
          -5,
          -20,
          -20
         ],
         "yaxis": "y"
        },
        {
         "hoverinfo": "text",
         "marker": {
          "color": "rgb(61,153,112)"
         },
         "mode": "lines",
         "text": [
          "ncaa blacklivesmatter_university texas_ncaa watch_ncaa_ut athletes",
          "",
          "",
          "black jerseys_jerseys_ut wear_jerseys proceeds_jerseys kentucky"
         ],
         "type": "scatter",
         "x": [
          0.9505289582216888,
          0.9611998078938453,
          0.9611998078938453,
          0
         ],
         "xaxis": "x",
         "y": [
          -12.5,
          -12.5,
          -35,
          -35
         ],
         "yaxis": "y"
        },
        {
         "hoverinfo": "text",
         "marker": {
          "color": "rgb(61,153,112)"
         },
         "mode": "lines",
         "text": [
          "jazz fans_jazz fan_mitchell_jazz players_mock blm",
          "",
          "",
          "blm founder_reaching blm_blm marxist_hired blm_blm blm"
         ],
         "type": "scatter",
         "x": [
          0,
          0.9484404255912325,
          0.9484404255912325,
          0
         ],
         "xaxis": "x",
         "y": [
          -45,
          -45,
          -55,
          -55
         ],
         "yaxis": "y"
        },
        {
         "hoverinfo": "text",
         "marker": {
          "color": "rgb(61,153,112)"
         },
         "mode": "lines",
         "text": [
          "ut athletics_university texas_ut athletes_ncaa_student athletes",
          "",
          "",
          "blm founder_reaching blm_blm marxist_hired blm_blm blm"
         ],
         "type": "scatter",
         "x": [
          0.9611998078938453,
          0.9743212847979082,
          0.9743212847979082,
          0.9484404255912325
         ],
         "xaxis": "x",
         "y": [
          -23.75,
          -23.75,
          -50,
          -50
         ],
         "yaxis": "y"
        },
        {
         "hoverinfo": "text",
         "marker": {
          "color": "rgb(255,65,54)"
         },
         "mode": "lines",
         "text": [
          "supporting blm_blm right_support blm_blm dont_think blm",
          "",
          "",
          "blm protests_blm antifa_antifa blm_riots_protesting"
         ],
         "type": "scatter",
         "x": [
          0,
          0.8870990787612271,
          0.8870990787612271,
          0
         ],
         "xaxis": "x",
         "y": [
          -75,
          -75,
          -85,
          -85
         ],
         "yaxis": "y"
        },
        {
         "hoverinfo": "text",
         "marker": {
          "color": "rgb(255,65,54)"
         },
         "mode": "lines",
         "text": [
          "blm protests_blm antifa_antifa blm_supporting blm_antifa",
          "",
          "",
          "liz cheney_trump cheney_cheney_gop censured_wy gop"
         ],
         "type": "scatter",
         "x": [
          0.8870990787612271,
          0.9156182951789973,
          0.9156182951789973,
          0
         ],
         "xaxis": "x",
         "y": [
          -80,
          -80,
          -95,
          -95
         ],
         "yaxis": "y"
        },
        {
         "hoverinfo": "text",
         "marker": {
          "color": "rgb(255,65,54)"
         },
         "mode": "lines",
         "text": [
          "anarchist blm_blm liberal_black cop_cop downtown_white unarmed",
          "",
          "",
          "blm protests_blm antifa_antifa blm_riots_instigated antifa"
         ],
         "type": "scatter",
         "x": [
          0,
          0.9623173661639123,
          0.9623173661639123,
          0.9156182951789973
         ],
         "xaxis": "x",
         "y": [
          -65,
          -65,
          -87.5,
          -87.5
         ],
         "yaxis": "y"
        },
        {
         "hoverinfo": "text",
         "marker": {
          "color": "rgb(255,65,54)"
         },
         "mode": "lines",
         "text": [
          "blacklivesmatter antifa_black lives_new blacklivesmatter_blacklivesmatter_blacklivesmatter blacklivesmatter",
          "",
          "",
          "post mormons_utah_preexistence utah_racism happening_mormons"
         ],
         "type": "scatter",
         "x": [
          0,
          0.9454647814110915,
          0.9454647814110915,
          0
         ],
         "xaxis": "x",
         "y": [
          -105,
          -105,
          -115,
          -115
         ],
         "yaxis": "y"
        },
        {
         "hoverinfo": "text",
         "marker": {
          "color": "rgb(255,65,54)"
         },
         "mode": "lines",
         "text": [
          "black lives_blacklivesmatter antifa_blacklivesmatter blacklivesmatter_blacklivesmatter_georgefloyd blacklivesmatter",
          "",
          "",
          "lake city_blacklivesmatter protests_seattle_md memphis_city"
         ],
         "type": "scatter",
         "x": [
          0.9454647814110915,
          0.9558788433807824,
          0.9558788433807824,
          0
         ],
         "xaxis": "x",
         "y": [
          -110,
          -110,
          -125,
          -125
         ],
         "yaxis": "y"
        },
        {
         "hoverinfo": "text",
         "marker": {
          "color": "rgb(255,65,54)"
         },
         "mode": "lines",
         "text": [
          "blm protests_blm antifa_antifa blm_riots_instigated antifa",
          "",
          "",
          "lake city_black lives_street blacklivesmatter_blacklivesmatter justiceforgeorgefloyd_city"
         ],
         "type": "scatter",
         "x": [
          0.9623173661639123,
          0.9747635904937176,
          0.9747635904937176,
          0.9558788433807824
         ],
         "xaxis": "x",
         "y": [
          -76.25,
          -76.25,
          -117.5,
          -117.5
         ],
         "yaxis": "y"
        },
        {
         "hoverinfo": "text",
         "marker": {
          "color": "rgb(255,65,54)"
         },
         "mode": "lines",
         "text": [
          "blm rally_armed blm_armed blms_casper police_rally march",
          "",
          "",
          "sen romney_romney_mitt romney_biden_republican joined"
         ],
         "type": "scatter",
         "x": [
          0,
          0.9506941131133744,
          0.9506941131133744,
          0
         ],
         "xaxis": "x",
         "y": [
          -135,
          -135,
          -145,
          -145
         ],
         "yaxis": "y"
        },
        {
         "hoverinfo": "text",
         "marker": {
          "color": "rgb(255,65,54)"
         },
         "mode": "lines",
         "text": [
          "blm protests_riots_blm antifa_antifa blm_black lives",
          "",
          "",
          "blm rally_marches blm_armed blm_rally march_casper police"
         ],
         "type": "scatter",
         "x": [
          0.9747635904937176,
          0.9769649067630767,
          0.9769649067630767,
          0.9506941131133744
         ],
         "xaxis": "x",
         "y": [
          -96.875,
          -96.875,
          -140,
          -140
         ],
         "yaxis": "y"
        },
        {
         "hoverinfo": "text",
         "marker": {
          "color": "rgb(255,65,54)"
         },
         "mode": "lines",
         "text": [
          "shot blm_innocents blm_blm protester_blm terrotrists_terrotrists shooting",
          "",
          "",
          "blm activist_sullivan blm_john sullivan_lw activist_activist"
         ],
         "type": "scatter",
         "x": [
          0,
          0.9305030966063311,
          0.9305030966063311,
          0
         ],
         "xaxis": "x",
         "y": [
          -155,
          -155,
          -165,
          -165
         ],
         "yaxis": "y"
        },
        {
         "hoverinfo": "text",
         "marker": {
          "color": "rgb(255,65,54)"
         },
         "mode": "lines",
         "text": [
          "blm protests_blm rally_protesters_protests_protest",
          "",
          "",
          "shot blm_innocents blm_blm protester_blm activist_sullivan blm"
         ],
         "type": "scatter",
         "x": [
          0.9769649067630767,
          0.9888521039567004,
          0.9888521039567004,
          0.9305030966063311
         ],
         "xaxis": "x",
         "y": [
          -118.4375,
          -118.4375,
          -160,
          -160
         ],
         "yaxis": "y"
        },
        {
         "hoverinfo": "text",
         "marker": {
          "color": "rgb(0,116,217)"
         },
         "mode": "lines",
         "text": [
          "racism ut_ut athletes_ncaa_university texas_ut blm",
          "",
          "",
          "protests_protesters_riots_protest_rally"
         ],
         "type": "scatter",
         "x": [
          0.9743212847979082,
          1.0199438530729892,
          1.0199438530729892,
          0.9888521039567004
         ],
         "xaxis": "x",
         "y": [
          -36.875,
          -36.875,
          -139.21875,
          -139.21875
         ],
         "yaxis": "y"
        },
        {
         "hoverinfo": "text",
         "hovertext": [
          "ncaa blacklivesmatter_university texas_ncaa watch_ncaa_ut athletes",
          "ut athletics_university texas_ut athletes_ncaa_student athletes",
          "blm protests_blm antifa_antifa blm_supporting blm_antifa",
          "black lives_blacklivesmatter antifa_blacklivesmatter blacklivesmatter_blacklivesmatter_georgefloyd blacklivesmatter",
          "blm protests_blm antifa_antifa blm_riots_instigated antifa",
          "blm protests_riots_blm antifa_antifa blm_black lives",
          "blm protests_blm rally_protesters_protests_protest",
          "racism ut_ut athletes_ncaa_university texas_ut blm"
         ],
         "marker": {
          "color": "black"
         },
         "mode": "markers",
         "showlegend": false,
         "type": "scatter",
         "x": [
          0.9505289582216888,
          0.9611998078938453,
          0.8870990787612271,
          0.9454647814110915,
          0.9623173661639123,
          0.9747635904937176,
          0.9769649067630767,
          0.9743212847979082
         ],
         "y": [
          -12.5,
          -23.75,
          -80,
          -110,
          -76.25,
          -96.875,
          -118.4375,
          -36.875
         ]
        },
        {
         "hoverinfo": "text",
         "hovertext": [
          "changes ncaa_ncaa blacklivesmatter_university texas_ut athletes_ut longhorns",
          "blm founder_reaching blm_blm marxist_hired blm_blm blm",
          "blm protests_blm antifa_antifa blm_riots_instigated antifa",
          "lake city_black lives_street blacklivesmatter_blacklivesmatter justiceforgeorgefloyd_city",
          "blm rally_marches blm_armed blm_rally march_casper police",
          "shot blm_innocents blm_blm protester_blm activist_sullivan blm",
          "protests_protesters_riots_protest_rally"
         ],
         "marker": {
          "color": "black"
         },
         "mode": "markers",
         "showlegend": false,
         "type": "scatter",
         "x": [
          0.9109124470555131,
          0.9484404255912325,
          0.9156182951789973,
          0.9558788433807824,
          0.9506941131133744,
          0.9305030966063311,
          0.9888521039567004
         ],
         "y": [
          -20,
          -50,
          -87.5,
          -117.5,
          -140,
          -160,
          -139.21875
         ]
        }
       ],
       "layout": {
        "autosize": false,
        "height": 455,
        "hoverlabel": {
         "bgcolor": "white",
         "font": {
          "family": "Rockwell",
          "size": 16
         }
        },
        "hovermode": "closest",
        "plot_bgcolor": "#ECEFF1",
        "showlegend": false,
        "template": {
         "data": {
          "bar": [
           {
            "error_x": {
             "color": "#2a3f5f"
            },
            "error_y": {
             "color": "#2a3f5f"
            },
            "marker": {
             "line": {
              "color": "white",
              "width": 0.5
             },
             "pattern": {
              "fillmode": "overlay",
              "size": 10,
              "solidity": 0.2
             }
            },
            "type": "bar"
           }
          ],
          "barpolar": [
           {
            "marker": {
             "line": {
              "color": "white",
              "width": 0.5
             },
             "pattern": {
              "fillmode": "overlay",
              "size": 10,
              "solidity": 0.2
             }
            },
            "type": "barpolar"
           }
          ],
          "carpet": [
           {
            "aaxis": {
             "endlinecolor": "#2a3f5f",
             "gridcolor": "#C8D4E3",
             "linecolor": "#C8D4E3",
             "minorgridcolor": "#C8D4E3",
             "startlinecolor": "#2a3f5f"
            },
            "baxis": {
             "endlinecolor": "#2a3f5f",
             "gridcolor": "#C8D4E3",
             "linecolor": "#C8D4E3",
             "minorgridcolor": "#C8D4E3",
             "startlinecolor": "#2a3f5f"
            },
            "type": "carpet"
           }
          ],
          "choropleth": [
           {
            "colorbar": {
             "outlinewidth": 0,
             "ticks": ""
            },
            "type": "choropleth"
           }
          ],
          "contour": [
           {
            "colorbar": {
             "outlinewidth": 0,
             "ticks": ""
            },
            "colorscale": [
             [
              0,
              "#0d0887"
             ],
             [
              0.1111111111111111,
              "#46039f"
             ],
             [
              0.2222222222222222,
              "#7201a8"
             ],
             [
              0.3333333333333333,
              "#9c179e"
             ],
             [
              0.4444444444444444,
              "#bd3786"
             ],
             [
              0.5555555555555556,
              "#d8576b"
             ],
             [
              0.6666666666666666,
              "#ed7953"
             ],
             [
              0.7777777777777778,
              "#fb9f3a"
             ],
             [
              0.8888888888888888,
              "#fdca26"
             ],
             [
              1,
              "#f0f921"
             ]
            ],
            "type": "contour"
           }
          ],
          "contourcarpet": [
           {
            "colorbar": {
             "outlinewidth": 0,
             "ticks": ""
            },
            "type": "contourcarpet"
           }
          ],
          "heatmap": [
           {
            "colorbar": {
             "outlinewidth": 0,
             "ticks": ""
            },
            "colorscale": [
             [
              0,
              "#0d0887"
             ],
             [
              0.1111111111111111,
              "#46039f"
             ],
             [
              0.2222222222222222,
              "#7201a8"
             ],
             [
              0.3333333333333333,
              "#9c179e"
             ],
             [
              0.4444444444444444,
              "#bd3786"
             ],
             [
              0.5555555555555556,
              "#d8576b"
             ],
             [
              0.6666666666666666,
              "#ed7953"
             ],
             [
              0.7777777777777778,
              "#fb9f3a"
             ],
             [
              0.8888888888888888,
              "#fdca26"
             ],
             [
              1,
              "#f0f921"
             ]
            ],
            "type": "heatmap"
           }
          ],
          "heatmapgl": [
           {
            "colorbar": {
             "outlinewidth": 0,
             "ticks": ""
            },
            "colorscale": [
             [
              0,
              "#0d0887"
             ],
             [
              0.1111111111111111,
              "#46039f"
             ],
             [
              0.2222222222222222,
              "#7201a8"
             ],
             [
              0.3333333333333333,
              "#9c179e"
             ],
             [
              0.4444444444444444,
              "#bd3786"
             ],
             [
              0.5555555555555556,
              "#d8576b"
             ],
             [
              0.6666666666666666,
              "#ed7953"
             ],
             [
              0.7777777777777778,
              "#fb9f3a"
             ],
             [
              0.8888888888888888,
              "#fdca26"
             ],
             [
              1,
              "#f0f921"
             ]
            ],
            "type": "heatmapgl"
           }
          ],
          "histogram": [
           {
            "marker": {
             "pattern": {
              "fillmode": "overlay",
              "size": 10,
              "solidity": 0.2
             }
            },
            "type": "histogram"
           }
          ],
          "histogram2d": [
           {
            "colorbar": {
             "outlinewidth": 0,
             "ticks": ""
            },
            "colorscale": [
             [
              0,
              "#0d0887"
             ],
             [
              0.1111111111111111,
              "#46039f"
             ],
             [
              0.2222222222222222,
              "#7201a8"
             ],
             [
              0.3333333333333333,
              "#9c179e"
             ],
             [
              0.4444444444444444,
              "#bd3786"
             ],
             [
              0.5555555555555556,
              "#d8576b"
             ],
             [
              0.6666666666666666,
              "#ed7953"
             ],
             [
              0.7777777777777778,
              "#fb9f3a"
             ],
             [
              0.8888888888888888,
              "#fdca26"
             ],
             [
              1,
              "#f0f921"
             ]
            ],
            "type": "histogram2d"
           }
          ],
          "histogram2dcontour": [
           {
            "colorbar": {
             "outlinewidth": 0,
             "ticks": ""
            },
            "colorscale": [
             [
              0,
              "#0d0887"
             ],
             [
              0.1111111111111111,
              "#46039f"
             ],
             [
              0.2222222222222222,
              "#7201a8"
             ],
             [
              0.3333333333333333,
              "#9c179e"
             ],
             [
              0.4444444444444444,
              "#bd3786"
             ],
             [
              0.5555555555555556,
              "#d8576b"
             ],
             [
              0.6666666666666666,
              "#ed7953"
             ],
             [
              0.7777777777777778,
              "#fb9f3a"
             ],
             [
              0.8888888888888888,
              "#fdca26"
             ],
             [
              1,
              "#f0f921"
             ]
            ],
            "type": "histogram2dcontour"
           }
          ],
          "mesh3d": [
           {
            "colorbar": {
             "outlinewidth": 0,
             "ticks": ""
            },
            "type": "mesh3d"
           }
          ],
          "parcoords": [
           {
            "line": {
             "colorbar": {
              "outlinewidth": 0,
              "ticks": ""
             }
            },
            "type": "parcoords"
           }
          ],
          "pie": [
           {
            "automargin": true,
            "type": "pie"
           }
          ],
          "scatter": [
           {
            "fillpattern": {
             "fillmode": "overlay",
             "size": 10,
             "solidity": 0.2
            },
            "type": "scatter"
           }
          ],
          "scatter3d": [
           {
            "line": {
             "colorbar": {
              "outlinewidth": 0,
              "ticks": ""
             }
            },
            "marker": {
             "colorbar": {
              "outlinewidth": 0,
              "ticks": ""
             }
            },
            "type": "scatter3d"
           }
          ],
          "scattercarpet": [
           {
            "marker": {
             "colorbar": {
              "outlinewidth": 0,
              "ticks": ""
             }
            },
            "type": "scattercarpet"
           }
          ],
          "scattergeo": [
           {
            "marker": {
             "colorbar": {
              "outlinewidth": 0,
              "ticks": ""
             }
            },
            "type": "scattergeo"
           }
          ],
          "scattergl": [
           {
            "marker": {
             "colorbar": {
              "outlinewidth": 0,
              "ticks": ""
             }
            },
            "type": "scattergl"
           }
          ],
          "scattermapbox": [
           {
            "marker": {
             "colorbar": {
              "outlinewidth": 0,
              "ticks": ""
             }
            },
            "type": "scattermapbox"
           }
          ],
          "scatterpolar": [
           {
            "marker": {
             "colorbar": {
              "outlinewidth": 0,
              "ticks": ""
             }
            },
            "type": "scatterpolar"
           }
          ],
          "scatterpolargl": [
           {
            "marker": {
             "colorbar": {
              "outlinewidth": 0,
              "ticks": ""
             }
            },
            "type": "scatterpolargl"
           }
          ],
          "scatterternary": [
           {
            "marker": {
             "colorbar": {
              "outlinewidth": 0,
              "ticks": ""
             }
            },
            "type": "scatterternary"
           }
          ],
          "surface": [
           {
            "colorbar": {
             "outlinewidth": 0,
             "ticks": ""
            },
            "colorscale": [
             [
              0,
              "#0d0887"
             ],
             [
              0.1111111111111111,
              "#46039f"
             ],
             [
              0.2222222222222222,
              "#7201a8"
             ],
             [
              0.3333333333333333,
              "#9c179e"
             ],
             [
              0.4444444444444444,
              "#bd3786"
             ],
             [
              0.5555555555555556,
              "#d8576b"
             ],
             [
              0.6666666666666666,
              "#ed7953"
             ],
             [
              0.7777777777777778,
              "#fb9f3a"
             ],
             [
              0.8888888888888888,
              "#fdca26"
             ],
             [
              1,
              "#f0f921"
             ]
            ],
            "type": "surface"
           }
          ],
          "table": [
           {
            "cells": {
             "fill": {
              "color": "#EBF0F8"
             },
             "line": {
              "color": "white"
             }
            },
            "header": {
             "fill": {
              "color": "#C8D4E3"
             },
             "line": {
              "color": "white"
             }
            },
            "type": "table"
           }
          ]
         },
         "layout": {
          "annotationdefaults": {
           "arrowcolor": "#2a3f5f",
           "arrowhead": 0,
           "arrowwidth": 1
          },
          "autotypenumbers": "strict",
          "coloraxis": {
           "colorbar": {
            "outlinewidth": 0,
            "ticks": ""
           }
          },
          "colorscale": {
           "diverging": [
            [
             0,
             "#8e0152"
            ],
            [
             0.1,
             "#c51b7d"
            ],
            [
             0.2,
             "#de77ae"
            ],
            [
             0.3,
             "#f1b6da"
            ],
            [
             0.4,
             "#fde0ef"
            ],
            [
             0.5,
             "#f7f7f7"
            ],
            [
             0.6,
             "#e6f5d0"
            ],
            [
             0.7,
             "#b8e186"
            ],
            [
             0.8,
             "#7fbc41"
            ],
            [
             0.9,
             "#4d9221"
            ],
            [
             1,
             "#276419"
            ]
           ],
           "sequential": [
            [
             0,
             "#0d0887"
            ],
            [
             0.1111111111111111,
             "#46039f"
            ],
            [
             0.2222222222222222,
             "#7201a8"
            ],
            [
             0.3333333333333333,
             "#9c179e"
            ],
            [
             0.4444444444444444,
             "#bd3786"
            ],
            [
             0.5555555555555556,
             "#d8576b"
            ],
            [
             0.6666666666666666,
             "#ed7953"
            ],
            [
             0.7777777777777778,
             "#fb9f3a"
            ],
            [
             0.8888888888888888,
             "#fdca26"
            ],
            [
             1,
             "#f0f921"
            ]
           ],
           "sequentialminus": [
            [
             0,
             "#0d0887"
            ],
            [
             0.1111111111111111,
             "#46039f"
            ],
            [
             0.2222222222222222,
             "#7201a8"
            ],
            [
             0.3333333333333333,
             "#9c179e"
            ],
            [
             0.4444444444444444,
             "#bd3786"
            ],
            [
             0.5555555555555556,
             "#d8576b"
            ],
            [
             0.6666666666666666,
             "#ed7953"
            ],
            [
             0.7777777777777778,
             "#fb9f3a"
            ],
            [
             0.8888888888888888,
             "#fdca26"
            ],
            [
             1,
             "#f0f921"
            ]
           ]
          },
          "colorway": [
           "#636efa",
           "#EF553B",
           "#00cc96",
           "#ab63fa",
           "#FFA15A",
           "#19d3f3",
           "#FF6692",
           "#B6E880",
           "#FF97FF",
           "#FECB52"
          ],
          "font": {
           "color": "#2a3f5f"
          },
          "geo": {
           "bgcolor": "white",
           "lakecolor": "white",
           "landcolor": "white",
           "showlakes": true,
           "showland": true,
           "subunitcolor": "#C8D4E3"
          },
          "hoverlabel": {
           "align": "left"
          },
          "hovermode": "closest",
          "mapbox": {
           "style": "light"
          },
          "paper_bgcolor": "white",
          "plot_bgcolor": "white",
          "polar": {
           "angularaxis": {
            "gridcolor": "#EBF0F8",
            "linecolor": "#EBF0F8",
            "ticks": ""
           },
           "bgcolor": "white",
           "radialaxis": {
            "gridcolor": "#EBF0F8",
            "linecolor": "#EBF0F8",
            "ticks": ""
           }
          },
          "scene": {
           "xaxis": {
            "backgroundcolor": "white",
            "gridcolor": "#DFE8F3",
            "gridwidth": 2,
            "linecolor": "#EBF0F8",
            "showbackground": true,
            "ticks": "",
            "zerolinecolor": "#EBF0F8"
           },
           "yaxis": {
            "backgroundcolor": "white",
            "gridcolor": "#DFE8F3",
            "gridwidth": 2,
            "linecolor": "#EBF0F8",
            "showbackground": true,
            "ticks": "",
            "zerolinecolor": "#EBF0F8"
           },
           "zaxis": {
            "backgroundcolor": "white",
            "gridcolor": "#DFE8F3",
            "gridwidth": 2,
            "linecolor": "#EBF0F8",
            "showbackground": true,
            "ticks": "",
            "zerolinecolor": "#EBF0F8"
           }
          },
          "shapedefaults": {
           "line": {
            "color": "#2a3f5f"
           }
          },
          "ternary": {
           "aaxis": {
            "gridcolor": "#DFE8F3",
            "linecolor": "#A2B1C6",
            "ticks": ""
           },
           "baxis": {
            "gridcolor": "#DFE8F3",
            "linecolor": "#A2B1C6",
            "ticks": ""
           },
           "bgcolor": "white",
           "caxis": {
            "gridcolor": "#DFE8F3",
            "linecolor": "#A2B1C6",
            "ticks": ""
           }
          },
          "title": {
           "x": 0.05
          },
          "xaxis": {
           "automargin": true,
           "gridcolor": "#EBF0F8",
           "linecolor": "#EBF0F8",
           "ticks": "",
           "title": {
            "standoff": 15
           },
           "zerolinecolor": "#EBF0F8",
           "zerolinewidth": 2
          },
          "yaxis": {
           "automargin": true,
           "gridcolor": "#EBF0F8",
           "linecolor": "#EBF0F8",
           "ticks": "",
           "title": {
            "standoff": 15
           },
           "zerolinecolor": "#EBF0F8",
           "zerolinewidth": 2
          }
         }
        },
        "title": {
         "font": {
          "color": "Black",
          "size": 22
         },
         "text": "<b>Hierarchical Clustering</b>",
         "x": 0.5,
         "xanchor": "center",
         "yanchor": "top"
        },
        "width": 1000,
        "xaxis": {
         "mirror": "allticks",
         "rangemode": "tozero",
         "showgrid": false,
         "showline": true,
         "showticklabels": true,
         "ticks": "outside",
         "type": "linear",
         "zeroline": false
        },
        "yaxis": {
         "mirror": "allticks",
         "range": [
          -170,
          0
         ],
         "rangemode": "tozero",
         "showgrid": false,
         "showline": true,
         "showticklabels": true,
         "tickmode": "array",
         "ticks": "outside",
         "ticktext": [
          "15_students blm_students de...",
          "0_changes ncaa_texas footba...",
          "3_blm ut_ut blm_money blm",
          "16_black jerseys_jerseys_ut...",
          "14_jazz fans_jazz fan_mitch...",
          "13_blm founder_reaching blm...",
          "12_anarchist blm_blm libera...",
          "1_supporting blm_blm right_...",
          "2_blm protests_blm antifa_a...",
          "5_liz cheney_trump cheney_c...",
          "4_blacklivesmatter antifa_b...",
          "11_post mormons_utah_preexi...",
          "8_lake city_blacklivesmatte...",
          "9_blm rally_armed blm_armed...",
          "7_sen romney_romney_mitt ro...",
          "6_shot blm_innocents blm_bl...",
          "10_blm activist_sullivan bl..."
         ],
         "tickvals": [
          -5,
          -15,
          -25,
          -35,
          -45,
          -55,
          -65,
          -75,
          -85,
          -95,
          -105,
          -115,
          -125,
          -135,
          -145,
          -155,
          -165
         ],
         "type": "linear",
         "zeroline": false
        }
       }
      }
     },
     "metadata": {},
     "output_type": "display_data"
    }
   ],
   "source": [
    "topic_model.visualize_hierarchy(hierarchical_topics=hierarchical_topics)\n"
   ]
  },
  {
   "cell_type": "code",
   "execution_count": 94,
   "metadata": {},
   "outputs": [],
   "source": [
    "tree = topic_model.get_topic_tree(hierarchical_topics)"
   ]
  },
  {
   "cell_type": "code",
   "execution_count": 95,
   "metadata": {},
   "outputs": [
    {
     "name": "stdout",
     "output_type": "stream",
     "text": [
      ".\n",
      "├─racial gerrymandering_racial gerrymandering dont_racial gerrymandering dont deserve_voter suppressio\n",
      "│    ├─■──suppression andor racial gerrymandering_states voter suppression_states voter suppression andor_raci ── Topic: 50\n",
      "│    └─■──voter suppression states_voter suppression states dont_dont deserve athletes color_states dont deser ── Topic: 26\n",
      "└─blm movement_blm ut_ut blm_blm_support blm\n",
      "     ├─ut athletics_ut athletes_ut austin students_black students_black jerseys\n",
      "     │    ├─black students_black student_racial justice_racism_blacklivesmatter ut\n",
      "     │    │    ├─racistsexist government blm_black student_racistsexist government_black students_diversity community\n",
      "     │    │    │    ├─■──raise awareness race racism_recently shared thoughts blacklivesmatter_received streams donated black ── Topic: 18\n",
      "     │    │    │    └─■──project blm doing social_project blm doing_project blm_protests university supported black_black stu ── Topic: 20\n",
      "     │    │    └─racial justice_austin acknowledge racist_ut austin students_austin students ut_racism\n",
      "     │    │         ├─campus racism_blacklivesmatter ut austin_ut austin acknowledge racist_racial justice_austin acknowle\n",
      "     │    │         │    ├─■──votingrights blm blacklivesmatter_policing policies young black_policies young black_blm blacklivesm ── Topic: 6\n",
      "     │    │         │    └─campus racism_ut austin acknowledge racist_austin acknowledge racist_austin acknowledge racist histo\n",
      "     │    │         │         ├─■──naacp_racism ut_notjustforwhitepeople blacklivesmatter starttheconversation whiteprivilege_acknowled ── Topic: 5\n",
      "     │    │         │         └─■──racist ut_ut students_ut students sang_ut students dont racist_ut austin ── Topic: 9\n",
      "     │    │         └─■──protest tonight knoxvilleprotest blacklivesmatter_role black black americans_protest tonight_blackli ── Topic: 22\n",
      "     │    └─texas longhorns band_texas ut athletic_texas longhorns_eyes texas ut athletic_texas longhorns band r\n",
      "     │         ├─■──texas longhorns_texas longhorns band_texas ut athletic_texas longhorns band refuses_longhorns ── Topic: 33\n",
      "     │         └─■──black jerseys_wear black jerseys_offended wore black jerseys_offended ut football wants_ut wear ── Topic: 35\n",
      "     └─blm protesters_supporting blm_blm movement_blm ut_support blm\n",
      "          ├─supporting blm_blm antifa_think blm_antifa blm_blm movement\n",
      "          │    ├─blm folks_blm right_oh blm_blm_ut oh blm\n",
      "          │    │    ├─neighborhoods want blm_blm black_movement recent blm march_movement recent blm_needs come blacklives\n",
      "          │    │    │    ├─■──money blm think ut_money blm think_money black orgs_point blm entity political_money sv hollywood bl ── Topic: 46\n",
      "          │    │    │    └─blm black_money let pay blacklivesmatter_movement recent blm march_marches police injustice_movement\n",
      "          │    │    │         ├─■──blm black_ones saying blm_organization dequised caring blacks_ones saying blm ones_marxism blm ── Topic: 31\n",
      "          │    │    │         └─■──money let pay blacklivesmatter_let pay blacklivesmatter_people need blacklivesmatter_pay blacklivesm ── Topic: 47\n",
      "          │    │    └─ut oh blm_people southern ut_ut oh_oh blm_people tweeting ut\n",
      "          │    │         ├─■──sang ut blm_sang ut blm thought_participate round ut_originally sang ut blm_proper conflict resoluti ── Topic: 21\n",
      "          │    │         └─■──ut oh blm_seen riverdale ut today_political wont watching year_prediction storm_oh blm ── Topic: 15\n",
      "          │    └─blm antifa_antifa blm_supporting blm_blm movement_support blm\n",
      "          │         ├─supporting blm_dont support blm_support blm_blm movement_blm\n",
      "          │         │    ├─■──racist whoah really blm_pelosi spat blm_pelosi spat blm loving_racist post blacklivesmatter dr_racis ── Topic: 36\n",
      "          │         │    └─supporting blm_blm national anthem_blm movement_support blm_blm national\n",
      "          │         │         ├─supporting blm_blm national anthem_blm movement_blm booing_support blm\n",
      "          │         │         │    ├─ut blm_players boycott yesterday blm_blm movement_supporting blm_ut supporting\n",
      "          │         │         │    │    ├─■──racist ut release_protestors ut allow football_racist ut release players_quit buying tickets ut_ut b ── Topic: 11\n",
      "          │         │         │    │    └─■──blm movement_lets clear blm movement_money blm intent_money blm intent blm_lets clear blm ── Topic: 29\n",
      "          │         │         │    └─people think blm movement_knee blm_person involved blm_blm booing_people associating blm\n",
      "          │         │         │         ├─■──murder people blm protestand_murder people blm_people blm protestand_people blm protestand die_owner ── Topic: 13\n",
      "          │         │         │         └─■──person involved blm bullshit_oh blm going accuse_knee blm_oh blm going_black lives matter ── Topic: 14\n",
      "          │         │         └─■──professors dont support blm_university donate money_university donate_political movement blm organiz ── Topic: 16\n",
      "          │         └─supporting blm_blm antifa_antifa blm_support blm_blm movement\n",
      "          │              ├─supporting blm_blm antifa_antifa blm_blm movement_support blm\n",
      "          │              │    ├─blm rallies_blm antifa_antifa blm_blm antifa start_antifa start\n",
      "          │              │    │    ├─■──police blm started biden_planned agenda backs blm_republican_potus great rally_poc socialists practi ── Topic: 10\n",
      "          │              │    │    └─■──blm antifa_antifa blm_blm antifa start_nurses rioting looting antifa_antifa start ── Topic: 1\n",
      "          │              │    └─blm racist_supporting blm_equate supporting blm_blm movement_support blm\n",
      "          │              │         ├─supporting blm_blm racist_equate supporting blm_support blm_blm movement\n",
      "          │              │         │    ├─blm movement racism_supporting blm_equate supporting blm_support blm_donations blm\n",
      "          │              │         │    │    ├─■──blm racist_blm movement racism_dont support blm_blm dont_dont like blm ── Topic: 2\n",
      "          │              │         │    │    └─■──supporting blm_blm donations_equate supporting blm_donations blm_support blm ── Topic: 0\n",
      "          │              │         │    └─■──ut blm release_antifablm_ut support_ut blm release mother_using ut hahahalike communist ── Topic: 3\n",
      "          │              │         └─■──think blm_video nice blm hate_mob blm deemed_mob blm deemed fbi_video nice blm ── Topic: 4\n",
      "          │              └─makes okay blm asking_support blm_makes okay blm_blm trying_supported blm\n",
      "          │                   ├─■──makes okay blm asking_okay blm_makes okay blm_okay blm asking_okay blm asking just ── Topic: 49\n",
      "          │                   └─■──ppl support blm dont_publicly supported blm social_ppl support blm_publicly supported blm_supported  ── Topic: 51\n",
      "          └─blm protest_blm protests_blm protesters_ut blm_blm\n",
      "               ├─blm protest_blm protests_blm protesters_blm_blm rally\n",
      "               │    ├─reaching blm blm marxist_blm blm marxist antireligion_blm blm marxist_reaching blm_spend minutes rea\n",
      "               │    │    ├─reaching blm blm marxist_blm blm marxist_blm blm marxist antireligion_blm marxist_blm marxist antire\n",
      "               │    │    │    ├─■──confirmed liberal bor nominees_liberal bor nominees_senate confirmed liberal bor_romney_liberal bor  ── Topic: 45\n",
      "               │    │    │    └─■──reaching blm blm marxist_blm blm marxist antireligion_blm blm marxist_black lives matter organizatio ── Topic: 28\n",
      "               │    │    └─blacklivesmatter utah_black lives matter ut_utah_blacklivesmatter black lives_blacklivesmatter black\n",
      "               │    │         ├─blacklivesmatter utah_black lives matter ut_utah_mormon relatives got ut_youth deaths year utah\n",
      "               │    │         │    ├─■──blacklivesmatter utah_shame utahjazz blacklivesmatter just_shame utahjazz blacklivesmatter_protested ── Topic: 39\n",
      "               │    │         │    └─■──black lives matter ut_black lives matter_blacklivesmatter black lives matter_people black lives matt ── Topic: 24\n",
      "               │    │         └─■──protesters blacklivesmatter_protesters blacklivesmatter sir_protesters blacklivesmatter sir bash_pro ── Topic: 40\n",
      "               │    └─blm protests_blm protest_blm protesters_blm rally_blm did\n",
      "               │         ├─blm protests_blm protest_blm protesters_blm rally_canada threw blm got\n",
      "               │         │    ├─wy blm rally_blm rally_armed blm_rally later march_rally march\n",
      "               │         │    │    ├─■──racial injustice blacklivesmatter blm_racial injustice blacklivesmatter_racism deal_racism deal dail ── Topic: 34\n",
      "               │         │    │    └─wy blm rally march_wy blm rally_blm rally_armed blms_armed blm\n",
      "               │         │    │         ├─■──people antifa blm rioting_people antifa blm_platform natrona dems rally_natrona dems rally_millions  ── Topic: 32\n",
      "               │         │    │         └─■──wy blm rally march_blm rally later march_wy blm rally_blm rally march_blm rally later ── Topic: 7\n",
      "               │         │    └─blm protests_blm protest_blm protesters_canada threw blm got_america canada threw blm\n",
      "               │         │         ├─blm protests_blm protest_blm protesters_canada threw blm got_blm got\n",
      "               │         │         │    ├─canada threw blm got_blm got_america canada threw blm_canada threw blm_blm got time wake\n",
      "               │         │         │    │    ├─■──protests taking place nyc_protests taking place_protests taking_officers killed_protests past months ── Topic: 42\n",
      "               │         │         │    │    └─■──blm got time wake_wake white man_blacks taking blame obama_canada threw blm got_wake white man got ── Topic: 37\n",
      "               │         │         │    └─blm protesters_blm protests_blm protest_protesting blm_police blm\n",
      "               │         │         │         ├─protest tired blm_protested blm movement_blm protesters_protest tired blm carlson_people disassociat\n",
      "               │         │         │         │    ├─■──proved blm protesters_proved blm protesters right_ppl protecting city blm_protecting city blm bbut_p ── Topic: 43\n",
      "               │         │         │         │    └─■──protested blm movement_protest tired blm_protested blm movement tells_riots aggressive blm protests_ ── Topic: 23\n",
      "               │         │         │         └─protesting blm theres_protesting blm theres blm_blm protest_blm protesters_protesting blm\n",
      "               │         │         │              ├─■──police blm protest_blm protest_police blm protest shot_posing blm protesters_protest blm organizer ── Topic: 25\n",
      "               │         │         │              └─■──protesting blm theres_protest really doesnt blm_protesting blm theres blm_protesting blm_protest sup ── Topic: 12\n",
      "               │         │         └─blm antifa riots_antifa riots_peaceful blm antifa_riots_peaceful protesters democratic\n",
      "               │         │              ├─■──quiet blm antifa riots_blm antifa riots_peaceful blm antifa riots_okay antifa blm riot_antifa riots ── Topic: 44\n",
      "               │         │              └─■──protest blm loots_protesters arent rioters smh_protesters arent rioters_reality rioters assaulting_r ── Topic: 48\n",
      "               │         └─blm protest_blacklivesmatter protests_protests_protest_protest fuck12 slc folks\n",
      "               │              ├─■──possible blaming blm protesters_protest riot yes_protest riot yes really_protest downtown slc ut_pro ── Topic: 30\n",
      "               │              └─blacklivesmatter protests_protests slc ut blacklivesmatter_party live blm protest_passed blm started\n",
      "               │                   ├─■──repulsive mormon romney alwaya_blm did_romney ut happy utah_romney working_repulsive mormon romney ── Topic: 38\n",
      "               │                   └─■──blacklivesmatter protests_preceded blacklivesmatter protests_preceded blacklivesmatter protests let_ ── Topic: 19\n",
      "               └─stop killing innocents blm_innocents blm terrotrists shooting_killing innocents blm_killing innocent\n",
      "                    ├─john sullivan blm_john sullivan blm ut_sullivan blm_blm activist_sullivan blm ut\n",
      "                    │    ├─■──mentioned blm activist_merely mentioned blm activist_mentioned blm activist slc_peaceful blm protest ── Topic: 17\n",
      "                    │    └─■──john sullivan blm ut_john sullivan blm_police blm activist john_sullivan blm_sullivan blm ut ── Topic: 27\n",
      "                    └─stop killing innocents blm_innocents blm terrotrists shooting_killing innocents blm_killing innocent\n",
      "                         ├─■──protesters got shot blm_blm antifa_blm activist arrested shooting_shot blm_blm protester ── Topic: 8\n",
      "                         └─■──stop killing innocents blm_innocents blm terrotrists shooting_killing innocents blm_killing innocent ── Topic: 41\n",
      "\n"
     ]
    }
   ],
   "source": [
    "print(tree)"
   ]
  },
  {
   "cell_type": "code",
   "execution_count": 33,
   "metadata": {},
   "outputs": [],
   "source": [
    "topics_to_merge = [2,3,8, 19, 9,4 , 12,]\n",
    "topic_model.merge_topics(docs, topics_to_merge)"
   ]
  }
 ],
 "metadata": {
  "kernelspec": {
   "display_name": ".venv",
   "language": "python",
   "name": "python3"
  },
  "language_info": {
   "codemirror_mode": {
    "name": "ipython",
    "version": 3
   },
   "file_extension": ".py",
   "mimetype": "text/x-python",
   "name": "python",
   "nbconvert_exporter": "python",
   "pygments_lexer": "ipython3",
   "version": "3.10.7"
  },
  "orig_nbformat": 4
 },
 "nbformat": 4,
 "nbformat_minor": 2
}
