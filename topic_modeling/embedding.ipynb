{
 "cells": [
  {
   "cell_type": "code",
   "execution_count": 2,
   "metadata": {},
   "outputs": [],
   "source": [
    "import pandas as pd\n",
    "import numpy as np\n",
    "import re\n",
    "import pickle\n",
    "from tqdm.auto import tqdm\n",
    "from bertopic import BERTopic\n",
    "from sentence_transformers import SentenceTransformer\n",
    "from sklearn.feature_extraction.text import CountVectorizer\n",
    "from bertopic.vectorizers import ClassTfidfTransformer\n",
    "from bertopic.representation import KeyBERTInspired\n",
    "from umap import UMAP\n",
    "from hdbscan import HDBSCAN\n",
    "from sklearn.decomposition import PCA"
   ]
  },
  {
   "attachments": {},
   "cell_type": "markdown",
   "metadata": {},
   "source": [
    "# Minimal Cleaning\n"
   ]
  },
  {
   "cell_type": "code",
   "execution_count": 2,
   "metadata": {},
   "outputs": [],
   "source": [
    "df = pd.read_parquet(r\"C:\\Users\\fashaikh\\Desktop\\Thesis_main\\topic_modeling.parquet\")"
   ]
  },
  {
   "cell_type": "code",
   "execution_count": 3,
   "metadata": {},
   "outputs": [],
   "source": [
    "def clean_tweet(text):\n",
    "    # Remove mentions\n",
    "    text = re.sub(r\"@user\", \"\", text)\n",
    "\n",
    "    # Remove URLs\n",
    "    text = re.sub(r\"http\", \"\", text)\n",
    "\n",
    "    # Remove extra whitespaces\n",
    "    text = re.sub(r\"\\s+\", \" \", text).strip()\n",
    "\n",
    "    # Remove leading whitespaces\n",
    "    text = re.sub(r\"^\\s+\", \"\", text)\n",
    "\n",
    "    # Replace &amp; with and\n",
    "    text = re.sub(r\"&amp;\", \"and\", text)\n",
    "\n",
    "    return text"
   ]
  },
  {
   "cell_type": "code",
   "execution_count": 4,
   "metadata": {},
   "outputs": [],
   "source": [
    "df[\"clean\"] = df[\"cleanedContent\"].apply(clean_tweet)"
   ]
  },
  {
   "cell_type": "code",
   "execution_count": 7,
   "metadata": {},
   "outputs": [],
   "source": [
    "df = df[[\"id\", \"category\", \"clean\"]]"
   ]
  },
  {
   "cell_type": "code",
   "execution_count": 8,
   "metadata": {},
   "outputs": [],
   "source": [
    "df.to_parquet(r\"C:\\Users\\fashaikh\\Desktop\\Thesis_main\\minimal_cleaned.parquet\")"
   ]
  },
  {
   "attachments": {},
   "cell_type": "markdown",
   "metadata": {},
   "source": [
    "# Precompute Embeddings\n"
   ]
  },
  {
   "cell_type": "code",
   "execution_count": 2,
   "metadata": {},
   "outputs": [],
   "source": [
    "df = pd.read_parquet(r\"C:\\Users\\fashaikh\\Desktop\\Thesis_main\\minimal_cleaned.parquet\")"
   ]
  },
  {
   "cell_type": "code",
   "execution_count": 3,
   "metadata": {},
   "outputs": [],
   "source": [
    "df = df[df['category'] == 'Big Cities']\n",
    "df = df.drop_duplicates(subset=['clean'])"
   ]
  },
  {
   "cell_type": "code",
   "execution_count": 6,
   "metadata": {},
   "outputs": [],
   "source": [
    "docs = df['clean'].to_list()"
   ]
  },
  {
   "cell_type": "code",
   "execution_count": 12,
   "metadata": {},
   "outputs": [],
   "source": [
    "sentence_model = SentenceTransformer(\"all-MiniLM-L6-v2\", device=\"cuda\")"
   ]
  },
  {
   "cell_type": "code",
   "execution_count": 13,
   "metadata": {},
   "outputs": [
    {
     "data": {
      "application/vnd.jupyter.widget-view+json": {
       "model_id": "eb42dffb7d6b4950a7eac614e4f87392",
       "version_major": 2,
       "version_minor": 0
      },
      "text/plain": [
       "Batches:   0%|          | 0/5699 [00:00<?, ?it/s]"
      ]
     },
     "metadata": {},
     "output_type": "display_data"
    }
   ],
   "source": [
    "embeddings = sentence_model.encode(df, show_progress_bar=True, convert_to_numpy=True)"
   ]
  },
  {
   "cell_type": "code",
   "execution_count": 14,
   "metadata": {},
   "outputs": [],
   "source": [
    "np.save(\"exurbs_embeddings.npy\", embeddings)"
   ]
  },
  {
   "attachments": {},
   "cell_type": "markdown",
   "metadata": {},
   "source": [
    "# Rescaling embeddings with PCA\n"
   ]
  },
  {
   "cell_type": "code",
   "execution_count": 2,
   "metadata": {},
   "outputs": [],
   "source": [
    "embeddings = np.load(r\"C:\\Users\\fashaikh\\Desktop\\Thesis_main\\thesis\\topic_modeling\\big_cities_embeddings.npy\")"
   ]
  },
  {
   "cell_type": "code",
   "execution_count": 3,
   "metadata": {},
   "outputs": [],
   "source": [
    "def rescale(x, inplace=False):\n",
    "    \"\"\"Rescale an embedding so optimization will not have convergence issues.\"\"\"\n",
    "    if not inplace:\n",
    "        x = np.array(x, copy=True)\n",
    "\n",
    "    x /= np.std(x[:, 0]) * 10000\n",
    "\n",
    "    return x"
   ]
  },
  {
   "cell_type": "code",
   "execution_count": 4,
   "metadata": {},
   "outputs": [],
   "source": [
    "# Initialize and rescale PCA embeddings\n",
    "pca_embeddings = rescale(PCA(n_components=5).fit_transform(embeddings))"
   ]
  },
  {
   "cell_type": "code",
   "execution_count": 5,
   "metadata": {},
   "outputs": [],
   "source": [
    "np.save(\"pca_embeddings_big_cities.npy\", pca_embeddings)"
   ]
  },
  {
   "attachments": {},
   "cell_type": "markdown",
   "metadata": {},
   "source": [
    "# Topic Modeling\n"
   ]
  },
  {
   "cell_type": "code",
   "execution_count": 2,
   "metadata": {},
   "outputs": [],
   "source": [
    "# pca_embeddings = np.load(\"pca_embeddings.npy\")\n",
    "embeddings = np.load(r\"C:\\Users\\fashaikh\\Desktop\\Thesis_main\\embeddings.npy\")"
   ]
  },
  {
   "cell_type": "markdown",
   "metadata": {},
   "source": [
    "Base Topic Model\n"
   ]
  },
  {
   "cell_type": "code",
   "execution_count": 7,
   "metadata": {},
   "outputs": [],
   "source": [
    "vectorizer_model = CountVectorizer(ngram_range=(1, 2), stop_words=\"english\", min_df=50)\n",
    "ctfidf_model = ClassTfidfTransformer(reduce_frequent_words=True)\n",
    "representation_model = KeyBERTInspired()\n",
    "\n",
    "# Start UMAP from PCA embeddings\n",
    "umap_model = UMAP(\n",
    "    n_neighbors=15,\n",
    "    n_components=5,\n",
    "    min_dist=0.0,\n",
    "    metric=\"cosine\",\n",
    "    unique=True,\n",
    "    init=pca_embeddings,\n",
    "    random_state=42,\n",
    ")\n",
    "\n",
    "topic_model = BERTopic(\n",
    "    umap_model=umap_model,\n",
    "    vectorizer_model=vectorizer_model,\n",
    "    ctfidf_model=ctfidf_model,\n",
    "    representation_model=representation_model,\n",
    "    low_memory=True,\n",
    "    verbose=True,\n",
    "    calculate_probabilities=False,\n",
    ")"
   ]
  },
  {
   "cell_type": "code",
   "execution_count": 8,
   "metadata": {},
   "outputs": [
    {
     "data": {
      "application/vnd.jupyter.widget-view+json": {
       "model_id": "ce33bc2ad13e4d7aa1e3946dc1bb2faa",
       "version_major": 2,
       "version_minor": 0
      },
      "text/plain": [
       "Batches:   0%|          | 0/146440 [00:00<?, ?it/s]"
      ]
     },
     "metadata": {},
     "output_type": "display_data"
    },
    {
     "name": "stderr",
     "output_type": "stream",
     "text": [
      "2023-07-09 14:03:39,897 - BERTopic - Transformed documents to Embeddings\n"
     ]
    }
   ],
   "source": [
    "topics, _ = topic_model.fit_transform(df[\"clean\"])"
   ]
  },
  {
   "cell_type": "code",
   "execution_count": null,
   "metadata": {},
   "outputs": [],
   "source": [
    "topic_model.get_topic_info()"
   ]
  },
  {
   "cell_type": "code",
   "execution_count": null,
   "metadata": {},
   "outputs": [],
   "source": [
    "topic_model.get_topic(0)"
   ]
  },
  {
   "cell_type": "code",
   "execution_count": null,
   "metadata": {},
   "outputs": [],
   "source": [
    "topic_model.get_document_info(text)"
   ]
  },
  {
   "cell_type": "code",
   "execution_count": null,
   "metadata": {},
   "outputs": [],
   "source": [
    "topic_model.visualize_topics()"
   ]
  },
  {
   "cell_type": "code",
   "execution_count": null,
   "metadata": {},
   "outputs": [],
   "source": [
    "topic_model.visualize_heatmap()"
   ]
  },
  {
   "cell_type": "code",
   "execution_count": null,
   "metadata": {},
   "outputs": [],
   "source": [
    "topic_model.save(\n",
    "    \"path/to/my/model_dir\",\n",
    "    serialization=\"safetensors\",\n",
    "    save_ctfidf=True,\n",
    "    save_embedding_model=sentence_model,\n",
    ")"
   ]
  },
  {
   "cell_type": "markdown",
   "metadata": {},
   "source": [
    "# Manual Topic Modeling"
   ]
  },
  {
   "cell_type": "code",
   "execution_count": 28,
   "metadata": {},
   "outputs": [],
   "source": [
    "df = pd.read_parquet(r\"C:\\Users\\fashaikh\\Desktop\\Thesis_main\\minimal_cleaned.parquet\")"
   ]
  },
  {
   "cell_type": "code",
   "execution_count": 29,
   "metadata": {},
   "outputs": [],
   "source": [
    "category_mapping = {\n",
    "    0: \"Big Cities\",\n",
    "    1: \"Exurbs\",\n",
    "    2: \"Rural Middle America\",\n",
    "    3: \"Evangelical Hubs\",\n",
    "    4: \"Graying America\",\n",
    "    5: \"Middle Suburbs\",\n",
    "    6: \"College Towns\",\n",
    "    7: \"Urban Suburbs\",\n",
    "    8: \"Hispanic Centers\",\n",
    "    9: \"Working Class Country\",\n",
    "    10: \"African American South\",\n",
    "    11: \"Aging Farmlands\",\n",
    "    12: \"Military Posts\",\n",
    "    13: \"Native American Lands\",\n",
    "    14: \"LDS Enclaves\",\n",
    "}\n",
    "df['target'] = df['category'].map({v: k for k, v in category_mapping.items()})"
   ]
  },
  {
   "cell_type": "code",
   "execution_count": 30,
   "metadata": {},
   "outputs": [],
   "source": [
    "docs = df['clean'].to_list()\n",
    "y = df['target'].to_list()"
   ]
  },
  {
   "cell_type": "code",
   "execution_count": 31,
   "metadata": {},
   "outputs": [
    {
     "name": "stderr",
     "output_type": "stream",
     "text": [
      "2023-07-09 16:50:57,049 - BERTopic - Transformed documents to Embeddings\n",
      "2023-07-09 16:50:57,050 - BERTopic - The dimensionality reduction algorithm did not contain the `y` parameter and therefore the `y` parameter was not used\n",
      "2023-07-09 16:50:57,050 - BERTopic - Reduced dimensionality\n",
      "2023-07-09 16:50:57,989 - BERTopic - Clustered reduced embeddings\n"
     ]
    }
   ],
   "source": [
    "from bertopic import BERTopic\n",
    "from bertopic.backend import BaseEmbedder\n",
    "from bertopic.cluster import BaseCluster\n",
    "from bertopic.vectorizers import ClassTfidfTransformer\n",
    "from bertopic.dimensionality import BaseDimensionalityReduction\n",
    "\n",
    "# Prepare our empty sub-models and reduce frequent words while we are at it.\n",
    "empty_embedding_model = BaseEmbedder()\n",
    "empty_dimensionality_model = BaseDimensionalityReduction()\n",
    "empty_cluster_model = BaseCluster()\n",
    "ctfidf_model = ClassTfidfTransformer(reduce_frequent_words=True)\n",
    "vectorizer_model = CountVectorizer(ngram_range=(1, 2), stop_words=\"english\")\n",
    "\n",
    "# Fit BERTopic without actually performing any clustering\n",
    "topic_model= BERTopic(\n",
    "        embedding_model=empty_embedding_model,\n",
    "        umap_model=empty_dimensionality_model,\n",
    "        hdbscan_model=empty_cluster_model,\n",
    "        ctfidf_model=ctfidf_model,\n",
    "        vectorizer_model=vectorizer_model\n",
    ")\n",
    "topics, probs = topic_model.fit_transform(docs, y=y)\n"
   ]
  },
  {
   "cell_type": "code",
   "execution_count": 32,
   "metadata": {},
   "outputs": [
    {
     "data": {
      "text/html": [
       "<div>\n",
       "<style scoped>\n",
       "    .dataframe tbody tr th:only-of-type {\n",
       "        vertical-align: middle;\n",
       "    }\n",
       "\n",
       "    .dataframe tbody tr th {\n",
       "        vertical-align: top;\n",
       "    }\n",
       "\n",
       "    .dataframe thead th {\n",
       "        text-align: right;\n",
       "    }\n",
       "</style>\n",
       "<table border=\"1\" class=\"dataframe\">\n",
       "  <thead>\n",
       "    <tr style=\"text-align: right;\">\n",
       "      <th></th>\n",
       "      <th>Topic</th>\n",
       "      <th>Count</th>\n",
       "      <th>Name</th>\n",
       "      <th>Representation</th>\n",
       "      <th>Representative_Docs</th>\n",
       "      <th>Class</th>\n",
       "    </tr>\n",
       "  </thead>\n",
       "  <tbody>\n",
       "    <tr>\n",
       "      <th>0</th>\n",
       "      <td>0</td>\n",
       "      <td>3004707</td>\n",
       "      <td>0_blacklivesmatter_blm_black_people</td>\n",
       "      <td>[blacklivesmatter, blm, black, people, police,...</td>\n",
       "      <td>[hey District reassigned a middle school teach...</td>\n",
       "      <td>Big Cities</td>\n",
       "    </tr>\n",
       "    <tr>\n",
       "      <th>1</th>\n",
       "      <td>1</td>\n",
       "      <td>688950</td>\n",
       "      <td>1_blacklivesmatter_people_black_don</td>\n",
       "      <td>[blacklivesmatter, people, black, don, justice...</td>\n",
       "      <td>[SAY THEIR NAMES! george floyd trayvon martin ...</td>\n",
       "      <td>Exurbs</td>\n",
       "    </tr>\n",
       "    <tr>\n",
       "      <th>2</th>\n",
       "      <td>2</td>\n",
       "      <td>275735</td>\n",
       "      <td>2_oh_blm_antifa_ny</td>\n",
       "      <td>[oh, blm, antifa, ny, like, people, blm antifa...</td>\n",
       "      <td>[Hi could you please sign and share this petit...</td>\n",
       "      <td>Rural Middle America</td>\n",
       "    </tr>\n",
       "    <tr>\n",
       "      <th>3</th>\n",
       "      <td>3</td>\n",
       "      <td>140394</td>\n",
       "      <td>3_ok_al_blm_antifa</td>\n",
       "      <td>[ok, al, blm, antifa, ok blm, ar, sharpton, al...</td>\n",
       "      <td>[Right. You people!?🤦🏽‍♀️ saying you don’t sup...</td>\n",
       "      <td>Evangelical Hubs</td>\n",
       "    </tr>\n",
       "    <tr>\n",
       "      <th>4</th>\n",
       "      <td>4</td>\n",
       "      <td>128348</td>\n",
       "      <td>4_ca_blm_id_antifa</td>\n",
       "      <td>[ca, blm, id, antifa, like, people, just, don,...</td>\n",
       "      <td>[I don't vote R and I support equality, but yo...</td>\n",
       "      <td>Graying America</td>\n",
       "    </tr>\n",
       "    <tr>\n",
       "      <th>5</th>\n",
       "      <td>5</td>\n",
       "      <td>104128</td>\n",
       "      <td>5_blm_antifa_like_people</td>\n",
       "      <td>[blm, antifa, like, people, don, tell, just, w...</td>\n",
       "      <td>[I support the protestors (NOT the rioters) wh...</td>\n",
       "      <td>Middle Suburbs</td>\n",
       "    </tr>\n",
       "    <tr>\n",
       "      <th>6</th>\n",
       "      <td>6</td>\n",
       "      <td>81498</td>\n",
       "      <td>6_ny_ar_blm_ms</td>\n",
       "      <td>[ny, ar, blm, ms, antifa, ar 15, 15, tx, ky, a...</td>\n",
       "      <td>[Another little trump supporter with an AR 15 ...</td>\n",
       "      <td>College Towns</td>\n",
       "    </tr>\n",
       "    <tr>\n",
       "      <th>7</th>\n",
       "      <td>7</td>\n",
       "      <td>65176</td>\n",
       "      <td>7_hi_blm_tx_antifa</td>\n",
       "      <td>[hi, blm, tx, antifa, blacklivesmatter hi, ant...</td>\n",
       "      <td>[Totalitarianism in all forms is Evil! All Fai...</td>\n",
       "      <td>Urban Suburbs</td>\n",
       "    </tr>\n",
       "    <tr>\n",
       "      <th>8</th>\n",
       "      <td>8</td>\n",
       "      <td>60391</td>\n",
       "      <td>8_ar_ar 15_15_blm</td>\n",
       "      <td>[ar, ar 15, 15, blm, antifa, tx, antifa blm, w...</td>\n",
       "      <td>[Best if viewed on Desktop or to your home the...</td>\n",
       "      <td>Hispanic Centers</td>\n",
       "    </tr>\n",
       "    <tr>\n",
       "      <th>9</th>\n",
       "      <td>9</td>\n",
       "      <td>54507</td>\n",
       "      <td>9_oh_ar_ar 15_15</td>\n",
       "      <td>[oh, ar, ar 15, 15, blm oh, blm, tn, oh right,...</td>\n",
       "      <td>[ATTN: suburban and urban women, children, and...</td>\n",
       "      <td>Working Class Country</td>\n",
       "    </tr>\n",
       "    <tr>\n",
       "      <th>10</th>\n",
       "      <td>10</td>\n",
       "      <td>39954</td>\n",
       "      <td>10_al_ar_sharpton_al sharpton</td>\n",
       "      <td>[al, ar, sharpton, al sharpton, sc, et al, ms,...</td>\n",
       "      <td>[IG - Darius Kirk / dee_kay3120 /mr.photogenic...</td>\n",
       "      <td>African American South</td>\n",
       "    </tr>\n",
       "    <tr>\n",
       "      <th>11</th>\n",
       "      <td>11</td>\n",
       "      <td>19731</td>\n",
       "      <td>11_ne_tx_sd_nd</td>\n",
       "      <td>[ne, tx, sd, nd, mt, ks, mn, blm, antifa, austin]</td>\n",
       "      <td>[I am writing in hopes that will support our c...</td>\n",
       "      <td>Aging Farmlands</td>\n",
       "    </tr>\n",
       "    <tr>\n",
       "      <th>12</th>\n",
       "      <td>12</td>\n",
       "      <td>14067</td>\n",
       "      <td>12_tx_nc_fl_ga</td>\n",
       "      <td>[tx, nc, fl, ga, blm, austin, austin tx, texas...</td>\n",
       "      <td>[I am writing in hopes that will support our c...</td>\n",
       "      <td>Military Posts</td>\n",
       "    </tr>\n",
       "    <tr>\n",
       "      <th>13</th>\n",
       "      <td>13</td>\n",
       "      <td>5575</td>\n",
       "      <td>13_nc_sd_charlotte_raleigh</td>\n",
       "      <td>[nc, sd, charlotte, raleigh, charlotte nc, blm...</td>\n",
       "      <td>[Voter suppress states (many racially gerryman...</td>\n",
       "      <td>Native American Lands</td>\n",
       "    </tr>\n",
       "    <tr>\n",
       "      <th>14</th>\n",
       "      <td>14</td>\n",
       "      <td>2910</td>\n",
       "      <td>14_ut_wy_wild_wild horses</td>\n",
       "      <td>[ut, wy, wild, wild horses, horses, occidental...</td>\n",
       "      <td>[WY BLM pushes Wild Horse Extermination Plan t...</td>\n",
       "      <td>LDS Enclaves</td>\n",
       "    </tr>\n",
       "  </tbody>\n",
       "</table>\n",
       "</div>"
      ],
      "text/plain": [
       "    Topic    Count                                 Name  \\\n",
       "0       0  3004707  0_blacklivesmatter_blm_black_people   \n",
       "1       1   688950  1_blacklivesmatter_people_black_don   \n",
       "2       2   275735                   2_oh_blm_antifa_ny   \n",
       "3       3   140394                   3_ok_al_blm_antifa   \n",
       "4       4   128348                   4_ca_blm_id_antifa   \n",
       "5       5   104128             5_blm_antifa_like_people   \n",
       "6       6    81498                       6_ny_ar_blm_ms   \n",
       "7       7    65176                   7_hi_blm_tx_antifa   \n",
       "8       8    60391                    8_ar_ar 15_15_blm   \n",
       "9       9    54507                     9_oh_ar_ar 15_15   \n",
       "10     10    39954        10_al_ar_sharpton_al sharpton   \n",
       "11     11    19731                       11_ne_tx_sd_nd   \n",
       "12     12    14067                       12_tx_nc_fl_ga   \n",
       "13     13     5575           13_nc_sd_charlotte_raleigh   \n",
       "14     14     2910            14_ut_wy_wild_wild horses   \n",
       "\n",
       "                                       Representation  \\\n",
       "0   [blacklivesmatter, blm, black, people, police,...   \n",
       "1   [blacklivesmatter, people, black, don, justice...   \n",
       "2   [oh, blm, antifa, ny, like, people, blm antifa...   \n",
       "3   [ok, al, blm, antifa, ok blm, ar, sharpton, al...   \n",
       "4   [ca, blm, id, antifa, like, people, just, don,...   \n",
       "5   [blm, antifa, like, people, don, tell, just, w...   \n",
       "6   [ny, ar, blm, ms, antifa, ar 15, 15, tx, ky, a...   \n",
       "7   [hi, blm, tx, antifa, blacklivesmatter hi, ant...   \n",
       "8   [ar, ar 15, 15, blm, antifa, tx, antifa blm, w...   \n",
       "9   [oh, ar, ar 15, 15, blm oh, blm, tn, oh right,...   \n",
       "10  [al, ar, sharpton, al sharpton, sc, et al, ms,...   \n",
       "11  [ne, tx, sd, nd, mt, ks, mn, blm, antifa, austin]   \n",
       "12  [tx, nc, fl, ga, blm, austin, austin tx, texas...   \n",
       "13  [nc, sd, charlotte, raleigh, charlotte nc, blm...   \n",
       "14  [ut, wy, wild, wild horses, horses, occidental...   \n",
       "\n",
       "                                  Representative_Docs                   Class  \n",
       "0   [hey District reassigned a middle school teach...              Big Cities  \n",
       "1   [SAY THEIR NAMES! george floyd trayvon martin ...                  Exurbs  \n",
       "2   [Hi could you please sign and share this petit...    Rural Middle America  \n",
       "3   [Right. You people!?🤦🏽‍♀️ saying you don’t sup...        Evangelical Hubs  \n",
       "4   [I don't vote R and I support equality, but yo...         Graying America  \n",
       "5   [I support the protestors (NOT the rioters) wh...          Middle Suburbs  \n",
       "6   [Another little trump supporter with an AR 15 ...           College Towns  \n",
       "7   [Totalitarianism in all forms is Evil! All Fai...           Urban Suburbs  \n",
       "8   [Best if viewed on Desktop or to your home the...        Hispanic Centers  \n",
       "9   [ATTN: suburban and urban women, children, and...   Working Class Country  \n",
       "10  [IG - Darius Kirk / dee_kay3120 /mr.photogenic...  African American South  \n",
       "11  [I am writing in hopes that will support our c...         Aging Farmlands  \n",
       "12  [I am writing in hopes that will support our c...          Military Posts  \n",
       "13  [Voter suppress states (many racially gerryman...   Native American Lands  \n",
       "14  [WY BLM pushes Wild Horse Extermination Plan t...            LDS Enclaves  "
      ]
     },
     "execution_count": 32,
     "metadata": {},
     "output_type": "execute_result"
    }
   ],
   "source": [
    "# Assign original classes to our topics\n",
    "df = topic_model.get_topic_info()\n",
    "df[\"Class\"] = df.Topic.map(category_mapping)\n",
    "df\n"
   ]
  },
  {
   "cell_type": "markdown",
   "metadata": {},
   "source": [
    "# Topic Modeling per class"
   ]
  },
  {
   "cell_type": "code",
   "execution_count": 165,
   "metadata": {},
   "outputs": [],
   "source": [
    "df = pd.read_parquet(r\"C:\\Users\\fashaikh\\Desktop\\Thesis_main\\minimal_cleaned.parquet\")\n",
    "df.drop_duplicates(subset=['id'], inplace=True)\n",
    "df = df[df['category'] == 'Exurbs']\n",
    "df.drop_duplicates(subset=['clean'], inplace=True)"
   ]
  },
  {
   "cell_type": "code",
   "execution_count": 166,
   "metadata": {},
   "outputs": [],
   "source": [
    "df = df['clean'].to_list()"
   ]
  },
  {
   "cell_type": "code",
   "execution_count": 167,
   "metadata": {},
   "outputs": [],
   "source": [
    "vectorizer_model = CountVectorizer(ngram_range=(1, 2), stop_words=\"english\")\n",
    "ctfidf_model = ClassTfidfTransformer(reduce_frequent_words=True)\n",
    "representation_model = KeyBERTInspired()\n",
    "\n",
    "umap_model = UMAP(n_neighbors=15, n_components=10, metric='cosine', random_state=42)\n",
    "\n",
    "hdbscan_model = HDBSCAN(min_cluster_size=5, metric='euclidean', prediction_data=True)\n",
    "\n",
    "topic_model = BERTopic(nr_topics='auto',\n",
    "                        top_n_words=5,\n",
    "                        umap_model=umap_model,\n",
    "                        hdbscan_model=hdbscan_model,\n",
    "                        vectorizer_model=vectorizer_model,\n",
    "                        ctfidf_model=ctfidf_model,\n",
    "                        representation_model=representation_model,\n",
    "                        verbose=True,\n",
    ")"
   ]
  },
  {
   "cell_type": "code",
   "execution_count": 168,
   "metadata": {},
   "outputs": [
    {
     "data": {
      "application/vnd.jupyter.widget-view+json": {
       "model_id": "9ea52e1893094ef2a1bcabd4e3e165f2",
       "version_major": 2,
       "version_minor": 0
      },
      "text/plain": [
       "Batches:   0%|          | 0/5699 [00:00<?, ?it/s]"
      ]
     },
     "metadata": {},
     "output_type": "display_data"
    },
    {
     "name": "stderr",
     "output_type": "stream",
     "text": [
      "2023-08-13 18:58:38,994 - BERTopic - Transformed documents to Embeddings\n",
      "2023-08-13 19:02:39,746 - BERTopic - Reduced dimensionality\n",
      "2023-08-13 19:03:11,198 - BERTopic - Clustered reduced embeddings\n",
      "2023-08-13 19:19:15,848 - BERTopic - Reduced number of topics from 2052 to 1515\n"
     ]
    }
   ],
   "source": [
    "topics, probs = topic_model.fit_transform(df)"
   ]
  },
  {
   "cell_type": "code",
   "execution_count": 169,
   "metadata": {},
   "outputs": [
    {
     "data": {
      "text/html": [
       "<div>\n",
       "<style scoped>\n",
       "    .dataframe tbody tr th:only-of-type {\n",
       "        vertical-align: middle;\n",
       "    }\n",
       "\n",
       "    .dataframe tbody tr th {\n",
       "        vertical-align: top;\n",
       "    }\n",
       "\n",
       "    .dataframe thead th {\n",
       "        text-align: right;\n",
       "    }\n",
       "</style>\n",
       "<table border=\"1\" class=\"dataframe\">\n",
       "  <thead>\n",
       "    <tr style=\"text-align: right;\">\n",
       "      <th></th>\n",
       "      <th>Topic</th>\n",
       "      <th>Count</th>\n",
       "      <th>Name</th>\n",
       "      <th>Representation</th>\n",
       "      <th>Representative_Docs</th>\n",
       "    </tr>\n",
       "  </thead>\n",
       "  <tbody>\n",
       "    <tr>\n",
       "      <th>0</th>\n",
       "      <td>-1</td>\n",
       "      <td>100995</td>\n",
       "      <td>-1_blm protesters_blacklivesmatter blm_blm bla...</td>\n",
       "      <td>[blm protesters, blacklivesmatter blm, blm bla...</td>\n",
       "      <td>[I’ve just been so fucking uncomfortable these...</td>\n",
       "    </tr>\n",
       "    <tr>\n",
       "      <th>1</th>\n",
       "      <td>0</td>\n",
       "      <td>3129</td>\n",
       "      <td>0_unfollow blm_unfollowed blm_blm unfollow_unf...</td>\n",
       "      <td>[unfollow blm, unfollowed blm, blm unfollow, u...</td>\n",
       "      <td>[if u are unfollowing me bc i’m retweeting blm...</td>\n",
       "    </tr>\n",
       "    <tr>\n",
       "      <th>2</th>\n",
       "      <td>1</td>\n",
       "      <td>2132</td>\n",
       "      <td>1_floyd justice_floyd blacklivesmatter_floyd m...</td>\n",
       "      <td>[floyd justice, floyd blacklivesmatter, floyd ...</td>\n",
       "      <td>[an innocent black cnn reporter gets arrested ...</td>\n",
       "    </tr>\n",
       "    <tr>\n",
       "      <th>3</th>\n",
       "      <td>2</td>\n",
       "      <td>1987</td>\n",
       "      <td>2_shes blm_blm shes_posted blm_shes protesting</td>\n",
       "      <td>[shes blm, blm shes, posted blm, shes protesti...</td>\n",
       "      <td>[shes trying for the ‘i dnt have enough info r...</td>\n",
       "    </tr>\n",
       "    <tr>\n",
       "      <th>4</th>\n",
       "      <td>3</td>\n",
       "      <td>1967</td>\n",
       "      <td>3_tweeting blacklivesmatter_blacklivesmatter t...</td>\n",
       "      <td>[tweeting blacklivesmatter, blacklivesmatter t...</td>\n",
       "      <td>[IMPORTANT‼️ Instead of tweeting #BlackLivesMa...</td>\n",
       "    </tr>\n",
       "    <tr>\n",
       "      <th>...</th>\n",
       "      <td>...</td>\n",
       "      <td>...</td>\n",
       "      <td>...</td>\n",
       "      <td>...</td>\n",
       "      <td>...</td>\n",
       "    </tr>\n",
       "    <tr>\n",
       "      <th>1510</th>\n",
       "      <td>1509</td>\n",
       "      <td>5</td>\n",
       "      <td>1509_petition blm_floyd justice_blm justice_fl...</td>\n",
       "      <td>[petition blm, floyd justice, blm justice, flo...</td>\n",
       "      <td>[PLEASE SIGN THIS. GEORGE FLOYD AND HIS FAMILY...</td>\n",
       "    </tr>\n",
       "    <tr>\n",
       "      <th>1511</th>\n",
       "      <td>1510</td>\n",
       "      <td>5</td>\n",
       "      <td>1510_blacklivesmatter kids_black kids_youth bl...</td>\n",
       "      <td>[blacklivesmatter kids, black kids, youth blac...</td>\n",
       "      <td>[These kids are supposed to enjoy childhood, c...</td>\n",
       "    </tr>\n",
       "    <tr>\n",
       "      <th>1512</th>\n",
       "      <td>1511</td>\n",
       "      <td>5</td>\n",
       "      <td>1511_blm protest_protest blm_blm la_downtown p...</td>\n",
       "      <td>[blm protest, protest blm, blm la, downtown pr...</td>\n",
       "      <td>[plz do NOT go protest for BLM in coral gables...</td>\n",
       "    </tr>\n",
       "    <tr>\n",
       "      <th>1513</th>\n",
       "      <td>1512</td>\n",
       "      <td>5</td>\n",
       "      <td>1512_blacklivesmatter protest_fontana blackliv...</td>\n",
       "      <td>[blacklivesmatter protest, fontana blacklivesm...</td>\n",
       "      <td>[i just looked thru the comments i guess after...</td>\n",
       "    </tr>\n",
       "    <tr>\n",
       "      <th>1514</th>\n",
       "      <td>1513</td>\n",
       "      <td>5</td>\n",
       "      <td>1513_fuck blacklivesmatter_argue blacklivesmat...</td>\n",
       "      <td>[fuck blacklivesmatter, argue blacklivesmatter...</td>\n",
       "      <td>[Shut the hell up. Black people are killed by ...</td>\n",
       "    </tr>\n",
       "  </tbody>\n",
       "</table>\n",
       "<p>1515 rows × 5 columns</p>\n",
       "</div>"
      ],
      "text/plain": [
       "      Topic   Count                                               Name  \\\n",
       "0        -1  100995  -1_blm protesters_blacklivesmatter blm_blm bla...   \n",
       "1         0    3129  0_unfollow blm_unfollowed blm_blm unfollow_unf...   \n",
       "2         1    2132  1_floyd justice_floyd blacklivesmatter_floyd m...   \n",
       "3         2    1987     2_shes blm_blm shes_posted blm_shes protesting   \n",
       "4         3    1967  3_tweeting blacklivesmatter_blacklivesmatter t...   \n",
       "...     ...     ...                                                ...   \n",
       "1510   1509       5  1509_petition blm_floyd justice_blm justice_fl...   \n",
       "1511   1510       5  1510_blacklivesmatter kids_black kids_youth bl...   \n",
       "1512   1511       5  1511_blm protest_protest blm_blm la_downtown p...   \n",
       "1513   1512       5  1512_blacklivesmatter protest_fontana blackliv...   \n",
       "1514   1513       5  1513_fuck blacklivesmatter_argue blacklivesmat...   \n",
       "\n",
       "                                         Representation  \\\n",
       "0     [blm protesters, blacklivesmatter blm, blm bla...   \n",
       "1     [unfollow blm, unfollowed blm, blm unfollow, u...   \n",
       "2     [floyd justice, floyd blacklivesmatter, floyd ...   \n",
       "3     [shes blm, blm shes, posted blm, shes protesti...   \n",
       "4     [tweeting blacklivesmatter, blacklivesmatter t...   \n",
       "...                                                 ...   \n",
       "1510  [petition blm, floyd justice, blm justice, flo...   \n",
       "1511  [blacklivesmatter kids, black kids, youth blac...   \n",
       "1512  [blm protest, protest blm, blm la, downtown pr...   \n",
       "1513  [blacklivesmatter protest, fontana blacklivesm...   \n",
       "1514  [fuck blacklivesmatter, argue blacklivesmatter...   \n",
       "\n",
       "                                    Representative_Docs  \n",
       "0     [I’ve just been so fucking uncomfortable these...  \n",
       "1     [if u are unfollowing me bc i’m retweeting blm...  \n",
       "2     [an innocent black cnn reporter gets arrested ...  \n",
       "3     [shes trying for the ‘i dnt have enough info r...  \n",
       "4     [IMPORTANT‼️ Instead of tweeting #BlackLivesMa...  \n",
       "...                                                 ...  \n",
       "1510  [PLEASE SIGN THIS. GEORGE FLOYD AND HIS FAMILY...  \n",
       "1511  [These kids are supposed to enjoy childhood, c...  \n",
       "1512  [plz do NOT go protest for BLM in coral gables...  \n",
       "1513  [i just looked thru the comments i guess after...  \n",
       "1514  [Shut the hell up. Black people are killed by ...  \n",
       "\n",
       "[1515 rows x 5 columns]"
      ]
     },
     "execution_count": 169,
     "metadata": {},
     "output_type": "execute_result"
    }
   ],
   "source": [
    "topic_model.get_topic_info()"
   ]
  },
  {
   "cell_type": "code",
   "execution_count": 11,
   "metadata": {},
   "outputs": [
    {
     "data": {
      "text/plain": [
       "[('defund blm', 0.6660235),\n",
       " ('blm defund', 0.65281016),\n",
       " ('blm defunding', 0.63957137),\n",
       " ('defunded police', 0.6384733),\n",
       " ('police blm', 0.6242396)]"
      ]
     },
     "execution_count": 11,
     "metadata": {},
     "output_type": "execute_result"
    }
   ],
   "source": [
    "topic_model.get_topic(28)"
   ]
  },
  {
   "cell_type": "code",
   "execution_count": 170,
   "metadata": {},
   "outputs": [],
   "source": [
    "df_topic = topic_model.get_document_info(df)"
   ]
  },
  {
   "cell_type": "code",
   "execution_count": 46,
   "metadata": {},
   "outputs": [],
   "source": [
    "topics_to_merge = [[64, 27]]\n",
    "topic_model.merge_topics(df, topics_to_merge)"
   ]
  },
  {
   "cell_type": "code",
   "execution_count": 224,
   "metadata": {},
   "outputs": [],
   "source": [
    "topic_model.set_topic_labels({89:'Living in Fear', 402:'Advocating for Change', 31:'Looting', 1022:'Callout for Peace', 1279:'Antipathy', 1471:'Trump Violence Claims', 1149:'White Privilege', 15:'Support for Victims', 917:'Opression'})"
   ]
  },
  {
   "cell_type": "code",
   "execution_count": 227,
   "metadata": {},
   "outputs": [
    {
     "data": {
      "application/vnd.plotly.v1+json": {
       "config": {
        "plotlyServerURL": "https://plot.ly"
       },
       "data": [
        {
         "marker": {
          "color": "#D55E00"
         },
         "orientation": "h",
         "type": "bar",
         "x": [
          0.5911295413970947,
          0.6147453188896179,
          0.6216660141944885,
          0.6341375708580017,
          0.6556330323219299
         ],
         "xaxis": "x",
         "y": [
          "blacklivesmatter justiceforahmaudarbery  ",
          "justiceforgeorgefloyd blacklivesmater  ",
          "justiceforgeorge blacklivesmatter  ",
          "mylifematters blacklivesmatter  ",
          "justiceforgeorgefloyd blacklivesmatter  "
         ],
         "yaxis": "y"
        },
        {
         "marker": {
          "color": "#0072B2"
         },
         "orientation": "h",
         "type": "bar",
         "x": [
          0.46469709277153015,
          0.4826847016811371,
          0.49255478382110596,
          0.507570207118988,
          0.5904491543769836
         ],
         "xaxis": "x2",
         "y": [
          "guns resources  ",
          "guns execute  ",
          "need guns  ",
          "gun laws  ",
          "banning guns  "
         ],
         "yaxis": "y2"
        },
        {
         "marker": {
          "color": "#CC79A7"
         },
         "orientation": "h",
         "type": "bar",
         "x": [
          0.4560880959033966,
          0.5094125866889954,
          0.5119190812110901,
          0.5196492075920105,
          0.56571364402771
         ],
         "xaxis": "x3",
         "y": [
          "provokes violence  ",
          "trump provokes  ",
          "unrest trump  ",
          "brutality trump  ",
          "violent trump  "
         ],
         "yaxis": "y3"
        },
        {
         "marker": {
          "color": "#E69F00"
         },
         "orientation": "h",
         "type": "bar",
         "x": [
          0.651397705078125,
          0.6605360507965088,
          0.6916972994804382,
          0.7449415326118469,
          0.7842789888381958
         ],
         "xaxis": "x4",
         "y": [
          "asians support  ",
          "racism asian  ",
          "racism asians  ",
          "blm asian  ",
          "blm asians  "
         ],
         "yaxis": "y4"
        },
        {
         "marker": {
          "color": "#56B4E9"
         },
         "orientation": "h",
         "type": "bar",
         "x": [
          0.4957123398780823,
          0.4977531135082245,
          0.5038326978683472,
          0.5070269703865051,
          0.7038123607635498
         ],
         "xaxis": "x5",
         "y": [
          "killing blacklivesmatter  ",
          "privilege speak  ",
          "recognize privilege  ",
          "ashamed white  ",
          "white privilege  "
         ],
         "yaxis": "y5"
        },
        {
         "marker": {
          "color": "#009E73"
         },
         "orientation": "h",
         "type": "bar",
         "x": [
          0.5721883773803711,
          0.5881909728050232,
          0.5941765904426575,
          0.6029759645462036,
          0.604573130607605
         ],
         "xaxis": "x6",
         "y": [
          "acab acab  ",
          "fucking acab  ",
          "murderer acab  ",
          "acab murderer  ",
          "police acab  "
         ],
         "yaxis": "y6"
        },
        {
         "marker": {
          "color": "#F0E442"
         },
         "orientation": "h",
         "type": "bar",
         "x": [
          0.4288548231124878,
          0.43451353907585144,
          0.45043671131134033,
          0.46000444889068604,
          0.544224202632904
         ],
         "xaxis": "x7",
         "y": [
          "equally humans  ",
          "care humanity  ",
          "oppressed minorities  ",
          "acknowledge oppressed  ",
          "treat everybody  "
         ],
         "yaxis": "y7"
        },
        {
         "marker": {
          "color": "#D55E00"
         },
         "orientation": "h",
         "type": "bar",
         "x": [
          0.5866217017173767,
          0.6089355945587158,
          0.6205379366874695,
          0.6450427770614624,
          0.6934986114501953
         ],
         "xaxis": "x8",
         "y": [
          "peace live  ",
          "want peace  ",
          "live peace  ",
          "peace black  ",
          "peace blacklivesmatter  "
         ],
         "yaxis": "y8"
        }
       ],
       "layout": {
        "annotations": [
         {
          "font": {
           "size": 16
          },
          "showarrow": false,
          "text": "Support for Victims",
          "x": 0.0875,
          "xanchor": "center",
          "xref": "paper",
          "y": 1,
          "yanchor": "bottom",
          "yref": "paper"
         },
         {
          "font": {
           "size": 16
          },
          "showarrow": false,
          "text": "Gun Control",
          "x": 0.36250000000000004,
          "xanchor": "center",
          "xref": "paper",
          "y": 1,
          "yanchor": "bottom",
          "yref": "paper"
         },
         {
          "font": {
           "size": 16
          },
          "showarrow": false,
          "text": "Trump Violence Claims",
          "x": 0.6375000000000001,
          "xanchor": "center",
          "xref": "paper",
          "y": 1,
          "yanchor": "bottom",
          "yref": "paper"
         },
         {
          "font": {
           "size": 16
          },
          "showarrow": false,
          "text": "Asian Support",
          "x": 0.9125,
          "xanchor": "center",
          "xref": "paper",
          "y": 1,
          "yanchor": "bottom",
          "yref": "paper"
         },
         {
          "font": {
           "size": 16
          },
          "showarrow": false,
          "text": "White Privilege",
          "x": 0.0875,
          "xanchor": "center",
          "xref": "paper",
          "y": 0.4,
          "yanchor": "bottom",
          "yref": "paper"
         },
         {
          "font": {
           "size": 16
          },
          "showarrow": false,
          "text": "Antipathy",
          "x": 0.36250000000000004,
          "xanchor": "center",
          "xref": "paper",
          "y": 0.4,
          "yanchor": "bottom",
          "yref": "paper"
         },
         {
          "font": {
           "size": 16
          },
          "showarrow": false,
          "text": "Opression",
          "x": 0.6375000000000001,
          "xanchor": "center",
          "xref": "paper",
          "y": 0.4,
          "yanchor": "bottom",
          "yref": "paper"
         },
         {
          "font": {
           "size": 16
          },
          "showarrow": false,
          "text": "Callout for Peace",
          "x": 0.9125,
          "xanchor": "center",
          "xref": "paper",
          "y": 0.4,
          "yanchor": "bottom",
          "yref": "paper"
         }
        ],
        "height": 500,
        "hoverlabel": {
         "bgcolor": "white",
         "font": {
          "family": "Rockwell",
          "size": 16
         }
        },
        "showlegend": false,
        "template": {
         "data": {
          "bar": [
           {
            "error_x": {
             "color": "#2a3f5f"
            },
            "error_y": {
             "color": "#2a3f5f"
            },
            "marker": {
             "line": {
              "color": "white",
              "width": 0.5
             },
             "pattern": {
              "fillmode": "overlay",
              "size": 10,
              "solidity": 0.2
             }
            },
            "type": "bar"
           }
          ],
          "barpolar": [
           {
            "marker": {
             "line": {
              "color": "white",
              "width": 0.5
             },
             "pattern": {
              "fillmode": "overlay",
              "size": 10,
              "solidity": 0.2
             }
            },
            "type": "barpolar"
           }
          ],
          "carpet": [
           {
            "aaxis": {
             "endlinecolor": "#2a3f5f",
             "gridcolor": "#C8D4E3",
             "linecolor": "#C8D4E3",
             "minorgridcolor": "#C8D4E3",
             "startlinecolor": "#2a3f5f"
            },
            "baxis": {
             "endlinecolor": "#2a3f5f",
             "gridcolor": "#C8D4E3",
             "linecolor": "#C8D4E3",
             "minorgridcolor": "#C8D4E3",
             "startlinecolor": "#2a3f5f"
            },
            "type": "carpet"
           }
          ],
          "choropleth": [
           {
            "colorbar": {
             "outlinewidth": 0,
             "ticks": ""
            },
            "type": "choropleth"
           }
          ],
          "contour": [
           {
            "colorbar": {
             "outlinewidth": 0,
             "ticks": ""
            },
            "colorscale": [
             [
              0,
              "#0d0887"
             ],
             [
              0.1111111111111111,
              "#46039f"
             ],
             [
              0.2222222222222222,
              "#7201a8"
             ],
             [
              0.3333333333333333,
              "#9c179e"
             ],
             [
              0.4444444444444444,
              "#bd3786"
             ],
             [
              0.5555555555555556,
              "#d8576b"
             ],
             [
              0.6666666666666666,
              "#ed7953"
             ],
             [
              0.7777777777777778,
              "#fb9f3a"
             ],
             [
              0.8888888888888888,
              "#fdca26"
             ],
             [
              1,
              "#f0f921"
             ]
            ],
            "type": "contour"
           }
          ],
          "contourcarpet": [
           {
            "colorbar": {
             "outlinewidth": 0,
             "ticks": ""
            },
            "type": "contourcarpet"
           }
          ],
          "heatmap": [
           {
            "colorbar": {
             "outlinewidth": 0,
             "ticks": ""
            },
            "colorscale": [
             [
              0,
              "#0d0887"
             ],
             [
              0.1111111111111111,
              "#46039f"
             ],
             [
              0.2222222222222222,
              "#7201a8"
             ],
             [
              0.3333333333333333,
              "#9c179e"
             ],
             [
              0.4444444444444444,
              "#bd3786"
             ],
             [
              0.5555555555555556,
              "#d8576b"
             ],
             [
              0.6666666666666666,
              "#ed7953"
             ],
             [
              0.7777777777777778,
              "#fb9f3a"
             ],
             [
              0.8888888888888888,
              "#fdca26"
             ],
             [
              1,
              "#f0f921"
             ]
            ],
            "type": "heatmap"
           }
          ],
          "heatmapgl": [
           {
            "colorbar": {
             "outlinewidth": 0,
             "ticks": ""
            },
            "colorscale": [
             [
              0,
              "#0d0887"
             ],
             [
              0.1111111111111111,
              "#46039f"
             ],
             [
              0.2222222222222222,
              "#7201a8"
             ],
             [
              0.3333333333333333,
              "#9c179e"
             ],
             [
              0.4444444444444444,
              "#bd3786"
             ],
             [
              0.5555555555555556,
              "#d8576b"
             ],
             [
              0.6666666666666666,
              "#ed7953"
             ],
             [
              0.7777777777777778,
              "#fb9f3a"
             ],
             [
              0.8888888888888888,
              "#fdca26"
             ],
             [
              1,
              "#f0f921"
             ]
            ],
            "type": "heatmapgl"
           }
          ],
          "histogram": [
           {
            "marker": {
             "pattern": {
              "fillmode": "overlay",
              "size": 10,
              "solidity": 0.2
             }
            },
            "type": "histogram"
           }
          ],
          "histogram2d": [
           {
            "colorbar": {
             "outlinewidth": 0,
             "ticks": ""
            },
            "colorscale": [
             [
              0,
              "#0d0887"
             ],
             [
              0.1111111111111111,
              "#46039f"
             ],
             [
              0.2222222222222222,
              "#7201a8"
             ],
             [
              0.3333333333333333,
              "#9c179e"
             ],
             [
              0.4444444444444444,
              "#bd3786"
             ],
             [
              0.5555555555555556,
              "#d8576b"
             ],
             [
              0.6666666666666666,
              "#ed7953"
             ],
             [
              0.7777777777777778,
              "#fb9f3a"
             ],
             [
              0.8888888888888888,
              "#fdca26"
             ],
             [
              1,
              "#f0f921"
             ]
            ],
            "type": "histogram2d"
           }
          ],
          "histogram2dcontour": [
           {
            "colorbar": {
             "outlinewidth": 0,
             "ticks": ""
            },
            "colorscale": [
             [
              0,
              "#0d0887"
             ],
             [
              0.1111111111111111,
              "#46039f"
             ],
             [
              0.2222222222222222,
              "#7201a8"
             ],
             [
              0.3333333333333333,
              "#9c179e"
             ],
             [
              0.4444444444444444,
              "#bd3786"
             ],
             [
              0.5555555555555556,
              "#d8576b"
             ],
             [
              0.6666666666666666,
              "#ed7953"
             ],
             [
              0.7777777777777778,
              "#fb9f3a"
             ],
             [
              0.8888888888888888,
              "#fdca26"
             ],
             [
              1,
              "#f0f921"
             ]
            ],
            "type": "histogram2dcontour"
           }
          ],
          "mesh3d": [
           {
            "colorbar": {
             "outlinewidth": 0,
             "ticks": ""
            },
            "type": "mesh3d"
           }
          ],
          "parcoords": [
           {
            "line": {
             "colorbar": {
              "outlinewidth": 0,
              "ticks": ""
             }
            },
            "type": "parcoords"
           }
          ],
          "pie": [
           {
            "automargin": true,
            "type": "pie"
           }
          ],
          "scatter": [
           {
            "fillpattern": {
             "fillmode": "overlay",
             "size": 10,
             "solidity": 0.2
            },
            "type": "scatter"
           }
          ],
          "scatter3d": [
           {
            "line": {
             "colorbar": {
              "outlinewidth": 0,
              "ticks": ""
             }
            },
            "marker": {
             "colorbar": {
              "outlinewidth": 0,
              "ticks": ""
             }
            },
            "type": "scatter3d"
           }
          ],
          "scattercarpet": [
           {
            "marker": {
             "colorbar": {
              "outlinewidth": 0,
              "ticks": ""
             }
            },
            "type": "scattercarpet"
           }
          ],
          "scattergeo": [
           {
            "marker": {
             "colorbar": {
              "outlinewidth": 0,
              "ticks": ""
             }
            },
            "type": "scattergeo"
           }
          ],
          "scattergl": [
           {
            "marker": {
             "colorbar": {
              "outlinewidth": 0,
              "ticks": ""
             }
            },
            "type": "scattergl"
           }
          ],
          "scattermapbox": [
           {
            "marker": {
             "colorbar": {
              "outlinewidth": 0,
              "ticks": ""
             }
            },
            "type": "scattermapbox"
           }
          ],
          "scatterpolar": [
           {
            "marker": {
             "colorbar": {
              "outlinewidth": 0,
              "ticks": ""
             }
            },
            "type": "scatterpolar"
           }
          ],
          "scatterpolargl": [
           {
            "marker": {
             "colorbar": {
              "outlinewidth": 0,
              "ticks": ""
             }
            },
            "type": "scatterpolargl"
           }
          ],
          "scatterternary": [
           {
            "marker": {
             "colorbar": {
              "outlinewidth": 0,
              "ticks": ""
             }
            },
            "type": "scatterternary"
           }
          ],
          "surface": [
           {
            "colorbar": {
             "outlinewidth": 0,
             "ticks": ""
            },
            "colorscale": [
             [
              0,
              "#0d0887"
             ],
             [
              0.1111111111111111,
              "#46039f"
             ],
             [
              0.2222222222222222,
              "#7201a8"
             ],
             [
              0.3333333333333333,
              "#9c179e"
             ],
             [
              0.4444444444444444,
              "#bd3786"
             ],
             [
              0.5555555555555556,
              "#d8576b"
             ],
             [
              0.6666666666666666,
              "#ed7953"
             ],
             [
              0.7777777777777778,
              "#fb9f3a"
             ],
             [
              0.8888888888888888,
              "#fdca26"
             ],
             [
              1,
              "#f0f921"
             ]
            ],
            "type": "surface"
           }
          ],
          "table": [
           {
            "cells": {
             "fill": {
              "color": "#EBF0F8"
             },
             "line": {
              "color": "white"
             }
            },
            "header": {
             "fill": {
              "color": "#C8D4E3"
             },
             "line": {
              "color": "white"
             }
            },
            "type": "table"
           }
          ]
         },
         "layout": {
          "annotationdefaults": {
           "arrowcolor": "#2a3f5f",
           "arrowhead": 0,
           "arrowwidth": 1
          },
          "autotypenumbers": "strict",
          "coloraxis": {
           "colorbar": {
            "outlinewidth": 0,
            "ticks": ""
           }
          },
          "colorscale": {
           "diverging": [
            [
             0,
             "#8e0152"
            ],
            [
             0.1,
             "#c51b7d"
            ],
            [
             0.2,
             "#de77ae"
            ],
            [
             0.3,
             "#f1b6da"
            ],
            [
             0.4,
             "#fde0ef"
            ],
            [
             0.5,
             "#f7f7f7"
            ],
            [
             0.6,
             "#e6f5d0"
            ],
            [
             0.7,
             "#b8e186"
            ],
            [
             0.8,
             "#7fbc41"
            ],
            [
             0.9,
             "#4d9221"
            ],
            [
             1,
             "#276419"
            ]
           ],
           "sequential": [
            [
             0,
             "#0d0887"
            ],
            [
             0.1111111111111111,
             "#46039f"
            ],
            [
             0.2222222222222222,
             "#7201a8"
            ],
            [
             0.3333333333333333,
             "#9c179e"
            ],
            [
             0.4444444444444444,
             "#bd3786"
            ],
            [
             0.5555555555555556,
             "#d8576b"
            ],
            [
             0.6666666666666666,
             "#ed7953"
            ],
            [
             0.7777777777777778,
             "#fb9f3a"
            ],
            [
             0.8888888888888888,
             "#fdca26"
            ],
            [
             1,
             "#f0f921"
            ]
           ],
           "sequentialminus": [
            [
             0,
             "#0d0887"
            ],
            [
             0.1111111111111111,
             "#46039f"
            ],
            [
             0.2222222222222222,
             "#7201a8"
            ],
            [
             0.3333333333333333,
             "#9c179e"
            ],
            [
             0.4444444444444444,
             "#bd3786"
            ],
            [
             0.5555555555555556,
             "#d8576b"
            ],
            [
             0.6666666666666666,
             "#ed7953"
            ],
            [
             0.7777777777777778,
             "#fb9f3a"
            ],
            [
             0.8888888888888888,
             "#fdca26"
            ],
            [
             1,
             "#f0f921"
            ]
           ]
          },
          "colorway": [
           "#636efa",
           "#EF553B",
           "#00cc96",
           "#ab63fa",
           "#FFA15A",
           "#19d3f3",
           "#FF6692",
           "#B6E880",
           "#FF97FF",
           "#FECB52"
          ],
          "font": {
           "color": "#2a3f5f"
          },
          "geo": {
           "bgcolor": "white",
           "lakecolor": "white",
           "landcolor": "white",
           "showlakes": true,
           "showland": true,
           "subunitcolor": "#C8D4E3"
          },
          "hoverlabel": {
           "align": "left"
          },
          "hovermode": "closest",
          "mapbox": {
           "style": "light"
          },
          "paper_bgcolor": "white",
          "plot_bgcolor": "white",
          "polar": {
           "angularaxis": {
            "gridcolor": "#EBF0F8",
            "linecolor": "#EBF0F8",
            "ticks": ""
           },
           "bgcolor": "white",
           "radialaxis": {
            "gridcolor": "#EBF0F8",
            "linecolor": "#EBF0F8",
            "ticks": ""
           }
          },
          "scene": {
           "xaxis": {
            "backgroundcolor": "white",
            "gridcolor": "#DFE8F3",
            "gridwidth": 2,
            "linecolor": "#EBF0F8",
            "showbackground": true,
            "ticks": "",
            "zerolinecolor": "#EBF0F8"
           },
           "yaxis": {
            "backgroundcolor": "white",
            "gridcolor": "#DFE8F3",
            "gridwidth": 2,
            "linecolor": "#EBF0F8",
            "showbackground": true,
            "ticks": "",
            "zerolinecolor": "#EBF0F8"
           },
           "zaxis": {
            "backgroundcolor": "white",
            "gridcolor": "#DFE8F3",
            "gridwidth": 2,
            "linecolor": "#EBF0F8",
            "showbackground": true,
            "ticks": "",
            "zerolinecolor": "#EBF0F8"
           }
          },
          "shapedefaults": {
           "line": {
            "color": "#2a3f5f"
           }
          },
          "ternary": {
           "aaxis": {
            "gridcolor": "#DFE8F3",
            "linecolor": "#A2B1C6",
            "ticks": ""
           },
           "baxis": {
            "gridcolor": "#DFE8F3",
            "linecolor": "#A2B1C6",
            "ticks": ""
           },
           "bgcolor": "white",
           "caxis": {
            "gridcolor": "#DFE8F3",
            "linecolor": "#A2B1C6",
            "ticks": ""
           }
          },
          "title": {
           "x": 0.05
          },
          "xaxis": {
           "automargin": true,
           "gridcolor": "#EBF0F8",
           "linecolor": "#EBF0F8",
           "ticks": "",
           "title": {
            "standoff": 15
           },
           "zerolinecolor": "#EBF0F8",
           "zerolinewidth": 2
          },
          "yaxis": {
           "automargin": true,
           "gridcolor": "#EBF0F8",
           "linecolor": "#EBF0F8",
           "ticks": "",
           "title": {
            "standoff": 15
           },
           "zerolinecolor": "#EBF0F8",
           "zerolinewidth": 2
          }
         }
        },
        "title": {
         "font": {
          "color": "Black",
          "size": 22
         },
         "text": "Topics - Big Cities",
         "x": 0.5,
         "xanchor": "center",
         "yanchor": "top"
        },
        "width": 1800,
        "xaxis": {
         "anchor": "y",
         "domain": [
          0,
          0.175
         ],
         "showgrid": true
        },
        "xaxis2": {
         "anchor": "y2",
         "domain": [
          0.275,
          0.45
         ],
         "showgrid": true
        },
        "xaxis3": {
         "anchor": "y3",
         "domain": [
          0.55,
          0.7250000000000001
         ],
         "showgrid": true
        },
        "xaxis4": {
         "anchor": "y4",
         "domain": [
          0.825,
          1
         ],
         "showgrid": true
        },
        "xaxis5": {
         "anchor": "y5",
         "domain": [
          0,
          0.175
         ],
         "showgrid": true
        },
        "xaxis6": {
         "anchor": "y6",
         "domain": [
          0.275,
          0.45
         ],
         "showgrid": true
        },
        "xaxis7": {
         "anchor": "y7",
         "domain": [
          0.55,
          0.7250000000000001
         ],
         "showgrid": true
        },
        "xaxis8": {
         "anchor": "y8",
         "domain": [
          0.825,
          1
         ],
         "showgrid": true
        },
        "yaxis": {
         "anchor": "x",
         "domain": [
          0.6000000000000001,
          1
         ],
         "showgrid": true
        },
        "yaxis2": {
         "anchor": "x2",
         "domain": [
          0.6000000000000001,
          1
         ],
         "showgrid": true
        },
        "yaxis3": {
         "anchor": "x3",
         "domain": [
          0.6000000000000001,
          1
         ],
         "showgrid": true
        },
        "yaxis4": {
         "anchor": "x4",
         "domain": [
          0.6000000000000001,
          1
         ],
         "showgrid": true
        },
        "yaxis5": {
         "anchor": "x5",
         "domain": [
          0,
          0.4
         ],
         "showgrid": true
        },
        "yaxis6": {
         "anchor": "x6",
         "domain": [
          0,
          0.4
         ],
         "showgrid": true
        },
        "yaxis7": {
         "anchor": "x7",
         "domain": [
          0,
          0.4
         ],
         "showgrid": true
        },
        "yaxis8": {
         "anchor": "x8",
         "domain": [
          0,
          0.4
         ],
         "showgrid": true
        }
       }
      }
     },
     "metadata": {},
     "output_type": "display_data"
    }
   ],
   "source": [
    "topic_model.visualize_barchart(topics=[15, 1429, 1471, 94, 1149, 1279, 917, 1022], title=\"Topics - Big Cities\", width=450, custom_labels=True) # # 0,1,20,22,76, 78, 101 "
   ]
  },
  {
   "cell_type": "code",
   "execution_count": 81,
   "metadata": {},
   "outputs": [
    {
     "data": {
      "text/plain": [
       "{-1: [('blm protests', 0.6739483),\n",
       "  ('blm riots', 0.6669688),\n",
       "  ('blm antifa', 0.620182),\n",
       "  ('antifa blm', 0.60959405),\n",
       "  ('support blm', 0.5876468)],\n",
       " 0: [('blm riots', 0.69320124),\n",
       "  ('blm protests', 0.67473924),\n",
       "  ('antifa riots', 0.6060972),\n",
       "  ('protests', 0.49380526),\n",
       "  ('riots', 0.4884339)],\n",
       " 1: [('shes blm', 0.59543407),\n",
       "  ('blm shes', 0.5317078),\n",
       "  ('blm stuff', 0.38399163),\n",
       "  ('shes just', 0.37789968),\n",
       "  ('elizabeth', 0.37305197)],\n",
       " 2: [('maga', 0.5582672),\n",
       "  ('maga republicans', 0.5346434),\n",
       "  ('maga supporter', 0.51691717),\n",
       "  ('tell maga', 0.5087316),\n",
       "  ('ultra maga', 0.5019552)],\n",
       " 3: [('blacklivesmatter freedom', 0.6173841),\n",
       "  ('blacklivesmatter im', 0.61154586),\n",
       "  ('blacklivesmatter people', 0.5839177),\n",
       "  ('people blacklivesmatter', 0.56466174),\n",
       "  ('blacklivesmatter hate', 0.56335133)],\n",
       " 4: [('healer', 0.4842138),\n",
       "  ('healers', 0.47501907),\n",
       "  ('raids', 0.3960973),\n",
       "  ('dungeons', 0.37069124),\n",
       "  ('blm main', 0.37063685)],\n",
       " 5: [('kanye blm', 0.65855724),\n",
       "  ('blm kanye', 0.6548967),\n",
       "  ('shirt blm', 0.6470223),\n",
       "  ('blm shirt', 0.63350075),\n",
       "  ('shirts blm', 0.63307244)],\n",
       " 6: [('pelosis attacker', 0.7008589),\n",
       "  ('attacked pelosi', 0.6908101),\n",
       "  ('pelosi attacker', 0.687561),\n",
       "  ('pelosi attack', 0.6750957),\n",
       "  ('pelosi attacked', 0.6729051)],\n",
       " 7: [('floyd blm', 0.6578306),\n",
       "  ('floyds murder', 0.5643264),\n",
       "  ('blm george', 0.5293019),\n",
       "  ('floyds death', 0.49053386),\n",
       "  ('rise blm', 0.48868406)],\n",
       " 8: [('blm biden', 0.64648575),\n",
       "  ('voted biden', 0.5443091),\n",
       "  ('biden elected', 0.5439217),\n",
       "  ('trump biden', 0.54382366),\n",
       "  ('support biden', 0.5378104)],\n",
       " 9: [('ukraine flags', 0.64579487),\n",
       "  ('flag ukraine', 0.63894105),\n",
       "  ('ukraine flag', 0.62946707),\n",
       "  ('ukrainian flags', 0.6212061),\n",
       "  ('russian flag', 0.61375755)],\n",
       " 10: [('hates jews', 0.6368242),\n",
       "  ('hate jews', 0.6352623),\n",
       "  ('blm palestinian', 0.6332585),\n",
       "  ('jew hatred', 0.61473954),\n",
       "  ('attack jewish', 0.6061484)],\n",
       " 11: [('blm mansions', 0.71023196),\n",
       "  ('mansions blm', 0.6773694),\n",
       "  ('blm money', 0.5490617),\n",
       "  ('blm buying', 0.54558176),\n",
       "  ('blm buy', 0.53234726)],\n",
       " 12: [('j6 protests', 0.6624285),\n",
       "  ('j6 protesters', 0.6357277),\n",
       "  ('j6 treasonists', 0.6356924),\n",
       "  ('orchestrated j6', 0.6162248),\n",
       "  ('j6 blm', 0.61057824)],\n",
       " 13: [('blm lgbt', 0.7669352),\n",
       "  ('lgbtq feminism', 0.65739024),\n",
       "  ('lgbtq trans', 0.6334619),\n",
       "  ('lgbtblm ppl', 0.62876314),\n",
       "  ('lgbtq', 0.62333703)],\n",
       " 14: [('keknya', 0.51534975),\n",
       "  ('soalnya blm', 0.48925364),\n",
       "  ('sbnrnya blm', 0.48194602),\n",
       "  ('sbnrnya', 0.4777411),\n",
       "  ('gue udah', 0.46474406)],\n",
       " 15: [('blocked blm', 0.61919963),\n",
       "  ('blm blocked', 0.5959898),\n",
       "  ('actually blocked', 0.51904374),\n",
       "  ('blocked people', 0.5174318),\n",
       "  ('blocked twitter', 0.5156788)],\n",
       " 16: [('pandemic blm', 0.54343474),\n",
       "  ('covid19 blm', 0.52106386),\n",
       "  ('pandemic', 0.5003048),\n",
       "  ('covid', 0.5001372),\n",
       "  ('told vaccine', 0.48325604)],\n",
       " 17: [('marxism blm', 0.7843135),\n",
       "  ('blm marxism', 0.77500165),\n",
       "  ('marxists blm', 0.77162665),\n",
       "  ('blm marxist', 0.7545179),\n",
       "  ('marxist group', 0.68103194)],\n",
       " 18: [('michigan dept', 0.56424),\n",
       "  ('civilrights complaint', 0.5109311),\n",
       "  ('misconduct', 0.45894316),\n",
       "  ('dept civil', 0.41712487),\n",
       "  ('civil rights', 0.40702465)],\n",
       " 19: [('holocaustmemorialday mlk', 0.5927793),\n",
       "  ('blacklivesmatter reparationsnow', 0.5564271),\n",
       "  ('blacklivesmatter ukraine', 0.52617896),\n",
       "  ('holocaustmemorialday', 0.51768583),\n",
       "  ('blackhistory reparationsnow', 0.51686186)],\n",
       " 20: [('abortion blm', 0.6581427),\n",
       "  ('blm abortion', 0.656983),\n",
       "  ('support abortion', 0.5721017),\n",
       "  ('abortions', 0.53771526),\n",
       "  ('abortion', 0.50498873)],\n",
       " 21: [('blm bio', 0.5970561),\n",
       "  ('bio blm', 0.5702944),\n",
       "  ('negatively blm', 0.5520976),\n",
       "  ('missing blm', 0.54987496),\n",
       "  ('having blm', 0.5469063)],\n",
       " 22: [('labour racist', 0.6260733),\n",
       "  ('vote labour', 0.61780745),\n",
       "  ('labour party', 0.53044635),\n",
       "  ('men torys', 0.5192398),\n",
       "  ('tory', 0.51239115)],\n",
       " 23: [('owens blm', 0.57160366),\n",
       "  ('media candace', 0.57065547),\n",
       "  ('watch candace', 0.5634845),\n",
       "  ('candace owens', 0.5624419),\n",
       "  ('narratives candace', 0.56019473)],\n",
       " 24: [('bluewave voteblue', 0.6235504),\n",
       "  ('voteblue2020 bluewave', 0.6151684),\n",
       "  ('blm voteblue2020', 0.60028243),\n",
       "  ('voteblue', 0.54416245),\n",
       "  ('voteblue2020', 0.52854514)],\n",
       " 25: [('brutality blm', 0.5489881),\n",
       "  ('protests video', 0.54367954),\n",
       "  ('video blm', 0.5296148),\n",
       "  ('videos blm', 0.5283709),\n",
       "  ('footage blm', 0.5110848)],\n",
       " 26: [('blm kkk', 0.7569238),\n",
       "  ('kkk dems', 0.63967603),\n",
       "  ('klan', 0.61346924),\n",
       "  ('democrat klans', 0.60382855),\n",
       "  ('people kkk', 0.596438)],\n",
       " 27: [('kneeling blm', 0.71508384),\n",
       "  ('knee blm', 0.67654485),\n",
       "  ('knee racial', 0.59937847),\n",
       "  ('fight racism', 0.5301768),\n",
       "  ('taking knee', 0.49561852)],\n",
       " 28: [('introverts bc', 0.41017258),\n",
       "  ('introverts', 0.40270332),\n",
       "  ('honors blm', 0.39143652),\n",
       "  ('family disowned', 0.34186766),\n",
       "  ('exposed ppl', 0.33610052)],\n",
       " 29: [('mtvawards rap', 0.60522306),\n",
       "  ('songs new', 0.5672567),\n",
       "  ('album rof', 0.5635025),\n",
       "  ('album toktik', 0.56202096),\n",
       "  ('songs', 0.5323478)],\n",
       " 30: [('riots kamala', 0.5751042),\n",
       "  ('blm rioters', 0.55798227),\n",
       "  ('kamala harrisbacked', 0.5183226),\n",
       "  ('kamala harris', 0.5173414),\n",
       "  ('kamala bailed', 0.49772388)],\n",
       " 31: [('black supremacist', 0.6430252),\n",
       "  ('obama racist', 0.6179005),\n",
       "  ('supremacist black', 0.6102693),\n",
       "  ('black racist', 0.5858345),\n",
       "  ('black privilege', 0.5701999)],\n",
       " 32: [('david depape', 0.66365176),\n",
       "  ('depape illegal', 0.6429791),\n",
       "  ('depape lives', 0.6320527),\n",
       "  ('depape', 0.6060149),\n",
       "  ('depape actually', 0.59903425)],\n",
       " 33: [('hear trudeau', 0.62364584),\n",
       "  ('movement trudeau', 0.62133914),\n",
       "  ('trudeaus', 0.6142111),\n",
       "  ('trudeau', 0.5996267),\n",
       "  ('marxism trudeaus', 0.5716414)],\n",
       " 34: [('paul attacked', 0.64382255),\n",
       "  ('pauls attacker', 0.58191127),\n",
       "  ('paul cheated', 0.5566106),\n",
       "  ('paul blm', 0.5500805),\n",
       "  ('paul lgbt', 0.54045314)],\n",
       " 35: [('stay woke', 0.617073),\n",
       "  ('think woke', 0.61662215),\n",
       "  ('woke ideology', 0.6134763),\n",
       "  ('isnt woke', 0.5838),\n",
       "  ('woke', 0.5704221)],\n",
       " 36: [('kyle attacked', 0.6616913),\n",
       "  ('shoot kyle', 0.6375393),\n",
       "  ('kyle murderer', 0.62322086),\n",
       "  ('kyle did', 0.5607966),\n",
       "  ('kyle', 0.5420025)],\n",
       " 37: [('smiles joy', 0.4685243),\n",
       "  ('happy', 0.4451466),\n",
       "  ('soooo happy', 0.44216752),\n",
       "  ('support appreciate', 0.43676502),\n",
       "  ('ill smile', 0.42272994)],\n",
       " 38: [('portland blm', 0.6116955),\n",
       "  ('riots portland', 0.55204374),\n",
       "  ('destroy portland', 0.4798876),\n",
       "  ('antifablm people', 0.4766219),\n",
       "  ('portland uninhabitable', 0.47495538)],\n",
       " 39: [('kyrie hateful', 0.7313986),\n",
       "  ('kyrie antisemitic', 0.6957335),\n",
       "  ('blm kyrie', 0.69405854),\n",
       "  ('kyrie blm', 0.6920399),\n",
       "  ('kyrie whats', 0.6550331)],\n",
       " 40: [('nfl political', 0.48976707),\n",
       "  ('nfl completely', 0.4751162),\n",
       "  ('watch nfl', 0.4665774),\n",
       "  ('nfl excited', 0.45549795),\n",
       "  ('nfl good', 0.4510468)],\n",
       " 41: [('gun control', 0.5682495),\n",
       "  ('gun buy', 0.56450623),\n",
       "  ('gun swat', 0.55614024),\n",
       "  ('guns trend', 0.5397081),\n",
       "  ('gun owners', 0.5376429)],\n",
       " 42: [('police democrats', 0.55666834),\n",
       "  ('defund police', 0.51987404),\n",
       "  ('defunding police', 0.502321),\n",
       "  ('police defunder', 0.4630281),\n",
       "  ('democratsaretheproblem racists', 0.43125445)],\n",
       " 43: [('soros funding', 0.59759855),\n",
       "  ('soros involved', 0.59356946),\n",
       "  ('soros', 0.5922036),\n",
       "  ('george soros', 0.5706918),\n",
       "  ('franklinyoure soros', 0.46206364)],\n",
       " 44: [('memorable shows', 0.40272313),\n",
       "  ('jason erased', 0.38033292),\n",
       "  ('movies classics', 0.3510899),\n",
       "  ('movie disturbing', 0.3493971),\n",
       "  ('loved little', 0.34501258)],\n",
       " 45: [('stand iranians', 0.6516131),\n",
       "  ('iran support', 0.64220065),\n",
       "  ('iranian lives', 0.5983268),\n",
       "  ('iranians fluff', 0.5868222),\n",
       "  ('iran americans', 0.5834577)],\n",
       " 46: [('adidas', 0.57195866),\n",
       "  ('gap adidas', 0.5210238),\n",
       "  ('nike', 0.5047146),\n",
       "  ('max nike', 0.47259483),\n",
       "  ('encourages wear', 0.41984892)],\n",
       " 47: [('vote blue', 0.5875223),\n",
       "  ('make voting', 0.58422875),\n",
       "  ('prefer vote', 0.5575339),\n",
       "  ('vote', 0.5429945),\n",
       "  ('voting', 0.53474164)],\n",
       " 48: [('make logo', 0.71265846),\n",
       "  ('logo designer', 0.6911378),\n",
       "  ('logodesigner graphic', 0.6492094),\n",
       "  ('logo website', 0.6457887),\n",
       "  ('logo requirement', 0.6452819)],\n",
       " 49: [('prevent driving', 0.46966738),\n",
       "  ('honking convoy', 0.44560024),\n",
       "  ('driving', 0.43074483),\n",
       "  ('moved bus', 0.42816),\n",
       "  ('highway today', 0.425227)],\n",
       " 50: [('racism nba', 0.6633189),\n",
       "  ('nba sad', 0.6314186),\n",
       "  ('watch nba', 0.62332374),\n",
       "  ('reason nba', 0.608934),\n",
       "  ('nba', 0.5850167)],\n",
       " 51: [('blm kneeling', 0.543489),\n",
       "  ('footballers knelt', 0.5371374),\n",
       "  ('kneeling blm', 0.5330874),\n",
       "  ('knee blm', 0.5284018),\n",
       "  ('blm knee', 0.52499914)],\n",
       " 52: [('remembrance', 0.5930789),\n",
       "  ('poppy represents', 0.56294346),\n",
       "  ('play remembrance', 0.55927205),\n",
       "  ('wear poppy', 0.52932924),\n",
       "  ('soldiers wars', 0.44415167)],\n",
       " 53: [('neglected schools', 0.5629),\n",
       "  ('teachers', 0.48201498),\n",
       "  ('education', 0.4727866),\n",
       "  ('marginalized kids', 0.46130666),\n",
       "  ('schools', 0.43030038)],\n",
       " 54: [('feminism', 0.623719),\n",
       "  ('feminism critical', 0.6168299),\n",
       "  ('feminism just', 0.61293066),\n",
       "  ('feminism women', 0.60045373),\n",
       "  ('feminists', 0.59827495)],\n",
       " 55: [('insult conversation', 0.6161623),\n",
       "  ('im hostile', 0.4955531),\n",
       "  ('insults cursing', 0.44726196),\n",
       "  ('racist cyber', 0.44018182),\n",
       "  ('conversation', 0.4308857)],\n",
       " 56: [('blm signs', 0.64549273),\n",
       "  ('illegals signs', 0.563789),\n",
       "  ('illegal signs', 0.5420435),\n",
       "  ('waaaaay blm', 0.47844753),\n",
       "  ('painted blm', 0.44611582)],\n",
       " 57: [('blm cult', 0.7901284),\n",
       "  ('cult movement', 0.67711884),\n",
       "  ('cult really', 0.6750089),\n",
       "  ('cult backed', 0.67323744),\n",
       "  ('cults antifa', 0.6717239)],\n",
       " 58: [('niggas blm', 0.7105733),\n",
       "  ('told niggas', 0.5344713),\n",
       "  ('lol niggas', 0.53420055),\n",
       "  ('lol nigga', 0.53347284),\n",
       "  ('niggaz stop', 0.53115195)],\n",
       " 59: [('police signs', 0.53334695),\n",
       "  ('political signs', 0.4617375),\n",
       "  ('streets painted', 0.39443564),\n",
       "  ('grandma blm', 0.37436315),\n",
       "  ('flags neighbours', 0.36794356)],\n",
       " 60: [('victims slavery', 0.6724326),\n",
       "  ('slaves', 0.6425356),\n",
       "  ('slavery', 0.62358415),\n",
       "  ('living slaves', 0.6110764),\n",
       "  ('slave', 0.579363)],\n",
       " 61: [('gotten donations', 0.5357441),\n",
       "  ('donations today', 0.5277913),\n",
       "  ('donated gofundme', 0.5106729),\n",
       "  ('donate people', 0.49864385),\n",
       "  ('help paying', 0.48116663)],\n",
       " 62: [('inbox commissions', 0.5321765),\n",
       "  ('twitchstreamers', 0.51358545),\n",
       "  ('twitchaffiliate twitchstreamers', 0.5063284),\n",
       "  ('gfx twitch', 0.50452757),\n",
       "  ('twitch youtuber', 0.49379247)],\n",
       " 63: [('pronouns blm', 0.7570317),\n",
       "  ('pronouns indicators', 0.5854638),\n",
       "  ('pronouns bio', 0.5605531),\n",
       "  ('hate pronouns', 0.546955),\n",
       "  ('forget pronouns', 0.5362848)],\n",
       " 64: [('scalise rand', 0.597625),\n",
       "  ('republicans assaulted', 0.5332951),\n",
       "  ('scalise violence', 0.52015615),\n",
       "  ('scalisse blm', 0.5090097),\n",
       "  ('scalise shot', 0.50457823)],\n",
       " 65: [('twitter', 0.6905782),\n",
       "  ('twitter pandemic', 0.6787665),\n",
       "  ('impact twitter', 0.66081035),\n",
       "  ('twitter social', 0.6550993),\n",
       "  ('twitter activity', 0.6533081)],\n",
       " 66: [('horses blms', 0.77737397),\n",
       "  ('horses blm', 0.77714723),\n",
       "  ('wild horses', 0.57752824),\n",
       "  ('handle cattlehorse', 0.5678486),\n",
       "  ('horse advocates', 0.5677424)],\n",
       " 67: [('extremist antifa', 0.54370767),\n",
       "  ('threat antifa', 0.54092103),\n",
       "  ('lgbtqis hate', 0.53633016),\n",
       "  ('free speech', 0.5087945),\n",
       "  ('fascists threat', 0.4904996)],\n",
       " 68: [('does fbi', 0.58084583),\n",
       "  ('movement fbi', 0.5753735),\n",
       "  ('fbi jurisdiction', 0.56081754),\n",
       "  ('fbi employees', 0.552763),\n",
       "  ('facing fbi', 0.5518757)],\n",
       " 69: [('blm flags', 0.5995561),\n",
       "  ('flags', 0.5550318),\n",
       "  ('flags dont', 0.5285799),\n",
       "  ('line flag', 0.510073),\n",
       "  ('patriotic flagswhile', 0.508938)],\n",
       " 70: [('making hungry', 0.47797257),\n",
       "  ('jelly sandwiches', 0.47533017),\n",
       "  ('meal spinch', 0.47522637),\n",
       "  ('need eat', 0.45734227),\n",
       "  ('meal', 0.45545104)],\n",
       " 71: [('protests mask', 0.66222906),\n",
       "  ('masks work', 0.6505406),\n",
       "  ('masks', 0.6250228),\n",
       "  ('mask people', 0.6137161),\n",
       "  ('free masks', 0.61109716)],\n",
       " 72: [('alm protest', 0.6052013),\n",
       "  ('respond alm', 0.51882374),\n",
       "  ('wlm alm', 0.50684696),\n",
       "  ('saying alm', 0.48752663),\n",
       "  ('alm response', 0.48361868)],\n",
       " 73: [('kanye racist', 0.68233776),\n",
       "  ('kanye blm', 0.6213477),\n",
       "  ('kanye islamists', 0.5916357),\n",
       "  ('kanyes bitterness', 0.57930183),\n",
       "  ('kanyes words', 0.52950925)],\n",
       " 74: [('blm nascar', 0.5850464),\n",
       "  ('love bubba', 0.5833772),\n",
       "  ('left bubba', 0.56228966),\n",
       "  ('bubba', 0.5513584),\n",
       "  ('nascar wants', 0.53003734)],\n",
       " 75: [('ariel black', 0.48281965),\n",
       "  ('mermaid black', 0.4260246),\n",
       "  ('mermaid white', 0.40833944),\n",
       "  ('ariel', 0.38183758),\n",
       "  ('racist daughters', 0.3805345)],\n",
       " 76: [('democrats bailed', 0.6759066),\n",
       "  ('bail antifa', 0.655259),\n",
       "  ('jail democrats', 0.57601386),\n",
       "  ('bail punishment', 0.55744153),\n",
       "  ('held bail', 0.5480634)],\n",
       " 77: [('blms terrorist', 0.8495566),\n",
       "  ('terrorist hey', 0.6415134),\n",
       "  ('blm eh', 0.63159746),\n",
       "  ('terrorists sorry', 0.63119674),\n",
       "  ('terrorist terrorists', 0.63114655)],\n",
       " 78: [('seattle blm', 0.6919063),\n",
       "  ('seattle causing', 0.5941082),\n",
       "  ('seattle sounds', 0.5218519),\n",
       "  ('protests great', 0.5171736),\n",
       "  ('street seattle', 0.509903)],\n",
       " 79: [('black panther', 0.51416165),\n",
       "  ('panther movies', 0.48862153),\n",
       "  ('panther 2018', 0.45958874),\n",
       "  ('wakandaforever', 0.45137373),\n",
       "  ('wakanda', 0.4345376)],\n",
       " 80: [('blm storming', 0.5903153),\n",
       "  ('storming capitol', 0.5759832),\n",
       "  ('blm invading', 0.5599589),\n",
       "  ('storm capitol', 0.5136803),\n",
       "  ('putin blm', 0.4681594)],\n",
       " 81: [('blm proud', 0.60496545),\n",
       "  ('citizens blm', 0.53550065),\n",
       "  ('boys terrorist', 0.50004613),\n",
       "  ('kkk proud', 0.48421314),\n",
       "  ('proud boys', 0.47545323)],\n",
       " 82: [('kan aku', 0.45755187),\n",
       "  ('im ekskul', 0.43993843),\n",
       "  ('meet previously', 0.41764283),\n",
       "  ('met guy', 0.40832835),\n",
       "  ('nkuku hes', 0.40466285)],\n",
       " 83: [('racism russia', 0.6173546),\n",
       "  ('muh russians', 0.53403014),\n",
       "  ('putins denazification', 0.5184218),\n",
       "  ('loser russians', 0.5161806),\n",
       "  ('russians actually', 0.5076155)],\n",
       " 84: [('gogh protest', 0.6702718),\n",
       "  ('photography protest', 0.55081296),\n",
       "  ('paintings covered', 0.5195432),\n",
       "  ('painting evokes', 0.5109271),\n",
       "  ('paint criminal', 0.49143773)],\n",
       " 85: [('refund blm', 0.6043709),\n",
       "  ('osbournewho donated', 0.49810046),\n",
       "  ('kanye scam', 0.46878394),\n",
       "  ('scam blame', 0.46731037),\n",
       "  ('festooned blm', 0.46171305)],\n",
       " 86: [('blm bureau', 0.6586408),\n",
       "  ('management blm', 0.6529403),\n",
       "  ('managed blm', 0.63120353),\n",
       "  ('companies blm', 0.6259983),\n",
       "  ('bureau land', 0.6101244)],\n",
       " 87: [('activist', 0.48087782),\n",
       "  ('activist prodemocracy', 0.47552744),\n",
       "  ('followers reach', 0.46517894),\n",
       "  ('followers fine', 0.45602733),\n",
       "  ('lifetime activist', 0.45523673)],\n",
       " 88: [('rioting democrats', 0.4776712),\n",
       "  ('democrats acted', 0.46388328),\n",
       "  ('2020 corrupt', 0.36899498),\n",
       "  ('rampant democratic', 0.3594959),\n",
       "  ('acted blm', 0.3594773)],\n",
       " 89: [('political ads', 0.65776926),\n",
       "  ('ads', 0.50244826),\n",
       "  ('having ads', 0.49125403),\n",
       "  ('producing ads', 0.48502615),\n",
       "  ('ad', 0.4678812)],\n",
       " 90: [('pictures riots', 0.6613716),\n",
       "  ('photos blm', 0.5768575),\n",
       "  ('blm participated', 0.55096775),\n",
       "  ('streets protest', 0.5409588),\n",
       "  ('protests bout', 0.5197867)],\n",
       " 91: [('twitch week', 0.57239026),\n",
       "  ('overwatch2 twitchstreamers', 0.569528),\n",
       "  ('twitch', 0.55191195),\n",
       "  ('twitch gt', 0.54789656),\n",
       "  ('twitchstreamer', 0.5263115)],\n",
       " 92: [('doj politics', 0.6404046),\n",
       "  ('doj', 0.50284404),\n",
       "  ('tell doj', 0.48952693),\n",
       "  ('doj isnt', 0.48143882),\n",
       "  ('doj needs', 0.47825974)],\n",
       " 93: [('blmliberal', 0.49936092),\n",
       "  ('says democrat', 0.47219482),\n",
       "  ('running pennsylvania', 0.44658217),\n",
       "  ('philly vote', 0.4465446),\n",
       "  ('shocker blmliberal', 0.44643185)],\n",
       " 94: [('opposes blm', 0.58070207),\n",
       "  ('insulting black', 0.47616345),\n",
       "  ('poc white', 0.46695694),\n",
       "  ('promote racial', 0.43038586),\n",
       "  ('racists tell', 0.41998243)],\n",
       " 95: [('blm mask', 0.5753464),\n",
       "  ('mask men', 0.5181084),\n",
       "  ('mask good', 0.4734164),\n",
       "  ('masks make', 0.47128963),\n",
       "  ('mask', 0.45493662)],\n",
       " 96: [('liberal dem', 0.6250947),\n",
       "  ('older democrat', 0.5550789),\n",
       "  ('considered democrat', 0.54204744),\n",
       "  ('democrat criticize', 0.5382857),\n",
       "  ('democrat life', 0.5301868)],\n",
       " 97: [('hugzz covidisnotover', 0.59993786),\n",
       "  ('following hugzz', 0.583357),\n",
       "  ('hugzz bluecrew', 0.5710032),\n",
       "  ('hugzz followed', 0.570549),\n",
       "  ('hugzz friend', 0.5368597)],\n",
       " 98: [('blacklivesmatter elijah', 0.71521705),\n",
       "  ('elijahmcclain blacklivesmatter', 0.6843637),\n",
       "  ('elijahs death', 0.6636044),\n",
       "  ('sad elijahmcclain', 0.6319398),\n",
       "  ('elijah deserved', 0.62707424)],\n",
       " 99: [('blm troll', 0.7889933),\n",
       "  ('troll black', 0.6001635),\n",
       "  ('exposing trollfarms', 0.55100703),\n",
       "  ('troll trolls', 0.5107265),\n",
       "  ('troll means', 0.502363)],\n",
       " 100: [('blm teaching', 0.59633493),\n",
       "  ('teacher', 0.48199096),\n",
       "  ('fell teacher', 0.48142374),\n",
       "  ('criminals blm', 0.47806534),\n",
       "  ('ethnics teacher', 0.4752242)],\n",
       " 101: [('liberal dress', 0.4609149),\n",
       "  ('liberal lets', 0.42261094),\n",
       "  ('date liberal', 0.4214853),\n",
       "  ('antifa members', 0.3903464),\n",
       "  ('liberal strung', 0.3773859)],\n",
       " 102: [('local trails', 0.6848763),\n",
       "  ('hiking blm', 0.67639774),\n",
       "  ('trails planning', 0.6543317),\n",
       "  ('hiking spot', 0.62764835),\n",
       "  ('wilderness study', 0.62264574)],\n",
       " 103: [('brown reparations', 0.64844495),\n",
       "  ('pay reparations', 0.63401955),\n",
       "  ('want reparations', 0.62856233),\n",
       "  ('reparations think', 0.625667),\n",
       "  ('reparations deserve', 0.61431)],\n",
       " 104: [('enforced blm', 0.6330917),\n",
       "  ('acceptable blm', 0.55512667),\n",
       "  ('vandalism article', 0.55237377),\n",
       "  ('vandalized federal', 0.5161901),\n",
       "  ('vandalizing local', 0.48640206)],\n",
       " 105: [('favre scandal', 0.7039399),\n",
       "  ('news favre', 0.66377914),\n",
       "  ('favre paying', 0.65055346),\n",
       "  ('favre whats', 0.6346102),\n",
       "  ('favre', 0.62900794)],\n",
       " 106: [('racist darrell', 0.561106),\n",
       "  ('whites anti', 0.5097762),\n",
       "  ('informed racist', 0.5067642),\n",
       "  ('racism willie', 0.49628347),\n",
       "  ('white antiracist', 0.48711884)],\n",
       " 107: [('2013 blm', 0.54699045),\n",
       "  ('lied defrauded', 0.52381265),\n",
       "  ('blm retweets', 0.5048109),\n",
       "  ('surgery blm', 0.48152328),\n",
       "  ('lies concerned', 0.42497644)],\n",
       " 108: [('protest cat', 0.59192586),\n",
       "  ('outrage cat', 0.50589657),\n",
       "  ('arguing cat', 0.49357614),\n",
       "  ('wheres blm', 0.49129745),\n",
       "  ('talking cats', 0.42701754)],\n",
       " 109: [('parody account', 0.64998335),\n",
       "  ('fake verified', 0.54817396),\n",
       "  ('impersonator parody', 0.5200242),\n",
       "  ('accounts impersonating', 0.5148442),\n",
       "  ('verified accounts', 0.5111499)],\n",
       " 110: [('thugs', 0.5795271),\n",
       "  ('thugs refer', 0.5737406),\n",
       "  ('thugswithbadges telling', 0.57140034),\n",
       "  ('thugs enrages', 0.56271434),\n",
       "  ('real thugs', 0.56205285)],\n",
       " 111: [('suing blm', 0.7355747),\n",
       "  ('suing racist', 0.69174516),\n",
       "  ('blacklivesmatter suing', 0.689084),\n",
       "  ('sue sue', 0.67113364),\n",
       "  ('suing', 0.66301227)],\n",
       " 112: [('hiring blm', 0.7141891),\n",
       "  ('hired blm', 0.6804552),\n",
       "  ('blm victimi', 0.54089075),\n",
       "  ('agencies wont', 0.5033541),\n",
       "  ('cell blm', 0.47451833)],\n",
       " 113: [('foxnews watch', 0.6982295),\n",
       "  ('watch fox', 0.66209495),\n",
       "  ('fox news', 0.6319269),\n",
       "  ('fox haters', 0.60284334),\n",
       "  ('fox isnt', 0.57446915)],\n",
       " 114: [('climate protests', 0.7406528),\n",
       "  ('protests climate', 0.72041327),\n",
       "  ('climate activists', 0.65622497),\n",
       "  ('conservatives blm', 0.5979542),\n",
       "  ('forget protests', 0.5153458)],\n",
       " 115: [('truth illegality', 0.46919647),\n",
       "  ('russiaukrainewar illegality', 0.4580408),\n",
       "  ('illegality didnt', 0.45237955),\n",
       "  ('fact biden', 0.44812897),\n",
       "  ('biden remove', 0.4413566)],\n",
       " 116: [('blm boxer', 0.6456999),\n",
       "  ('mma blm', 0.643726),\n",
       "  ('fight boxing', 0.63507175),\n",
       "  ('boxer im', 0.6126928),\n",
       "  ('boxer', 0.5923851)],\n",
       " 117: [('blm attempts', 0.66636944),\n",
       "  ('blm did', 0.64314854),\n",
       "  ('blm protester', 0.6330151),\n",
       "  ('said blm', 0.6231538),\n",
       "  ('remind blm', 0.61706555)],\n",
       " 118: [('riots qanon', 0.63016653),\n",
       "  ('qanon thing', 0.5977636),\n",
       "  ('qanon accused', 0.5959698),\n",
       "  ('huh qanon', 0.5917784),\n",
       "  ('qanon took', 0.58457386)],\n",
       " 119: [('freedom speech', 0.5366745),\n",
       "  ('blm antiracist', 0.50811803),\n",
       "  ('religion blm', 0.49744645),\n",
       "  ('blm history', 0.45404428),\n",
       "  ('infringing freedom', 0.4041988)],\n",
       " 120: [('difference antifa', 0.6247021),\n",
       "  ('difference communists', 0.55492216),\n",
       "  ('difference liberals', 0.537111),\n",
       "  ('liberals antifa', 0.53318083),\n",
       "  ('blm nazis', 0.47629288)],\n",
       " 121: [('followers today', 0.5985965),\n",
       "  ('transphobia followers', 0.5978648),\n",
       "  ('followers trending', 0.5716203),\n",
       "  ('followers', 0.5291634),\n",
       "  ('follower follow', 0.5042864)],\n",
       " 122: [('maga hat', 0.48452276),\n",
       "  ('hat trump', 0.46885395),\n",
       "  ('maga losers', 0.4465797),\n",
       "  ('remind maga', 0.44595206),\n",
       "  ('sprayed blm', 0.42345953)],\n",
       " 123: [('alllivesmatter gundam', 0.47318375),\n",
       "  ('gundam', 0.4280262),\n",
       "  ('gundam fighting', 0.4008961),\n",
       "  ('mindset justdowhatisright', 0.35809517),\n",
       "  ('respect people', 0.34952366)],\n",
       " 124: [('traded blms', 0.49153066),\n",
       "  ('rivera owner', 0.4088648),\n",
       "  ('blm calgary', 0.4079994),\n",
       "  ('calgary case', 0.37761554),\n",
       "  ('blms rights', 0.3702654)],\n",
       " 125: [('jokes blm', 0.783899),\n",
       "  ('blm joke', 0.77402854),\n",
       "  ('funny blm', 0.7651383),\n",
       "  ('blm okay', 0.6963434),\n",
       "  ('blm', 0.6690849)],\n",
       " 126: [('feel blm', 0.6126634),\n",
       "  ('blm yo', 0.60572493),\n",
       "  ('blm dont', 0.6022265),\n",
       "  ('got blm', 0.5977099),\n",
       "  ('blm just', 0.5744754)],\n",
       " 127: [('blm talk', 0.6213383),\n",
       "  ('blm fought', 0.6113691),\n",
       "  ('produced blm', 0.5867113),\n",
       "  ('save blm', 0.55252135),\n",
       "  ('blm mocking', 0.5443979)],\n",
       " 128: [('female antifa', 0.49106967),\n",
       "  ('tell gender', 0.47931826),\n",
       "  ('women clinton', 0.46054763),\n",
       "  ('affirmation genders', 0.45856866),\n",
       "  ('gender sensitivity', 0.4559296)],\n",
       " 129: [('blm climate', 0.6243848),\n",
       "  ('planet blm', 0.5950342),\n",
       "  ('blm pandemic', 0.5585508),\n",
       "  ('climate change', 0.5181776),\n",
       "  ('look blm', 0.515189)],\n",
       " 130: [('blacklivesmatter friend', 0.6263191),\n",
       "  ('blacklivesmatter blackwomen', 0.59086215),\n",
       "  ('blacklivesmatter liaralice', 0.5796824),\n",
       "  ('got blacklivesmatter', 0.5413819),\n",
       "  ('whiteprivilege blacklivesmatter', 0.53959274)],\n",
       " 131: [('corporations supported', 0.4858816),\n",
       "  ('boycott shit', 0.47267097),\n",
       "  ('gonna boycott', 0.4598078),\n",
       "  ('woke corporations', 0.42177466),\n",
       "  ('boycotted', 0.4217373)],\n",
       " 132: [('kkk dems', 0.68314105),\n",
       "  ('democrats antiva', 0.60899734),\n",
       "  ('nazi kkk', 0.56556493),\n",
       "  ('democrats accuse', 0.557149),\n",
       "  ('party antifa', 0.55267173)],\n",
       " 133: [('blm republicans', 0.6440017),\n",
       "  ('movement republicans', 0.57440805),\n",
       "  ('blm feminist', 0.5444014),\n",
       "  ('vote women', 0.50766534),\n",
       "  ('let republicans', 0.49447197)],\n",
       " 134: [('attacker republican', 0.65746856),\n",
       "  ('attacked berkeley', 0.5728103),\n",
       "  ('republicans inferring', 0.5118654),\n",
       "  ('republican truth', 0.50837123),\n",
       "  ('sound republican', 0.43988183)],\n",
       " 135: [('hollywood actor', 0.5445821),\n",
       "  ('support hollywood', 0.53137195),\n",
       "  ('actor make', 0.48922986),\n",
       "  ('okay hollywood', 0.47422647),\n",
       "  ('actor', 0.46681976)],\n",
       " 136: [('blm costume', 0.7061382),\n",
       "  ('blm glam', 0.58076024),\n",
       "  ('witchy blm', 0.5137158),\n",
       "  ('costume update', 0.49729005),\n",
       "  ('blm af', 0.46754533)],\n",
       " 137: [('blm injuring', 0.64041245),\n",
       "  ('injured police', 0.6330237),\n",
       "  ('cops died', 0.59335136),\n",
       "  ('thousands cops', 0.5696399),\n",
       "  ('officer injured', 0.56945825)],\n",
       " 138: [('blm money', 0.73701644),\n",
       "  ('money blm', 0.72943443),\n",
       "  ('blm buy', 0.71554804),\n",
       "  ('support blm', 0.70353705),\n",
       "  ('dollar blm', 0.6983727)],\n",
       " 139: [('antifa woke', 0.5389647),\n",
       "  ('blm antifas', 0.53201),\n",
       "  ('radical hateful', 0.4938733),\n",
       "  ('radical leftists', 0.4859962),\n",
       "  ('antifas efforts', 0.48416555)],\n",
       " 140: [('riots billions', 0.53714067),\n",
       "  ('antifblm riots', 0.52822787),\n",
       "  ('killed antifa', 0.52444184),\n",
       "  ('riots tweets', 0.5056908),\n",
       "  ('terrorists rampaged', 0.48541856)],\n",
       " 141: [('blm clowns', 0.7555939),\n",
       "  ('leftist clowns', 0.6199044),\n",
       "  ('outspoken blm', 0.59516144),\n",
       "  ('did blm', 0.59415334),\n",
       "  ('blm supporter', 0.5826853)],\n",
       " 142: [('looting blm', 0.7368289),\n",
       "  ('blm burned', 0.6221567),\n",
       "  ('blm loot', 0.6107753),\n",
       "  ('blm burning', 0.5946521),\n",
       "  ('proof blm', 0.5865031)],\n",
       " 143: [('sure blm', 0.5934257),\n",
       "  ('stay blm', 0.5843466),\n",
       "  ('blm', 0.5662007),\n",
       "  ('blm nhs', 0.5637624),\n",
       "  ('blm fbpe', 0.5574808)],\n",
       " 144: [('tucker carlson', 0.60729885),\n",
       "  ('tuckerlying propagandist', 0.5486605),\n",
       "  ('carlson fake', 0.54776895),\n",
       "  ('blame tucker', 0.54168844),\n",
       "  ('caught tucker', 0.5200858)],\n",
       " 145: [('worried diversity', 0.5849391),\n",
       "  ('blm immigrants', 0.55480194),\n",
       "  ('diversity blm', 0.5316938),\n",
       "  ('migration people', 0.48522368),\n",
       "  ('movements blm', 0.47483328)],\n",
       " 146: [('self defense', 0.61715055),\n",
       "  ('gun protect', 0.52969384),\n",
       "  ('abducted gun', 0.5036958),\n",
       "  ('telling robber', 0.49208978),\n",
       "  ('robber', 0.45758563)],\n",
       " 147: [('blm burning', 0.50032115),\n",
       "  ('ok blm', 0.4900005),\n",
       "  ('blm burn', 0.48031217),\n",
       "  ('didnt pelosi', 0.47526795),\n",
       "  ('nancy pelosi', 0.46574092)],\n",
       " 148: [('saying blm', 0.6064824),\n",
       "  ('blm pride', 0.53116506),\n",
       "  ('blm somebody', 0.5291844),\n",
       "  ('blm stop', 0.52890867),\n",
       "  ('blm platitudes', 0.51624537)],\n",
       " 149: [('believe socialism', 0.64965135),\n",
       "  ('cool socialism', 0.6029329),\n",
       "  ('absolutely socialism', 0.5852822),\n",
       "  ('socialism im', 0.56470025),\n",
       "  ('socialist regime', 0.5634545)],\n",
       " 150: [('twitter written', 0.5116015),\n",
       "  ('used blm', 0.5082649),\n",
       "  ('matter twitter', 0.501386),\n",
       "  ('blm garbage', 0.49891382),\n",
       "  ('written twitter', 0.49560684)],\n",
       " 151: [('disgusted blm', 0.6026275),\n",
       "  ('blm marched', 0.5856168),\n",
       "  ('gael supporters', 0.54895544),\n",
       "  ('dead blm', 0.5057904),\n",
       "  ('realise celtic', 0.48811278)],\n",
       " 152: [('gue blm', 0.55881315),\n",
       "  ('parfume blm', 0.51953596),\n",
       "  ('peenah banget', 0.4478982),\n",
       "  ('mumpung pasport', 0.43177408),\n",
       "  ('transavia help', 0.43152392)],\n",
       " 153: [('left politically', 0.6257149),\n",
       "  ('leftwing', 0.5237261),\n",
       "  ('leftwing rightwing', 0.5115136),\n",
       "  ('left covid', 0.47446454),\n",
       "  ('politically center', 0.45508155)],\n",
       " 154: [('colorado cold', 0.5440359),\n",
       "  ('trip cold', 0.531214),\n",
       "  ('cycling winter', 0.48538327),\n",
       "  ('nyc dreamed', 0.45211807),\n",
       "  ('cold beautiful', 0.4253445)],\n",
       " 155: [('blm tbo', 0.7344731),\n",
       "  ('shit blm', 0.73303485),\n",
       "  ('saying blm', 0.7317756),\n",
       "  ('blm coming', 0.72523296),\n",
       "  ('knew blm', 0.70571035)],\n",
       " 156: [('blaming blm', 0.6105159),\n",
       "  ('referring blm', 0.51885396),\n",
       "  ('events blm', 0.4758849),\n",
       "  ('blm dems', 0.44829068),\n",
       "  ('property blamed', 0.44710514)]}"
      ]
     },
     "execution_count": 81,
     "metadata": {},
     "output_type": "execute_result"
    }
   ],
   "source": [
    "topic_model.get_topics()"
   ]
  },
  {
   "cell_type": "code",
   "execution_count": 127,
   "metadata": {},
   "outputs": [
    {
     "data": {
      "application/vnd.plotly.v1+json": {
       "config": {
        "plotlyServerURL": "https://plot.ly"
       },
       "data": [
        {
         "customdata": [
          [
           0,
           "blm protest | blm antifa | antifa blm | ar 15 | black lives",
           25075
          ],
          [
           1,
           "justice breonna | murdered breonna | murder breonna | justiceforbreonnataylor blacklivesmatter | killed breonna",
           1302
          ],
          [
           2,
           "shes blm | blm shes | blm activist | blm cult | posted blm",
           1260
          ],
          [
           3,
           "antifa proud | blm proud | white supremacists | boys antifa | proud boys",
           708
          ],
          [
           4,
           "blm land | blm lands | countycasper blm | blm seeking | blm wy",
           645
          ],
          [
           5,
           "floyd protest | floyd protests | floyd police | floyd blm | floyd blacklivesmatter",
           616
          ],
          [
           6,
           "vote texas | vote tx | tx gop | texas republicans | texas citizens",
           550
          ],
          [
           7,
           "protests masks | mask protesters | masks blm | blm masks | masks public",
           464
          ],
          [
           8,
           "supporting blm | blm politics | racism football | league blm | blm hockey",
           421
          ],
          [
           9,
           "nba strikes | nba blm | basketball blm | blm nba | blacklivesmatter nba",
           373
          ],
          [
           10,
           "godless blm | church attacks | blm prayer | protest mob | church harassed",
           366
          ],
          [
           11,
           "debate wallace | question wallace | blm wallace | wallace asked | asked wallace",
           335
          ],
          [
           12,
           "teacher blm | blm school | blm classroom | teaching blm | teach blm",
           310
          ],
          [
           13,
           "wtt | wts want | wtb | wts pc | wts",
           280
          ],
          [
           14,
           "vote blacklivesmatter | blacklivesmatter vote | votes blacklivesmatter | defeat electoral | voting humiliating",
           261
          ],
          [
           15,
           "blacklivesmatter music | music solidarity | blacklivesmatter song | enjoy music | wonderful music",
           215
          ],
          [
           16,
           "1865 enslaved | day 1865 | juneteenth holiday | juneteenth day | tx june",
           214
          ],
          [
           17,
           "black writers | blacklivesmatter books | blacklivesmatter teacher | books black | black authors",
           214
          ],
          [
           18,
           "racism kneel4hockey | fans kneel4hockey | kneel4hockey solidarity | hockeyisforeveryone kneel4hockey | blacklivesmatter nhl",
           213
          ],
          [
           19,
           "defunding police | defund police | police defunding | police defund | police defunded",
           212
          ],
          [
           20,
           "soros funded | funded soros | soros funding | soros money | soros funds",
           183
          ],
          [
           21,
           "isaac kneeling | anthem wearing | kneeling anthem | shirt anthem | shirt jonathan",
           165
          ],
          [
           22,
           "blm sign | blm signs | signs blm | lawn signs | signs neighbor",
           154
          ],
          [
           23,
           "sezzle | sezzle just | online clothing | etsy black | shopping beauty",
           145
          ],
          [
           24,
           "confederate flags | confederate flag | american flags | america flag | state flag",
           142
          ],
          [
           25,
           "unrest az | az voter | gop az | az voters | citizens az",
           138
          ],
          [
           26,
           "blm abortions | blm abortion | support abortion | black babies | blm babies",
           134
          ],
          [
           27,
           "mlb blm | ny mets | mets ny | blm mlb | mlb ny",
           131
          ],
          [
           28,
           "mph wfo | m59 mph | m51 mph | m50 mph | station mtm17",
           113
          ],
          [
           29,
           "ms13 terrorist | blm ms13 | ms13 blm | ms13 antifa | blm radical",
           107
          ],
          [
           30,
           "attacks jews | targeting jewish | racism antisemitism | hate jews | black jews",
           94
          ],
          [
           31,
           "suicides blm | suicides lynchings | malcolm harsch | ruled suicides | lynchings ca",
           92
          ],
          [
           32,
           "healer | black mage | healers | 2nd tank | want raid",
           88
          ],
          [
           33,
           "blm protests | praises blm | douche alert | protests watch | protests",
           84
          ],
          [
           34,
           "flag confederate | confederate symbol | mississippi legislature | confederate flag | state mississippi",
           76
          ],
          [
           35,
           "saban alabama | nick saban | saban marching | nick sabans | alabama fan",
           72
          ],
          [
           36,
           "curfew ny | citywide curfew | curfew tonight | nyc curfew | enforced curfew",
           71
          ],
          [
           37,
           "rosenberg convicted | blm convicted | susan rosenberg | convicted terrorist | blmshe convicted",
           70
          ],
          [
           38,
           "douglass statue | frederick douglass | ny statue | statue frederick | statue vandalized",
           69
          ],
          [
           39,
           "pride lgbtq | lgbtq pride | pridemonth2020 blacklivesmatter | pride blacklivesmatter | blacklivesmatter pride2020",
           68
          ],
          [
           40,
           "blacklivesmatter mural | blacklivesmatter murals | blacklivesmatter brooklynforever | mural harlem | mural nyc",
           65
          ],
          [
           41,
           "video hitler | hitler reacting | humor presendentialdebate2020 | reacting presidential | blm protesters",
           62
          ],
          [
           42,
           "chain blacklivesmatter | break chain | blacklivesmatter break | break chainblacklivesmatter | wont blacklivesmatter",
           62
          ],
          [
           43,
           "petition blacklivesmatter | sign petition | petition | petition boy | share petition",
           62
          ],
          [
           44,
           "national anthem | anthem blm | protests anthem | flag anthem | kneeling anthem",
           58
          ],
          [
           45,
           "bars lives | bar lives | say bar | bar | disrespectful bars",
           56
          ],
          [
           46,
           "pelosi investigation | pelosi called | pelosis | ms pelosis | pelosi didnt",
           55
          ],
          [
           47,
           "msm blm | ms taylors | ms taylor | killed taylor | taylors tragic",
           51
          ],
          [
           48,
           "blacklivesmatter terry | blacklivesmatter tweet | blacklivesbetter terry | warns blacklivesmatter | blacklivesbetter blacklivesmatter",
           49
          ],
          [
           49,
           "slavery blm | slave africa | slave trade | slave labor | slavery",
           48
          ],
          [
           50,
           "protest vidor | blm vidor | vidor blm | rally vidor | kkk rally",
           47
          ],
          [
           51,
           "china blm | blm china | lies china | china funded | dealings china",
           46
          ],
          [
           52,
           "valheim fortnite | veteran usmc | og veteran | valheim new | usmc veteran",
           45
          ],
          [
           53,
           "blm karmys | posts blm | blm weverse | blm posts | karmys reporting",
           45
          ],
          [
           54,
           "cops buffalo | officers buffalo | protestors buffalo | ny police | blacklivesmatter nypd",
           45
          ],
          [
           55,
           "lives matter | sayhisname blackbabieslivesmatter | blackbabieslivesmatter | doblacklivesmattertoblackpeople muchprayer | blackbabieslivesmatter chicago",
           40
          ],
          [
           56,
           "trafficking blm | child trafficking | stopping trafficking | human trafficking | trafficking",
           39
          ],
          [
           57,
           "gun blm | protesters fl | police florida | blm protest | firearm arrested",
           38
          ],
          [
           58,
           "blm canada | imposed blm | celebrate canada | infiltrated calgary | canada day",
           37
          ],
          [
           59,
           "blacklivesmatter covid19 | reminder covid19 | rapidly covid19 | covid19 ravaging | covid19",
           37
          ],
          [
           60,
           "kpop fandoms | kpop stans | kpop fans | hate kpop | kpop guys",
           36
          ],
          [
           61,
           "migrants libya | migrants malta | humanrightsviolations migrants | humanrights migrants | libya malta",
           34
          ],
          [
           62,
           "yemen blm | blm yemen | yemen crisis | crisis yemen | world blm",
           34
          ],
          [
           63,
           "fascist symbols | socialist logo | symbol solidarity | salute logo | logo",
           33
          ],
          [
           64,
           "wakeupamerica latinosfortrump | care latinos | latinos democratsarelyingtoyou | smeared latinos | latinos poor",
           33
          ],
          [
           65,
           "starbucks blm | blm starbucks | starbucks blacklivesmatter | starbucks black | tagging starbucks",
           33
          ],
          [
           66,
           "hk protests | hk protesters | kong protests | kong protesters | kong protestors",
           32
          ],
          [
           67,
           "nuclear families | nuclear family | family blm | extended families | support nuclear",
           32
          ],
          [
           68,
           "panic trump | feared panic | avoiding panic | panic | panicking",
           31
          ],
          [
           69,
           "hamas palestinian | hamas terroristorganizations | palestinianlivesmatter | palestinians | palestinian",
           31
          ]
         ],
         "hovertemplate": "<b>Topic %{customdata[0]}</b><br>%{customdata[1]}<br>Size: %{customdata[2]}",
         "legendgroup": "",
         "marker": {
          "color": "#B0BEC5",
          "line": {
           "color": "DarkSlateGrey",
           "width": 2
          },
          "size": [
           25075,
           1302,
           1260,
           708,
           645,
           616,
           550,
           464,
           421,
           373,
           366,
           335,
           310,
           280,
           261,
           215,
           214,
           214,
           213,
           212,
           183,
           165,
           154,
           145,
           142,
           138,
           134,
           131,
           113,
           107,
           94,
           92,
           88,
           84,
           76,
           72,
           71,
           70,
           69,
           68,
           65,
           62,
           62,
           62,
           58,
           56,
           55,
           51,
           49,
           48,
           47,
           46,
           45,
           45,
           45,
           40,
           39,
           38,
           37,
           37,
           36,
           34,
           34,
           33,
           33,
           33,
           32,
           32,
           31,
           31
          ],
          "sizemode": "area",
          "sizeref": 15.671875,
          "symbol": "circle"
         },
         "mode": "markers",
         "name": "",
         "orientation": "v",
         "showlegend": false,
         "type": "scatter",
         "x": [
          -5.619081,
          -0.62756026,
          -1.9726928,
          -7.4537106,
          -6.195149,
          -4.968255,
          -1.5601369,
          -5.410964,
          6.1423097,
          6.3870826,
          -4.848924,
          -4.6006556,
          -7.4037495,
          22.310411,
          -4.649335,
          -7.6996484,
          -7.7622733,
          -7.5839734,
          6.4428415,
          -4.5577097,
          -5.096476,
          -5.4842405,
          -6.1429944,
          5.5198255,
          -5.699592,
          -5.697509,
          -5.6277843,
          6.0914207,
          22.186247,
          -4.1457596,
          -7.746299,
          -0.44909027,
          22.458628,
          -4.199545,
          -5.7553577,
          6.3501472,
          -5.540576,
          -2.0642042,
          5.2506785,
          -7.7348075,
          5.368647,
          -4.3035655,
          5.6474032,
          -0.58888113,
          -5.5529833,
          -4.987947,
          -1.8918421,
          -1.0768828,
          -4.4920416,
          -3.4419048,
          -1.5095124,
          2.9827332,
          22.50496,
          7.3181953,
          -0.30375955,
          -4.5447273,
          -3.5601552,
          -4.150739,
          -5.4035845,
          -5.6408367,
          7.3183846,
          -8.0020485,
          -7.9188757,
          -4.348403,
          -5.0241466,
          -5.0694413,
          3.0407002,
          -5.554458,
          -4.04766,
          -7.886294
         ],
         "xaxis": "x",
         "y": [
          8.256571,
          10.319127,
          9.583519,
          9.476389,
          9.371807,
          8.883611,
          21.824959,
          8.382994,
          -2.2923608,
          -2.5375502,
          8.311326,
          8.9223795,
          7.600079,
          -4.899424,
          11.044129,
          7.3841476,
          9.7068205,
          7.484112,
          -2.592613,
          8.813986,
          9.42273,
          6.4234757,
          9.2671795,
          18.975918,
          6.8670278,
          8.606704,
          7.9041195,
          -2.2416215,
          -4.774996,
          7.8772984,
          -1.9743509,
          10.404981,
          -5.0480824,
          8.917864,
          6.9049425,
          -2.5006518,
          8.789236,
          9.631749,
          19.24511,
          9.687076,
          19.127254,
          9.490589,
          18.847738,
          10.367856,
          6.5302134,
          8.631964,
          9.736621,
          10.129985,
          10.99773,
          9.808637,
          21.774296,
          -8.242736,
          -5.0945005,
          -9.739666,
          10.493541,
          11.000975,
          9.725101,
          9.631642,
          8.866605,
          8.467865,
          -9.7399645,
          -1.7188874,
          -1.8022691,
          8.407151,
          8.860646,
          8.244122,
          -8.301634,
          7.807347,
          7.899494,
          -1.8347571
         ],
         "yaxis": "y"
        }
       ],
       "layout": {
        "annotations": [
         {
          "showarrow": false,
          "text": "D1",
          "x": -9.202355766296387,
          "y": 6.948871731758118,
          "yshift": 10
         },
         {
          "showarrow": false,
          "text": "D2",
          "x": 8.339173603057862,
          "xshift": 10,
          "y": 25.09870262145996
         }
        ],
        "height": 650,
        "hoverlabel": {
         "bgcolor": "white",
         "font": {
          "family": "Rockwell",
          "size": 16
         }
        },
        "legend": {
         "itemsizing": "constant",
         "tracegroupgap": 0
        },
        "margin": {
         "t": 60
        },
        "shapes": [
         {
          "line": {
           "color": "#CFD8DC",
           "width": 2
          },
          "type": "line",
          "x0": 8.339173603057862,
          "x1": 8.339173603057862,
          "y0": -11.200959157943725,
          "y1": 25.09870262145996
         },
         {
          "line": {
           "color": "#9E9E9E",
           "width": 2
          },
          "type": "line",
          "x0": -9.202355766296387,
          "x1": 25.88070297241211,
          "y0": 6.948871731758118,
          "y1": 6.948871731758118
         }
        ],
        "sliders": [
         {
          "active": 0,
          "pad": {
           "t": 50
          },
          "steps": [
           {
            "args": [
             {
              "marker.color": [
               [
                "red",
                "#B0BEC5",
                "#B0BEC5",
                "#B0BEC5",
                "#B0BEC5",
                "#B0BEC5",
                "#B0BEC5",
                "#B0BEC5",
                "#B0BEC5",
                "#B0BEC5",
                "#B0BEC5",
                "#B0BEC5",
                "#B0BEC5",
                "#B0BEC5",
                "#B0BEC5",
                "#B0BEC5",
                "#B0BEC5",
                "#B0BEC5",
                "#B0BEC5",
                "#B0BEC5",
                "#B0BEC5",
                "#B0BEC5",
                "#B0BEC5",
                "#B0BEC5",
                "#B0BEC5",
                "#B0BEC5",
                "#B0BEC5",
                "#B0BEC5",
                "#B0BEC5",
                "#B0BEC5",
                "#B0BEC5",
                "#B0BEC5",
                "#B0BEC5",
                "#B0BEC5",
                "#B0BEC5",
                "#B0BEC5",
                "#B0BEC5",
                "#B0BEC5",
                "#B0BEC5",
                "#B0BEC5",
                "#B0BEC5",
                "#B0BEC5",
                "#B0BEC5",
                "#B0BEC5",
                "#B0BEC5",
                "#B0BEC5",
                "#B0BEC5",
                "#B0BEC5",
                "#B0BEC5",
                "#B0BEC5",
                "#B0BEC5",
                "#B0BEC5",
                "#B0BEC5",
                "#B0BEC5",
                "#B0BEC5",
                "#B0BEC5",
                "#B0BEC5",
                "#B0BEC5",
                "#B0BEC5",
                "#B0BEC5",
                "#B0BEC5",
                "#B0BEC5",
                "#B0BEC5",
                "#B0BEC5",
                "#B0BEC5",
                "#B0BEC5",
                "#B0BEC5",
                "#B0BEC5",
                "#B0BEC5",
                "#B0BEC5"
               ]
              ]
             }
            ],
            "label": "Topic 0",
            "method": "update"
           },
           {
            "args": [
             {
              "marker.color": [
               [
                "#B0BEC5",
                "red",
                "#B0BEC5",
                "#B0BEC5",
                "#B0BEC5",
                "#B0BEC5",
                "#B0BEC5",
                "#B0BEC5",
                "#B0BEC5",
                "#B0BEC5",
                "#B0BEC5",
                "#B0BEC5",
                "#B0BEC5",
                "#B0BEC5",
                "#B0BEC5",
                "#B0BEC5",
                "#B0BEC5",
                "#B0BEC5",
                "#B0BEC5",
                "#B0BEC5",
                "#B0BEC5",
                "#B0BEC5",
                "#B0BEC5",
                "#B0BEC5",
                "#B0BEC5",
                "#B0BEC5",
                "#B0BEC5",
                "#B0BEC5",
                "#B0BEC5",
                "#B0BEC5",
                "#B0BEC5",
                "#B0BEC5",
                "#B0BEC5",
                "#B0BEC5",
                "#B0BEC5",
                "#B0BEC5",
                "#B0BEC5",
                "#B0BEC5",
                "#B0BEC5",
                "#B0BEC5",
                "#B0BEC5",
                "#B0BEC5",
                "#B0BEC5",
                "#B0BEC5",
                "#B0BEC5",
                "#B0BEC5",
                "#B0BEC5",
                "#B0BEC5",
                "#B0BEC5",
                "#B0BEC5",
                "#B0BEC5",
                "#B0BEC5",
                "#B0BEC5",
                "#B0BEC5",
                "#B0BEC5",
                "#B0BEC5",
                "#B0BEC5",
                "#B0BEC5",
                "#B0BEC5",
                "#B0BEC5",
                "#B0BEC5",
                "#B0BEC5",
                "#B0BEC5",
                "#B0BEC5",
                "#B0BEC5",
                "#B0BEC5",
                "#B0BEC5",
                "#B0BEC5",
                "#B0BEC5",
                "#B0BEC5"
               ]
              ]
             }
            ],
            "label": "Topic 1",
            "method": "update"
           },
           {
            "args": [
             {
              "marker.color": [
               [
                "#B0BEC5",
                "#B0BEC5",
                "red",
                "#B0BEC5",
                "#B0BEC5",
                "#B0BEC5",
                "#B0BEC5",
                "#B0BEC5",
                "#B0BEC5",
                "#B0BEC5",
                "#B0BEC5",
                "#B0BEC5",
                "#B0BEC5",
                "#B0BEC5",
                "#B0BEC5",
                "#B0BEC5",
                "#B0BEC5",
                "#B0BEC5",
                "#B0BEC5",
                "#B0BEC5",
                "#B0BEC5",
                "#B0BEC5",
                "#B0BEC5",
                "#B0BEC5",
                "#B0BEC5",
                "#B0BEC5",
                "#B0BEC5",
                "#B0BEC5",
                "#B0BEC5",
                "#B0BEC5",
                "#B0BEC5",
                "#B0BEC5",
                "#B0BEC5",
                "#B0BEC5",
                "#B0BEC5",
                "#B0BEC5",
                "#B0BEC5",
                "#B0BEC5",
                "#B0BEC5",
                "#B0BEC5",
                "#B0BEC5",
                "#B0BEC5",
                "#B0BEC5",
                "#B0BEC5",
                "#B0BEC5",
                "#B0BEC5",
                "#B0BEC5",
                "#B0BEC5",
                "#B0BEC5",
                "#B0BEC5",
                "#B0BEC5",
                "#B0BEC5",
                "#B0BEC5",
                "#B0BEC5",
                "#B0BEC5",
                "#B0BEC5",
                "#B0BEC5",
                "#B0BEC5",
                "#B0BEC5",
                "#B0BEC5",
                "#B0BEC5",
                "#B0BEC5",
                "#B0BEC5",
                "#B0BEC5",
                "#B0BEC5",
                "#B0BEC5",
                "#B0BEC5",
                "#B0BEC5",
                "#B0BEC5",
                "#B0BEC5"
               ]
              ]
             }
            ],
            "label": "Topic 2",
            "method": "update"
           },
           {
            "args": [
             {
              "marker.color": [
               [
                "#B0BEC5",
                "#B0BEC5",
                "#B0BEC5",
                "red",
                "#B0BEC5",
                "#B0BEC5",
                "#B0BEC5",
                "#B0BEC5",
                "#B0BEC5",
                "#B0BEC5",
                "#B0BEC5",
                "#B0BEC5",
                "#B0BEC5",
                "#B0BEC5",
                "#B0BEC5",
                "#B0BEC5",
                "#B0BEC5",
                "#B0BEC5",
                "#B0BEC5",
                "#B0BEC5",
                "#B0BEC5",
                "#B0BEC5",
                "#B0BEC5",
                "#B0BEC5",
                "#B0BEC5",
                "#B0BEC5",
                "#B0BEC5",
                "#B0BEC5",
                "#B0BEC5",
                "#B0BEC5",
                "#B0BEC5",
                "#B0BEC5",
                "#B0BEC5",
                "#B0BEC5",
                "#B0BEC5",
                "#B0BEC5",
                "#B0BEC5",
                "#B0BEC5",
                "#B0BEC5",
                "#B0BEC5",
                "#B0BEC5",
                "#B0BEC5",
                "#B0BEC5",
                "#B0BEC5",
                "#B0BEC5",
                "#B0BEC5",
                "#B0BEC5",
                "#B0BEC5",
                "#B0BEC5",
                "#B0BEC5",
                "#B0BEC5",
                "#B0BEC5",
                "#B0BEC5",
                "#B0BEC5",
                "#B0BEC5",
                "#B0BEC5",
                "#B0BEC5",
                "#B0BEC5",
                "#B0BEC5",
                "#B0BEC5",
                "#B0BEC5",
                "#B0BEC5",
                "#B0BEC5",
                "#B0BEC5",
                "#B0BEC5",
                "#B0BEC5",
                "#B0BEC5",
                "#B0BEC5",
                "#B0BEC5",
                "#B0BEC5"
               ]
              ]
             }
            ],
            "label": "Topic 3",
            "method": "update"
           },
           {
            "args": [
             {
              "marker.color": [
               [
                "#B0BEC5",
                "#B0BEC5",
                "#B0BEC5",
                "#B0BEC5",
                "red",
                "#B0BEC5",
                "#B0BEC5",
                "#B0BEC5",
                "#B0BEC5",
                "#B0BEC5",
                "#B0BEC5",
                "#B0BEC5",
                "#B0BEC5",
                "#B0BEC5",
                "#B0BEC5",
                "#B0BEC5",
                "#B0BEC5",
                "#B0BEC5",
                "#B0BEC5",
                "#B0BEC5",
                "#B0BEC5",
                "#B0BEC5",
                "#B0BEC5",
                "#B0BEC5",
                "#B0BEC5",
                "#B0BEC5",
                "#B0BEC5",
                "#B0BEC5",
                "#B0BEC5",
                "#B0BEC5",
                "#B0BEC5",
                "#B0BEC5",
                "#B0BEC5",
                "#B0BEC5",
                "#B0BEC5",
                "#B0BEC5",
                "#B0BEC5",
                "#B0BEC5",
                "#B0BEC5",
                "#B0BEC5",
                "#B0BEC5",
                "#B0BEC5",
                "#B0BEC5",
                "#B0BEC5",
                "#B0BEC5",
                "#B0BEC5",
                "#B0BEC5",
                "#B0BEC5",
                "#B0BEC5",
                "#B0BEC5",
                "#B0BEC5",
                "#B0BEC5",
                "#B0BEC5",
                "#B0BEC5",
                "#B0BEC5",
                "#B0BEC5",
                "#B0BEC5",
                "#B0BEC5",
                "#B0BEC5",
                "#B0BEC5",
                "#B0BEC5",
                "#B0BEC5",
                "#B0BEC5",
                "#B0BEC5",
                "#B0BEC5",
                "#B0BEC5",
                "#B0BEC5",
                "#B0BEC5",
                "#B0BEC5",
                "#B0BEC5"
               ]
              ]
             }
            ],
            "label": "Topic 4",
            "method": "update"
           },
           {
            "args": [
             {
              "marker.color": [
               [
                "#B0BEC5",
                "#B0BEC5",
                "#B0BEC5",
                "#B0BEC5",
                "#B0BEC5",
                "red",
                "#B0BEC5",
                "#B0BEC5",
                "#B0BEC5",
                "#B0BEC5",
                "#B0BEC5",
                "#B0BEC5",
                "#B0BEC5",
                "#B0BEC5",
                "#B0BEC5",
                "#B0BEC5",
                "#B0BEC5",
                "#B0BEC5",
                "#B0BEC5",
                "#B0BEC5",
                "#B0BEC5",
                "#B0BEC5",
                "#B0BEC5",
                "#B0BEC5",
                "#B0BEC5",
                "#B0BEC5",
                "#B0BEC5",
                "#B0BEC5",
                "#B0BEC5",
                "#B0BEC5",
                "#B0BEC5",
                "#B0BEC5",
                "#B0BEC5",
                "#B0BEC5",
                "#B0BEC5",
                "#B0BEC5",
                "#B0BEC5",
                "#B0BEC5",
                "#B0BEC5",
                "#B0BEC5",
                "#B0BEC5",
                "#B0BEC5",
                "#B0BEC5",
                "#B0BEC5",
                "#B0BEC5",
                "#B0BEC5",
                "#B0BEC5",
                "#B0BEC5",
                "#B0BEC5",
                "#B0BEC5",
                "#B0BEC5",
                "#B0BEC5",
                "#B0BEC5",
                "#B0BEC5",
                "#B0BEC5",
                "#B0BEC5",
                "#B0BEC5",
                "#B0BEC5",
                "#B0BEC5",
                "#B0BEC5",
                "#B0BEC5",
                "#B0BEC5",
                "#B0BEC5",
                "#B0BEC5",
                "#B0BEC5",
                "#B0BEC5",
                "#B0BEC5",
                "#B0BEC5",
                "#B0BEC5",
                "#B0BEC5"
               ]
              ]
             }
            ],
            "label": "Topic 5",
            "method": "update"
           },
           {
            "args": [
             {
              "marker.color": [
               [
                "#B0BEC5",
                "#B0BEC5",
                "#B0BEC5",
                "#B0BEC5",
                "#B0BEC5",
                "#B0BEC5",
                "red",
                "#B0BEC5",
                "#B0BEC5",
                "#B0BEC5",
                "#B0BEC5",
                "#B0BEC5",
                "#B0BEC5",
                "#B0BEC5",
                "#B0BEC5",
                "#B0BEC5",
                "#B0BEC5",
                "#B0BEC5",
                "#B0BEC5",
                "#B0BEC5",
                "#B0BEC5",
                "#B0BEC5",
                "#B0BEC5",
                "#B0BEC5",
                "#B0BEC5",
                "#B0BEC5",
                "#B0BEC5",
                "#B0BEC5",
                "#B0BEC5",
                "#B0BEC5",
                "#B0BEC5",
                "#B0BEC5",
                "#B0BEC5",
                "#B0BEC5",
                "#B0BEC5",
                "#B0BEC5",
                "#B0BEC5",
                "#B0BEC5",
                "#B0BEC5",
                "#B0BEC5",
                "#B0BEC5",
                "#B0BEC5",
                "#B0BEC5",
                "#B0BEC5",
                "#B0BEC5",
                "#B0BEC5",
                "#B0BEC5",
                "#B0BEC5",
                "#B0BEC5",
                "#B0BEC5",
                "#B0BEC5",
                "#B0BEC5",
                "#B0BEC5",
                "#B0BEC5",
                "#B0BEC5",
                "#B0BEC5",
                "#B0BEC5",
                "#B0BEC5",
                "#B0BEC5",
                "#B0BEC5",
                "#B0BEC5",
                "#B0BEC5",
                "#B0BEC5",
                "#B0BEC5",
                "#B0BEC5",
                "#B0BEC5",
                "#B0BEC5",
                "#B0BEC5",
                "#B0BEC5",
                "#B0BEC5"
               ]
              ]
             }
            ],
            "label": "Topic 6",
            "method": "update"
           },
           {
            "args": [
             {
              "marker.color": [
               [
                "#B0BEC5",
                "#B0BEC5",
                "#B0BEC5",
                "#B0BEC5",
                "#B0BEC5",
                "#B0BEC5",
                "#B0BEC5",
                "red",
                "#B0BEC5",
                "#B0BEC5",
                "#B0BEC5",
                "#B0BEC5",
                "#B0BEC5",
                "#B0BEC5",
                "#B0BEC5",
                "#B0BEC5",
                "#B0BEC5",
                "#B0BEC5",
                "#B0BEC5",
                "#B0BEC5",
                "#B0BEC5",
                "#B0BEC5",
                "#B0BEC5",
                "#B0BEC5",
                "#B0BEC5",
                "#B0BEC5",
                "#B0BEC5",
                "#B0BEC5",
                "#B0BEC5",
                "#B0BEC5",
                "#B0BEC5",
                "#B0BEC5",
                "#B0BEC5",
                "#B0BEC5",
                "#B0BEC5",
                "#B0BEC5",
                "#B0BEC5",
                "#B0BEC5",
                "#B0BEC5",
                "#B0BEC5",
                "#B0BEC5",
                "#B0BEC5",
                "#B0BEC5",
                "#B0BEC5",
                "#B0BEC5",
                "#B0BEC5",
                "#B0BEC5",
                "#B0BEC5",
                "#B0BEC5",
                "#B0BEC5",
                "#B0BEC5",
                "#B0BEC5",
                "#B0BEC5",
                "#B0BEC5",
                "#B0BEC5",
                "#B0BEC5",
                "#B0BEC5",
                "#B0BEC5",
                "#B0BEC5",
                "#B0BEC5",
                "#B0BEC5",
                "#B0BEC5",
                "#B0BEC5",
                "#B0BEC5",
                "#B0BEC5",
                "#B0BEC5",
                "#B0BEC5",
                "#B0BEC5",
                "#B0BEC5",
                "#B0BEC5"
               ]
              ]
             }
            ],
            "label": "Topic 7",
            "method": "update"
           },
           {
            "args": [
             {
              "marker.color": [
               [
                "#B0BEC5",
                "#B0BEC5",
                "#B0BEC5",
                "#B0BEC5",
                "#B0BEC5",
                "#B0BEC5",
                "#B0BEC5",
                "#B0BEC5",
                "red",
                "#B0BEC5",
                "#B0BEC5",
                "#B0BEC5",
                "#B0BEC5",
                "#B0BEC5",
                "#B0BEC5",
                "#B0BEC5",
                "#B0BEC5",
                "#B0BEC5",
                "#B0BEC5",
                "#B0BEC5",
                "#B0BEC5",
                "#B0BEC5",
                "#B0BEC5",
                "#B0BEC5",
                "#B0BEC5",
                "#B0BEC5",
                "#B0BEC5",
                "#B0BEC5",
                "#B0BEC5",
                "#B0BEC5",
                "#B0BEC5",
                "#B0BEC5",
                "#B0BEC5",
                "#B0BEC5",
                "#B0BEC5",
                "#B0BEC5",
                "#B0BEC5",
                "#B0BEC5",
                "#B0BEC5",
                "#B0BEC5",
                "#B0BEC5",
                "#B0BEC5",
                "#B0BEC5",
                "#B0BEC5",
                "#B0BEC5",
                "#B0BEC5",
                "#B0BEC5",
                "#B0BEC5",
                "#B0BEC5",
                "#B0BEC5",
                "#B0BEC5",
                "#B0BEC5",
                "#B0BEC5",
                "#B0BEC5",
                "#B0BEC5",
                "#B0BEC5",
                "#B0BEC5",
                "#B0BEC5",
                "#B0BEC5",
                "#B0BEC5",
                "#B0BEC5",
                "#B0BEC5",
                "#B0BEC5",
                "#B0BEC5",
                "#B0BEC5",
                "#B0BEC5",
                "#B0BEC5",
                "#B0BEC5",
                "#B0BEC5",
                "#B0BEC5"
               ]
              ]
             }
            ],
            "label": "Topic 8",
            "method": "update"
           },
           {
            "args": [
             {
              "marker.color": [
               [
                "#B0BEC5",
                "#B0BEC5",
                "#B0BEC5",
                "#B0BEC5",
                "#B0BEC5",
                "#B0BEC5",
                "#B0BEC5",
                "#B0BEC5",
                "#B0BEC5",
                "red",
                "#B0BEC5",
                "#B0BEC5",
                "#B0BEC5",
                "#B0BEC5",
                "#B0BEC5",
                "#B0BEC5",
                "#B0BEC5",
                "#B0BEC5",
                "#B0BEC5",
                "#B0BEC5",
                "#B0BEC5",
                "#B0BEC5",
                "#B0BEC5",
                "#B0BEC5",
                "#B0BEC5",
                "#B0BEC5",
                "#B0BEC5",
                "#B0BEC5",
                "#B0BEC5",
                "#B0BEC5",
                "#B0BEC5",
                "#B0BEC5",
                "#B0BEC5",
                "#B0BEC5",
                "#B0BEC5",
                "#B0BEC5",
                "#B0BEC5",
                "#B0BEC5",
                "#B0BEC5",
                "#B0BEC5",
                "#B0BEC5",
                "#B0BEC5",
                "#B0BEC5",
                "#B0BEC5",
                "#B0BEC5",
                "#B0BEC5",
                "#B0BEC5",
                "#B0BEC5",
                "#B0BEC5",
                "#B0BEC5",
                "#B0BEC5",
                "#B0BEC5",
                "#B0BEC5",
                "#B0BEC5",
                "#B0BEC5",
                "#B0BEC5",
                "#B0BEC5",
                "#B0BEC5",
                "#B0BEC5",
                "#B0BEC5",
                "#B0BEC5",
                "#B0BEC5",
                "#B0BEC5",
                "#B0BEC5",
                "#B0BEC5",
                "#B0BEC5",
                "#B0BEC5",
                "#B0BEC5",
                "#B0BEC5",
                "#B0BEC5"
               ]
              ]
             }
            ],
            "label": "Topic 9",
            "method": "update"
           },
           {
            "args": [
             {
              "marker.color": [
               [
                "#B0BEC5",
                "#B0BEC5",
                "#B0BEC5",
                "#B0BEC5",
                "#B0BEC5",
                "#B0BEC5",
                "#B0BEC5",
                "#B0BEC5",
                "#B0BEC5",
                "#B0BEC5",
                "red",
                "#B0BEC5",
                "#B0BEC5",
                "#B0BEC5",
                "#B0BEC5",
                "#B0BEC5",
                "#B0BEC5",
                "#B0BEC5",
                "#B0BEC5",
                "#B0BEC5",
                "#B0BEC5",
                "#B0BEC5",
                "#B0BEC5",
                "#B0BEC5",
                "#B0BEC5",
                "#B0BEC5",
                "#B0BEC5",
                "#B0BEC5",
                "#B0BEC5",
                "#B0BEC5",
                "#B0BEC5",
                "#B0BEC5",
                "#B0BEC5",
                "#B0BEC5",
                "#B0BEC5",
                "#B0BEC5",
                "#B0BEC5",
                "#B0BEC5",
                "#B0BEC5",
                "#B0BEC5",
                "#B0BEC5",
                "#B0BEC5",
                "#B0BEC5",
                "#B0BEC5",
                "#B0BEC5",
                "#B0BEC5",
                "#B0BEC5",
                "#B0BEC5",
                "#B0BEC5",
                "#B0BEC5",
                "#B0BEC5",
                "#B0BEC5",
                "#B0BEC5",
                "#B0BEC5",
                "#B0BEC5",
                "#B0BEC5",
                "#B0BEC5",
                "#B0BEC5",
                "#B0BEC5",
                "#B0BEC5",
                "#B0BEC5",
                "#B0BEC5",
                "#B0BEC5",
                "#B0BEC5",
                "#B0BEC5",
                "#B0BEC5",
                "#B0BEC5",
                "#B0BEC5",
                "#B0BEC5",
                "#B0BEC5"
               ]
              ]
             }
            ],
            "label": "Topic 10",
            "method": "update"
           },
           {
            "args": [
             {
              "marker.color": [
               [
                "#B0BEC5",
                "#B0BEC5",
                "#B0BEC5",
                "#B0BEC5",
                "#B0BEC5",
                "#B0BEC5",
                "#B0BEC5",
                "#B0BEC5",
                "#B0BEC5",
                "#B0BEC5",
                "#B0BEC5",
                "red",
                "#B0BEC5",
                "#B0BEC5",
                "#B0BEC5",
                "#B0BEC5",
                "#B0BEC5",
                "#B0BEC5",
                "#B0BEC5",
                "#B0BEC5",
                "#B0BEC5",
                "#B0BEC5",
                "#B0BEC5",
                "#B0BEC5",
                "#B0BEC5",
                "#B0BEC5",
                "#B0BEC5",
                "#B0BEC5",
                "#B0BEC5",
                "#B0BEC5",
                "#B0BEC5",
                "#B0BEC5",
                "#B0BEC5",
                "#B0BEC5",
                "#B0BEC5",
                "#B0BEC5",
                "#B0BEC5",
                "#B0BEC5",
                "#B0BEC5",
                "#B0BEC5",
                "#B0BEC5",
                "#B0BEC5",
                "#B0BEC5",
                "#B0BEC5",
                "#B0BEC5",
                "#B0BEC5",
                "#B0BEC5",
                "#B0BEC5",
                "#B0BEC5",
                "#B0BEC5",
                "#B0BEC5",
                "#B0BEC5",
                "#B0BEC5",
                "#B0BEC5",
                "#B0BEC5",
                "#B0BEC5",
                "#B0BEC5",
                "#B0BEC5",
                "#B0BEC5",
                "#B0BEC5",
                "#B0BEC5",
                "#B0BEC5",
                "#B0BEC5",
                "#B0BEC5",
                "#B0BEC5",
                "#B0BEC5",
                "#B0BEC5",
                "#B0BEC5",
                "#B0BEC5",
                "#B0BEC5"
               ]
              ]
             }
            ],
            "label": "Topic 11",
            "method": "update"
           },
           {
            "args": [
             {
              "marker.color": [
               [
                "#B0BEC5",
                "#B0BEC5",
                "#B0BEC5",
                "#B0BEC5",
                "#B0BEC5",
                "#B0BEC5",
                "#B0BEC5",
                "#B0BEC5",
                "#B0BEC5",
                "#B0BEC5",
                "#B0BEC5",
                "#B0BEC5",
                "red",
                "#B0BEC5",
                "#B0BEC5",
                "#B0BEC5",
                "#B0BEC5",
                "#B0BEC5",
                "#B0BEC5",
                "#B0BEC5",
                "#B0BEC5",
                "#B0BEC5",
                "#B0BEC5",
                "#B0BEC5",
                "#B0BEC5",
                "#B0BEC5",
                "#B0BEC5",
                "#B0BEC5",
                "#B0BEC5",
                "#B0BEC5",
                "#B0BEC5",
                "#B0BEC5",
                "#B0BEC5",
                "#B0BEC5",
                "#B0BEC5",
                "#B0BEC5",
                "#B0BEC5",
                "#B0BEC5",
                "#B0BEC5",
                "#B0BEC5",
                "#B0BEC5",
                "#B0BEC5",
                "#B0BEC5",
                "#B0BEC5",
                "#B0BEC5",
                "#B0BEC5",
                "#B0BEC5",
                "#B0BEC5",
                "#B0BEC5",
                "#B0BEC5",
                "#B0BEC5",
                "#B0BEC5",
                "#B0BEC5",
                "#B0BEC5",
                "#B0BEC5",
                "#B0BEC5",
                "#B0BEC5",
                "#B0BEC5",
                "#B0BEC5",
                "#B0BEC5",
                "#B0BEC5",
                "#B0BEC5",
                "#B0BEC5",
                "#B0BEC5",
                "#B0BEC5",
                "#B0BEC5",
                "#B0BEC5",
                "#B0BEC5",
                "#B0BEC5",
                "#B0BEC5"
               ]
              ]
             }
            ],
            "label": "Topic 12",
            "method": "update"
           },
           {
            "args": [
             {
              "marker.color": [
               [
                "#B0BEC5",
                "#B0BEC5",
                "#B0BEC5",
                "#B0BEC5",
                "#B0BEC5",
                "#B0BEC5",
                "#B0BEC5",
                "#B0BEC5",
                "#B0BEC5",
                "#B0BEC5",
                "#B0BEC5",
                "#B0BEC5",
                "#B0BEC5",
                "red",
                "#B0BEC5",
                "#B0BEC5",
                "#B0BEC5",
                "#B0BEC5",
                "#B0BEC5",
                "#B0BEC5",
                "#B0BEC5",
                "#B0BEC5",
                "#B0BEC5",
                "#B0BEC5",
                "#B0BEC5",
                "#B0BEC5",
                "#B0BEC5",
                "#B0BEC5",
                "#B0BEC5",
                "#B0BEC5",
                "#B0BEC5",
                "#B0BEC5",
                "#B0BEC5",
                "#B0BEC5",
                "#B0BEC5",
                "#B0BEC5",
                "#B0BEC5",
                "#B0BEC5",
                "#B0BEC5",
                "#B0BEC5",
                "#B0BEC5",
                "#B0BEC5",
                "#B0BEC5",
                "#B0BEC5",
                "#B0BEC5",
                "#B0BEC5",
                "#B0BEC5",
                "#B0BEC5",
                "#B0BEC5",
                "#B0BEC5",
                "#B0BEC5",
                "#B0BEC5",
                "#B0BEC5",
                "#B0BEC5",
                "#B0BEC5",
                "#B0BEC5",
                "#B0BEC5",
                "#B0BEC5",
                "#B0BEC5",
                "#B0BEC5",
                "#B0BEC5",
                "#B0BEC5",
                "#B0BEC5",
                "#B0BEC5",
                "#B0BEC5",
                "#B0BEC5",
                "#B0BEC5",
                "#B0BEC5",
                "#B0BEC5",
                "#B0BEC5"
               ]
              ]
             }
            ],
            "label": "Topic 13",
            "method": "update"
           },
           {
            "args": [
             {
              "marker.color": [
               [
                "#B0BEC5",
                "#B0BEC5",
                "#B0BEC5",
                "#B0BEC5",
                "#B0BEC5",
                "#B0BEC5",
                "#B0BEC5",
                "#B0BEC5",
                "#B0BEC5",
                "#B0BEC5",
                "#B0BEC5",
                "#B0BEC5",
                "#B0BEC5",
                "#B0BEC5",
                "red",
                "#B0BEC5",
                "#B0BEC5",
                "#B0BEC5",
                "#B0BEC5",
                "#B0BEC5",
                "#B0BEC5",
                "#B0BEC5",
                "#B0BEC5",
                "#B0BEC5",
                "#B0BEC5",
                "#B0BEC5",
                "#B0BEC5",
                "#B0BEC5",
                "#B0BEC5",
                "#B0BEC5",
                "#B0BEC5",
                "#B0BEC5",
                "#B0BEC5",
                "#B0BEC5",
                "#B0BEC5",
                "#B0BEC5",
                "#B0BEC5",
                "#B0BEC5",
                "#B0BEC5",
                "#B0BEC5",
                "#B0BEC5",
                "#B0BEC5",
                "#B0BEC5",
                "#B0BEC5",
                "#B0BEC5",
                "#B0BEC5",
                "#B0BEC5",
                "#B0BEC5",
                "#B0BEC5",
                "#B0BEC5",
                "#B0BEC5",
                "#B0BEC5",
                "#B0BEC5",
                "#B0BEC5",
                "#B0BEC5",
                "#B0BEC5",
                "#B0BEC5",
                "#B0BEC5",
                "#B0BEC5",
                "#B0BEC5",
                "#B0BEC5",
                "#B0BEC5",
                "#B0BEC5",
                "#B0BEC5",
                "#B0BEC5",
                "#B0BEC5",
                "#B0BEC5",
                "#B0BEC5",
                "#B0BEC5",
                "#B0BEC5"
               ]
              ]
             }
            ],
            "label": "Topic 14",
            "method": "update"
           },
           {
            "args": [
             {
              "marker.color": [
               [
                "#B0BEC5",
                "#B0BEC5",
                "#B0BEC5",
                "#B0BEC5",
                "#B0BEC5",
                "#B0BEC5",
                "#B0BEC5",
                "#B0BEC5",
                "#B0BEC5",
                "#B0BEC5",
                "#B0BEC5",
                "#B0BEC5",
                "#B0BEC5",
                "#B0BEC5",
                "#B0BEC5",
                "red",
                "#B0BEC5",
                "#B0BEC5",
                "#B0BEC5",
                "#B0BEC5",
                "#B0BEC5",
                "#B0BEC5",
                "#B0BEC5",
                "#B0BEC5",
                "#B0BEC5",
                "#B0BEC5",
                "#B0BEC5",
                "#B0BEC5",
                "#B0BEC5",
                "#B0BEC5",
                "#B0BEC5",
                "#B0BEC5",
                "#B0BEC5",
                "#B0BEC5",
                "#B0BEC5",
                "#B0BEC5",
                "#B0BEC5",
                "#B0BEC5",
                "#B0BEC5",
                "#B0BEC5",
                "#B0BEC5",
                "#B0BEC5",
                "#B0BEC5",
                "#B0BEC5",
                "#B0BEC5",
                "#B0BEC5",
                "#B0BEC5",
                "#B0BEC5",
                "#B0BEC5",
                "#B0BEC5",
                "#B0BEC5",
                "#B0BEC5",
                "#B0BEC5",
                "#B0BEC5",
                "#B0BEC5",
                "#B0BEC5",
                "#B0BEC5",
                "#B0BEC5",
                "#B0BEC5",
                "#B0BEC5",
                "#B0BEC5",
                "#B0BEC5",
                "#B0BEC5",
                "#B0BEC5",
                "#B0BEC5",
                "#B0BEC5",
                "#B0BEC5",
                "#B0BEC5",
                "#B0BEC5",
                "#B0BEC5"
               ]
              ]
             }
            ],
            "label": "Topic 15",
            "method": "update"
           },
           {
            "args": [
             {
              "marker.color": [
               [
                "#B0BEC5",
                "#B0BEC5",
                "#B0BEC5",
                "#B0BEC5",
                "#B0BEC5",
                "#B0BEC5",
                "#B0BEC5",
                "#B0BEC5",
                "#B0BEC5",
                "#B0BEC5",
                "#B0BEC5",
                "#B0BEC5",
                "#B0BEC5",
                "#B0BEC5",
                "#B0BEC5",
                "#B0BEC5",
                "red",
                "#B0BEC5",
                "#B0BEC5",
                "#B0BEC5",
                "#B0BEC5",
                "#B0BEC5",
                "#B0BEC5",
                "#B0BEC5",
                "#B0BEC5",
                "#B0BEC5",
                "#B0BEC5",
                "#B0BEC5",
                "#B0BEC5",
                "#B0BEC5",
                "#B0BEC5",
                "#B0BEC5",
                "#B0BEC5",
                "#B0BEC5",
                "#B0BEC5",
                "#B0BEC5",
                "#B0BEC5",
                "#B0BEC5",
                "#B0BEC5",
                "#B0BEC5",
                "#B0BEC5",
                "#B0BEC5",
                "#B0BEC5",
                "#B0BEC5",
                "#B0BEC5",
                "#B0BEC5",
                "#B0BEC5",
                "#B0BEC5",
                "#B0BEC5",
                "#B0BEC5",
                "#B0BEC5",
                "#B0BEC5",
                "#B0BEC5",
                "#B0BEC5",
                "#B0BEC5",
                "#B0BEC5",
                "#B0BEC5",
                "#B0BEC5",
                "#B0BEC5",
                "#B0BEC5",
                "#B0BEC5",
                "#B0BEC5",
                "#B0BEC5",
                "#B0BEC5",
                "#B0BEC5",
                "#B0BEC5",
                "#B0BEC5",
                "#B0BEC5",
                "#B0BEC5",
                "#B0BEC5"
               ]
              ]
             }
            ],
            "label": "Topic 16",
            "method": "update"
           },
           {
            "args": [
             {
              "marker.color": [
               [
                "#B0BEC5",
                "#B0BEC5",
                "#B0BEC5",
                "#B0BEC5",
                "#B0BEC5",
                "#B0BEC5",
                "#B0BEC5",
                "#B0BEC5",
                "#B0BEC5",
                "#B0BEC5",
                "#B0BEC5",
                "#B0BEC5",
                "#B0BEC5",
                "#B0BEC5",
                "#B0BEC5",
                "#B0BEC5",
                "#B0BEC5",
                "red",
                "#B0BEC5",
                "#B0BEC5",
                "#B0BEC5",
                "#B0BEC5",
                "#B0BEC5",
                "#B0BEC5",
                "#B0BEC5",
                "#B0BEC5",
                "#B0BEC5",
                "#B0BEC5",
                "#B0BEC5",
                "#B0BEC5",
                "#B0BEC5",
                "#B0BEC5",
                "#B0BEC5",
                "#B0BEC5",
                "#B0BEC5",
                "#B0BEC5",
                "#B0BEC5",
                "#B0BEC5",
                "#B0BEC5",
                "#B0BEC5",
                "#B0BEC5",
                "#B0BEC5",
                "#B0BEC5",
                "#B0BEC5",
                "#B0BEC5",
                "#B0BEC5",
                "#B0BEC5",
                "#B0BEC5",
                "#B0BEC5",
                "#B0BEC5",
                "#B0BEC5",
                "#B0BEC5",
                "#B0BEC5",
                "#B0BEC5",
                "#B0BEC5",
                "#B0BEC5",
                "#B0BEC5",
                "#B0BEC5",
                "#B0BEC5",
                "#B0BEC5",
                "#B0BEC5",
                "#B0BEC5",
                "#B0BEC5",
                "#B0BEC5",
                "#B0BEC5",
                "#B0BEC5",
                "#B0BEC5",
                "#B0BEC5",
                "#B0BEC5",
                "#B0BEC5"
               ]
              ]
             }
            ],
            "label": "Topic 17",
            "method": "update"
           },
           {
            "args": [
             {
              "marker.color": [
               [
                "#B0BEC5",
                "#B0BEC5",
                "#B0BEC5",
                "#B0BEC5",
                "#B0BEC5",
                "#B0BEC5",
                "#B0BEC5",
                "#B0BEC5",
                "#B0BEC5",
                "#B0BEC5",
                "#B0BEC5",
                "#B0BEC5",
                "#B0BEC5",
                "#B0BEC5",
                "#B0BEC5",
                "#B0BEC5",
                "#B0BEC5",
                "#B0BEC5",
                "red",
                "#B0BEC5",
                "#B0BEC5",
                "#B0BEC5",
                "#B0BEC5",
                "#B0BEC5",
                "#B0BEC5",
                "#B0BEC5",
                "#B0BEC5",
                "#B0BEC5",
                "#B0BEC5",
                "#B0BEC5",
                "#B0BEC5",
                "#B0BEC5",
                "#B0BEC5",
                "#B0BEC5",
                "#B0BEC5",
                "#B0BEC5",
                "#B0BEC5",
                "#B0BEC5",
                "#B0BEC5",
                "#B0BEC5",
                "#B0BEC5",
                "#B0BEC5",
                "#B0BEC5",
                "#B0BEC5",
                "#B0BEC5",
                "#B0BEC5",
                "#B0BEC5",
                "#B0BEC5",
                "#B0BEC5",
                "#B0BEC5",
                "#B0BEC5",
                "#B0BEC5",
                "#B0BEC5",
                "#B0BEC5",
                "#B0BEC5",
                "#B0BEC5",
                "#B0BEC5",
                "#B0BEC5",
                "#B0BEC5",
                "#B0BEC5",
                "#B0BEC5",
                "#B0BEC5",
                "#B0BEC5",
                "#B0BEC5",
                "#B0BEC5",
                "#B0BEC5",
                "#B0BEC5",
                "#B0BEC5",
                "#B0BEC5",
                "#B0BEC5"
               ]
              ]
             }
            ],
            "label": "Topic 18",
            "method": "update"
           },
           {
            "args": [
             {
              "marker.color": [
               [
                "#B0BEC5",
                "#B0BEC5",
                "#B0BEC5",
                "#B0BEC5",
                "#B0BEC5",
                "#B0BEC5",
                "#B0BEC5",
                "#B0BEC5",
                "#B0BEC5",
                "#B0BEC5",
                "#B0BEC5",
                "#B0BEC5",
                "#B0BEC5",
                "#B0BEC5",
                "#B0BEC5",
                "#B0BEC5",
                "#B0BEC5",
                "#B0BEC5",
                "#B0BEC5",
                "red",
                "#B0BEC5",
                "#B0BEC5",
                "#B0BEC5",
                "#B0BEC5",
                "#B0BEC5",
                "#B0BEC5",
                "#B0BEC5",
                "#B0BEC5",
                "#B0BEC5",
                "#B0BEC5",
                "#B0BEC5",
                "#B0BEC5",
                "#B0BEC5",
                "#B0BEC5",
                "#B0BEC5",
                "#B0BEC5",
                "#B0BEC5",
                "#B0BEC5",
                "#B0BEC5",
                "#B0BEC5",
                "#B0BEC5",
                "#B0BEC5",
                "#B0BEC5",
                "#B0BEC5",
                "#B0BEC5",
                "#B0BEC5",
                "#B0BEC5",
                "#B0BEC5",
                "#B0BEC5",
                "#B0BEC5",
                "#B0BEC5",
                "#B0BEC5",
                "#B0BEC5",
                "#B0BEC5",
                "#B0BEC5",
                "#B0BEC5",
                "#B0BEC5",
                "#B0BEC5",
                "#B0BEC5",
                "#B0BEC5",
                "#B0BEC5",
                "#B0BEC5",
                "#B0BEC5",
                "#B0BEC5",
                "#B0BEC5",
                "#B0BEC5",
                "#B0BEC5",
                "#B0BEC5",
                "#B0BEC5",
                "#B0BEC5"
               ]
              ]
             }
            ],
            "label": "Topic 19",
            "method": "update"
           },
           {
            "args": [
             {
              "marker.color": [
               [
                "#B0BEC5",
                "#B0BEC5",
                "#B0BEC5",
                "#B0BEC5",
                "#B0BEC5",
                "#B0BEC5",
                "#B0BEC5",
                "#B0BEC5",
                "#B0BEC5",
                "#B0BEC5",
                "#B0BEC5",
                "#B0BEC5",
                "#B0BEC5",
                "#B0BEC5",
                "#B0BEC5",
                "#B0BEC5",
                "#B0BEC5",
                "#B0BEC5",
                "#B0BEC5",
                "#B0BEC5",
                "red",
                "#B0BEC5",
                "#B0BEC5",
                "#B0BEC5",
                "#B0BEC5",
                "#B0BEC5",
                "#B0BEC5",
                "#B0BEC5",
                "#B0BEC5",
                "#B0BEC5",
                "#B0BEC5",
                "#B0BEC5",
                "#B0BEC5",
                "#B0BEC5",
                "#B0BEC5",
                "#B0BEC5",
                "#B0BEC5",
                "#B0BEC5",
                "#B0BEC5",
                "#B0BEC5",
                "#B0BEC5",
                "#B0BEC5",
                "#B0BEC5",
                "#B0BEC5",
                "#B0BEC5",
                "#B0BEC5",
                "#B0BEC5",
                "#B0BEC5",
                "#B0BEC5",
                "#B0BEC5",
                "#B0BEC5",
                "#B0BEC5",
                "#B0BEC5",
                "#B0BEC5",
                "#B0BEC5",
                "#B0BEC5",
                "#B0BEC5",
                "#B0BEC5",
                "#B0BEC5",
                "#B0BEC5",
                "#B0BEC5",
                "#B0BEC5",
                "#B0BEC5",
                "#B0BEC5",
                "#B0BEC5",
                "#B0BEC5",
                "#B0BEC5",
                "#B0BEC5",
                "#B0BEC5",
                "#B0BEC5"
               ]
              ]
             }
            ],
            "label": "Topic 20",
            "method": "update"
           },
           {
            "args": [
             {
              "marker.color": [
               [
                "#B0BEC5",
                "#B0BEC5",
                "#B0BEC5",
                "#B0BEC5",
                "#B0BEC5",
                "#B0BEC5",
                "#B0BEC5",
                "#B0BEC5",
                "#B0BEC5",
                "#B0BEC5",
                "#B0BEC5",
                "#B0BEC5",
                "#B0BEC5",
                "#B0BEC5",
                "#B0BEC5",
                "#B0BEC5",
                "#B0BEC5",
                "#B0BEC5",
                "#B0BEC5",
                "#B0BEC5",
                "#B0BEC5",
                "red",
                "#B0BEC5",
                "#B0BEC5",
                "#B0BEC5",
                "#B0BEC5",
                "#B0BEC5",
                "#B0BEC5",
                "#B0BEC5",
                "#B0BEC5",
                "#B0BEC5",
                "#B0BEC5",
                "#B0BEC5",
                "#B0BEC5",
                "#B0BEC5",
                "#B0BEC5",
                "#B0BEC5",
                "#B0BEC5",
                "#B0BEC5",
                "#B0BEC5",
                "#B0BEC5",
                "#B0BEC5",
                "#B0BEC5",
                "#B0BEC5",
                "#B0BEC5",
                "#B0BEC5",
                "#B0BEC5",
                "#B0BEC5",
                "#B0BEC5",
                "#B0BEC5",
                "#B0BEC5",
                "#B0BEC5",
                "#B0BEC5",
                "#B0BEC5",
                "#B0BEC5",
                "#B0BEC5",
                "#B0BEC5",
                "#B0BEC5",
                "#B0BEC5",
                "#B0BEC5",
                "#B0BEC5",
                "#B0BEC5",
                "#B0BEC5",
                "#B0BEC5",
                "#B0BEC5",
                "#B0BEC5",
                "#B0BEC5",
                "#B0BEC5",
                "#B0BEC5",
                "#B0BEC5"
               ]
              ]
             }
            ],
            "label": "Topic 21",
            "method": "update"
           },
           {
            "args": [
             {
              "marker.color": [
               [
                "#B0BEC5",
                "#B0BEC5",
                "#B0BEC5",
                "#B0BEC5",
                "#B0BEC5",
                "#B0BEC5",
                "#B0BEC5",
                "#B0BEC5",
                "#B0BEC5",
                "#B0BEC5",
                "#B0BEC5",
                "#B0BEC5",
                "#B0BEC5",
                "#B0BEC5",
                "#B0BEC5",
                "#B0BEC5",
                "#B0BEC5",
                "#B0BEC5",
                "#B0BEC5",
                "#B0BEC5",
                "#B0BEC5",
                "#B0BEC5",
                "red",
                "#B0BEC5",
                "#B0BEC5",
                "#B0BEC5",
                "#B0BEC5",
                "#B0BEC5",
                "#B0BEC5",
                "#B0BEC5",
                "#B0BEC5",
                "#B0BEC5",
                "#B0BEC5",
                "#B0BEC5",
                "#B0BEC5",
                "#B0BEC5",
                "#B0BEC5",
                "#B0BEC5",
                "#B0BEC5",
                "#B0BEC5",
                "#B0BEC5",
                "#B0BEC5",
                "#B0BEC5",
                "#B0BEC5",
                "#B0BEC5",
                "#B0BEC5",
                "#B0BEC5",
                "#B0BEC5",
                "#B0BEC5",
                "#B0BEC5",
                "#B0BEC5",
                "#B0BEC5",
                "#B0BEC5",
                "#B0BEC5",
                "#B0BEC5",
                "#B0BEC5",
                "#B0BEC5",
                "#B0BEC5",
                "#B0BEC5",
                "#B0BEC5",
                "#B0BEC5",
                "#B0BEC5",
                "#B0BEC5",
                "#B0BEC5",
                "#B0BEC5",
                "#B0BEC5",
                "#B0BEC5",
                "#B0BEC5",
                "#B0BEC5",
                "#B0BEC5"
               ]
              ]
             }
            ],
            "label": "Topic 22",
            "method": "update"
           },
           {
            "args": [
             {
              "marker.color": [
               [
                "#B0BEC5",
                "#B0BEC5",
                "#B0BEC5",
                "#B0BEC5",
                "#B0BEC5",
                "#B0BEC5",
                "#B0BEC5",
                "#B0BEC5",
                "#B0BEC5",
                "#B0BEC5",
                "#B0BEC5",
                "#B0BEC5",
                "#B0BEC5",
                "#B0BEC5",
                "#B0BEC5",
                "#B0BEC5",
                "#B0BEC5",
                "#B0BEC5",
                "#B0BEC5",
                "#B0BEC5",
                "#B0BEC5",
                "#B0BEC5",
                "#B0BEC5",
                "red",
                "#B0BEC5",
                "#B0BEC5",
                "#B0BEC5",
                "#B0BEC5",
                "#B0BEC5",
                "#B0BEC5",
                "#B0BEC5",
                "#B0BEC5",
                "#B0BEC5",
                "#B0BEC5",
                "#B0BEC5",
                "#B0BEC5",
                "#B0BEC5",
                "#B0BEC5",
                "#B0BEC5",
                "#B0BEC5",
                "#B0BEC5",
                "#B0BEC5",
                "#B0BEC5",
                "#B0BEC5",
                "#B0BEC5",
                "#B0BEC5",
                "#B0BEC5",
                "#B0BEC5",
                "#B0BEC5",
                "#B0BEC5",
                "#B0BEC5",
                "#B0BEC5",
                "#B0BEC5",
                "#B0BEC5",
                "#B0BEC5",
                "#B0BEC5",
                "#B0BEC5",
                "#B0BEC5",
                "#B0BEC5",
                "#B0BEC5",
                "#B0BEC5",
                "#B0BEC5",
                "#B0BEC5",
                "#B0BEC5",
                "#B0BEC5",
                "#B0BEC5",
                "#B0BEC5",
                "#B0BEC5",
                "#B0BEC5",
                "#B0BEC5"
               ]
              ]
             }
            ],
            "label": "Topic 23",
            "method": "update"
           },
           {
            "args": [
             {
              "marker.color": [
               [
                "#B0BEC5",
                "#B0BEC5",
                "#B0BEC5",
                "#B0BEC5",
                "#B0BEC5",
                "#B0BEC5",
                "#B0BEC5",
                "#B0BEC5",
                "#B0BEC5",
                "#B0BEC5",
                "#B0BEC5",
                "#B0BEC5",
                "#B0BEC5",
                "#B0BEC5",
                "#B0BEC5",
                "#B0BEC5",
                "#B0BEC5",
                "#B0BEC5",
                "#B0BEC5",
                "#B0BEC5",
                "#B0BEC5",
                "#B0BEC5",
                "#B0BEC5",
                "#B0BEC5",
                "red",
                "#B0BEC5",
                "#B0BEC5",
                "#B0BEC5",
                "#B0BEC5",
                "#B0BEC5",
                "#B0BEC5",
                "#B0BEC5",
                "#B0BEC5",
                "#B0BEC5",
                "#B0BEC5",
                "#B0BEC5",
                "#B0BEC5",
                "#B0BEC5",
                "#B0BEC5",
                "#B0BEC5",
                "#B0BEC5",
                "#B0BEC5",
                "#B0BEC5",
                "#B0BEC5",
                "#B0BEC5",
                "#B0BEC5",
                "#B0BEC5",
                "#B0BEC5",
                "#B0BEC5",
                "#B0BEC5",
                "#B0BEC5",
                "#B0BEC5",
                "#B0BEC5",
                "#B0BEC5",
                "#B0BEC5",
                "#B0BEC5",
                "#B0BEC5",
                "#B0BEC5",
                "#B0BEC5",
                "#B0BEC5",
                "#B0BEC5",
                "#B0BEC5",
                "#B0BEC5",
                "#B0BEC5",
                "#B0BEC5",
                "#B0BEC5",
                "#B0BEC5",
                "#B0BEC5",
                "#B0BEC5",
                "#B0BEC5"
               ]
              ]
             }
            ],
            "label": "Topic 24",
            "method": "update"
           },
           {
            "args": [
             {
              "marker.color": [
               [
                "#B0BEC5",
                "#B0BEC5",
                "#B0BEC5",
                "#B0BEC5",
                "#B0BEC5",
                "#B0BEC5",
                "#B0BEC5",
                "#B0BEC5",
                "#B0BEC5",
                "#B0BEC5",
                "#B0BEC5",
                "#B0BEC5",
                "#B0BEC5",
                "#B0BEC5",
                "#B0BEC5",
                "#B0BEC5",
                "#B0BEC5",
                "#B0BEC5",
                "#B0BEC5",
                "#B0BEC5",
                "#B0BEC5",
                "#B0BEC5",
                "#B0BEC5",
                "#B0BEC5",
                "#B0BEC5",
                "red",
                "#B0BEC5",
                "#B0BEC5",
                "#B0BEC5",
                "#B0BEC5",
                "#B0BEC5",
                "#B0BEC5",
                "#B0BEC5",
                "#B0BEC5",
                "#B0BEC5",
                "#B0BEC5",
                "#B0BEC5",
                "#B0BEC5",
                "#B0BEC5",
                "#B0BEC5",
                "#B0BEC5",
                "#B0BEC5",
                "#B0BEC5",
                "#B0BEC5",
                "#B0BEC5",
                "#B0BEC5",
                "#B0BEC5",
                "#B0BEC5",
                "#B0BEC5",
                "#B0BEC5",
                "#B0BEC5",
                "#B0BEC5",
                "#B0BEC5",
                "#B0BEC5",
                "#B0BEC5",
                "#B0BEC5",
                "#B0BEC5",
                "#B0BEC5",
                "#B0BEC5",
                "#B0BEC5",
                "#B0BEC5",
                "#B0BEC5",
                "#B0BEC5",
                "#B0BEC5",
                "#B0BEC5",
                "#B0BEC5",
                "#B0BEC5",
                "#B0BEC5",
                "#B0BEC5",
                "#B0BEC5"
               ]
              ]
             }
            ],
            "label": "Topic 25",
            "method": "update"
           },
           {
            "args": [
             {
              "marker.color": [
               [
                "#B0BEC5",
                "#B0BEC5",
                "#B0BEC5",
                "#B0BEC5",
                "#B0BEC5",
                "#B0BEC5",
                "#B0BEC5",
                "#B0BEC5",
                "#B0BEC5",
                "#B0BEC5",
                "#B0BEC5",
                "#B0BEC5",
                "#B0BEC5",
                "#B0BEC5",
                "#B0BEC5",
                "#B0BEC5",
                "#B0BEC5",
                "#B0BEC5",
                "#B0BEC5",
                "#B0BEC5",
                "#B0BEC5",
                "#B0BEC5",
                "#B0BEC5",
                "#B0BEC5",
                "#B0BEC5",
                "#B0BEC5",
                "red",
                "#B0BEC5",
                "#B0BEC5",
                "#B0BEC5",
                "#B0BEC5",
                "#B0BEC5",
                "#B0BEC5",
                "#B0BEC5",
                "#B0BEC5",
                "#B0BEC5",
                "#B0BEC5",
                "#B0BEC5",
                "#B0BEC5",
                "#B0BEC5",
                "#B0BEC5",
                "#B0BEC5",
                "#B0BEC5",
                "#B0BEC5",
                "#B0BEC5",
                "#B0BEC5",
                "#B0BEC5",
                "#B0BEC5",
                "#B0BEC5",
                "#B0BEC5",
                "#B0BEC5",
                "#B0BEC5",
                "#B0BEC5",
                "#B0BEC5",
                "#B0BEC5",
                "#B0BEC5",
                "#B0BEC5",
                "#B0BEC5",
                "#B0BEC5",
                "#B0BEC5",
                "#B0BEC5",
                "#B0BEC5",
                "#B0BEC5",
                "#B0BEC5",
                "#B0BEC5",
                "#B0BEC5",
                "#B0BEC5",
                "#B0BEC5",
                "#B0BEC5",
                "#B0BEC5"
               ]
              ]
             }
            ],
            "label": "Topic 26",
            "method": "update"
           },
           {
            "args": [
             {
              "marker.color": [
               [
                "#B0BEC5",
                "#B0BEC5",
                "#B0BEC5",
                "#B0BEC5",
                "#B0BEC5",
                "#B0BEC5",
                "#B0BEC5",
                "#B0BEC5",
                "#B0BEC5",
                "#B0BEC5",
                "#B0BEC5",
                "#B0BEC5",
                "#B0BEC5",
                "#B0BEC5",
                "#B0BEC5",
                "#B0BEC5",
                "#B0BEC5",
                "#B0BEC5",
                "#B0BEC5",
                "#B0BEC5",
                "#B0BEC5",
                "#B0BEC5",
                "#B0BEC5",
                "#B0BEC5",
                "#B0BEC5",
                "#B0BEC5",
                "#B0BEC5",
                "red",
                "#B0BEC5",
                "#B0BEC5",
                "#B0BEC5",
                "#B0BEC5",
                "#B0BEC5",
                "#B0BEC5",
                "#B0BEC5",
                "#B0BEC5",
                "#B0BEC5",
                "#B0BEC5",
                "#B0BEC5",
                "#B0BEC5",
                "#B0BEC5",
                "#B0BEC5",
                "#B0BEC5",
                "#B0BEC5",
                "#B0BEC5",
                "#B0BEC5",
                "#B0BEC5",
                "#B0BEC5",
                "#B0BEC5",
                "#B0BEC5",
                "#B0BEC5",
                "#B0BEC5",
                "#B0BEC5",
                "#B0BEC5",
                "#B0BEC5",
                "#B0BEC5",
                "#B0BEC5",
                "#B0BEC5",
                "#B0BEC5",
                "#B0BEC5",
                "#B0BEC5",
                "#B0BEC5",
                "#B0BEC5",
                "#B0BEC5",
                "#B0BEC5",
                "#B0BEC5",
                "#B0BEC5",
                "#B0BEC5",
                "#B0BEC5",
                "#B0BEC5"
               ]
              ]
             }
            ],
            "label": "Topic 27",
            "method": "update"
           },
           {
            "args": [
             {
              "marker.color": [
               [
                "#B0BEC5",
                "#B0BEC5",
                "#B0BEC5",
                "#B0BEC5",
                "#B0BEC5",
                "#B0BEC5",
                "#B0BEC5",
                "#B0BEC5",
                "#B0BEC5",
                "#B0BEC5",
                "#B0BEC5",
                "#B0BEC5",
                "#B0BEC5",
                "#B0BEC5",
                "#B0BEC5",
                "#B0BEC5",
                "#B0BEC5",
                "#B0BEC5",
                "#B0BEC5",
                "#B0BEC5",
                "#B0BEC5",
                "#B0BEC5",
                "#B0BEC5",
                "#B0BEC5",
                "#B0BEC5",
                "#B0BEC5",
                "#B0BEC5",
                "#B0BEC5",
                "red",
                "#B0BEC5",
                "#B0BEC5",
                "#B0BEC5",
                "#B0BEC5",
                "#B0BEC5",
                "#B0BEC5",
                "#B0BEC5",
                "#B0BEC5",
                "#B0BEC5",
                "#B0BEC5",
                "#B0BEC5",
                "#B0BEC5",
                "#B0BEC5",
                "#B0BEC5",
                "#B0BEC5",
                "#B0BEC5",
                "#B0BEC5",
                "#B0BEC5",
                "#B0BEC5",
                "#B0BEC5",
                "#B0BEC5",
                "#B0BEC5",
                "#B0BEC5",
                "#B0BEC5",
                "#B0BEC5",
                "#B0BEC5",
                "#B0BEC5",
                "#B0BEC5",
                "#B0BEC5",
                "#B0BEC5",
                "#B0BEC5",
                "#B0BEC5",
                "#B0BEC5",
                "#B0BEC5",
                "#B0BEC5",
                "#B0BEC5",
                "#B0BEC5",
                "#B0BEC5",
                "#B0BEC5",
                "#B0BEC5",
                "#B0BEC5"
               ]
              ]
             }
            ],
            "label": "Topic 28",
            "method": "update"
           },
           {
            "args": [
             {
              "marker.color": [
               [
                "#B0BEC5",
                "#B0BEC5",
                "#B0BEC5",
                "#B0BEC5",
                "#B0BEC5",
                "#B0BEC5",
                "#B0BEC5",
                "#B0BEC5",
                "#B0BEC5",
                "#B0BEC5",
                "#B0BEC5",
                "#B0BEC5",
                "#B0BEC5",
                "#B0BEC5",
                "#B0BEC5",
                "#B0BEC5",
                "#B0BEC5",
                "#B0BEC5",
                "#B0BEC5",
                "#B0BEC5",
                "#B0BEC5",
                "#B0BEC5",
                "#B0BEC5",
                "#B0BEC5",
                "#B0BEC5",
                "#B0BEC5",
                "#B0BEC5",
                "#B0BEC5",
                "#B0BEC5",
                "red",
                "#B0BEC5",
                "#B0BEC5",
                "#B0BEC5",
                "#B0BEC5",
                "#B0BEC5",
                "#B0BEC5",
                "#B0BEC5",
                "#B0BEC5",
                "#B0BEC5",
                "#B0BEC5",
                "#B0BEC5",
                "#B0BEC5",
                "#B0BEC5",
                "#B0BEC5",
                "#B0BEC5",
                "#B0BEC5",
                "#B0BEC5",
                "#B0BEC5",
                "#B0BEC5",
                "#B0BEC5",
                "#B0BEC5",
                "#B0BEC5",
                "#B0BEC5",
                "#B0BEC5",
                "#B0BEC5",
                "#B0BEC5",
                "#B0BEC5",
                "#B0BEC5",
                "#B0BEC5",
                "#B0BEC5",
                "#B0BEC5",
                "#B0BEC5",
                "#B0BEC5",
                "#B0BEC5",
                "#B0BEC5",
                "#B0BEC5",
                "#B0BEC5",
                "#B0BEC5",
                "#B0BEC5",
                "#B0BEC5"
               ]
              ]
             }
            ],
            "label": "Topic 29",
            "method": "update"
           },
           {
            "args": [
             {
              "marker.color": [
               [
                "#B0BEC5",
                "#B0BEC5",
                "#B0BEC5",
                "#B0BEC5",
                "#B0BEC5",
                "#B0BEC5",
                "#B0BEC5",
                "#B0BEC5",
                "#B0BEC5",
                "#B0BEC5",
                "#B0BEC5",
                "#B0BEC5",
                "#B0BEC5",
                "#B0BEC5",
                "#B0BEC5",
                "#B0BEC5",
                "#B0BEC5",
                "#B0BEC5",
                "#B0BEC5",
                "#B0BEC5",
                "#B0BEC5",
                "#B0BEC5",
                "#B0BEC5",
                "#B0BEC5",
                "#B0BEC5",
                "#B0BEC5",
                "#B0BEC5",
                "#B0BEC5",
                "#B0BEC5",
                "#B0BEC5",
                "red",
                "#B0BEC5",
                "#B0BEC5",
                "#B0BEC5",
                "#B0BEC5",
                "#B0BEC5",
                "#B0BEC5",
                "#B0BEC5",
                "#B0BEC5",
                "#B0BEC5",
                "#B0BEC5",
                "#B0BEC5",
                "#B0BEC5",
                "#B0BEC5",
                "#B0BEC5",
                "#B0BEC5",
                "#B0BEC5",
                "#B0BEC5",
                "#B0BEC5",
                "#B0BEC5",
                "#B0BEC5",
                "#B0BEC5",
                "#B0BEC5",
                "#B0BEC5",
                "#B0BEC5",
                "#B0BEC5",
                "#B0BEC5",
                "#B0BEC5",
                "#B0BEC5",
                "#B0BEC5",
                "#B0BEC5",
                "#B0BEC5",
                "#B0BEC5",
                "#B0BEC5",
                "#B0BEC5",
                "#B0BEC5",
                "#B0BEC5",
                "#B0BEC5",
                "#B0BEC5",
                "#B0BEC5"
               ]
              ]
             }
            ],
            "label": "Topic 30",
            "method": "update"
           },
           {
            "args": [
             {
              "marker.color": [
               [
                "#B0BEC5",
                "#B0BEC5",
                "#B0BEC5",
                "#B0BEC5",
                "#B0BEC5",
                "#B0BEC5",
                "#B0BEC5",
                "#B0BEC5",
                "#B0BEC5",
                "#B0BEC5",
                "#B0BEC5",
                "#B0BEC5",
                "#B0BEC5",
                "#B0BEC5",
                "#B0BEC5",
                "#B0BEC5",
                "#B0BEC5",
                "#B0BEC5",
                "#B0BEC5",
                "#B0BEC5",
                "#B0BEC5",
                "#B0BEC5",
                "#B0BEC5",
                "#B0BEC5",
                "#B0BEC5",
                "#B0BEC5",
                "#B0BEC5",
                "#B0BEC5",
                "#B0BEC5",
                "#B0BEC5",
                "#B0BEC5",
                "red",
                "#B0BEC5",
                "#B0BEC5",
                "#B0BEC5",
                "#B0BEC5",
                "#B0BEC5",
                "#B0BEC5",
                "#B0BEC5",
                "#B0BEC5",
                "#B0BEC5",
                "#B0BEC5",
                "#B0BEC5",
                "#B0BEC5",
                "#B0BEC5",
                "#B0BEC5",
                "#B0BEC5",
                "#B0BEC5",
                "#B0BEC5",
                "#B0BEC5",
                "#B0BEC5",
                "#B0BEC5",
                "#B0BEC5",
                "#B0BEC5",
                "#B0BEC5",
                "#B0BEC5",
                "#B0BEC5",
                "#B0BEC5",
                "#B0BEC5",
                "#B0BEC5",
                "#B0BEC5",
                "#B0BEC5",
                "#B0BEC5",
                "#B0BEC5",
                "#B0BEC5",
                "#B0BEC5",
                "#B0BEC5",
                "#B0BEC5",
                "#B0BEC5",
                "#B0BEC5"
               ]
              ]
             }
            ],
            "label": "Topic 31",
            "method": "update"
           },
           {
            "args": [
             {
              "marker.color": [
               [
                "#B0BEC5",
                "#B0BEC5",
                "#B0BEC5",
                "#B0BEC5",
                "#B0BEC5",
                "#B0BEC5",
                "#B0BEC5",
                "#B0BEC5",
                "#B0BEC5",
                "#B0BEC5",
                "#B0BEC5",
                "#B0BEC5",
                "#B0BEC5",
                "#B0BEC5",
                "#B0BEC5",
                "#B0BEC5",
                "#B0BEC5",
                "#B0BEC5",
                "#B0BEC5",
                "#B0BEC5",
                "#B0BEC5",
                "#B0BEC5",
                "#B0BEC5",
                "#B0BEC5",
                "#B0BEC5",
                "#B0BEC5",
                "#B0BEC5",
                "#B0BEC5",
                "#B0BEC5",
                "#B0BEC5",
                "#B0BEC5",
                "#B0BEC5",
                "red",
                "#B0BEC5",
                "#B0BEC5",
                "#B0BEC5",
                "#B0BEC5",
                "#B0BEC5",
                "#B0BEC5",
                "#B0BEC5",
                "#B0BEC5",
                "#B0BEC5",
                "#B0BEC5",
                "#B0BEC5",
                "#B0BEC5",
                "#B0BEC5",
                "#B0BEC5",
                "#B0BEC5",
                "#B0BEC5",
                "#B0BEC5",
                "#B0BEC5",
                "#B0BEC5",
                "#B0BEC5",
                "#B0BEC5",
                "#B0BEC5",
                "#B0BEC5",
                "#B0BEC5",
                "#B0BEC5",
                "#B0BEC5",
                "#B0BEC5",
                "#B0BEC5",
                "#B0BEC5",
                "#B0BEC5",
                "#B0BEC5",
                "#B0BEC5",
                "#B0BEC5",
                "#B0BEC5",
                "#B0BEC5",
                "#B0BEC5",
                "#B0BEC5"
               ]
              ]
             }
            ],
            "label": "Topic 32",
            "method": "update"
           },
           {
            "args": [
             {
              "marker.color": [
               [
                "#B0BEC5",
                "#B0BEC5",
                "#B0BEC5",
                "#B0BEC5",
                "#B0BEC5",
                "#B0BEC5",
                "#B0BEC5",
                "#B0BEC5",
                "#B0BEC5",
                "#B0BEC5",
                "#B0BEC5",
                "#B0BEC5",
                "#B0BEC5",
                "#B0BEC5",
                "#B0BEC5",
                "#B0BEC5",
                "#B0BEC5",
                "#B0BEC5",
                "#B0BEC5",
                "#B0BEC5",
                "#B0BEC5",
                "#B0BEC5",
                "#B0BEC5",
                "#B0BEC5",
                "#B0BEC5",
                "#B0BEC5",
                "#B0BEC5",
                "#B0BEC5",
                "#B0BEC5",
                "#B0BEC5",
                "#B0BEC5",
                "#B0BEC5",
                "#B0BEC5",
                "red",
                "#B0BEC5",
                "#B0BEC5",
                "#B0BEC5",
                "#B0BEC5",
                "#B0BEC5",
                "#B0BEC5",
                "#B0BEC5",
                "#B0BEC5",
                "#B0BEC5",
                "#B0BEC5",
                "#B0BEC5",
                "#B0BEC5",
                "#B0BEC5",
                "#B0BEC5",
                "#B0BEC5",
                "#B0BEC5",
                "#B0BEC5",
                "#B0BEC5",
                "#B0BEC5",
                "#B0BEC5",
                "#B0BEC5",
                "#B0BEC5",
                "#B0BEC5",
                "#B0BEC5",
                "#B0BEC5",
                "#B0BEC5",
                "#B0BEC5",
                "#B0BEC5",
                "#B0BEC5",
                "#B0BEC5",
                "#B0BEC5",
                "#B0BEC5",
                "#B0BEC5",
                "#B0BEC5",
                "#B0BEC5",
                "#B0BEC5"
               ]
              ]
             }
            ],
            "label": "Topic 33",
            "method": "update"
           },
           {
            "args": [
             {
              "marker.color": [
               [
                "#B0BEC5",
                "#B0BEC5",
                "#B0BEC5",
                "#B0BEC5",
                "#B0BEC5",
                "#B0BEC5",
                "#B0BEC5",
                "#B0BEC5",
                "#B0BEC5",
                "#B0BEC5",
                "#B0BEC5",
                "#B0BEC5",
                "#B0BEC5",
                "#B0BEC5",
                "#B0BEC5",
                "#B0BEC5",
                "#B0BEC5",
                "#B0BEC5",
                "#B0BEC5",
                "#B0BEC5",
                "#B0BEC5",
                "#B0BEC5",
                "#B0BEC5",
                "#B0BEC5",
                "#B0BEC5",
                "#B0BEC5",
                "#B0BEC5",
                "#B0BEC5",
                "#B0BEC5",
                "#B0BEC5",
                "#B0BEC5",
                "#B0BEC5",
                "#B0BEC5",
                "#B0BEC5",
                "red",
                "#B0BEC5",
                "#B0BEC5",
                "#B0BEC5",
                "#B0BEC5",
                "#B0BEC5",
                "#B0BEC5",
                "#B0BEC5",
                "#B0BEC5",
                "#B0BEC5",
                "#B0BEC5",
                "#B0BEC5",
                "#B0BEC5",
                "#B0BEC5",
                "#B0BEC5",
                "#B0BEC5",
                "#B0BEC5",
                "#B0BEC5",
                "#B0BEC5",
                "#B0BEC5",
                "#B0BEC5",
                "#B0BEC5",
                "#B0BEC5",
                "#B0BEC5",
                "#B0BEC5",
                "#B0BEC5",
                "#B0BEC5",
                "#B0BEC5",
                "#B0BEC5",
                "#B0BEC5",
                "#B0BEC5",
                "#B0BEC5",
                "#B0BEC5",
                "#B0BEC5",
                "#B0BEC5",
                "#B0BEC5"
               ]
              ]
             }
            ],
            "label": "Topic 34",
            "method": "update"
           },
           {
            "args": [
             {
              "marker.color": [
               [
                "#B0BEC5",
                "#B0BEC5",
                "#B0BEC5",
                "#B0BEC5",
                "#B0BEC5",
                "#B0BEC5",
                "#B0BEC5",
                "#B0BEC5",
                "#B0BEC5",
                "#B0BEC5",
                "#B0BEC5",
                "#B0BEC5",
                "#B0BEC5",
                "#B0BEC5",
                "#B0BEC5",
                "#B0BEC5",
                "#B0BEC5",
                "#B0BEC5",
                "#B0BEC5",
                "#B0BEC5",
                "#B0BEC5",
                "#B0BEC5",
                "#B0BEC5",
                "#B0BEC5",
                "#B0BEC5",
                "#B0BEC5",
                "#B0BEC5",
                "#B0BEC5",
                "#B0BEC5",
                "#B0BEC5",
                "#B0BEC5",
                "#B0BEC5",
                "#B0BEC5",
                "#B0BEC5",
                "#B0BEC5",
                "red",
                "#B0BEC5",
                "#B0BEC5",
                "#B0BEC5",
                "#B0BEC5",
                "#B0BEC5",
                "#B0BEC5",
                "#B0BEC5",
                "#B0BEC5",
                "#B0BEC5",
                "#B0BEC5",
                "#B0BEC5",
                "#B0BEC5",
                "#B0BEC5",
                "#B0BEC5",
                "#B0BEC5",
                "#B0BEC5",
                "#B0BEC5",
                "#B0BEC5",
                "#B0BEC5",
                "#B0BEC5",
                "#B0BEC5",
                "#B0BEC5",
                "#B0BEC5",
                "#B0BEC5",
                "#B0BEC5",
                "#B0BEC5",
                "#B0BEC5",
                "#B0BEC5",
                "#B0BEC5",
                "#B0BEC5",
                "#B0BEC5",
                "#B0BEC5",
                "#B0BEC5",
                "#B0BEC5"
               ]
              ]
             }
            ],
            "label": "Topic 35",
            "method": "update"
           },
           {
            "args": [
             {
              "marker.color": [
               [
                "#B0BEC5",
                "#B0BEC5",
                "#B0BEC5",
                "#B0BEC5",
                "#B0BEC5",
                "#B0BEC5",
                "#B0BEC5",
                "#B0BEC5",
                "#B0BEC5",
                "#B0BEC5",
                "#B0BEC5",
                "#B0BEC5",
                "#B0BEC5",
                "#B0BEC5",
                "#B0BEC5",
                "#B0BEC5",
                "#B0BEC5",
                "#B0BEC5",
                "#B0BEC5",
                "#B0BEC5",
                "#B0BEC5",
                "#B0BEC5",
                "#B0BEC5",
                "#B0BEC5",
                "#B0BEC5",
                "#B0BEC5",
                "#B0BEC5",
                "#B0BEC5",
                "#B0BEC5",
                "#B0BEC5",
                "#B0BEC5",
                "#B0BEC5",
                "#B0BEC5",
                "#B0BEC5",
                "#B0BEC5",
                "#B0BEC5",
                "red",
                "#B0BEC5",
                "#B0BEC5",
                "#B0BEC5",
                "#B0BEC5",
                "#B0BEC5",
                "#B0BEC5",
                "#B0BEC5",
                "#B0BEC5",
                "#B0BEC5",
                "#B0BEC5",
                "#B0BEC5",
                "#B0BEC5",
                "#B0BEC5",
                "#B0BEC5",
                "#B0BEC5",
                "#B0BEC5",
                "#B0BEC5",
                "#B0BEC5",
                "#B0BEC5",
                "#B0BEC5",
                "#B0BEC5",
                "#B0BEC5",
                "#B0BEC5",
                "#B0BEC5",
                "#B0BEC5",
                "#B0BEC5",
                "#B0BEC5",
                "#B0BEC5",
                "#B0BEC5",
                "#B0BEC5",
                "#B0BEC5",
                "#B0BEC5",
                "#B0BEC5"
               ]
              ]
             }
            ],
            "label": "Topic 36",
            "method": "update"
           },
           {
            "args": [
             {
              "marker.color": [
               [
                "#B0BEC5",
                "#B0BEC5",
                "#B0BEC5",
                "#B0BEC5",
                "#B0BEC5",
                "#B0BEC5",
                "#B0BEC5",
                "#B0BEC5",
                "#B0BEC5",
                "#B0BEC5",
                "#B0BEC5",
                "#B0BEC5",
                "#B0BEC5",
                "#B0BEC5",
                "#B0BEC5",
                "#B0BEC5",
                "#B0BEC5",
                "#B0BEC5",
                "#B0BEC5",
                "#B0BEC5",
                "#B0BEC5",
                "#B0BEC5",
                "#B0BEC5",
                "#B0BEC5",
                "#B0BEC5",
                "#B0BEC5",
                "#B0BEC5",
                "#B0BEC5",
                "#B0BEC5",
                "#B0BEC5",
                "#B0BEC5",
                "#B0BEC5",
                "#B0BEC5",
                "#B0BEC5",
                "#B0BEC5",
                "#B0BEC5",
                "#B0BEC5",
                "red",
                "#B0BEC5",
                "#B0BEC5",
                "#B0BEC5",
                "#B0BEC5",
                "#B0BEC5",
                "#B0BEC5",
                "#B0BEC5",
                "#B0BEC5",
                "#B0BEC5",
                "#B0BEC5",
                "#B0BEC5",
                "#B0BEC5",
                "#B0BEC5",
                "#B0BEC5",
                "#B0BEC5",
                "#B0BEC5",
                "#B0BEC5",
                "#B0BEC5",
                "#B0BEC5",
                "#B0BEC5",
                "#B0BEC5",
                "#B0BEC5",
                "#B0BEC5",
                "#B0BEC5",
                "#B0BEC5",
                "#B0BEC5",
                "#B0BEC5",
                "#B0BEC5",
                "#B0BEC5",
                "#B0BEC5",
                "#B0BEC5",
                "#B0BEC5"
               ]
              ]
             }
            ],
            "label": "Topic 37",
            "method": "update"
           },
           {
            "args": [
             {
              "marker.color": [
               [
                "#B0BEC5",
                "#B0BEC5",
                "#B0BEC5",
                "#B0BEC5",
                "#B0BEC5",
                "#B0BEC5",
                "#B0BEC5",
                "#B0BEC5",
                "#B0BEC5",
                "#B0BEC5",
                "#B0BEC5",
                "#B0BEC5",
                "#B0BEC5",
                "#B0BEC5",
                "#B0BEC5",
                "#B0BEC5",
                "#B0BEC5",
                "#B0BEC5",
                "#B0BEC5",
                "#B0BEC5",
                "#B0BEC5",
                "#B0BEC5",
                "#B0BEC5",
                "#B0BEC5",
                "#B0BEC5",
                "#B0BEC5",
                "#B0BEC5",
                "#B0BEC5",
                "#B0BEC5",
                "#B0BEC5",
                "#B0BEC5",
                "#B0BEC5",
                "#B0BEC5",
                "#B0BEC5",
                "#B0BEC5",
                "#B0BEC5",
                "#B0BEC5",
                "#B0BEC5",
                "red",
                "#B0BEC5",
                "#B0BEC5",
                "#B0BEC5",
                "#B0BEC5",
                "#B0BEC5",
                "#B0BEC5",
                "#B0BEC5",
                "#B0BEC5",
                "#B0BEC5",
                "#B0BEC5",
                "#B0BEC5",
                "#B0BEC5",
                "#B0BEC5",
                "#B0BEC5",
                "#B0BEC5",
                "#B0BEC5",
                "#B0BEC5",
                "#B0BEC5",
                "#B0BEC5",
                "#B0BEC5",
                "#B0BEC5",
                "#B0BEC5",
                "#B0BEC5",
                "#B0BEC5",
                "#B0BEC5",
                "#B0BEC5",
                "#B0BEC5",
                "#B0BEC5",
                "#B0BEC5",
                "#B0BEC5",
                "#B0BEC5"
               ]
              ]
             }
            ],
            "label": "Topic 38",
            "method": "update"
           },
           {
            "args": [
             {
              "marker.color": [
               [
                "#B0BEC5",
                "#B0BEC5",
                "#B0BEC5",
                "#B0BEC5",
                "#B0BEC5",
                "#B0BEC5",
                "#B0BEC5",
                "#B0BEC5",
                "#B0BEC5",
                "#B0BEC5",
                "#B0BEC5",
                "#B0BEC5",
                "#B0BEC5",
                "#B0BEC5",
                "#B0BEC5",
                "#B0BEC5",
                "#B0BEC5",
                "#B0BEC5",
                "#B0BEC5",
                "#B0BEC5",
                "#B0BEC5",
                "#B0BEC5",
                "#B0BEC5",
                "#B0BEC5",
                "#B0BEC5",
                "#B0BEC5",
                "#B0BEC5",
                "#B0BEC5",
                "#B0BEC5",
                "#B0BEC5",
                "#B0BEC5",
                "#B0BEC5",
                "#B0BEC5",
                "#B0BEC5",
                "#B0BEC5",
                "#B0BEC5",
                "#B0BEC5",
                "#B0BEC5",
                "#B0BEC5",
                "red",
                "#B0BEC5",
                "#B0BEC5",
                "#B0BEC5",
                "#B0BEC5",
                "#B0BEC5",
                "#B0BEC5",
                "#B0BEC5",
                "#B0BEC5",
                "#B0BEC5",
                "#B0BEC5",
                "#B0BEC5",
                "#B0BEC5",
                "#B0BEC5",
                "#B0BEC5",
                "#B0BEC5",
                "#B0BEC5",
                "#B0BEC5",
                "#B0BEC5",
                "#B0BEC5",
                "#B0BEC5",
                "#B0BEC5",
                "#B0BEC5",
                "#B0BEC5",
                "#B0BEC5",
                "#B0BEC5",
                "#B0BEC5",
                "#B0BEC5",
                "#B0BEC5",
                "#B0BEC5",
                "#B0BEC5"
               ]
              ]
             }
            ],
            "label": "Topic 39",
            "method": "update"
           },
           {
            "args": [
             {
              "marker.color": [
               [
                "#B0BEC5",
                "#B0BEC5",
                "#B0BEC5",
                "#B0BEC5",
                "#B0BEC5",
                "#B0BEC5",
                "#B0BEC5",
                "#B0BEC5",
                "#B0BEC5",
                "#B0BEC5",
                "#B0BEC5",
                "#B0BEC5",
                "#B0BEC5",
                "#B0BEC5",
                "#B0BEC5",
                "#B0BEC5",
                "#B0BEC5",
                "#B0BEC5",
                "#B0BEC5",
                "#B0BEC5",
                "#B0BEC5",
                "#B0BEC5",
                "#B0BEC5",
                "#B0BEC5",
                "#B0BEC5",
                "#B0BEC5",
                "#B0BEC5",
                "#B0BEC5",
                "#B0BEC5",
                "#B0BEC5",
                "#B0BEC5",
                "#B0BEC5",
                "#B0BEC5",
                "#B0BEC5",
                "#B0BEC5",
                "#B0BEC5",
                "#B0BEC5",
                "#B0BEC5",
                "#B0BEC5",
                "#B0BEC5",
                "red",
                "#B0BEC5",
                "#B0BEC5",
                "#B0BEC5",
                "#B0BEC5",
                "#B0BEC5",
                "#B0BEC5",
                "#B0BEC5",
                "#B0BEC5",
                "#B0BEC5",
                "#B0BEC5",
                "#B0BEC5",
                "#B0BEC5",
                "#B0BEC5",
                "#B0BEC5",
                "#B0BEC5",
                "#B0BEC5",
                "#B0BEC5",
                "#B0BEC5",
                "#B0BEC5",
                "#B0BEC5",
                "#B0BEC5",
                "#B0BEC5",
                "#B0BEC5",
                "#B0BEC5",
                "#B0BEC5",
                "#B0BEC5",
                "#B0BEC5",
                "#B0BEC5",
                "#B0BEC5"
               ]
              ]
             }
            ],
            "label": "Topic 40",
            "method": "update"
           },
           {
            "args": [
             {
              "marker.color": [
               [
                "#B0BEC5",
                "#B0BEC5",
                "#B0BEC5",
                "#B0BEC5",
                "#B0BEC5",
                "#B0BEC5",
                "#B0BEC5",
                "#B0BEC5",
                "#B0BEC5",
                "#B0BEC5",
                "#B0BEC5",
                "#B0BEC5",
                "#B0BEC5",
                "#B0BEC5",
                "#B0BEC5",
                "#B0BEC5",
                "#B0BEC5",
                "#B0BEC5",
                "#B0BEC5",
                "#B0BEC5",
                "#B0BEC5",
                "#B0BEC5",
                "#B0BEC5",
                "#B0BEC5",
                "#B0BEC5",
                "#B0BEC5",
                "#B0BEC5",
                "#B0BEC5",
                "#B0BEC5",
                "#B0BEC5",
                "#B0BEC5",
                "#B0BEC5",
                "#B0BEC5",
                "#B0BEC5",
                "#B0BEC5",
                "#B0BEC5",
                "#B0BEC5",
                "#B0BEC5",
                "#B0BEC5",
                "#B0BEC5",
                "#B0BEC5",
                "red",
                "#B0BEC5",
                "#B0BEC5",
                "#B0BEC5",
                "#B0BEC5",
                "#B0BEC5",
                "#B0BEC5",
                "#B0BEC5",
                "#B0BEC5",
                "#B0BEC5",
                "#B0BEC5",
                "#B0BEC5",
                "#B0BEC5",
                "#B0BEC5",
                "#B0BEC5",
                "#B0BEC5",
                "#B0BEC5",
                "#B0BEC5",
                "#B0BEC5",
                "#B0BEC5",
                "#B0BEC5",
                "#B0BEC5",
                "#B0BEC5",
                "#B0BEC5",
                "#B0BEC5",
                "#B0BEC5",
                "#B0BEC5",
                "#B0BEC5",
                "#B0BEC5"
               ]
              ]
             }
            ],
            "label": "Topic 41",
            "method": "update"
           },
           {
            "args": [
             {
              "marker.color": [
               [
                "#B0BEC5",
                "#B0BEC5",
                "#B0BEC5",
                "#B0BEC5",
                "#B0BEC5",
                "#B0BEC5",
                "#B0BEC5",
                "#B0BEC5",
                "#B0BEC5",
                "#B0BEC5",
                "#B0BEC5",
                "#B0BEC5",
                "#B0BEC5",
                "#B0BEC5",
                "#B0BEC5",
                "#B0BEC5",
                "#B0BEC5",
                "#B0BEC5",
                "#B0BEC5",
                "#B0BEC5",
                "#B0BEC5",
                "#B0BEC5",
                "#B0BEC5",
                "#B0BEC5",
                "#B0BEC5",
                "#B0BEC5",
                "#B0BEC5",
                "#B0BEC5",
                "#B0BEC5",
                "#B0BEC5",
                "#B0BEC5",
                "#B0BEC5",
                "#B0BEC5",
                "#B0BEC5",
                "#B0BEC5",
                "#B0BEC5",
                "#B0BEC5",
                "#B0BEC5",
                "#B0BEC5",
                "#B0BEC5",
                "#B0BEC5",
                "#B0BEC5",
                "red",
                "#B0BEC5",
                "#B0BEC5",
                "#B0BEC5",
                "#B0BEC5",
                "#B0BEC5",
                "#B0BEC5",
                "#B0BEC5",
                "#B0BEC5",
                "#B0BEC5",
                "#B0BEC5",
                "#B0BEC5",
                "#B0BEC5",
                "#B0BEC5",
                "#B0BEC5",
                "#B0BEC5",
                "#B0BEC5",
                "#B0BEC5",
                "#B0BEC5",
                "#B0BEC5",
                "#B0BEC5",
                "#B0BEC5",
                "#B0BEC5",
                "#B0BEC5",
                "#B0BEC5",
                "#B0BEC5",
                "#B0BEC5",
                "#B0BEC5"
               ]
              ]
             }
            ],
            "label": "Topic 42",
            "method": "update"
           },
           {
            "args": [
             {
              "marker.color": [
               [
                "#B0BEC5",
                "#B0BEC5",
                "#B0BEC5",
                "#B0BEC5",
                "#B0BEC5",
                "#B0BEC5",
                "#B0BEC5",
                "#B0BEC5",
                "#B0BEC5",
                "#B0BEC5",
                "#B0BEC5",
                "#B0BEC5",
                "#B0BEC5",
                "#B0BEC5",
                "#B0BEC5",
                "#B0BEC5",
                "#B0BEC5",
                "#B0BEC5",
                "#B0BEC5",
                "#B0BEC5",
                "#B0BEC5",
                "#B0BEC5",
                "#B0BEC5",
                "#B0BEC5",
                "#B0BEC5",
                "#B0BEC5",
                "#B0BEC5",
                "#B0BEC5",
                "#B0BEC5",
                "#B0BEC5",
                "#B0BEC5",
                "#B0BEC5",
                "#B0BEC5",
                "#B0BEC5",
                "#B0BEC5",
                "#B0BEC5",
                "#B0BEC5",
                "#B0BEC5",
                "#B0BEC5",
                "#B0BEC5",
                "#B0BEC5",
                "#B0BEC5",
                "#B0BEC5",
                "red",
                "#B0BEC5",
                "#B0BEC5",
                "#B0BEC5",
                "#B0BEC5",
                "#B0BEC5",
                "#B0BEC5",
                "#B0BEC5",
                "#B0BEC5",
                "#B0BEC5",
                "#B0BEC5",
                "#B0BEC5",
                "#B0BEC5",
                "#B0BEC5",
                "#B0BEC5",
                "#B0BEC5",
                "#B0BEC5",
                "#B0BEC5",
                "#B0BEC5",
                "#B0BEC5",
                "#B0BEC5",
                "#B0BEC5",
                "#B0BEC5",
                "#B0BEC5",
                "#B0BEC5",
                "#B0BEC5",
                "#B0BEC5"
               ]
              ]
             }
            ],
            "label": "Topic 43",
            "method": "update"
           },
           {
            "args": [
             {
              "marker.color": [
               [
                "#B0BEC5",
                "#B0BEC5",
                "#B0BEC5",
                "#B0BEC5",
                "#B0BEC5",
                "#B0BEC5",
                "#B0BEC5",
                "#B0BEC5",
                "#B0BEC5",
                "#B0BEC5",
                "#B0BEC5",
                "#B0BEC5",
                "#B0BEC5",
                "#B0BEC5",
                "#B0BEC5",
                "#B0BEC5",
                "#B0BEC5",
                "#B0BEC5",
                "#B0BEC5",
                "#B0BEC5",
                "#B0BEC5",
                "#B0BEC5",
                "#B0BEC5",
                "#B0BEC5",
                "#B0BEC5",
                "#B0BEC5",
                "#B0BEC5",
                "#B0BEC5",
                "#B0BEC5",
                "#B0BEC5",
                "#B0BEC5",
                "#B0BEC5",
                "#B0BEC5",
                "#B0BEC5",
                "#B0BEC5",
                "#B0BEC5",
                "#B0BEC5",
                "#B0BEC5",
                "#B0BEC5",
                "#B0BEC5",
                "#B0BEC5",
                "#B0BEC5",
                "#B0BEC5",
                "#B0BEC5",
                "red",
                "#B0BEC5",
                "#B0BEC5",
                "#B0BEC5",
                "#B0BEC5",
                "#B0BEC5",
                "#B0BEC5",
                "#B0BEC5",
                "#B0BEC5",
                "#B0BEC5",
                "#B0BEC5",
                "#B0BEC5",
                "#B0BEC5",
                "#B0BEC5",
                "#B0BEC5",
                "#B0BEC5",
                "#B0BEC5",
                "#B0BEC5",
                "#B0BEC5",
                "#B0BEC5",
                "#B0BEC5",
                "#B0BEC5",
                "#B0BEC5",
                "#B0BEC5",
                "#B0BEC5",
                "#B0BEC5"
               ]
              ]
             }
            ],
            "label": "Topic 44",
            "method": "update"
           },
           {
            "args": [
             {
              "marker.color": [
               [
                "#B0BEC5",
                "#B0BEC5",
                "#B0BEC5",
                "#B0BEC5",
                "#B0BEC5",
                "#B0BEC5",
                "#B0BEC5",
                "#B0BEC5",
                "#B0BEC5",
                "#B0BEC5",
                "#B0BEC5",
                "#B0BEC5",
                "#B0BEC5",
                "#B0BEC5",
                "#B0BEC5",
                "#B0BEC5",
                "#B0BEC5",
                "#B0BEC5",
                "#B0BEC5",
                "#B0BEC5",
                "#B0BEC5",
                "#B0BEC5",
                "#B0BEC5",
                "#B0BEC5",
                "#B0BEC5",
                "#B0BEC5",
                "#B0BEC5",
                "#B0BEC5",
                "#B0BEC5",
                "#B0BEC5",
                "#B0BEC5",
                "#B0BEC5",
                "#B0BEC5",
                "#B0BEC5",
                "#B0BEC5",
                "#B0BEC5",
                "#B0BEC5",
                "#B0BEC5",
                "#B0BEC5",
                "#B0BEC5",
                "#B0BEC5",
                "#B0BEC5",
                "#B0BEC5",
                "#B0BEC5",
                "#B0BEC5",
                "red",
                "#B0BEC5",
                "#B0BEC5",
                "#B0BEC5",
                "#B0BEC5",
                "#B0BEC5",
                "#B0BEC5",
                "#B0BEC5",
                "#B0BEC5",
                "#B0BEC5",
                "#B0BEC5",
                "#B0BEC5",
                "#B0BEC5",
                "#B0BEC5",
                "#B0BEC5",
                "#B0BEC5",
                "#B0BEC5",
                "#B0BEC5",
                "#B0BEC5",
                "#B0BEC5",
                "#B0BEC5",
                "#B0BEC5",
                "#B0BEC5",
                "#B0BEC5",
                "#B0BEC5"
               ]
              ]
             }
            ],
            "label": "Topic 45",
            "method": "update"
           },
           {
            "args": [
             {
              "marker.color": [
               [
                "#B0BEC5",
                "#B0BEC5",
                "#B0BEC5",
                "#B0BEC5",
                "#B0BEC5",
                "#B0BEC5",
                "#B0BEC5",
                "#B0BEC5",
                "#B0BEC5",
                "#B0BEC5",
                "#B0BEC5",
                "#B0BEC5",
                "#B0BEC5",
                "#B0BEC5",
                "#B0BEC5",
                "#B0BEC5",
                "#B0BEC5",
                "#B0BEC5",
                "#B0BEC5",
                "#B0BEC5",
                "#B0BEC5",
                "#B0BEC5",
                "#B0BEC5",
                "#B0BEC5",
                "#B0BEC5",
                "#B0BEC5",
                "#B0BEC5",
                "#B0BEC5",
                "#B0BEC5",
                "#B0BEC5",
                "#B0BEC5",
                "#B0BEC5",
                "#B0BEC5",
                "#B0BEC5",
                "#B0BEC5",
                "#B0BEC5",
                "#B0BEC5",
                "#B0BEC5",
                "#B0BEC5",
                "#B0BEC5",
                "#B0BEC5",
                "#B0BEC5",
                "#B0BEC5",
                "#B0BEC5",
                "#B0BEC5",
                "#B0BEC5",
                "red",
                "#B0BEC5",
                "#B0BEC5",
                "#B0BEC5",
                "#B0BEC5",
                "#B0BEC5",
                "#B0BEC5",
                "#B0BEC5",
                "#B0BEC5",
                "#B0BEC5",
                "#B0BEC5",
                "#B0BEC5",
                "#B0BEC5",
                "#B0BEC5",
                "#B0BEC5",
                "#B0BEC5",
                "#B0BEC5",
                "#B0BEC5",
                "#B0BEC5",
                "#B0BEC5",
                "#B0BEC5",
                "#B0BEC5",
                "#B0BEC5",
                "#B0BEC5"
               ]
              ]
             }
            ],
            "label": "Topic 46",
            "method": "update"
           },
           {
            "args": [
             {
              "marker.color": [
               [
                "#B0BEC5",
                "#B0BEC5",
                "#B0BEC5",
                "#B0BEC5",
                "#B0BEC5",
                "#B0BEC5",
                "#B0BEC5",
                "#B0BEC5",
                "#B0BEC5",
                "#B0BEC5",
                "#B0BEC5",
                "#B0BEC5",
                "#B0BEC5",
                "#B0BEC5",
                "#B0BEC5",
                "#B0BEC5",
                "#B0BEC5",
                "#B0BEC5",
                "#B0BEC5",
                "#B0BEC5",
                "#B0BEC5",
                "#B0BEC5",
                "#B0BEC5",
                "#B0BEC5",
                "#B0BEC5",
                "#B0BEC5",
                "#B0BEC5",
                "#B0BEC5",
                "#B0BEC5",
                "#B0BEC5",
                "#B0BEC5",
                "#B0BEC5",
                "#B0BEC5",
                "#B0BEC5",
                "#B0BEC5",
                "#B0BEC5",
                "#B0BEC5",
                "#B0BEC5",
                "#B0BEC5",
                "#B0BEC5",
                "#B0BEC5",
                "#B0BEC5",
                "#B0BEC5",
                "#B0BEC5",
                "#B0BEC5",
                "#B0BEC5",
                "#B0BEC5",
                "red",
                "#B0BEC5",
                "#B0BEC5",
                "#B0BEC5",
                "#B0BEC5",
                "#B0BEC5",
                "#B0BEC5",
                "#B0BEC5",
                "#B0BEC5",
                "#B0BEC5",
                "#B0BEC5",
                "#B0BEC5",
                "#B0BEC5",
                "#B0BEC5",
                "#B0BEC5",
                "#B0BEC5",
                "#B0BEC5",
                "#B0BEC5",
                "#B0BEC5",
                "#B0BEC5",
                "#B0BEC5",
                "#B0BEC5",
                "#B0BEC5"
               ]
              ]
             }
            ],
            "label": "Topic 47",
            "method": "update"
           },
           {
            "args": [
             {
              "marker.color": [
               [
                "#B0BEC5",
                "#B0BEC5",
                "#B0BEC5",
                "#B0BEC5",
                "#B0BEC5",
                "#B0BEC5",
                "#B0BEC5",
                "#B0BEC5",
                "#B0BEC5",
                "#B0BEC5",
                "#B0BEC5",
                "#B0BEC5",
                "#B0BEC5",
                "#B0BEC5",
                "#B0BEC5",
                "#B0BEC5",
                "#B0BEC5",
                "#B0BEC5",
                "#B0BEC5",
                "#B0BEC5",
                "#B0BEC5",
                "#B0BEC5",
                "#B0BEC5",
                "#B0BEC5",
                "#B0BEC5",
                "#B0BEC5",
                "#B0BEC5",
                "#B0BEC5",
                "#B0BEC5",
                "#B0BEC5",
                "#B0BEC5",
                "#B0BEC5",
                "#B0BEC5",
                "#B0BEC5",
                "#B0BEC5",
                "#B0BEC5",
                "#B0BEC5",
                "#B0BEC5",
                "#B0BEC5",
                "#B0BEC5",
                "#B0BEC5",
                "#B0BEC5",
                "#B0BEC5",
                "#B0BEC5",
                "#B0BEC5",
                "#B0BEC5",
                "#B0BEC5",
                "#B0BEC5",
                "red",
                "#B0BEC5",
                "#B0BEC5",
                "#B0BEC5",
                "#B0BEC5",
                "#B0BEC5",
                "#B0BEC5",
                "#B0BEC5",
                "#B0BEC5",
                "#B0BEC5",
                "#B0BEC5",
                "#B0BEC5",
                "#B0BEC5",
                "#B0BEC5",
                "#B0BEC5",
                "#B0BEC5",
                "#B0BEC5",
                "#B0BEC5",
                "#B0BEC5",
                "#B0BEC5",
                "#B0BEC5",
                "#B0BEC5"
               ]
              ]
             }
            ],
            "label": "Topic 48",
            "method": "update"
           },
           {
            "args": [
             {
              "marker.color": [
               [
                "#B0BEC5",
                "#B0BEC5",
                "#B0BEC5",
                "#B0BEC5",
                "#B0BEC5",
                "#B0BEC5",
                "#B0BEC5",
                "#B0BEC5",
                "#B0BEC5",
                "#B0BEC5",
                "#B0BEC5",
                "#B0BEC5",
                "#B0BEC5",
                "#B0BEC5",
                "#B0BEC5",
                "#B0BEC5",
                "#B0BEC5",
                "#B0BEC5",
                "#B0BEC5",
                "#B0BEC5",
                "#B0BEC5",
                "#B0BEC5",
                "#B0BEC5",
                "#B0BEC5",
                "#B0BEC5",
                "#B0BEC5",
                "#B0BEC5",
                "#B0BEC5",
                "#B0BEC5",
                "#B0BEC5",
                "#B0BEC5",
                "#B0BEC5",
                "#B0BEC5",
                "#B0BEC5",
                "#B0BEC5",
                "#B0BEC5",
                "#B0BEC5",
                "#B0BEC5",
                "#B0BEC5",
                "#B0BEC5",
                "#B0BEC5",
                "#B0BEC5",
                "#B0BEC5",
                "#B0BEC5",
                "#B0BEC5",
                "#B0BEC5",
                "#B0BEC5",
                "#B0BEC5",
                "#B0BEC5",
                "red",
                "#B0BEC5",
                "#B0BEC5",
                "#B0BEC5",
                "#B0BEC5",
                "#B0BEC5",
                "#B0BEC5",
                "#B0BEC5",
                "#B0BEC5",
                "#B0BEC5",
                "#B0BEC5",
                "#B0BEC5",
                "#B0BEC5",
                "#B0BEC5",
                "#B0BEC5",
                "#B0BEC5",
                "#B0BEC5",
                "#B0BEC5",
                "#B0BEC5",
                "#B0BEC5",
                "#B0BEC5"
               ]
              ]
             }
            ],
            "label": "Topic 49",
            "method": "update"
           },
           {
            "args": [
             {
              "marker.color": [
               [
                "#B0BEC5",
                "#B0BEC5",
                "#B0BEC5",
                "#B0BEC5",
                "#B0BEC5",
                "#B0BEC5",
                "#B0BEC5",
                "#B0BEC5",
                "#B0BEC5",
                "#B0BEC5",
                "#B0BEC5",
                "#B0BEC5",
                "#B0BEC5",
                "#B0BEC5",
                "#B0BEC5",
                "#B0BEC5",
                "#B0BEC5",
                "#B0BEC5",
                "#B0BEC5",
                "#B0BEC5",
                "#B0BEC5",
                "#B0BEC5",
                "#B0BEC5",
                "#B0BEC5",
                "#B0BEC5",
                "#B0BEC5",
                "#B0BEC5",
                "#B0BEC5",
                "#B0BEC5",
                "#B0BEC5",
                "#B0BEC5",
                "#B0BEC5",
                "#B0BEC5",
                "#B0BEC5",
                "#B0BEC5",
                "#B0BEC5",
                "#B0BEC5",
                "#B0BEC5",
                "#B0BEC5",
                "#B0BEC5",
                "#B0BEC5",
                "#B0BEC5",
                "#B0BEC5",
                "#B0BEC5",
                "#B0BEC5",
                "#B0BEC5",
                "#B0BEC5",
                "#B0BEC5",
                "#B0BEC5",
                "#B0BEC5",
                "red",
                "#B0BEC5",
                "#B0BEC5",
                "#B0BEC5",
                "#B0BEC5",
                "#B0BEC5",
                "#B0BEC5",
                "#B0BEC5",
                "#B0BEC5",
                "#B0BEC5",
                "#B0BEC5",
                "#B0BEC5",
                "#B0BEC5",
                "#B0BEC5",
                "#B0BEC5",
                "#B0BEC5",
                "#B0BEC5",
                "#B0BEC5",
                "#B0BEC5",
                "#B0BEC5"
               ]
              ]
             }
            ],
            "label": "Topic 50",
            "method": "update"
           },
           {
            "args": [
             {
              "marker.color": [
               [
                "#B0BEC5",
                "#B0BEC5",
                "#B0BEC5",
                "#B0BEC5",
                "#B0BEC5",
                "#B0BEC5",
                "#B0BEC5",
                "#B0BEC5",
                "#B0BEC5",
                "#B0BEC5",
                "#B0BEC5",
                "#B0BEC5",
                "#B0BEC5",
                "#B0BEC5",
                "#B0BEC5",
                "#B0BEC5",
                "#B0BEC5",
                "#B0BEC5",
                "#B0BEC5",
                "#B0BEC5",
                "#B0BEC5",
                "#B0BEC5",
                "#B0BEC5",
                "#B0BEC5",
                "#B0BEC5",
                "#B0BEC5",
                "#B0BEC5",
                "#B0BEC5",
                "#B0BEC5",
                "#B0BEC5",
                "#B0BEC5",
                "#B0BEC5",
                "#B0BEC5",
                "#B0BEC5",
                "#B0BEC5",
                "#B0BEC5",
                "#B0BEC5",
                "#B0BEC5",
                "#B0BEC5",
                "#B0BEC5",
                "#B0BEC5",
                "#B0BEC5",
                "#B0BEC5",
                "#B0BEC5",
                "#B0BEC5",
                "#B0BEC5",
                "#B0BEC5",
                "#B0BEC5",
                "#B0BEC5",
                "#B0BEC5",
                "#B0BEC5",
                "red",
                "#B0BEC5",
                "#B0BEC5",
                "#B0BEC5",
                "#B0BEC5",
                "#B0BEC5",
                "#B0BEC5",
                "#B0BEC5",
                "#B0BEC5",
                "#B0BEC5",
                "#B0BEC5",
                "#B0BEC5",
                "#B0BEC5",
                "#B0BEC5",
                "#B0BEC5",
                "#B0BEC5",
                "#B0BEC5",
                "#B0BEC5",
                "#B0BEC5"
               ]
              ]
             }
            ],
            "label": "Topic 51",
            "method": "update"
           },
           {
            "args": [
             {
              "marker.color": [
               [
                "#B0BEC5",
                "#B0BEC5",
                "#B0BEC5",
                "#B0BEC5",
                "#B0BEC5",
                "#B0BEC5",
                "#B0BEC5",
                "#B0BEC5",
                "#B0BEC5",
                "#B0BEC5",
                "#B0BEC5",
                "#B0BEC5",
                "#B0BEC5",
                "#B0BEC5",
                "#B0BEC5",
                "#B0BEC5",
                "#B0BEC5",
                "#B0BEC5",
                "#B0BEC5",
                "#B0BEC5",
                "#B0BEC5",
                "#B0BEC5",
                "#B0BEC5",
                "#B0BEC5",
                "#B0BEC5",
                "#B0BEC5",
                "#B0BEC5",
                "#B0BEC5",
                "#B0BEC5",
                "#B0BEC5",
                "#B0BEC5",
                "#B0BEC5",
                "#B0BEC5",
                "#B0BEC5",
                "#B0BEC5",
                "#B0BEC5",
                "#B0BEC5",
                "#B0BEC5",
                "#B0BEC5",
                "#B0BEC5",
                "#B0BEC5",
                "#B0BEC5",
                "#B0BEC5",
                "#B0BEC5",
                "#B0BEC5",
                "#B0BEC5",
                "#B0BEC5",
                "#B0BEC5",
                "#B0BEC5",
                "#B0BEC5",
                "#B0BEC5",
                "#B0BEC5",
                "red",
                "#B0BEC5",
                "#B0BEC5",
                "#B0BEC5",
                "#B0BEC5",
                "#B0BEC5",
                "#B0BEC5",
                "#B0BEC5",
                "#B0BEC5",
                "#B0BEC5",
                "#B0BEC5",
                "#B0BEC5",
                "#B0BEC5",
                "#B0BEC5",
                "#B0BEC5",
                "#B0BEC5",
                "#B0BEC5",
                "#B0BEC5"
               ]
              ]
             }
            ],
            "label": "Topic 52",
            "method": "update"
           },
           {
            "args": [
             {
              "marker.color": [
               [
                "#B0BEC5",
                "#B0BEC5",
                "#B0BEC5",
                "#B0BEC5",
                "#B0BEC5",
                "#B0BEC5",
                "#B0BEC5",
                "#B0BEC5",
                "#B0BEC5",
                "#B0BEC5",
                "#B0BEC5",
                "#B0BEC5",
                "#B0BEC5",
                "#B0BEC5",
                "#B0BEC5",
                "#B0BEC5",
                "#B0BEC5",
                "#B0BEC5",
                "#B0BEC5",
                "#B0BEC5",
                "#B0BEC5",
                "#B0BEC5",
                "#B0BEC5",
                "#B0BEC5",
                "#B0BEC5",
                "#B0BEC5",
                "#B0BEC5",
                "#B0BEC5",
                "#B0BEC5",
                "#B0BEC5",
                "#B0BEC5",
                "#B0BEC5",
                "#B0BEC5",
                "#B0BEC5",
                "#B0BEC5",
                "#B0BEC5",
                "#B0BEC5",
                "#B0BEC5",
                "#B0BEC5",
                "#B0BEC5",
                "#B0BEC5",
                "#B0BEC5",
                "#B0BEC5",
                "#B0BEC5",
                "#B0BEC5",
                "#B0BEC5",
                "#B0BEC5",
                "#B0BEC5",
                "#B0BEC5",
                "#B0BEC5",
                "#B0BEC5",
                "#B0BEC5",
                "#B0BEC5",
                "red",
                "#B0BEC5",
                "#B0BEC5",
                "#B0BEC5",
                "#B0BEC5",
                "#B0BEC5",
                "#B0BEC5",
                "#B0BEC5",
                "#B0BEC5",
                "#B0BEC5",
                "#B0BEC5",
                "#B0BEC5",
                "#B0BEC5",
                "#B0BEC5",
                "#B0BEC5",
                "#B0BEC5",
                "#B0BEC5"
               ]
              ]
             }
            ],
            "label": "Topic 53",
            "method": "update"
           },
           {
            "args": [
             {
              "marker.color": [
               [
                "#B0BEC5",
                "#B0BEC5",
                "#B0BEC5",
                "#B0BEC5",
                "#B0BEC5",
                "#B0BEC5",
                "#B0BEC5",
                "#B0BEC5",
                "#B0BEC5",
                "#B0BEC5",
                "#B0BEC5",
                "#B0BEC5",
                "#B0BEC5",
                "#B0BEC5",
                "#B0BEC5",
                "#B0BEC5",
                "#B0BEC5",
                "#B0BEC5",
                "#B0BEC5",
                "#B0BEC5",
                "#B0BEC5",
                "#B0BEC5",
                "#B0BEC5",
                "#B0BEC5",
                "#B0BEC5",
                "#B0BEC5",
                "#B0BEC5",
                "#B0BEC5",
                "#B0BEC5",
                "#B0BEC5",
                "#B0BEC5",
                "#B0BEC5",
                "#B0BEC5",
                "#B0BEC5",
                "#B0BEC5",
                "#B0BEC5",
                "#B0BEC5",
                "#B0BEC5",
                "#B0BEC5",
                "#B0BEC5",
                "#B0BEC5",
                "#B0BEC5",
                "#B0BEC5",
                "#B0BEC5",
                "#B0BEC5",
                "#B0BEC5",
                "#B0BEC5",
                "#B0BEC5",
                "#B0BEC5",
                "#B0BEC5",
                "#B0BEC5",
                "#B0BEC5",
                "#B0BEC5",
                "#B0BEC5",
                "red",
                "#B0BEC5",
                "#B0BEC5",
                "#B0BEC5",
                "#B0BEC5",
                "#B0BEC5",
                "#B0BEC5",
                "#B0BEC5",
                "#B0BEC5",
                "#B0BEC5",
                "#B0BEC5",
                "#B0BEC5",
                "#B0BEC5",
                "#B0BEC5",
                "#B0BEC5",
                "#B0BEC5"
               ]
              ]
             }
            ],
            "label": "Topic 54",
            "method": "update"
           },
           {
            "args": [
             {
              "marker.color": [
               [
                "#B0BEC5",
                "#B0BEC5",
                "#B0BEC5",
                "#B0BEC5",
                "#B0BEC5",
                "#B0BEC5",
                "#B0BEC5",
                "#B0BEC5",
                "#B0BEC5",
                "#B0BEC5",
                "#B0BEC5",
                "#B0BEC5",
                "#B0BEC5",
                "#B0BEC5",
                "#B0BEC5",
                "#B0BEC5",
                "#B0BEC5",
                "#B0BEC5",
                "#B0BEC5",
                "#B0BEC5",
                "#B0BEC5",
                "#B0BEC5",
                "#B0BEC5",
                "#B0BEC5",
                "#B0BEC5",
                "#B0BEC5",
                "#B0BEC5",
                "#B0BEC5",
                "#B0BEC5",
                "#B0BEC5",
                "#B0BEC5",
                "#B0BEC5",
                "#B0BEC5",
                "#B0BEC5",
                "#B0BEC5",
                "#B0BEC5",
                "#B0BEC5",
                "#B0BEC5",
                "#B0BEC5",
                "#B0BEC5",
                "#B0BEC5",
                "#B0BEC5",
                "#B0BEC5",
                "#B0BEC5",
                "#B0BEC5",
                "#B0BEC5",
                "#B0BEC5",
                "#B0BEC5",
                "#B0BEC5",
                "#B0BEC5",
                "#B0BEC5",
                "#B0BEC5",
                "#B0BEC5",
                "#B0BEC5",
                "#B0BEC5",
                "red",
                "#B0BEC5",
                "#B0BEC5",
                "#B0BEC5",
                "#B0BEC5",
                "#B0BEC5",
                "#B0BEC5",
                "#B0BEC5",
                "#B0BEC5",
                "#B0BEC5",
                "#B0BEC5",
                "#B0BEC5",
                "#B0BEC5",
                "#B0BEC5",
                "#B0BEC5"
               ]
              ]
             }
            ],
            "label": "Topic 55",
            "method": "update"
           },
           {
            "args": [
             {
              "marker.color": [
               [
                "#B0BEC5",
                "#B0BEC5",
                "#B0BEC5",
                "#B0BEC5",
                "#B0BEC5",
                "#B0BEC5",
                "#B0BEC5",
                "#B0BEC5",
                "#B0BEC5",
                "#B0BEC5",
                "#B0BEC5",
                "#B0BEC5",
                "#B0BEC5",
                "#B0BEC5",
                "#B0BEC5",
                "#B0BEC5",
                "#B0BEC5",
                "#B0BEC5",
                "#B0BEC5",
                "#B0BEC5",
                "#B0BEC5",
                "#B0BEC5",
                "#B0BEC5",
                "#B0BEC5",
                "#B0BEC5",
                "#B0BEC5",
                "#B0BEC5",
                "#B0BEC5",
                "#B0BEC5",
                "#B0BEC5",
                "#B0BEC5",
                "#B0BEC5",
                "#B0BEC5",
                "#B0BEC5",
                "#B0BEC5",
                "#B0BEC5",
                "#B0BEC5",
                "#B0BEC5",
                "#B0BEC5",
                "#B0BEC5",
                "#B0BEC5",
                "#B0BEC5",
                "#B0BEC5",
                "#B0BEC5",
                "#B0BEC5",
                "#B0BEC5",
                "#B0BEC5",
                "#B0BEC5",
                "#B0BEC5",
                "#B0BEC5",
                "#B0BEC5",
                "#B0BEC5",
                "#B0BEC5",
                "#B0BEC5",
                "#B0BEC5",
                "#B0BEC5",
                "red",
                "#B0BEC5",
                "#B0BEC5",
                "#B0BEC5",
                "#B0BEC5",
                "#B0BEC5",
                "#B0BEC5",
                "#B0BEC5",
                "#B0BEC5",
                "#B0BEC5",
                "#B0BEC5",
                "#B0BEC5",
                "#B0BEC5",
                "#B0BEC5"
               ]
              ]
             }
            ],
            "label": "Topic 56",
            "method": "update"
           },
           {
            "args": [
             {
              "marker.color": [
               [
                "#B0BEC5",
                "#B0BEC5",
                "#B0BEC5",
                "#B0BEC5",
                "#B0BEC5",
                "#B0BEC5",
                "#B0BEC5",
                "#B0BEC5",
                "#B0BEC5",
                "#B0BEC5",
                "#B0BEC5",
                "#B0BEC5",
                "#B0BEC5",
                "#B0BEC5",
                "#B0BEC5",
                "#B0BEC5",
                "#B0BEC5",
                "#B0BEC5",
                "#B0BEC5",
                "#B0BEC5",
                "#B0BEC5",
                "#B0BEC5",
                "#B0BEC5",
                "#B0BEC5",
                "#B0BEC5",
                "#B0BEC5",
                "#B0BEC5",
                "#B0BEC5",
                "#B0BEC5",
                "#B0BEC5",
                "#B0BEC5",
                "#B0BEC5",
                "#B0BEC5",
                "#B0BEC5",
                "#B0BEC5",
                "#B0BEC5",
                "#B0BEC5",
                "#B0BEC5",
                "#B0BEC5",
                "#B0BEC5",
                "#B0BEC5",
                "#B0BEC5",
                "#B0BEC5",
                "#B0BEC5",
                "#B0BEC5",
                "#B0BEC5",
                "#B0BEC5",
                "#B0BEC5",
                "#B0BEC5",
                "#B0BEC5",
                "#B0BEC5",
                "#B0BEC5",
                "#B0BEC5",
                "#B0BEC5",
                "#B0BEC5",
                "#B0BEC5",
                "#B0BEC5",
                "red",
                "#B0BEC5",
                "#B0BEC5",
                "#B0BEC5",
                "#B0BEC5",
                "#B0BEC5",
                "#B0BEC5",
                "#B0BEC5",
                "#B0BEC5",
                "#B0BEC5",
                "#B0BEC5",
                "#B0BEC5",
                "#B0BEC5"
               ]
              ]
             }
            ],
            "label": "Topic 57",
            "method": "update"
           },
           {
            "args": [
             {
              "marker.color": [
               [
                "#B0BEC5",
                "#B0BEC5",
                "#B0BEC5",
                "#B0BEC5",
                "#B0BEC5",
                "#B0BEC5",
                "#B0BEC5",
                "#B0BEC5",
                "#B0BEC5",
                "#B0BEC5",
                "#B0BEC5",
                "#B0BEC5",
                "#B0BEC5",
                "#B0BEC5",
                "#B0BEC5",
                "#B0BEC5",
                "#B0BEC5",
                "#B0BEC5",
                "#B0BEC5",
                "#B0BEC5",
                "#B0BEC5",
                "#B0BEC5",
                "#B0BEC5",
                "#B0BEC5",
                "#B0BEC5",
                "#B0BEC5",
                "#B0BEC5",
                "#B0BEC5",
                "#B0BEC5",
                "#B0BEC5",
                "#B0BEC5",
                "#B0BEC5",
                "#B0BEC5",
                "#B0BEC5",
                "#B0BEC5",
                "#B0BEC5",
                "#B0BEC5",
                "#B0BEC5",
                "#B0BEC5",
                "#B0BEC5",
                "#B0BEC5",
                "#B0BEC5",
                "#B0BEC5",
                "#B0BEC5",
                "#B0BEC5",
                "#B0BEC5",
                "#B0BEC5",
                "#B0BEC5",
                "#B0BEC5",
                "#B0BEC5",
                "#B0BEC5",
                "#B0BEC5",
                "#B0BEC5",
                "#B0BEC5",
                "#B0BEC5",
                "#B0BEC5",
                "#B0BEC5",
                "#B0BEC5",
                "red",
                "#B0BEC5",
                "#B0BEC5",
                "#B0BEC5",
                "#B0BEC5",
                "#B0BEC5",
                "#B0BEC5",
                "#B0BEC5",
                "#B0BEC5",
                "#B0BEC5",
                "#B0BEC5",
                "#B0BEC5"
               ]
              ]
             }
            ],
            "label": "Topic 58",
            "method": "update"
           },
           {
            "args": [
             {
              "marker.color": [
               [
                "#B0BEC5",
                "#B0BEC5",
                "#B0BEC5",
                "#B0BEC5",
                "#B0BEC5",
                "#B0BEC5",
                "#B0BEC5",
                "#B0BEC5",
                "#B0BEC5",
                "#B0BEC5",
                "#B0BEC5",
                "#B0BEC5",
                "#B0BEC5",
                "#B0BEC5",
                "#B0BEC5",
                "#B0BEC5",
                "#B0BEC5",
                "#B0BEC5",
                "#B0BEC5",
                "#B0BEC5",
                "#B0BEC5",
                "#B0BEC5",
                "#B0BEC5",
                "#B0BEC5",
                "#B0BEC5",
                "#B0BEC5",
                "#B0BEC5",
                "#B0BEC5",
                "#B0BEC5",
                "#B0BEC5",
                "#B0BEC5",
                "#B0BEC5",
                "#B0BEC5",
                "#B0BEC5",
                "#B0BEC5",
                "#B0BEC5",
                "#B0BEC5",
                "#B0BEC5",
                "#B0BEC5",
                "#B0BEC5",
                "#B0BEC5",
                "#B0BEC5",
                "#B0BEC5",
                "#B0BEC5",
                "#B0BEC5",
                "#B0BEC5",
                "#B0BEC5",
                "#B0BEC5",
                "#B0BEC5",
                "#B0BEC5",
                "#B0BEC5",
                "#B0BEC5",
                "#B0BEC5",
                "#B0BEC5",
                "#B0BEC5",
                "#B0BEC5",
                "#B0BEC5",
                "#B0BEC5",
                "#B0BEC5",
                "red",
                "#B0BEC5",
                "#B0BEC5",
                "#B0BEC5",
                "#B0BEC5",
                "#B0BEC5",
                "#B0BEC5",
                "#B0BEC5",
                "#B0BEC5",
                "#B0BEC5",
                "#B0BEC5"
               ]
              ]
             }
            ],
            "label": "Topic 59",
            "method": "update"
           },
           {
            "args": [
             {
              "marker.color": [
               [
                "#B0BEC5",
                "#B0BEC5",
                "#B0BEC5",
                "#B0BEC5",
                "#B0BEC5",
                "#B0BEC5",
                "#B0BEC5",
                "#B0BEC5",
                "#B0BEC5",
                "#B0BEC5",
                "#B0BEC5",
                "#B0BEC5",
                "#B0BEC5",
                "#B0BEC5",
                "#B0BEC5",
                "#B0BEC5",
                "#B0BEC5",
                "#B0BEC5",
                "#B0BEC5",
                "#B0BEC5",
                "#B0BEC5",
                "#B0BEC5",
                "#B0BEC5",
                "#B0BEC5",
                "#B0BEC5",
                "#B0BEC5",
                "#B0BEC5",
                "#B0BEC5",
                "#B0BEC5",
                "#B0BEC5",
                "#B0BEC5",
                "#B0BEC5",
                "#B0BEC5",
                "#B0BEC5",
                "#B0BEC5",
                "#B0BEC5",
                "#B0BEC5",
                "#B0BEC5",
                "#B0BEC5",
                "#B0BEC5",
                "#B0BEC5",
                "#B0BEC5",
                "#B0BEC5",
                "#B0BEC5",
                "#B0BEC5",
                "#B0BEC5",
                "#B0BEC5",
                "#B0BEC5",
                "#B0BEC5",
                "#B0BEC5",
                "#B0BEC5",
                "#B0BEC5",
                "#B0BEC5",
                "#B0BEC5",
                "#B0BEC5",
                "#B0BEC5",
                "#B0BEC5",
                "#B0BEC5",
                "#B0BEC5",
                "#B0BEC5",
                "red",
                "#B0BEC5",
                "#B0BEC5",
                "#B0BEC5",
                "#B0BEC5",
                "#B0BEC5",
                "#B0BEC5",
                "#B0BEC5",
                "#B0BEC5",
                "#B0BEC5"
               ]
              ]
             }
            ],
            "label": "Topic 60",
            "method": "update"
           },
           {
            "args": [
             {
              "marker.color": [
               [
                "#B0BEC5",
                "#B0BEC5",
                "#B0BEC5",
                "#B0BEC5",
                "#B0BEC5",
                "#B0BEC5",
                "#B0BEC5",
                "#B0BEC5",
                "#B0BEC5",
                "#B0BEC5",
                "#B0BEC5",
                "#B0BEC5",
                "#B0BEC5",
                "#B0BEC5",
                "#B0BEC5",
                "#B0BEC5",
                "#B0BEC5",
                "#B0BEC5",
                "#B0BEC5",
                "#B0BEC5",
                "#B0BEC5",
                "#B0BEC5",
                "#B0BEC5",
                "#B0BEC5",
                "#B0BEC5",
                "#B0BEC5",
                "#B0BEC5",
                "#B0BEC5",
                "#B0BEC5",
                "#B0BEC5",
                "#B0BEC5",
                "#B0BEC5",
                "#B0BEC5",
                "#B0BEC5",
                "#B0BEC5",
                "#B0BEC5",
                "#B0BEC5",
                "#B0BEC5",
                "#B0BEC5",
                "#B0BEC5",
                "#B0BEC5",
                "#B0BEC5",
                "#B0BEC5",
                "#B0BEC5",
                "#B0BEC5",
                "#B0BEC5",
                "#B0BEC5",
                "#B0BEC5",
                "#B0BEC5",
                "#B0BEC5",
                "#B0BEC5",
                "#B0BEC5",
                "#B0BEC5",
                "#B0BEC5",
                "#B0BEC5",
                "#B0BEC5",
                "#B0BEC5",
                "#B0BEC5",
                "#B0BEC5",
                "#B0BEC5",
                "#B0BEC5",
                "red",
                "#B0BEC5",
                "#B0BEC5",
                "#B0BEC5",
                "#B0BEC5",
                "#B0BEC5",
                "#B0BEC5",
                "#B0BEC5",
                "#B0BEC5"
               ]
              ]
             }
            ],
            "label": "Topic 61",
            "method": "update"
           },
           {
            "args": [
             {
              "marker.color": [
               [
                "#B0BEC5",
                "#B0BEC5",
                "#B0BEC5",
                "#B0BEC5",
                "#B0BEC5",
                "#B0BEC5",
                "#B0BEC5",
                "#B0BEC5",
                "#B0BEC5",
                "#B0BEC5",
                "#B0BEC5",
                "#B0BEC5",
                "#B0BEC5",
                "#B0BEC5",
                "#B0BEC5",
                "#B0BEC5",
                "#B0BEC5",
                "#B0BEC5",
                "#B0BEC5",
                "#B0BEC5",
                "#B0BEC5",
                "#B0BEC5",
                "#B0BEC5",
                "#B0BEC5",
                "#B0BEC5",
                "#B0BEC5",
                "#B0BEC5",
                "#B0BEC5",
                "#B0BEC5",
                "#B0BEC5",
                "#B0BEC5",
                "#B0BEC5",
                "#B0BEC5",
                "#B0BEC5",
                "#B0BEC5",
                "#B0BEC5",
                "#B0BEC5",
                "#B0BEC5",
                "#B0BEC5",
                "#B0BEC5",
                "#B0BEC5",
                "#B0BEC5",
                "#B0BEC5",
                "#B0BEC5",
                "#B0BEC5",
                "#B0BEC5",
                "#B0BEC5",
                "#B0BEC5",
                "#B0BEC5",
                "#B0BEC5",
                "#B0BEC5",
                "#B0BEC5",
                "#B0BEC5",
                "#B0BEC5",
                "#B0BEC5",
                "#B0BEC5",
                "#B0BEC5",
                "#B0BEC5",
                "#B0BEC5",
                "#B0BEC5",
                "#B0BEC5",
                "#B0BEC5",
                "red",
                "#B0BEC5",
                "#B0BEC5",
                "#B0BEC5",
                "#B0BEC5",
                "#B0BEC5",
                "#B0BEC5",
                "#B0BEC5"
               ]
              ]
             }
            ],
            "label": "Topic 62",
            "method": "update"
           },
           {
            "args": [
             {
              "marker.color": [
               [
                "#B0BEC5",
                "#B0BEC5",
                "#B0BEC5",
                "#B0BEC5",
                "#B0BEC5",
                "#B0BEC5",
                "#B0BEC5",
                "#B0BEC5",
                "#B0BEC5",
                "#B0BEC5",
                "#B0BEC5",
                "#B0BEC5",
                "#B0BEC5",
                "#B0BEC5",
                "#B0BEC5",
                "#B0BEC5",
                "#B0BEC5",
                "#B0BEC5",
                "#B0BEC5",
                "#B0BEC5",
                "#B0BEC5",
                "#B0BEC5",
                "#B0BEC5",
                "#B0BEC5",
                "#B0BEC5",
                "#B0BEC5",
                "#B0BEC5",
                "#B0BEC5",
                "#B0BEC5",
                "#B0BEC5",
                "#B0BEC5",
                "#B0BEC5",
                "#B0BEC5",
                "#B0BEC5",
                "#B0BEC5",
                "#B0BEC5",
                "#B0BEC5",
                "#B0BEC5",
                "#B0BEC5",
                "#B0BEC5",
                "#B0BEC5",
                "#B0BEC5",
                "#B0BEC5",
                "#B0BEC5",
                "#B0BEC5",
                "#B0BEC5",
                "#B0BEC5",
                "#B0BEC5",
                "#B0BEC5",
                "#B0BEC5",
                "#B0BEC5",
                "#B0BEC5",
                "#B0BEC5",
                "#B0BEC5",
                "#B0BEC5",
                "#B0BEC5",
                "#B0BEC5",
                "#B0BEC5",
                "#B0BEC5",
                "#B0BEC5",
                "#B0BEC5",
                "#B0BEC5",
                "#B0BEC5",
                "red",
                "#B0BEC5",
                "#B0BEC5",
                "#B0BEC5",
                "#B0BEC5",
                "#B0BEC5",
                "#B0BEC5"
               ]
              ]
             }
            ],
            "label": "Topic 63",
            "method": "update"
           },
           {
            "args": [
             {
              "marker.color": [
               [
                "#B0BEC5",
                "#B0BEC5",
                "#B0BEC5",
                "#B0BEC5",
                "#B0BEC5",
                "#B0BEC5",
                "#B0BEC5",
                "#B0BEC5",
                "#B0BEC5",
                "#B0BEC5",
                "#B0BEC5",
                "#B0BEC5",
                "#B0BEC5",
                "#B0BEC5",
                "#B0BEC5",
                "#B0BEC5",
                "#B0BEC5",
                "#B0BEC5",
                "#B0BEC5",
                "#B0BEC5",
                "#B0BEC5",
                "#B0BEC5",
                "#B0BEC5",
                "#B0BEC5",
                "#B0BEC5",
                "#B0BEC5",
                "#B0BEC5",
                "#B0BEC5",
                "#B0BEC5",
                "#B0BEC5",
                "#B0BEC5",
                "#B0BEC5",
                "#B0BEC5",
                "#B0BEC5",
                "#B0BEC5",
                "#B0BEC5",
                "#B0BEC5",
                "#B0BEC5",
                "#B0BEC5",
                "#B0BEC5",
                "#B0BEC5",
                "#B0BEC5",
                "#B0BEC5",
                "#B0BEC5",
                "#B0BEC5",
                "#B0BEC5",
                "#B0BEC5",
                "#B0BEC5",
                "#B0BEC5",
                "#B0BEC5",
                "#B0BEC5",
                "#B0BEC5",
                "#B0BEC5",
                "#B0BEC5",
                "#B0BEC5",
                "#B0BEC5",
                "#B0BEC5",
                "#B0BEC5",
                "#B0BEC5",
                "#B0BEC5",
                "#B0BEC5",
                "#B0BEC5",
                "#B0BEC5",
                "#B0BEC5",
                "red",
                "#B0BEC5",
                "#B0BEC5",
                "#B0BEC5",
                "#B0BEC5",
                "#B0BEC5"
               ]
              ]
             }
            ],
            "label": "Topic 64",
            "method": "update"
           },
           {
            "args": [
             {
              "marker.color": [
               [
                "#B0BEC5",
                "#B0BEC5",
                "#B0BEC5",
                "#B0BEC5",
                "#B0BEC5",
                "#B0BEC5",
                "#B0BEC5",
                "#B0BEC5",
                "#B0BEC5",
                "#B0BEC5",
                "#B0BEC5",
                "#B0BEC5",
                "#B0BEC5",
                "#B0BEC5",
                "#B0BEC5",
                "#B0BEC5",
                "#B0BEC5",
                "#B0BEC5",
                "#B0BEC5",
                "#B0BEC5",
                "#B0BEC5",
                "#B0BEC5",
                "#B0BEC5",
                "#B0BEC5",
                "#B0BEC5",
                "#B0BEC5",
                "#B0BEC5",
                "#B0BEC5",
                "#B0BEC5",
                "#B0BEC5",
                "#B0BEC5",
                "#B0BEC5",
                "#B0BEC5",
                "#B0BEC5",
                "#B0BEC5",
                "#B0BEC5",
                "#B0BEC5",
                "#B0BEC5",
                "#B0BEC5",
                "#B0BEC5",
                "#B0BEC5",
                "#B0BEC5",
                "#B0BEC5",
                "#B0BEC5",
                "#B0BEC5",
                "#B0BEC5",
                "#B0BEC5",
                "#B0BEC5",
                "#B0BEC5",
                "#B0BEC5",
                "#B0BEC5",
                "#B0BEC5",
                "#B0BEC5",
                "#B0BEC5",
                "#B0BEC5",
                "#B0BEC5",
                "#B0BEC5",
                "#B0BEC5",
                "#B0BEC5",
                "#B0BEC5",
                "#B0BEC5",
                "#B0BEC5",
                "#B0BEC5",
                "#B0BEC5",
                "#B0BEC5",
                "red",
                "#B0BEC5",
                "#B0BEC5",
                "#B0BEC5",
                "#B0BEC5"
               ]
              ]
             }
            ],
            "label": "Topic 65",
            "method": "update"
           },
           {
            "args": [
             {
              "marker.color": [
               [
                "#B0BEC5",
                "#B0BEC5",
                "#B0BEC5",
                "#B0BEC5",
                "#B0BEC5",
                "#B0BEC5",
                "#B0BEC5",
                "#B0BEC5",
                "#B0BEC5",
                "#B0BEC5",
                "#B0BEC5",
                "#B0BEC5",
                "#B0BEC5",
                "#B0BEC5",
                "#B0BEC5",
                "#B0BEC5",
                "#B0BEC5",
                "#B0BEC5",
                "#B0BEC5",
                "#B0BEC5",
                "#B0BEC5",
                "#B0BEC5",
                "#B0BEC5",
                "#B0BEC5",
                "#B0BEC5",
                "#B0BEC5",
                "#B0BEC5",
                "#B0BEC5",
                "#B0BEC5",
                "#B0BEC5",
                "#B0BEC5",
                "#B0BEC5",
                "#B0BEC5",
                "#B0BEC5",
                "#B0BEC5",
                "#B0BEC5",
                "#B0BEC5",
                "#B0BEC5",
                "#B0BEC5",
                "#B0BEC5",
                "#B0BEC5",
                "#B0BEC5",
                "#B0BEC5",
                "#B0BEC5",
                "#B0BEC5",
                "#B0BEC5",
                "#B0BEC5",
                "#B0BEC5",
                "#B0BEC5",
                "#B0BEC5",
                "#B0BEC5",
                "#B0BEC5",
                "#B0BEC5",
                "#B0BEC5",
                "#B0BEC5",
                "#B0BEC5",
                "#B0BEC5",
                "#B0BEC5",
                "#B0BEC5",
                "#B0BEC5",
                "#B0BEC5",
                "#B0BEC5",
                "#B0BEC5",
                "#B0BEC5",
                "#B0BEC5",
                "#B0BEC5",
                "red",
                "#B0BEC5",
                "#B0BEC5",
                "#B0BEC5"
               ]
              ]
             }
            ],
            "label": "Topic 66",
            "method": "update"
           },
           {
            "args": [
             {
              "marker.color": [
               [
                "#B0BEC5",
                "#B0BEC5",
                "#B0BEC5",
                "#B0BEC5",
                "#B0BEC5",
                "#B0BEC5",
                "#B0BEC5",
                "#B0BEC5",
                "#B0BEC5",
                "#B0BEC5",
                "#B0BEC5",
                "#B0BEC5",
                "#B0BEC5",
                "#B0BEC5",
                "#B0BEC5",
                "#B0BEC5",
                "#B0BEC5",
                "#B0BEC5",
                "#B0BEC5",
                "#B0BEC5",
                "#B0BEC5",
                "#B0BEC5",
                "#B0BEC5",
                "#B0BEC5",
                "#B0BEC5",
                "#B0BEC5",
                "#B0BEC5",
                "#B0BEC5",
                "#B0BEC5",
                "#B0BEC5",
                "#B0BEC5",
                "#B0BEC5",
                "#B0BEC5",
                "#B0BEC5",
                "#B0BEC5",
                "#B0BEC5",
                "#B0BEC5",
                "#B0BEC5",
                "#B0BEC5",
                "#B0BEC5",
                "#B0BEC5",
                "#B0BEC5",
                "#B0BEC5",
                "#B0BEC5",
                "#B0BEC5",
                "#B0BEC5",
                "#B0BEC5",
                "#B0BEC5",
                "#B0BEC5",
                "#B0BEC5",
                "#B0BEC5",
                "#B0BEC5",
                "#B0BEC5",
                "#B0BEC5",
                "#B0BEC5",
                "#B0BEC5",
                "#B0BEC5",
                "#B0BEC5",
                "#B0BEC5",
                "#B0BEC5",
                "#B0BEC5",
                "#B0BEC5",
                "#B0BEC5",
                "#B0BEC5",
                "#B0BEC5",
                "#B0BEC5",
                "#B0BEC5",
                "red",
                "#B0BEC5",
                "#B0BEC5"
               ]
              ]
             }
            ],
            "label": "Topic 67",
            "method": "update"
           },
           {
            "args": [
             {
              "marker.color": [
               [
                "#B0BEC5",
                "#B0BEC5",
                "#B0BEC5",
                "#B0BEC5",
                "#B0BEC5",
                "#B0BEC5",
                "#B0BEC5",
                "#B0BEC5",
                "#B0BEC5",
                "#B0BEC5",
                "#B0BEC5",
                "#B0BEC5",
                "#B0BEC5",
                "#B0BEC5",
                "#B0BEC5",
                "#B0BEC5",
                "#B0BEC5",
                "#B0BEC5",
                "#B0BEC5",
                "#B0BEC5",
                "#B0BEC5",
                "#B0BEC5",
                "#B0BEC5",
                "#B0BEC5",
                "#B0BEC5",
                "#B0BEC5",
                "#B0BEC5",
                "#B0BEC5",
                "#B0BEC5",
                "#B0BEC5",
                "#B0BEC5",
                "#B0BEC5",
                "#B0BEC5",
                "#B0BEC5",
                "#B0BEC5",
                "#B0BEC5",
                "#B0BEC5",
                "#B0BEC5",
                "#B0BEC5",
                "#B0BEC5",
                "#B0BEC5",
                "#B0BEC5",
                "#B0BEC5",
                "#B0BEC5",
                "#B0BEC5",
                "#B0BEC5",
                "#B0BEC5",
                "#B0BEC5",
                "#B0BEC5",
                "#B0BEC5",
                "#B0BEC5",
                "#B0BEC5",
                "#B0BEC5",
                "#B0BEC5",
                "#B0BEC5",
                "#B0BEC5",
                "#B0BEC5",
                "#B0BEC5",
                "#B0BEC5",
                "#B0BEC5",
                "#B0BEC5",
                "#B0BEC5",
                "#B0BEC5",
                "#B0BEC5",
                "#B0BEC5",
                "#B0BEC5",
                "#B0BEC5",
                "#B0BEC5",
                "red",
                "#B0BEC5"
               ]
              ]
             }
            ],
            "label": "Topic 68",
            "method": "update"
           },
           {
            "args": [
             {
              "marker.color": [
               [
                "#B0BEC5",
                "#B0BEC5",
                "#B0BEC5",
                "#B0BEC5",
                "#B0BEC5",
                "#B0BEC5",
                "#B0BEC5",
                "#B0BEC5",
                "#B0BEC5",
                "#B0BEC5",
                "#B0BEC5",
                "#B0BEC5",
                "#B0BEC5",
                "#B0BEC5",
                "#B0BEC5",
                "#B0BEC5",
                "#B0BEC5",
                "#B0BEC5",
                "#B0BEC5",
                "#B0BEC5",
                "#B0BEC5",
                "#B0BEC5",
                "#B0BEC5",
                "#B0BEC5",
                "#B0BEC5",
                "#B0BEC5",
                "#B0BEC5",
                "#B0BEC5",
                "#B0BEC5",
                "#B0BEC5",
                "#B0BEC5",
                "#B0BEC5",
                "#B0BEC5",
                "#B0BEC5",
                "#B0BEC5",
                "#B0BEC5",
                "#B0BEC5",
                "#B0BEC5",
                "#B0BEC5",
                "#B0BEC5",
                "#B0BEC5",
                "#B0BEC5",
                "#B0BEC5",
                "#B0BEC5",
                "#B0BEC5",
                "#B0BEC5",
                "#B0BEC5",
                "#B0BEC5",
                "#B0BEC5",
                "#B0BEC5",
                "#B0BEC5",
                "#B0BEC5",
                "#B0BEC5",
                "#B0BEC5",
                "#B0BEC5",
                "#B0BEC5",
                "#B0BEC5",
                "#B0BEC5",
                "#B0BEC5",
                "#B0BEC5",
                "#B0BEC5",
                "#B0BEC5",
                "#B0BEC5",
                "#B0BEC5",
                "#B0BEC5",
                "#B0BEC5",
                "#B0BEC5",
                "#B0BEC5",
                "#B0BEC5",
                "red"
               ]
              ]
             }
            ],
            "label": "Topic 69",
            "method": "update"
           }
          ]
         }
        ],
        "template": {
         "data": {
          "bar": [
           {
            "error_x": {
             "color": "rgb(36,36,36)"
            },
            "error_y": {
             "color": "rgb(36,36,36)"
            },
            "marker": {
             "line": {
              "color": "white",
              "width": 0.5
             },
             "pattern": {
              "fillmode": "overlay",
              "size": 10,
              "solidity": 0.2
             }
            },
            "type": "bar"
           }
          ],
          "barpolar": [
           {
            "marker": {
             "line": {
              "color": "white",
              "width": 0.5
             },
             "pattern": {
              "fillmode": "overlay",
              "size": 10,
              "solidity": 0.2
             }
            },
            "type": "barpolar"
           }
          ],
          "carpet": [
           {
            "aaxis": {
             "endlinecolor": "rgb(36,36,36)",
             "gridcolor": "white",
             "linecolor": "white",
             "minorgridcolor": "white",
             "startlinecolor": "rgb(36,36,36)"
            },
            "baxis": {
             "endlinecolor": "rgb(36,36,36)",
             "gridcolor": "white",
             "linecolor": "white",
             "minorgridcolor": "white",
             "startlinecolor": "rgb(36,36,36)"
            },
            "type": "carpet"
           }
          ],
          "choropleth": [
           {
            "colorbar": {
             "outlinewidth": 1,
             "tickcolor": "rgb(36,36,36)",
             "ticks": "outside"
            },
            "type": "choropleth"
           }
          ],
          "contour": [
           {
            "colorbar": {
             "outlinewidth": 1,
             "tickcolor": "rgb(36,36,36)",
             "ticks": "outside"
            },
            "colorscale": [
             [
              0,
              "#440154"
             ],
             [
              0.1111111111111111,
              "#482878"
             ],
             [
              0.2222222222222222,
              "#3e4989"
             ],
             [
              0.3333333333333333,
              "#31688e"
             ],
             [
              0.4444444444444444,
              "#26828e"
             ],
             [
              0.5555555555555556,
              "#1f9e89"
             ],
             [
              0.6666666666666666,
              "#35b779"
             ],
             [
              0.7777777777777778,
              "#6ece58"
             ],
             [
              0.8888888888888888,
              "#b5de2b"
             ],
             [
              1,
              "#fde725"
             ]
            ],
            "type": "contour"
           }
          ],
          "contourcarpet": [
           {
            "colorbar": {
             "outlinewidth": 1,
             "tickcolor": "rgb(36,36,36)",
             "ticks": "outside"
            },
            "type": "contourcarpet"
           }
          ],
          "heatmap": [
           {
            "colorbar": {
             "outlinewidth": 1,
             "tickcolor": "rgb(36,36,36)",
             "ticks": "outside"
            },
            "colorscale": [
             [
              0,
              "#440154"
             ],
             [
              0.1111111111111111,
              "#482878"
             ],
             [
              0.2222222222222222,
              "#3e4989"
             ],
             [
              0.3333333333333333,
              "#31688e"
             ],
             [
              0.4444444444444444,
              "#26828e"
             ],
             [
              0.5555555555555556,
              "#1f9e89"
             ],
             [
              0.6666666666666666,
              "#35b779"
             ],
             [
              0.7777777777777778,
              "#6ece58"
             ],
             [
              0.8888888888888888,
              "#b5de2b"
             ],
             [
              1,
              "#fde725"
             ]
            ],
            "type": "heatmap"
           }
          ],
          "heatmapgl": [
           {
            "colorbar": {
             "outlinewidth": 1,
             "tickcolor": "rgb(36,36,36)",
             "ticks": "outside"
            },
            "colorscale": [
             [
              0,
              "#440154"
             ],
             [
              0.1111111111111111,
              "#482878"
             ],
             [
              0.2222222222222222,
              "#3e4989"
             ],
             [
              0.3333333333333333,
              "#31688e"
             ],
             [
              0.4444444444444444,
              "#26828e"
             ],
             [
              0.5555555555555556,
              "#1f9e89"
             ],
             [
              0.6666666666666666,
              "#35b779"
             ],
             [
              0.7777777777777778,
              "#6ece58"
             ],
             [
              0.8888888888888888,
              "#b5de2b"
             ],
             [
              1,
              "#fde725"
             ]
            ],
            "type": "heatmapgl"
           }
          ],
          "histogram": [
           {
            "marker": {
             "line": {
              "color": "white",
              "width": 0.6
             }
            },
            "type": "histogram"
           }
          ],
          "histogram2d": [
           {
            "colorbar": {
             "outlinewidth": 1,
             "tickcolor": "rgb(36,36,36)",
             "ticks": "outside"
            },
            "colorscale": [
             [
              0,
              "#440154"
             ],
             [
              0.1111111111111111,
              "#482878"
             ],
             [
              0.2222222222222222,
              "#3e4989"
             ],
             [
              0.3333333333333333,
              "#31688e"
             ],
             [
              0.4444444444444444,
              "#26828e"
             ],
             [
              0.5555555555555556,
              "#1f9e89"
             ],
             [
              0.6666666666666666,
              "#35b779"
             ],
             [
              0.7777777777777778,
              "#6ece58"
             ],
             [
              0.8888888888888888,
              "#b5de2b"
             ],
             [
              1,
              "#fde725"
             ]
            ],
            "type": "histogram2d"
           }
          ],
          "histogram2dcontour": [
           {
            "colorbar": {
             "outlinewidth": 1,
             "tickcolor": "rgb(36,36,36)",
             "ticks": "outside"
            },
            "colorscale": [
             [
              0,
              "#440154"
             ],
             [
              0.1111111111111111,
              "#482878"
             ],
             [
              0.2222222222222222,
              "#3e4989"
             ],
             [
              0.3333333333333333,
              "#31688e"
             ],
             [
              0.4444444444444444,
              "#26828e"
             ],
             [
              0.5555555555555556,
              "#1f9e89"
             ],
             [
              0.6666666666666666,
              "#35b779"
             ],
             [
              0.7777777777777778,
              "#6ece58"
             ],
             [
              0.8888888888888888,
              "#b5de2b"
             ],
             [
              1,
              "#fde725"
             ]
            ],
            "type": "histogram2dcontour"
           }
          ],
          "mesh3d": [
           {
            "colorbar": {
             "outlinewidth": 1,
             "tickcolor": "rgb(36,36,36)",
             "ticks": "outside"
            },
            "type": "mesh3d"
           }
          ],
          "parcoords": [
           {
            "line": {
             "colorbar": {
              "outlinewidth": 1,
              "tickcolor": "rgb(36,36,36)",
              "ticks": "outside"
             }
            },
            "type": "parcoords"
           }
          ],
          "pie": [
           {
            "automargin": true,
            "type": "pie"
           }
          ],
          "scatter": [
           {
            "fillpattern": {
             "fillmode": "overlay",
             "size": 10,
             "solidity": 0.2
            },
            "type": "scatter"
           }
          ],
          "scatter3d": [
           {
            "line": {
             "colorbar": {
              "outlinewidth": 1,
              "tickcolor": "rgb(36,36,36)",
              "ticks": "outside"
             }
            },
            "marker": {
             "colorbar": {
              "outlinewidth": 1,
              "tickcolor": "rgb(36,36,36)",
              "ticks": "outside"
             }
            },
            "type": "scatter3d"
           }
          ],
          "scattercarpet": [
           {
            "marker": {
             "colorbar": {
              "outlinewidth": 1,
              "tickcolor": "rgb(36,36,36)",
              "ticks": "outside"
             }
            },
            "type": "scattercarpet"
           }
          ],
          "scattergeo": [
           {
            "marker": {
             "colorbar": {
              "outlinewidth": 1,
              "tickcolor": "rgb(36,36,36)",
              "ticks": "outside"
             }
            },
            "type": "scattergeo"
           }
          ],
          "scattergl": [
           {
            "marker": {
             "colorbar": {
              "outlinewidth": 1,
              "tickcolor": "rgb(36,36,36)",
              "ticks": "outside"
             }
            },
            "type": "scattergl"
           }
          ],
          "scattermapbox": [
           {
            "marker": {
             "colorbar": {
              "outlinewidth": 1,
              "tickcolor": "rgb(36,36,36)",
              "ticks": "outside"
             }
            },
            "type": "scattermapbox"
           }
          ],
          "scatterpolar": [
           {
            "marker": {
             "colorbar": {
              "outlinewidth": 1,
              "tickcolor": "rgb(36,36,36)",
              "ticks": "outside"
             }
            },
            "type": "scatterpolar"
           }
          ],
          "scatterpolargl": [
           {
            "marker": {
             "colorbar": {
              "outlinewidth": 1,
              "tickcolor": "rgb(36,36,36)",
              "ticks": "outside"
             }
            },
            "type": "scatterpolargl"
           }
          ],
          "scatterternary": [
           {
            "marker": {
             "colorbar": {
              "outlinewidth": 1,
              "tickcolor": "rgb(36,36,36)",
              "ticks": "outside"
             }
            },
            "type": "scatterternary"
           }
          ],
          "surface": [
           {
            "colorbar": {
             "outlinewidth": 1,
             "tickcolor": "rgb(36,36,36)",
             "ticks": "outside"
            },
            "colorscale": [
             [
              0,
              "#440154"
             ],
             [
              0.1111111111111111,
              "#482878"
             ],
             [
              0.2222222222222222,
              "#3e4989"
             ],
             [
              0.3333333333333333,
              "#31688e"
             ],
             [
              0.4444444444444444,
              "#26828e"
             ],
             [
              0.5555555555555556,
              "#1f9e89"
             ],
             [
              0.6666666666666666,
              "#35b779"
             ],
             [
              0.7777777777777778,
              "#6ece58"
             ],
             [
              0.8888888888888888,
              "#b5de2b"
             ],
             [
              1,
              "#fde725"
             ]
            ],
            "type": "surface"
           }
          ],
          "table": [
           {
            "cells": {
             "fill": {
              "color": "rgb(237,237,237)"
             },
             "line": {
              "color": "white"
             }
            },
            "header": {
             "fill": {
              "color": "rgb(217,217,217)"
             },
             "line": {
              "color": "white"
             }
            },
            "type": "table"
           }
          ]
         },
         "layout": {
          "annotationdefaults": {
           "arrowhead": 0,
           "arrowwidth": 1
          },
          "autotypenumbers": "strict",
          "coloraxis": {
           "colorbar": {
            "outlinewidth": 1,
            "tickcolor": "rgb(36,36,36)",
            "ticks": "outside"
           }
          },
          "colorscale": {
           "diverging": [
            [
             0,
             "rgb(103,0,31)"
            ],
            [
             0.1,
             "rgb(178,24,43)"
            ],
            [
             0.2,
             "rgb(214,96,77)"
            ],
            [
             0.3,
             "rgb(244,165,130)"
            ],
            [
             0.4,
             "rgb(253,219,199)"
            ],
            [
             0.5,
             "rgb(247,247,247)"
            ],
            [
             0.6,
             "rgb(209,229,240)"
            ],
            [
             0.7,
             "rgb(146,197,222)"
            ],
            [
             0.8,
             "rgb(67,147,195)"
            ],
            [
             0.9,
             "rgb(33,102,172)"
            ],
            [
             1,
             "rgb(5,48,97)"
            ]
           ],
           "sequential": [
            [
             0,
             "#440154"
            ],
            [
             0.1111111111111111,
             "#482878"
            ],
            [
             0.2222222222222222,
             "#3e4989"
            ],
            [
             0.3333333333333333,
             "#31688e"
            ],
            [
             0.4444444444444444,
             "#26828e"
            ],
            [
             0.5555555555555556,
             "#1f9e89"
            ],
            [
             0.6666666666666666,
             "#35b779"
            ],
            [
             0.7777777777777778,
             "#6ece58"
            ],
            [
             0.8888888888888888,
             "#b5de2b"
            ],
            [
             1,
             "#fde725"
            ]
           ],
           "sequentialminus": [
            [
             0,
             "#440154"
            ],
            [
             0.1111111111111111,
             "#482878"
            ],
            [
             0.2222222222222222,
             "#3e4989"
            ],
            [
             0.3333333333333333,
             "#31688e"
            ],
            [
             0.4444444444444444,
             "#26828e"
            ],
            [
             0.5555555555555556,
             "#1f9e89"
            ],
            [
             0.6666666666666666,
             "#35b779"
            ],
            [
             0.7777777777777778,
             "#6ece58"
            ],
            [
             0.8888888888888888,
             "#b5de2b"
            ],
            [
             1,
             "#fde725"
            ]
           ]
          },
          "colorway": [
           "#1F77B4",
           "#FF7F0E",
           "#2CA02C",
           "#D62728",
           "#9467BD",
           "#8C564B",
           "#E377C2",
           "#7F7F7F",
           "#BCBD22",
           "#17BECF"
          ],
          "font": {
           "color": "rgb(36,36,36)"
          },
          "geo": {
           "bgcolor": "white",
           "lakecolor": "white",
           "landcolor": "white",
           "showlakes": true,
           "showland": true,
           "subunitcolor": "white"
          },
          "hoverlabel": {
           "align": "left"
          },
          "hovermode": "closest",
          "mapbox": {
           "style": "light"
          },
          "paper_bgcolor": "white",
          "plot_bgcolor": "white",
          "polar": {
           "angularaxis": {
            "gridcolor": "rgb(232,232,232)",
            "linecolor": "rgb(36,36,36)",
            "showgrid": false,
            "showline": true,
            "ticks": "outside"
           },
           "bgcolor": "white",
           "radialaxis": {
            "gridcolor": "rgb(232,232,232)",
            "linecolor": "rgb(36,36,36)",
            "showgrid": false,
            "showline": true,
            "ticks": "outside"
           }
          },
          "scene": {
           "xaxis": {
            "backgroundcolor": "white",
            "gridcolor": "rgb(232,232,232)",
            "gridwidth": 2,
            "linecolor": "rgb(36,36,36)",
            "showbackground": true,
            "showgrid": false,
            "showline": true,
            "ticks": "outside",
            "zeroline": false,
            "zerolinecolor": "rgb(36,36,36)"
           },
           "yaxis": {
            "backgroundcolor": "white",
            "gridcolor": "rgb(232,232,232)",
            "gridwidth": 2,
            "linecolor": "rgb(36,36,36)",
            "showbackground": true,
            "showgrid": false,
            "showline": true,
            "ticks": "outside",
            "zeroline": false,
            "zerolinecolor": "rgb(36,36,36)"
           },
           "zaxis": {
            "backgroundcolor": "white",
            "gridcolor": "rgb(232,232,232)",
            "gridwidth": 2,
            "linecolor": "rgb(36,36,36)",
            "showbackground": true,
            "showgrid": false,
            "showline": true,
            "ticks": "outside",
            "zeroline": false,
            "zerolinecolor": "rgb(36,36,36)"
           }
          },
          "shapedefaults": {
           "fillcolor": "black",
           "line": {
            "width": 0
           },
           "opacity": 0.3
          },
          "ternary": {
           "aaxis": {
            "gridcolor": "rgb(232,232,232)",
            "linecolor": "rgb(36,36,36)",
            "showgrid": false,
            "showline": true,
            "ticks": "outside"
           },
           "baxis": {
            "gridcolor": "rgb(232,232,232)",
            "linecolor": "rgb(36,36,36)",
            "showgrid": false,
            "showline": true,
            "ticks": "outside"
           },
           "bgcolor": "white",
           "caxis": {
            "gridcolor": "rgb(232,232,232)",
            "linecolor": "rgb(36,36,36)",
            "showgrid": false,
            "showline": true,
            "ticks": "outside"
           }
          },
          "title": {
           "x": 0.05
          },
          "xaxis": {
           "automargin": true,
           "gridcolor": "rgb(232,232,232)",
           "linecolor": "rgb(36,36,36)",
           "showgrid": false,
           "showline": true,
           "ticks": "outside",
           "title": {
            "standoff": 15
           },
           "zeroline": false,
           "zerolinecolor": "rgb(36,36,36)"
          },
          "yaxis": {
           "automargin": true,
           "gridcolor": "rgb(232,232,232)",
           "linecolor": "rgb(36,36,36)",
           "showgrid": false,
           "showline": true,
           "ticks": "outside",
           "title": {
            "standoff": 15
           },
           "zeroline": false,
           "zerolinecolor": "rgb(36,36,36)"
          }
         }
        },
        "title": {
         "font": {
          "color": "Black",
          "size": 22
         },
         "text": "<b>Intertopic Distance Map</b>",
         "x": 0.5,
         "xanchor": "center",
         "y": 0.95,
         "yanchor": "top"
        },
        "width": 650,
        "xaxis": {
         "anchor": "y",
         "domain": [
          0,
          1
         ],
         "range": [
          -9.202355766296387,
          25.88070297241211
         ],
         "title": {
          "text": ""
         },
         "visible": false
        },
        "yaxis": {
         "anchor": "x",
         "domain": [
          0,
          1
         ],
         "range": [
          -11.200959157943725,
          25.09870262145996
         ],
         "title": {
          "text": ""
         },
         "visible": false
        }
       }
      }
     },
     "metadata": {},
     "output_type": "display_data"
    }
   ],
   "source": [
    "topic_model.visualize_topics()"
   ]
  },
  {
   "cell_type": "code",
   "execution_count": 77,
   "metadata": {},
   "outputs": [
    {
     "name": "stderr",
     "output_type": "stream",
     "text": [
      "100%|██████████| 156/156 [00:38<00:00,  4.04it/s]\n"
     ]
    }
   ],
   "source": [
    "hierarchical_topics = topic_model.hierarchical_topics(df)\n"
   ]
  },
  {
   "cell_type": "code",
   "execution_count": null,
   "metadata": {},
   "outputs": [],
   "source": [
    "topic_model.visualize_hierarchy(hierarchical_topics=hierarchical_topics)\n"
   ]
  },
  {
   "cell_type": "code",
   "execution_count": 79,
   "metadata": {},
   "outputs": [],
   "source": [
    "tree = topic_model.get_topic_tree(hierarchical_topics)"
   ]
  },
  {
   "cell_type": "code",
   "execution_count": 80,
   "metadata": {},
   "outputs": [
    {
     "name": "stdout",
     "output_type": "stream",
     "text": [
      ".\n",
      "├─maga supporter_blm gay_blm lgbtq_maga_right wing\n",
      "│    ├─■──attacker republican_attacked berkeley_republicans inferring_republican truth_sound republican ── Topic: 134\n",
      "│    └─maga supporter_maga_like maga_blm gay_sound maga\n",
      "│         ├─blm gay_blm lgbtq_lgbtq flag_flag blm_flags blm\n",
      "│         │    ├─■──david depape_depape illegal_depape lives_depape_depape actually ── Topic: 32\n",
      "│         │    └─maga supporter_maga_like maga_ultra maga_sound maga\n",
      "│         │         ├─■──maga_maga republicans_maga supporter_tell maga_ultra maga ── Topic: 2\n",
      "│         │         └─■──pelosis attacker_attacked pelosi_pelosi attacker_pelosi attack_pelosi attacked ── Topic: 6\n",
      "│         └─■──paul attacked_pauls attacker_paul cheated_paul blm_paul lgbt ── Topic: 34\n",
      "└─blm riots_black lives_riots_racism_blacklivesmatter\n",
      "     ├─black privilege_white racist_theory racist_racist nazi_black crime\n",
      "     │    ├─black privilege_white racist_black crime_privilege black_theory racist\n",
      "     │    │    ├─black privilege_theory racist_black crime_white racist_racist nazi\n",
      "     │    │    │    ├─keknya_soalnya blm_sbnrnya blm_sbnrnya_gue udah\n",
      "     │    │    │    │    ├─keknya_soalnya blm_sbnrnya blm_sbnrnya_gue udah\n",
      "     │    │    │    │    │    ├─■──kan aku_im ekskul_meet previously_met guy_nkuku hes ── Topic: 82\n",
      "     │    │    │    │    │    └─■──keknya_soalnya blm_sbnrnya blm_sbnrnya_gue udah ── Topic: 14\n",
      "     │    │    │    │    └─■──gue blm_parfume blm_peenah banget_mumpung pasport_transavia help ── Topic: 152\n",
      "     │    │    │    └─black privilege_privilege black_white racist_theory racist_black crime\n",
      "     │    │    │         ├─black privilege_black racist_black supremacist_privilege black_black crime\n",
      "     │    │    │         │    ├─blm land_hiking_wilderness_trails_land near\n",
      "     │    │    │         │    │    ├─horses blm_horses blms_wild horses_horse advocates_handle cattlehorse\n",
      "     │    │    │         │    │    │    ├─■──horses blms_horses blm_wild horses_handle cattlehorse_horse advocates ── Topic: 66\n",
      "     │    │    │         │    │    │    └─■──blm bureau_management blm_managed blm_companies blm_bureau land ── Topic: 86\n",
      "     │    │    │         │    │    └─■──local trails_hiking blm_trails planning_hiking spot_wilderness study ── Topic: 102\n",
      "     │    │    │         │    └─black supremacist_black privilege_black racist_supremacist black_white racist\n",
      "     │    │    │         │         ├─blm cult_blm founders_blm marxism_blm founder_blm marxist\n",
      "     │    │    │         │         │    ├─blm cult_blm marxism_blm marxists_blm marxist_blm founders\n",
      "     │    │    │         │         │    │    ├─donating blmplease_disabilitycrowdfund blacklivesmatter_donate people_cause blm_gotten donations\n",
      "     │    │    │         │         │    │    │    ├─■──hiring blm_hired blm_blm victimi_agencies wont_cell blm ── Topic: 112\n",
      "     │    │    │         │         │    │    │    └─gotten donations_donations today_donated gofundme_donate people_help paying\n",
      "     │    │    │         │         │    │    │         ├─■──blm money_money blm_blm buy_support blm_dollar blm ── Topic: 138\n",
      "     │    │    │         │         │    │    │         └─■──gotten donations_donations today_donated gofundme_donate people_help paying ── Topic: 61\n",
      "     │    │    │         │         │    │    └─blm marxists_blm marxism_blm cult_blm marxist_blm founders\n",
      "     │    │    │         │         │    │         ├─■──favre scandal_news favre_favre paying_favre whats_favre ── Topic: 105\n",
      "     │    │    │         │         │    │         └─blm marxists_blm marxism_blm cult_blm marxist_blm founder\n",
      "     │    │    │         │         │    │              ├─marxism blm_blm marxism_blm marxist_marxist group_marxist organization\n",
      "     │    │    │         │         │    │              │    ├─■──marxism blm_blm marxism_marxists blm_blm marxist_marxist group ── Topic: 17\n",
      "     │    │    │         │         │    │              │    └─■──blm mansions_mansions blm_blm money_blm buying_blm buy ── Topic: 11\n",
      "     │    │    │         │         │    │              └─■──blm cult_cult movement_cult really_cult backed_cults antifa ── Topic: 57\n",
      "     │    │    │         │         │    └─blm sign_blm signs_seeing blm_negatively blm_having blm\n",
      "     │    │    │         │         │         ├─blm sign_blm signs_illegals signs_liberals signs_signs support\n",
      "     │    │    │         │         │         │    ├─■──police signs_political signs_streets painted_grandma blm_flags neighbours ── Topic: 59\n",
      "     │    │    │         │         │         │    └─■──blm signs_illegals signs_illegal signs_waaaaay blm_painted blm ── Topic: 56\n",
      "     │    │    │         │         │         └─pronouns blm_blm pronouns_negatively blm_having blm_blm acab\n",
      "     │    │    │         │         │              ├─pronouns blm_blm pronouns_stand poc_poc_insulting black\n",
      "     │    │    │         │         │              │    ├─■──opposes blm_insulting black_poc white_promote racial_racists tell ── Topic: 94\n",
      "     │    │    │         │         │              │    └─pronouns blm_blm pronouns_hate pronouns_pronouns just_pronouns indicators\n",
      "     │    │    │         │         │              │         ├─■──insult conversation_im hostile_insults cursing_racist cyber_conversation ── Topic: 55\n",
      "     │    │    │         │         │              │         └─■──pronouns blm_pronouns indicators_pronouns bio_hate pronouns_forget pronouns ── Topic: 63\n",
      "     │    │    │         │         │              └─having blm_blm bio_resist blm_bio blm_told niggas\n",
      "     │    │    │         │         │                   ├─blm bio_bio blm_negatively blm_missing blm_having blm\n",
      "     │    │    │         │         │                   │    ├─■──blm bio_bio blm_negatively blm_missing blm_having blm ── Topic: 21\n",
      "     │    │    │         │         │                   │    └─■──feel blm_blm yo_blm dont_got blm_blm just ── Topic: 126\n",
      "     │    │    │         │         │                   └─■──niggas blm_told niggas_lol niggas_lol nigga_niggaz stop ── Topic: 58\n",
      "     │    │    │         │         └─black supremacist_supremacist black_black racist_black privilege_theory racist\n",
      "     │    │    │         │              ├─alllivesmatter gundam_gundam_gundam fighting_respect people_know respect\n",
      "     │    │    │         │              │    ├─alllivesmatter gundam_gundam_gundam fighting_respect people_know respect\n",
      "     │    │    │         │              │    │    ├─alllivesmatter gundam_gundam_gundam fighting_mindset justdowhatisright_respect people\n",
      "     │    │    │         │              │    │    │    ├─■──worried diversity_blm immigrants_diversity blm_migration people_movements blm ── Topic: 145\n",
      "     │    │    │         │              │    │    │    └─alllivesmatter gundam_gundam_gundam fighting_mindset justdowhatisright_respect people\n",
      "     │    │    │         │              │    │    │         ├─■──blm teaching_teacher_fell teacher_criminals blm_ethnics teacher ── Topic: 100\n",
      "     │    │    │         │              │    │    │         └─■──alllivesmatter gundam_gundam_gundam fighting_mindset justdowhatisright_respect people ── Topic: 123\n",
      "     │    │    │         │              │    │    └─forcing students_teachers_public school_schools_prove education\n",
      "     │    │    │         │              │    │         ├─■──neglected schools_teachers_education_marginalized kids_schools ── Topic: 53\n",
      "     │    │    │         │              │    │         └─■──blm flags_flags_flags dont_line flag_patriotic flagswhile ── Topic: 69\n",
      "     │    │    │         │              │    └─oppose antisemitism_nazis oppose_lgbtqis hate_free speech_freedom speech\n",
      "     │    │    │         │              │         ├─extremist antifa_threat antifa_lgbtqis hate_free speech_fascists threat\n",
      "     │    │    │         │              │         │    ├─■──extremist antifa_threat antifa_lgbtqis hate_free speech_fascists threat ── Topic: 67\n",
      "     │    │    │         │              │         │    └─■──freedom speech_blm antiracist_religion blm_blm history_infringing freedom ── Topic: 119\n",
      "     │    │    │         │              │         └─looting blm_blm platitudes_blm somebody_blm loot_repressed folks\n",
      "     │    │    │         │              │              ├─■──saying blm_blm pride_blm somebody_blm stop_blm platitudes ── Topic: 148\n",
      "     │    │    │         │              │              └─■──looting blm_blm burned_blm loot_blm burning_proof blm ── Topic: 142\n",
      "     │    │    │         │              └─black supremacist_supremacist black_black racist_black privilege_theory racist\n",
      "     │    │    │         │                   ├─black supremacist_obama racist_supremacist black_black racist_black privilege\n",
      "     │    │    │         │                   │    ├─black supremacist_obama racist_supremacist black_black racist_black privilege\n",
      "     │    │    │         │                   │    │    ├─black supremacist_obama racist_supremacist black_black racist_black privilege\n",
      "     │    │    │         │                   │    │    │    ├─■──racist darrell_whites anti_informed racist_racism willie_white antiracist ── Topic: 106\n",
      "     │    │    │         │                   │    │    │    └─black supremacist_obama racist_supremacist black_black racist_black privilege\n",
      "     │    │    │         │                   │    │    │         ├─■──black supremacist_obama racist_supremacist black_black racist_black privilege ── Topic: 31\n",
      "     │    │    │         │                   │    │    │         └─■──blms terrorist_terrorist hey_blm eh_terrorists sorry_terrorist terrorists ── Topic: 77\n",
      "     │    │    │         │                   │    │    └─stay woke_think woke_woke ideology_woke_woke agree\n",
      "     │    │    │         │                   │    │         ├─stay woke_think woke_woke ideology_woke_woke agree\n",
      "     │    │    │         │                   │    │         │    ├─■──blm troll_troll black_exposing trollfarms_troll trolls_troll means ── Topic: 99\n",
      "     │    │    │         │                   │    │         │    └─■──stay woke_think woke_woke ideology_isnt woke_woke ── Topic: 35\n",
      "     │    │    │         │                   │    │         └─■──alm protest_respond alm_wlm alm_saying alm_alm response ── Topic: 72\n",
      "     │    │    │         │                   │    └─victims slavery_poor blm_slaves_slavery_slavery dont\n",
      "     │    │    │         │                   │         ├─refund blm_kanye scam_scam blame_festooned blm_donation sharon\n",
      "     │    │    │         │                   │         │    ├─refund blm_kanye scam_osbournewho donated_festooned blm_blm response\n",
      "     │    │    │         │                   │         │    │    ├─■──twitter written_used blm_matter twitter_blm garbage_written twitter ── Topic: 150\n",
      "     │    │    │         │                   │         │    │    └─■──refund blm_osbournewho donated_kanye scam_scam blame_festooned blm ── Topic: 85\n",
      "     │    │    │         │                   │         │    └─■──2013 blm_lied defrauded_blm retweets_surgery blm_lies concerned ── Topic: 107\n",
      "     │    │    │         │                   │         └─victims slavery_slavery_slaves_slavery dont_slave\n",
      "     │    │    │         │                   │              ├─victims slavery_slavery_slaves_living slaves_slave\n",
      "     │    │    │         │                   │              │    ├─■──brown reparations_pay reparations_want reparations_reparations think_reparations deserve ── Topic: 103\n",
      "     │    │    │         │                   │              │    └─■──victims slavery_slaves_slavery_living slaves_slave ── Topic: 60\n",
      "     │    │    │         │                   │              └─■──thugs_thugs refer_thugswithbadges telling_thugs enrages_real thugs ── Topic: 110\n",
      "     │    │    │         │                   └─holocaustmemorialday mlk_blacklivesmatter reparationsnow_blacklivesmatter ukraine_reparationsnow ukr\n",
      "     │    │    │         │                        ├─holocaustmemorialday mlk_blacklivesmatter reparationsnow_blacklivesmatter ukraine_holocaustmemoriald\n",
      "     │    │    │         │                        │    ├─holocaustmemorialday mlk_blacklivesmatter reparationsnow_blacklivesmatter ukraine_holocaustmemoriald\n",
      "     │    │    │         │                        │    │    ├─remembrance_poppy represents_wear poppy_honouring lives_inspired poppies\n",
      "     │    │    │         │                        │    │    │    ├─■──remembrance_poppy represents_play remembrance_wear poppy_soldiers wars ── Topic: 52\n",
      "     │    │    │         │                        │    │    │    └─■──blacklivesmatter elijah_elijahmcclain blacklivesmatter_elijahs death_sad elijahmcclain_elijah deserv ── Topic: 98\n",
      "     │    │    │         │                        │    │    └─holocaustmemorialday mlk_blacklivesmatter reparationsnow_blacklivesmatter ukraine_holocaustmemoriald\n",
      "     │    │    │         │                        │    │         ├─holocaustmemorialday mlk_blacklivesmatter reparationsnow_blacklivesmatter ukraine_holocaustmemoriald\n",
      "     │    │    │         │                        │    │         │    ├─■──holocaustmemorialday mlk_blacklivesmatter reparationsnow_blacklivesmatter ukraine_holocaustmemoriald ── Topic: 19\n",
      "     │    │    │         │                        │    │         │    └─■──stand iranians_iran support_iranian lives_iranians fluff_iran americans ── Topic: 45\n",
      "     │    │    │         │                        │    │         └─■──blm talk_blm fought_produced blm_save blm_blm mocking ── Topic: 127\n",
      "     │    │    │         │                        │    └─blm glam_blm antifas_twitter_making twitter_want retweet\n",
      "     │    │    │         │                        │         ├─gael supporters_outspoken blm_approves blm_bigger blm_realise celtic\n",
      "     │    │    │         │                        │         │    ├─■──disgusted blm_blm marched_gael supporters_dead blm_realise celtic ── Topic: 151\n",
      "     │    │    │         │                        │         │    └─■──blm clowns_leftist clowns_outspoken blm_did blm_blm supporter ── Topic: 141\n",
      "     │    │    │         │                        │         └─linehahaha blm_blm glam_blm antifas_twitter_making twitter\n",
      "     │    │    │         │                        │              ├─twitter_peakaboo style_bars_peakaboo_want retweet\n",
      "     │    │    │         │                        │              │    ├─almond_making hungry_almond joy_candy_perogative youre\n",
      "     │    │    │         │                        │              │    │    ├─making twitter_twitter_impact twitter_hungry candy_almond joy\n",
      "     │    │    │         │                        │              │    │    │    ├─■──making hungry_jelly sandwiches_meal spinch_need eat_meal ── Topic: 70\n",
      "     │    │    │         │                        │              │    │    │    └─■──twitter_twitter pandemic_impact twitter_twitter social_twitter activity ── Topic: 65\n",
      "     │    │    │         │                        │              │    │    └─hateful extremists_blm antifas_antifas attacking_radical hateful_whiteprivilege blacklivesmatter\n",
      "     │    │    │         │                        │              │    │         ├─■──blacklivesmatter friend_blacklivesmatter blackwomen_blacklivesmatter liaralice_got blacklivesmatter_ ── Topic: 130\n",
      "     │    │    │         │                        │              │    │         └─■──antifa woke_blm antifas_radical hateful_radical leftists_antifas efforts ── Topic: 139\n",
      "     │    │    │         │                        │              │    └─mma blm_boxer_life boxer_boxing_mma\n",
      "     │    │    │         │                        │              │         ├─mma blm_boxer_life boxer_great fighters_boxing\n",
      "     │    │    │         │                        │              │         │    ├─■──blm costume_blm glam_witchy blm_costume update_blm af ── Topic: 136\n",
      "     │    │    │         │                        │              │         │    └─■──blm boxer_mma blm_fight boxing_boxer im_boxer ── Topic: 116\n",
      "     │    │    │         │                        │              │         └─nike_logo blm_adidas_oh nike_nike riding\n",
      "     │    │    │         │                        │              │              ├─■──adidas_gap adidas_nike_max nike_encourages wear ── Topic: 46\n",
      "     │    │    │         │                        │              │              └─■──corporations supported_boycott shit_gonna boycott_woke corporations_boycotted ── Topic: 131\n",
      "     │    │    │         │                        │              └─jokes blm_smile blm_cycling winter_nyc dreamed_blm option\n",
      "     │    │    │         │                        │                   ├─■──jokes blm_blm joke_funny blm_blm okay_blm ── Topic: 125\n",
      "     │    │    │         │                        │                   └─■──colorado cold_trip cold_cycling winter_nyc dreamed_cold beautiful ── Topic: 154\n",
      "     │    │    │         │                        └─mtvawards rap_songs new_album rof_album toktik_songs\n",
      "     │    │    │         │                             ├─mtvawards rap_songs new_album rof_album toktik_songs\n",
      "     │    │    │         │                             │    ├─mtvawards rap_songs new_album rof_album toktik_songs\n",
      "     │    │    │         │                             │    │    ├─■──black panther_panther movies_panther 2018_wakandaforever_wakanda ── Topic: 79\n",
      "     │    │    │         │                             │    │    └─■──mtvawards rap_songs new_album rof_album toktik_songs ── Topic: 29\n",
      "     │    │    │         │                             │    └─cast_favorite movies_played memorable_memorable shows_movie disturbing\n",
      "     │    │    │         │                             │         ├─■──memorable shows_jason erased_movies classics_movie disturbing_loved little ── Topic: 44\n",
      "     │    │    │         │                             │         └─■──ariel black_mermaid black_mermaid white_ariel_racist daughters ── Topic: 75\n",
      "     │    │    │         │                             └─political ads_having ads_ads_blm gonna_overwatch2 twitchstreamers\n",
      "     │    │    │         │                                  ├─■──political ads_ads_having ads_producing ads_ad ── Topic: 89\n",
      "     │    │    │         │                                  └─■──twitch week_overwatch2 twitchstreamers_twitch_twitch gt_twitchstreamer ── Topic: 91\n",
      "     │    │    │         └─illegality didnt_illegality_stop gov_biden remove_justices broke\n",
      "     │    │    │              ├─illegality didnt_illegality_jail racism_misconduct_justices broke\n",
      "     │    │    │              │    ├─truth illegality_illegality didnt_biden remove_illegality_tell biden\n",
      "     │    │    │              │    │    ├─truth illegality_illegality didnt_biden remove_illegality_tell biden\n",
      "     │    │    │              │    │    │    ├─■──truth illegality_russiaukrainewar illegality_illegality didnt_fact biden_biden remove ── Topic: 115\n",
      "     │    │    │              │    │    │    └─russian collusion_collusion hoax_foxnews watch_fox news_spread russian\n",
      "     │    │    │              │    │    │         ├─russian collusion_collusion hoax_spread russian_russians_female antifa\n",
      "     │    │    │              │    │    │         │    ├─■──racism russia_muh russians_putins denazification_loser russians_russians actually ── Topic: 83\n",
      "     │    │    │              │    │    │         │    └─■──female antifa_tell gender_women clinton_affirmation genders_gender sensitivity ── Topic: 128\n",
      "     │    │    │              │    │    │         └─■──foxnews watch_watch fox_fox news_fox haters_fox isnt ── Topic: 113\n",
      "     │    │    │              │    │    └─tucker carlson_events antifa_politicians cnn_protestors damaging_dangerous blm\n",
      "     │    │    │              │    │         ├─tucker carlson_fbi attack_immigrant tucker_tucker intelligentits_trump brain\n",
      "     │    │    │              │    │         │    ├─gogh protest_photography protest_paintings covered_painting evokes_paint criminal\n",
      "     │    │    │              │    │         │    │    ├─■──gogh protest_photography protest_paintings covered_painting evokes_paint criminal ── Topic: 84\n",
      "     │    │    │              │    │         │    │    └─■──pictures riots_photos blm_blm participated_streets protest_protests bout ── Topic: 90\n",
      "     │    │    │              │    │         │    └─tuckerlying propagandist_tucker carlson_events antifa_tucker intelligentits_tucker tell\n",
      "     │    │    │              │    │         │         ├─■──blaming blm_referring blm_events blm_blm dems_property blamed ── Topic: 156\n",
      "     │    │    │              │    │         │         └─■──tucker carlson_tuckerlying propagandist_carlson fake_blame tucker_caught tucker ── Topic: 144\n",
      "     │    │    │              │    │         └─thousands cops_injuring thousands_cops maimed_144 cops_cops year\n",
      "     │    │    │              │    │              ├─■──riots billions_antifblm riots_killed antifa_riots tweets_terrorists rampaged ── Topic: 140\n",
      "     │    │    │              │    │              └─■──blm injuring_injured police_cops died_thousands cops_officer injured ── Topic: 137\n",
      "     │    │    │              │    └─michigan dept_misconduct_dept civil_civil rights_commissioners retailated\n",
      "     │    │    │              │         ├─maga hat_hat trump_blue check_mark twitter_laws blue\n",
      "     │    │    │              │         │    ├─■──parody account_fake verified_impersonator parody_accounts impersonating_verified accounts ── Topic: 109\n",
      "     │    │    │              │         │    └─■──maga hat_hat trump_maga losers_remind maga_sprayed blm ── Topic: 122\n",
      "     │    │    │              │         └─michigan dept_misconduct_mdcr commissioners_dept civil_commissioners retailated\n",
      "     │    │    │              │              ├─michigan dept_agency michigan_misconduct mdcr_misconduct_dept civil\n",
      "     │    │    │              │              │    ├─blm nascar_blm car_2020s blm_blm sticker_livid blm\n",
      "     │    │    │              │              │    │    ├─2020s blm_support hollywood_okay hollywood_million qbs_hollywood actor\n",
      "     │    │    │              │              │    │    │    ├─■──traded blms_rivera owner_blm calgary_calgary case_blms rights ── Topic: 124\n",
      "     │    │    │              │              │    │    │    └─■──hollywood actor_support hollywood_actor make_okay hollywood_actor ── Topic: 135\n",
      "     │    │    │              │              │    │    └─blm nascar_blm car_love bubba_bubba_blm sticker\n",
      "     │    │    │              │              │    │         ├─blm nascar_love bubba_left bubba_bubba_nascar gone\n",
      "     │    │    │              │              │    │         │    ├─■──protest cat_outrage cat_arguing cat_wheres blm_talking cats ── Topic: 108\n",
      "     │    │    │              │              │    │         │    └─■──blm nascar_love bubba_left bubba_bubba_nascar wants ── Topic: 74\n",
      "     │    │    │              │              │    │         └─■──prevent driving_honking convoy_driving_moved bus_highway today ── Topic: 49\n",
      "     │    │    │              │              │    └─michigan dept_reporting misconduct_civilrights complaint_misconduct mdcr_misconduct\n",
      "     │    │    │              │              │         ├─date liberal_antifa members_easier conservative_50 antifa_socialism gun\n",
      "     │    │    │              │              │         │    ├─■──liberal dress_liberal lets_date liberal_antifa members_liberal strung ── Topic: 101\n",
      "     │    │    │              │              │         │    └─■──believe socialism_cool socialism_absolutely socialism_socialism im_socialist regime ── Topic: 149\n",
      "     │    │    │              │              │         └─michigan dept_reporting misconduct_civilrights complaint_misconduct_dept civil\n",
      "     │    │    │              │              │              ├─■──michigan dept_civilrights complaint_misconduct_dept civil_civil rights ── Topic: 18\n",
      "     │    │    │              │              │              └─■──blmliberal_says democrat_running pennsylvania_philly vote_shocker blmliberal ── Topic: 93\n",
      "     │    │    │              │              └─shoot blm_blm mask_masked blm_kyle murderer_kyle attacked\n",
      "     │    │    │              │                   ├─kyle murderer_kyle attacked_kyle_kyle did_kyle kyle\n",
      "     │    │    │              │                   │    ├─kyle attacked_kyle murderer_kyle defending_kyle cornered_kyle defended\n",
      "     │    │    │              │                   │    │    ├─■──self defense_gun protect_abducted gun_telling robber_robber ── Topic: 146\n",
      "     │    │    │              │                   │    │    └─■──kyle attacked_shoot kyle_kyle murderer_kyle did_kyle ── Topic: 36\n",
      "     │    │    │              │                   │    └─■──gun control_gun buy_gun swat_guns trend_gun owners ── Topic: 41\n",
      "     │    │    │              │                   └─mask people_blm mask_mask wearers_masks especially_wearing mask\n",
      "     │    │    │              │                        ├─■──protests mask_masks work_masks_mask people_free masks ── Topic: 71\n",
      "     │    │    │              │                        └─■──blm mask_mask men_mask good_masks make_mask ── Topic: 95\n",
      "     │    │    │              └─climate activists_climate change_blm works_pandemic think_happened climate\n",
      "     │    │    │                   ├─protests climate_climate activists_climate change_planet blm_happened climate\n",
      "     │    │    │                   │    ├─■──climate protests_protests climate_climate activists_conservatives blm_forget protests ── Topic: 114\n",
      "     │    │    │                   │    └─■──blm climate_planet blm_blm pandemic_climate change_look blm ── Topic: 129\n",
      "     │    │    │                   └─■──blm tbo_shit blm_saying blm_blm coming_knew blm ── Topic: 155\n",
      "     │    │    └─twitchstreamers_twitchaffiliate twitchstreamers_gfx twitch_followed_twitch\n",
      "     │    │         ├─inbox commissions_twitchstreamers_twitchaffiliate twitchstreamers_gfx twitch_youtubegaming supportsm\n",
      "     │    │         │    ├─■──inbox commissions_twitchstreamers_twitchaffiliate twitchstreamers_gfx twitch_twitch youtuber ── Topic: 62\n",
      "     │    │         │    └─■──make logo_logo designer_logodesigner graphic_logo website_logo requirement ── Topic: 48\n",
      "     │    │         └─activist prodemocracy_lifetime activist_followers_blm voteblue2020_reach people\n",
      "     │    │              ├─need followers_activist_activist prodemocracy_lifetime activist_followers\n",
      "     │    │              │    ├─hugzz bluecrew_following hugzz_hugzz_hope hugzz_hugzz new\n",
      "     │    │              │    │    ├─happy_followed_ill cheering_happy blessed_love thank\n",
      "     │    │              │    │    │    ├─■──sure blm_stay blm_blm_blm nhs_blm fbpe ── Topic: 143\n",
      "     │    │              │    │    │    └─■──smiles joy_happy_soooo happy_support appreciate_ill smile ── Topic: 37\n",
      "     │    │              │    │    └─■──hugzz covidisnotover_following hugzz_hugzz bluecrew_hugzz followed_hugzz friend ── Topic: 97\n",
      "     │    │              │    └─need followers_activist_activist prodemocracy_followers today_followers reach\n",
      "     │    │              │         ├─■──followers today_transphobia followers_followers trending_followers_follower follow ── Topic: 121\n",
      "     │    │              │         └─■──activist_activist prodemocracy_followers reach_followers fine_lifetime activist ── Topic: 87\n",
      "     │    │              └─bluewave voteblue_voteblue2020 bluewave_blm voteblue2020_voteblue_voteblue2020\n",
      "     │    │                   ├─bluewave voteblue_voteblue2020 bluewave_blm voteblue2020_voteblue_voteblue2020\n",
      "     │    │                   │    ├─■──blm republicans_movement republicans_blm feminist_vote women_let republicans ── Topic: 133\n",
      "     │    │                   │    └─■──bluewave voteblue_voteblue2020 bluewave_blm voteblue2020_voteblue_voteblue2020 ── Topic: 24\n",
      "     │    │                   └─■──suing blm_suing racist_blacklivesmatter suing_sue sue_suing ── Topic: 111\n",
      "     │    └─blm riots_blm rioters_kkk dems_steve scalise_dems\n",
      "     │         ├─blm riots_blm rioters_bail blm_sympathy dems_republicans assaulted\n",
      "     │         │    ├─riots kamala_blm rioters_kamala bailed_bail blm_kamala harris\n",
      "     │         │    │    ├─riots kamala_blm rioters_kamala bailed_bail blm_kamala harris\n",
      "     │         │    │    │    ├─■──democrats bailed_bail antifa_jail democrats_bail punishment_held bail ── Topic: 76\n",
      "     │         │    │    │    └─■──riots kamala_blm rioters_kamala harrisbacked_kamala harris_kamala bailed ── Topic: 30\n",
      "     │         │    │    └─doj politics_doj_tell doj_doj needs_doj just\n",
      "     │         │    │         ├─■──blm burning_ok blm_blm burn_didnt pelosi_nancy pelosi ── Topic: 147\n",
      "     │         │    │         └─■──doj politics_doj_tell doj_doj isnt_doj needs ── Topic: 92\n",
      "     │         │    └─republicans assaulted_sympathy dems_attack democrat_dems youll_zeldin republicans\n",
      "     │         │         ├─blm invading_storming capitol_blm attempts_putin blm_protests hunted\n",
      "     │         │         │    ├─■──blm attempts_blm did_blm protester_said blm_remind blm ── Topic: 117\n",
      "     │         │         │    └─■──blm storming_storming capitol_blm invading_storm capitol_putin blm ── Topic: 80\n",
      "     │         │         └─republicans assaulted_scalise rand_sympathy dems_blm riots_attack democrat\n",
      "     │         │              ├─republicans assaulted_sympathy dems_attack democrat_scalise rand_dems youll\n",
      "     │         │              │    ├─republicans assaulted_sympathy dems_attack democrat_scalise rand_dems youll\n",
      "     │         │              │    │    ├─■──scalise rand_republicans assaulted_scalise violence_scalisse blm_scalise shot ── Topic: 64\n",
      "     │         │              │    │    └─j6 protests_j6 protesters_j6 insurrection_orchestrated j6_j6 blm\n",
      "     │         │              │    │         ├─j6 protests_j6 protesters_j6 insurrection_orchestrated j6_j6 blm\n",
      "     │         │              │    │         │    ├─■──police democrats_defund police_defunding police_police defunder_democratsaretheproblem racists ── Topic: 42\n",
      "     │         │              │    │         │    └─j6 protests_j6 protesters_j6 blm_blm j6_j6 insurrection\n",
      "     │         │              │    │         │         ├─■──blm biden_voted biden_biden elected_trump biden_support biden ── Topic: 8\n",
      "     │         │              │    │         │         └─■──j6 protests_j6 protesters_j6 treasonists_orchestrated j6_j6 blm ── Topic: 12\n",
      "     │         │              │    │         └─■──rioting democrats_democrats acted_2020 corrupt_rampant democratic_acted blm ── Topic: 88\n",
      "     │         │              │    └─gullible americans_brutality blm_video blm_footage blm_americans believed\n",
      "     │         │              │         ├─hear trudeau_trudeaus_trudeau_protests canada_fuck trudeau\n",
      "     │         │              │         │    ├─■──soros funding_soros involved_soros_george soros_franklinyoure soros ── Topic: 43\n",
      "     │         │              │         │    └─■──hear trudeau_movement trudeau_trudeaus_trudeau_marxism trudeaus ── Topic: 33\n",
      "     │         │              │         └─blm fbi_protests video_gullible americans_brutality blm_video blm\n",
      "     │         │              │              ├─■──brutality blm_protests video_video blm_videos blm_footage blm ── Topic: 25\n",
      "     │         │              │              └─■──does fbi_movement fbi_fbi jurisdiction_fbi employees_facing fbi ── Topic: 68\n",
      "     │         │              └─portland blm_portland riots_riots portland_seattle blm_portland peeps\n",
      "     │         │                   ├─portland blm_riots portland_portland riots_seattle blm_downtown protesting\n",
      "     │         │                   │    ├─■──seattle blm_seattle causing_seattle sounds_protests great_street seattle ── Topic: 78\n",
      "     │         │                   │    └─■──portland blm_riots portland_destroy portland_antifablm people_portland uninhabitable ── Topic: 38\n",
      "     │         │                   └─■──enforced blm_acceptable blm_vandalism article_vandalized federal_vandalizing local ── Topic: 104\n",
      "     │         └─blm kkk_kkk blm_kkk antifa_blm nazis_kkk isis\n",
      "     │              ├─blm nazis_citizens blm_blm proud_insurrectionist kkk_kkk isis\n",
      "     │              │    ├─■──riots qanon_qanon thing_qanon accused_huh qanon_qanon took ── Topic: 118\n",
      "     │              │    └─blm nazis_list antifa_difference antifa_kkk isis_citizens blm\n",
      "     │              │         ├─■──blm proud_citizens blm_boys terrorist_kkk proud_proud boys ── Topic: 81\n",
      "     │              │         └─■──difference antifa_difference communists_difference liberals_liberals antifa_blm nazis ── Topic: 120\n",
      "     │              └─blm kkk_kkk dems_party kkk_kkk_klan\n",
      "     │                   ├─■──kkk dems_democrats antiva_nazi kkk_democrats accuse_party antifa ── Topic: 132\n",
      "     │                   └─■──blm kkk_kkk dems_klan_democrat klans_people kkk ── Topic: 26\n",
      "     └─blm riots_support blm_blm post_blm scam_black lives\n",
      "          ├─hates jews_antisemitism_abortion blm_support blm_kneeling blm\n",
      "          │    ├─abortion blm_blm lgbtq_blm lgbt_abortions_feminism\n",
      "          │    │    ├─make voting_vote party_vote blue_voting_vote\n",
      "          │    │    │    ├─■──left politically_leftwing_leftwing rightwing_left covid_politically center ── Topic: 153\n",
      "          │    │    │    └─vote party_vote blue_voting_vote_discussion voters\n",
      "          │    │    │         ├─■──liberal dem_older democrat_considered democrat_democrat criticize_democrat life ── Topic: 96\n",
      "          │    │    │         └─■──vote blue_make voting_prefer vote_vote_voting ── Topic: 47\n",
      "          │    │    └─blm lgbtq_blm lgbt_abortion blm_blm blocked_flag blm\n",
      "          │    │         ├─blm lgbt_lgbtq feminism_feminism_feminists_lgbtqblm\n",
      "          │    │         │    ├─■──feminism_feminism critical_feminism just_feminism women_feminists ── Topic: 54\n",
      "          │    │         │    └─blm lgbt_lgbtq feminism_lgbtqblm_lgbtq_lgbt trans\n",
      "          │    │         │         ├─■──blm lgbt_lgbtq feminism_lgbtq trans_lgbtblm ppl_lgbtq ── Topic: 13\n",
      "          │    │         │         └─■──abortion blm_blm abortion_support abortion_abortions_abortion ── Topic: 20\n",
      "          │    │         └─blm ukrainian_ukraine blm_blm ukraine_flag blm_ukraine flags\n",
      "          │    │              ├─blm ukrainian_ukraine blm_blm ukraine_flag blm_ukraine flags\n",
      "          │    │              │    ├─■──blocked blm_blm blocked_actually blocked_blocked people_blocked twitter ── Topic: 15\n",
      "          │    │              │    └─ukraine blm_blm ukrainian_blm ukraine_ukraine flags_flag ukraine\n",
      "          │    │              │         ├─■──ukraine flags_flag ukraine_ukraine flag_ukrainian flags_russian flag ── Topic: 9\n",
      "          │    │              │         └─■──pandemic blm_covid19 blm_pandemic_covid_told vaccine ── Topic: 16\n",
      "          │    │              └─■──introverts bc_introverts_honors blm_family disowned_exposed ppl ── Topic: 28\n",
      "          │    └─jew hatred_hates jews_hate jews_antisemitism_jews jew\n",
      "          │         ├─jew hatred_hate jews_hates jews_attack jewish_antisemitism\n",
      "          │         │    ├─blm jewish_hates jews_hate jews_blm palestinian_jew hatred\n",
      "          │         │    │    ├─■──kanye racist_kanye blm_kanye islamists_kanyes bitterness_kanyes words ── Topic: 73\n",
      "          │         │    │    └─■──hates jews_hate jews_blm palestinian_jew hatred_attack jewish ── Topic: 10\n",
      "          │         │    └─watch nba_nba_kyrie hateful_blm kyrie_nba let\n",
      "          │         │         ├─■──kyrie hateful_kyrie antisemitic_blm kyrie_kyrie blm_kyrie whats ── Topic: 39\n",
      "          │         │         └─■──racism nba_nba sad_watch nba_reason nba_nba ── Topic: 50\n",
      "          │         └─labour racist_vote labour_tory_labour party_brexit\n",
      "          │              ├─blm kneeling_blm knee_knee blm_kneeling blm_premier league\n",
      "          │              │    ├─■──nfl political_nfl completely_watch nfl_nfl excited_nfl good ── Topic: 40\n",
      "          │              │    └─blm kneeling_kneeling blm_blm knee_knee blm_footballers\n",
      "          │              │         ├─■──blm kneeling_footballers knelt_kneeling blm_knee blm_blm knee ── Topic: 51\n",
      "          │              │         └─■──kneeling blm_knee blm_knee racial_fight racism_taking knee ── Topic: 27\n",
      "          │              └─■──labour racist_vote labour_labour party_men torys_tory ── Topic: 22\n",
      "          └─black lives_blm riots_white lives_blm movement_blm scam\n",
      "               ├─blm riots_blm antifa_blm post_blm movement_black lives\n",
      "               │    ├─■──healer_healers_raids_dungeons_blm main ── Topic: 4\n",
      "               │    └─blm riots_blm scam_black lives_blm movement_blm post\n",
      "               │         ├─blm riots_black lives_blm movement_blm antifa_antifa blm\n",
      "               │         │    ├─■──blacklivesmatter freedom_blacklivesmatter im_blacklivesmatter people_people blacklivesmatter_blackli ── Topic: 3\n",
      "               │         │    └─blm riots_support blm_say blm_blm movement_blm post\n",
      "               │         │         ├─blm protests_blm riots_support blm_blm antifa_say blm\n",
      "               │         │         │    ├─■──shes blm_blm shes_blm stuff_shes just_elizabeth ── Topic: 1\n",
      "               │         │         │    └─■──blm riots_blm protests_antifa riots_protests_riots ── Topic: 0\n",
      "               │         │         └─■──kanye blm_blm kanye_shirt blm_blm shirt_shirts blm ── Topic: 5\n",
      "               │         └─■──floyd blm_floyds murder_blm george_floyds death_rise blm ── Topic: 7\n",
      "               └─■──owens blm_media candace_watch candace_candace owens_narratives candace ── Topic: 23\n",
      "\n"
     ]
    }
   ],
   "source": [
    "print(tree)"
   ]
  },
  {
   "cell_type": "code",
   "execution_count": 37,
   "metadata": {},
   "outputs": [],
   "source": []
  }
 ],
 "metadata": {
  "kernelspec": {
   "display_name": ".venv",
   "language": "python",
   "name": "python3"
  },
  "language_info": {
   "codemirror_mode": {
    "name": "ipython",
    "version": 3
   },
   "file_extension": ".py",
   "mimetype": "text/x-python",
   "name": "python",
   "nbconvert_exporter": "python",
   "pygments_lexer": "ipython3",
   "version": "3.10.7"
  },
  "orig_nbformat": 4
 },
 "nbformat": 4,
 "nbformat_minor": 2
}
