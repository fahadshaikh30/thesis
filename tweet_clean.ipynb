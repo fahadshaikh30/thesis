{
 "cells": [
  {
   "cell_type": "code",
   "execution_count": 1,
   "metadata": {},
   "outputs": [],
   "source": [
    "import re\n",
    "import pandas as pd"
   ]
  },
  {
   "cell_type": "code",
   "execution_count": 15,
   "metadata": {},
   "outputs": [],
   "source": [
    "def clean_tweet(text):\n",
    "    # Remove mentions\n",
    "    text = re.sub(r\"@\\w+\", \"@user\", text)\n",
    "\n",
    "    # Remove URLs\n",
    "    text = re.sub(r\"http\\S+|https\\S+\", \"http\", text)\n",
    "\n",
    "    # Remove newlines\n",
    "    text = text.replace(\"\\n\", \" \")\n",
    "\n",
    "    # Remove extra whitespaces\n",
    "    text = re.sub(r\"\\s+\", \" \", text).strip()\n",
    "\n",
    "    # Remove \"RT :\"\n",
    "    text = re.sub(r\"RT :\", \"\", text)\n",
    "\n",
    "    # Remove leading punctuation\n",
    "    text = re.sub(r'^[^\\w\\s@]+', '', text)\n",
    "\n",
    "    return text"
   ]
  },
  {
   "cell_type": "code",
   "execution_count": 3,
   "metadata": {},
   "outputs": [],
   "source": [
    "df = pd.read_parquet(r'C:\\Users\\fashaikh\\Desktop\\Thesis main\\combined_data.parquet')"
   ]
  },
  {
   "cell_type": "code",
   "execution_count": 16,
   "metadata": {},
   "outputs": [],
   "source": [
    "df['cleanedContent'] = df['rawContent'].apply(clean_tweet)"
   ]
  },
  {
   "cell_type": "code",
   "execution_count": 20,
   "metadata": {},
   "outputs": [
    {
     "data": {
      "text/html": [
       "<div>\n",
       "<style scoped>\n",
       "    .dataframe tbody tr th:only-of-type {\n",
       "        vertical-align: middle;\n",
       "    }\n",
       "\n",
       "    .dataframe tbody tr th {\n",
       "        vertical-align: top;\n",
       "    }\n",
       "\n",
       "    .dataframe thead th {\n",
       "        text-align: right;\n",
       "    }\n",
       "</style>\n",
       "<table border=\"1\" class=\"dataframe\">\n",
       "  <thead>\n",
       "    <tr style=\"text-align: right;\">\n",
       "      <th></th>\n",
       "      <th>date</th>\n",
       "      <th>id</th>\n",
       "      <th>category</th>\n",
       "      <th>cleanedContent</th>\n",
       "    </tr>\n",
       "  </thead>\n",
       "  <tbody>\n",
       "    <tr>\n",
       "      <th>0</th>\n",
       "      <td>2020-05-01 01:54:11+00:00</td>\n",
       "      <td>1256039179248680961</td>\n",
       "      <td>Working Class Country</td>\n",
       "      <td>@user @user @user Did you find that site or pa...</td>\n",
       "    </tr>\n",
       "    <tr>\n",
       "      <th>1</th>\n",
       "      <td>2020-05-01 01:54:11+00:00</td>\n",
       "      <td>1256039179248680961</td>\n",
       "      <td>Rural Middle America</td>\n",
       "      <td>@user @user @user Did you find that site or pa...</td>\n",
       "    </tr>\n",
       "    <tr>\n",
       "      <th>2</th>\n",
       "      <td>2020-05-01 01:54:11+00:00</td>\n",
       "      <td>1256039179248680961</td>\n",
       "      <td>Big Cities</td>\n",
       "      <td>@user @user @user Did you find that site or pa...</td>\n",
       "    </tr>\n",
       "    <tr>\n",
       "      <th>3</th>\n",
       "      <td>2020-05-01 07:12:14+00:00</td>\n",
       "      <td>1256119219990626305</td>\n",
       "      <td>LDS Enclaves</td>\n",
       "      <td>@user WY isn't WY without wild horses. Stop BL...</td>\n",
       "    </tr>\n",
       "    <tr>\n",
       "      <th>4</th>\n",
       "      <td>2020-05-01 07:12:14+00:00</td>\n",
       "      <td>1256119219990626305</td>\n",
       "      <td>Evangelical Hubs</td>\n",
       "      <td>@user WY isn't WY without wild horses. Stop BL...</td>\n",
       "    </tr>\n",
       "  </tbody>\n",
       "</table>\n",
       "</div>"
      ],
      "text/plain": [
       "                       date                   id               category   \n",
       "0 2020-05-01 01:54:11+00:00  1256039179248680961  Working Class Country  \\\n",
       "1 2020-05-01 01:54:11+00:00  1256039179248680961   Rural Middle America   \n",
       "2 2020-05-01 01:54:11+00:00  1256039179248680961             Big Cities   \n",
       "3 2020-05-01 07:12:14+00:00  1256119219990626305           LDS Enclaves   \n",
       "4 2020-05-01 07:12:14+00:00  1256119219990626305       Evangelical Hubs   \n",
       "\n",
       "                                      cleanedContent  \n",
       "0  @user @user @user Did you find that site or pa...  \n",
       "1  @user @user @user Did you find that site or pa...  \n",
       "2  @user @user @user Did you find that site or pa...  \n",
       "3  @user WY isn't WY without wild horses. Stop BL...  \n",
       "4  @user WY isn't WY without wild horses. Stop BL...  "
      ]
     },
     "execution_count": 20,
     "metadata": {},
     "output_type": "execute_result"
    }
   ],
   "source": [
    "df.head()"
   ]
  },
  {
   "cell_type": "code",
   "execution_count": 19,
   "metadata": {},
   "outputs": [],
   "source": [
    "df.drop(columns='rawContent', inplace=True)"
   ]
  },
  {
   "cell_type": "code",
   "execution_count": null,
   "metadata": {},
   "outputs": [],
   "source": [
    "df.to_parquet(r'C:\\Users\\fashaikh\\Desktop\\Thesis main\\cleaned_data_sentiment.parquet')"
   ]
  }
 ],
 "metadata": {
  "kernelspec": {
   "display_name": ".venv",
   "language": "python",
   "name": "python3"
  },
  "language_info": {
   "codemirror_mode": {
    "name": "ipython",
    "version": 3
   },
   "file_extension": ".py",
   "mimetype": "text/x-python",
   "name": "python",
   "nbconvert_exporter": "python",
   "pygments_lexer": "ipython3",
   "version": "3.10.7"
  },
  "orig_nbformat": 4
 },
 "nbformat": 4,
 "nbformat_minor": 2
}
