{
 "cells": [
  {
   "cell_type": "code",
   "execution_count": 1,
   "metadata": {},
   "outputs": [],
   "source": [
    "import pandas as pd"
   ]
  },
  {
   "cell_type": "code",
   "execution_count": 2,
   "metadata": {},
   "outputs": [],
   "source": [
    "df = pd.read_parquet('/Users/fahad/Desktop/processed_data/combined_Top.parquet')"
   ]
  },
  {
   "cell_type": "code",
   "execution_count": 17,
   "metadata": {},
   "outputs": [],
   "source": [
    "dropped_cols = ['id', 'conversationId','source','sourceUrl','sourceLabel', 'cashtags', 'vibe', 'inReplyToTweetId', 'viewCount', 'retweetedTweet', 'links', 'lang', 'media', 'quotedTweet', 'inReplyToUser', 'mentionedUsers', 'card' ]\n",
    "\n",
    "df.drop(columns=['lang', 'media', 'quotedTweet', 'inReplyToUser', 'mentionedUsers', 'card' ], inplace=True)"
   ]
  },
  {
   "cell_type": "code",
   "execution_count": 18,
   "metadata": {},
   "outputs": [
    {
     "name": "stdout",
     "output_type": "stream",
     "text": [
      "<class 'pandas.core.frame.DataFrame'>\n",
      "RangeIndex: 2658 entries, 0 to 2657\n",
      "Data columns (total 14 columns):\n",
      " #   Column           Non-Null Count  Dtype              \n",
      "---  ------           --------------  -----              \n",
      " 0   url              2658 non-null   object             \n",
      " 1   date             2658 non-null   datetime64[ns, UTC]\n",
      " 2   rawContent       2658 non-null   object             \n",
      " 3   renderedContent  2658 non-null   object             \n",
      " 4   user             2658 non-null   object             \n",
      " 5   replyCount       2658 non-null   int64              \n",
      " 6   retweetCount     2658 non-null   int64              \n",
      " 7   likeCount        2658 non-null   int64              \n",
      " 8   quoteCount       2658 non-null   int64              \n",
      " 9   coordinates      134 non-null    object             \n",
      " 10  place            134 non-null    object             \n",
      " 11  hashtags         2657 non-null   object             \n",
      " 12  filename         2658 non-null   object             \n",
      " 13  filepath         2658 non-null   object             \n",
      "dtypes: datetime64[ns, UTC](1), int64(4), object(9)\n",
      "memory usage: 290.8+ KB\n"
     ]
    }
   ],
   "source": [
    "df.info()"
   ]
  },
  {
   "cell_type": "code",
   "execution_count": 40,
   "metadata": {},
   "outputs": [],
   "source": [
    "user = list(df['user'])"
   ]
  },
  {
   "cell_type": "code",
   "execution_count": 42,
   "metadata": {},
   "outputs": [],
   "source": [
    "user_df = pd.json_normalize(user)"
   ]
  },
  {
   "cell_type": "code",
   "execution_count": 36,
   "metadata": {},
   "outputs": [],
   "source": [
    "user_df_dropped_cols = ['descriptionLinks', 'displayname', 'favouritesCount', 'id', 'label', 'listedCount', 'profileBannerUrl', 'profileImageUrl', 'protected', 'username', 'statusesCount', 'link.indices', 'link.tcourl', 'link.text', 'link.url', 'link', 'label.badgeUrl', 'label.description', 'label.longDescription', 'label.url']\n",
    "user_df.drop([], inplace=True, axis=1)"
   ]
  },
  {
   "cell_type": "code",
   "execution_count": 38,
   "metadata": {},
   "outputs": [],
   "source": [
    "df = pd.concat([df, user_df], axis=1)"
   ]
  },
  {
   "cell_type": "code",
   "execution_count": 44,
   "metadata": {},
   "outputs": [],
   "source": [
    "df.drop('user', inplace=True, axis=1)"
   ]
  },
  {
   "cell_type": "code",
   "execution_count": 48,
   "metadata": {},
   "outputs": [],
   "source": [
    "coordinates = list(df['coordinates'])"
   ]
  },
  {
   "cell_type": "code",
   "execution_count": 51,
   "metadata": {},
   "outputs": [],
   "source": [
    "coordinates_df = pd.json_normalize(coordinates)"
   ]
  }
 ],
 "metadata": {
  "kernelspec": {
   "display_name": ".venv",
   "language": "python",
   "name": "python3"
  },
  "language_info": {
   "codemirror_mode": {
    "name": "ipython",
    "version": 3
   },
   "file_extension": ".py",
   "mimetype": "text/x-python",
   "name": "python",
   "nbconvert_exporter": "python",
   "pygments_lexer": "ipython3",
   "version": "3.9.1"
  },
  "orig_nbformat": 4
 },
 "nbformat": 4,
 "nbformat_minor": 2
}
