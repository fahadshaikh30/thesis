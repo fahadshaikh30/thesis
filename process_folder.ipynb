{
 "cells": [
  {
   "cell_type": "code",
   "execution_count": 1,
   "metadata": {},
   "outputs": [],
   "source": [
    "import pandas as pd"
   ]
  },
  {
   "cell_type": "code",
   "execution_count": 20,
   "metadata": {},
   "outputs": [],
   "source": [
    "df = pd.read_parquet(\"/Users/fahad/Desktop/processed_data/combined_data6.parquet\")"
   ]
  },
  {
   "cell_type": "code",
   "execution_count": 21,
   "metadata": {},
   "outputs": [],
   "source": [
    "dropped_cols = ['id', 'conversationId','source','sourceUrl','sourceLabel', 'cashtags', 'vibe', 'inReplyToTweetId', 'viewCount', 'retweetedTweet', 'links', 'lang', 'media', 'quotedTweet', 'inReplyToUser', 'mentionedUsers', 'card' ]\n",
    "\n",
    "df.drop(columns=dropped_cols, inplace=True)"
   ]
  },
  {
   "cell_type": "code",
   "execution_count": 22,
   "metadata": {},
   "outputs": [
    {
     "name": "stdout",
     "output_type": "stream",
     "text": [
      "<class 'pandas.core.frame.DataFrame'>\n",
      "RangeIndex: 7034 entries, 0 to 7033\n",
      "Data columns (total 14 columns):\n",
      " #   Column           Non-Null Count  Dtype              \n",
      "---  ------           --------------  -----              \n",
      " 0   url              7034 non-null   object             \n",
      " 1   date             7034 non-null   datetime64[ns, UTC]\n",
      " 2   rawContent       7034 non-null   object             \n",
      " 3   renderedContent  7034 non-null   object             \n",
      " 4   user             7034 non-null   object             \n",
      " 5   replyCount       7034 non-null   int64              \n",
      " 6   retweetCount     7034 non-null   int64              \n",
      " 7   likeCount        7034 non-null   int64              \n",
      " 8   quoteCount       7034 non-null   int64              \n",
      " 9   coordinates      556 non-null    object             \n",
      " 10  place            556 non-null    object             \n",
      " 11  hashtags         6187 non-null   object             \n",
      " 12  filename         7034 non-null   object             \n",
      " 13  filepath         7034 non-null   object             \n",
      "dtypes: datetime64[ns, UTC](1), int64(4), object(9)\n",
      "memory usage: 769.5+ KB\n"
     ]
    }
   ],
   "source": [
    "df.info()"
   ]
  },
  {
   "cell_type": "code",
   "execution_count": 27,
   "metadata": {},
   "outputs": [],
   "source": [
    "user = list(df['user'])"
   ]
  },
  {
   "cell_type": "code",
   "execution_count": 28,
   "metadata": {},
   "outputs": [],
   "source": [
    "user_df = pd.json_normalize(user)"
   ]
  },
  {
   "cell_type": "code",
   "execution_count": 29,
   "metadata": {},
   "outputs": [],
   "source": [
    "user_df_dropped_cols = ['descriptionLinks', 'displayname', 'favouritesCount', 'id', 'label', 'listedCount', 'profileBannerUrl', 'profileImageUrl', 'protected', 'username', 'statusesCount', 'link.indices', 'link.tcourl', 'link.text', 'link.url', 'link']\n",
    "user_df.drop(user_df_dropped_cols, inplace=True, axis=1)"
   ]
  },
  {
   "cell_type": "code",
   "execution_count": 8,
   "metadata": {},
   "outputs": [],
   "source": [
    "df = pd.concat([df, user_df], axis=1)"
   ]
  },
  {
   "cell_type": "code",
   "execution_count": 9,
   "metadata": {},
   "outputs": [],
   "source": [
    "df.drop('user', inplace=True, axis=1)"
   ]
  },
  {
   "cell_type": "code",
   "execution_count": 10,
   "metadata": {},
   "outputs": [],
   "source": [
    "coordinates = list(df['coordinates'])"
   ]
  },
  {
   "cell_type": "code",
   "execution_count": 11,
   "metadata": {},
   "outputs": [],
   "source": [
    "coordinates_df = pd.json_normalize(coordinates)"
   ]
  },
  {
   "cell_type": "code",
   "execution_count": 12,
   "metadata": {},
   "outputs": [],
   "source": [
    "df = pd.concat([df, coordinates_df], axis=1)"
   ]
  },
  {
   "cell_type": "code",
   "execution_count": 13,
   "metadata": {},
   "outputs": [],
   "source": [
    "df.drop('coordinates', inplace=True, axis=1)"
   ]
  },
  {
   "cell_type": "code",
   "execution_count": 14,
   "metadata": {},
   "outputs": [],
   "source": [
    "place = list(df['place'])"
   ]
  },
  {
   "cell_type": "code",
   "execution_count": 15,
   "metadata": {},
   "outputs": [],
   "source": [
    "place_df = pd.json_normalize(place)"
   ]
  },
  {
   "cell_type": "code",
   "execution_count": 16,
   "metadata": {},
   "outputs": [],
   "source": [
    "place_df.drop('id', inplace=True, axis=1)"
   ]
  },
  {
   "cell_type": "code",
   "execution_count": 17,
   "metadata": {},
   "outputs": [],
   "source": [
    "df = pd.concat([df, place_df], axis=1)"
   ]
  },
  {
   "cell_type": "code",
   "execution_count": 18,
   "metadata": {},
   "outputs": [],
   "source": [
    "df.drop('place', inplace=True, axis=1)"
   ]
  },
  {
   "cell_type": "code",
   "execution_count": 19,
   "metadata": {},
   "outputs": [],
   "source": [
    "df.to_parquet(\"/Users/fahad/Desktop/preprocessed_data/processed_data7.parquet\")"
   ]
  }
 ],
 "metadata": {
  "kernelspec": {
   "display_name": ".venv",
   "language": "python",
   "name": "python3"
  },
  "language_info": {
   "codemirror_mode": {
    "name": "ipython",
    "version": 3
   },
   "file_extension": ".py",
   "mimetype": "text/x-python",
   "name": "python",
   "nbconvert_exporter": "python",
   "pygments_lexer": "ipython3",
   "version": "3.9.1"
  },
  "orig_nbformat": 4
 },
 "nbformat": 4,
 "nbformat_minor": 2
}
