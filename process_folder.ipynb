{
 "cells": [
  {
   "cell_type": "code",
   "execution_count": 1,
   "metadata": {},
   "outputs": [],
   "source": [
    "import os\n",
    "import pandas as pd\n",
    "from tqdm import tqdm"
   ]
  },
  {
   "cell_type": "code",
   "execution_count": 2,
   "metadata": {},
   "outputs": [],
   "source": [
    "def combine_parquet(folder_path, output_file_path, output_file_name):\n",
    "    \n",
    "    folder_name = os.path.basename(folder_path)\n",
    "\n",
    "    folder_info = []\n",
    "\n",
    "    # Get a list of all Parquet files in the folder\n",
    "    parquet_files = [file for file in os.listdir(folder_path) if file.endswith('.parquet')]\n",
    "\n",
    "    # Initialize an empty DataFrame to store the combined data\n",
    "    combined_data = pd.DataFrame()\n",
    "\n",
    "    # Iterate over each Parquet file\n",
    "    for file in tqdm(parquet_files):\n",
    "        file_path = os.path.join(folder_path, file)\n",
    "        \n",
    "        # Read the Parquet file into a DataFrame\n",
    "        df = pd.read_parquet(file_path)\n",
    "        \n",
    "        # Add a new column with the title of the file\n",
    "        df['filename'] = os.path.splitext(file)[0]\n",
    "        df['filepath'] = file_path\n",
    "        \n",
    "        # Concatenate the DataFrame to the combined data\n",
    "        combined_data = pd.concat([combined_data, df], ignore_index=True)\n",
    "\n",
    "    folder_info.append([folder_name, output_file_name, len(combined_data)])\n",
    "\n",
    "    # Write the combined data to a Parquet file\n",
    "    combined_data.to_parquet(os.path.join(output_file_path, output_file_name), index=False)\n",
    "\n",
    "    return folder_info"
   ]
  },
  {
   "cell_type": "code",
   "execution_count": 3,
   "metadata": {},
   "outputs": [],
   "source": [
    "# Define the folder path where the Parquet files are located\n",
    "folder_path = \"/Users/fahad/Desktop/data/Thesis data/data2\"\n",
    "\n",
    "# Define the output file path for the combined Parquet file\n",
    "output_file_path = '/Users/fahad/Desktop/processed_data'\n",
    "\n",
    "# Define the output file name for the combined Parquet file\n",
    "output_file_name = \"combined_data2.parquet\""
   ]
  },
  {
   "cell_type": "code",
   "execution_count": 4,
   "metadata": {},
   "outputs": [
    {
     "name": "stderr",
     "output_type": "stream",
     "text": [
      "100%|██████████| 24/24 [05:38<00:00, 14.09s/it]\n"
     ]
    },
    {
     "ename": "",
     "evalue": "",
     "output_type": "error",
     "traceback": [
      "\u001b[1;31mCanceled future for execute_request message before replies were done"
     ]
    },
    {
     "ename": "",
     "evalue": "",
     "output_type": "error",
     "traceback": [
      "\u001b[1;31mThe Kernel crashed while executing code in the the current cell or a previous cell. Please review the code in the cell(s) to identify a possible cause of the failure. Click <a href='https://aka.ms/vscodeJupyterKernelCrash'>here</a> for more info. View Jupyter <a href='command:jupyter.viewOutput'>log</a> for further details."
     ]
    }
   ],
   "source": [
    "folder_info = combine_parquet(folder_path, output_file_path, output_file_name)"
   ]
  },
  {
   "cell_type": "code",
   "execution_count": 5,
   "metadata": {},
   "outputs": [],
   "source": [
    "#folder_metadata = []"
   ]
  },
  {
   "cell_type": "code",
   "execution_count": 9,
   "metadata": {},
   "outputs": [],
   "source": [
    "folder_metadata.append(folder_info)"
   ]
  }
 ],
 "metadata": {
  "kernelspec": {
   "display_name": ".venv",
   "language": "python",
   "name": "python3"
  },
  "language_info": {
   "codemirror_mode": {
    "name": "ipython",
    "version": 3
   },
   "file_extension": ".py",
   "mimetype": "text/x-python",
   "name": "python",
   "nbconvert_exporter": "python",
   "pygments_lexer": "ipython3",
   "version": "3.9.1"
  },
  "orig_nbformat": 4
 },
 "nbformat": 4,
 "nbformat_minor": 2
}
