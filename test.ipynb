{
 "cells": [
  {
   "cell_type": "code",
   "execution_count": 1,
   "metadata": {},
   "outputs": [],
   "source": [
    "import pandas as pd\n",
    "import os\n",
    "import re\n",
    "import numpy as np"
   ]
  },
  {
   "attachments": {},
   "cell_type": "markdown",
   "metadata": {},
   "source": [
    "# Combining data"
   ]
  },
  {
   "cell_type": "code",
   "execution_count": 36,
   "metadata": {},
   "outputs": [],
   "source": [
    "df = pd.read_parquet(r\"C:\\Users\\fashaikh\\Desktop\\Thesis main\\selected_data\\selectedData23.parquet\")"
   ]
  },
  {
   "cell_type": "code",
   "execution_count": 37,
   "metadata": {},
   "outputs": [
    {
     "data": {
      "text/plain": [
       "Index(['date', 'rawContent', 'id', 'category'], dtype='object')"
      ]
     },
     "execution_count": 37,
     "metadata": {},
     "output_type": "execute_result"
    }
   ],
   "source": [
    "df.columns"
   ]
  },
  {
   "cell_type": "code",
   "execution_count": 27,
   "metadata": {},
   "outputs": [],
   "source": [
    "df.rename(columns={\"category_y\": \"category\"}, inplace=True)"
   ]
  },
  {
   "cell_type": "code",
   "execution_count": 29,
   "metadata": {},
   "outputs": [],
   "source": [
    "df.to_parquet(r\"C:\\Users\\fashaikh\\Desktop\\Thesis main\\selected_data\\selectedData30.parquet\")"
   ]
  },
  {
   "cell_type": "code",
   "execution_count": 6,
   "metadata": {},
   "outputs": [
    {
     "data": {
      "text/plain": [
       "Index(['url', 'date', 'rawContent', 'renderedContent', 'id', 'user',\n",
       "       'replyCount', 'retweetCount', 'likeCount', 'quoteCount',\n",
       "       'conversationId', 'lang', 'source', 'sourceUrl', 'sourceLabel', 'links',\n",
       "       'media', 'retweetedTweet', 'quotedTweet', 'inReplyToTweetId',\n",
       "       'inReplyToUser', 'mentionedUsers', 'coordinates', 'place', 'hashtags',\n",
       "       'cashtags', 'card', 'viewCount', 'vibe', 'bookmarkCount', 'filename',\n",
       "       'filepath'],\n",
       "      dtype='object')"
      ]
     },
     "execution_count": 6,
     "metadata": {},
     "output_type": "execute_result"
    }
   ],
   "source": [
    "df.columns"
   ]
  },
  {
   "cell_type": "code",
   "execution_count": 5,
   "metadata": {},
   "outputs": [
    {
     "data": {
      "text/plain": [
       "filepath\n",
       "/Users/fahad/Desktop/data/Thesis data/Top/BLM_2020-05-01_2020-06-01_top.parquet    94\n",
       "/Users/fahad/Desktop/data/Thesis data/Top/BLM_2020-07-01_2020-08-01_top.parquet    93\n",
       "/Users/fahad/Desktop/data/Thesis data/Top/BLM_2021-02-01_2021-03-01_top.parquet    92\n",
       "/Users/fahad/Desktop/data/Thesis data/Top/BLM_2021-03-01_2021-04-01_top.parquet    91\n",
       "/Users/fahad/Desktop/data/Thesis data/Top/BLM_2020-11-01_2020-12-01_top.parquet    90\n",
       "/Users/fahad/Desktop/data/Thesis data/Top/BLM_2020-08-01_2020-09-01_top.parquet    87\n",
       "/Users/fahad/Desktop/data/Thesis data/Top/BLM_2022-06-01_2022-07-01_top.parquet    86\n",
       "/Users/fahad/Desktop/data/Thesis data/Top/BLM_2021-10-01_2021-11-01_top.parquet    86\n",
       "/Users/fahad/Desktop/data/Thesis data/Top/BLM_2020-06-01_2020-07-01_top.parquet    86\n",
       "/Users/fahad/Desktop/data/Thesis data/Top/BLM_2022-11-01_2022-12-01_top.parquet    86\n",
       "/Users/fahad/Desktop/data/Thesis data/Top/BLM_2022-09-01_2022-10-01_top.parquet    86\n",
       "/Users/fahad/Desktop/data/Thesis data/Top/BLM_2022-05-01_2022-06-01_top.parquet    85\n",
       "/Users/fahad/Desktop/data/Thesis data/Top/BLM_2021-04-01_2021-05-01_top.parquet    85\n",
       "/Users/fahad/Desktop/data/Thesis data/Top/BLM_2022-08-01_2022-09-01_top.parquet    84\n",
       "/Users/fahad/Desktop/data/Thesis data/Top/BLM_2022-10-01_2022-11-01_top.parquet    84\n",
       "/Users/fahad/Desktop/data/Thesis data/Top/BLM_2020-10-01_2020-11-01_top.parquet    83\n",
       "/Users/fahad/Desktop/data/Thesis data/Top/BLM_2020-12-01_2021-01-01_top.parquet    83\n",
       "/Users/fahad/Desktop/data/Thesis data/Top/BLM_2022-01-01_2022-02-01_top.parquet    82\n",
       "/Users/fahad/Desktop/data/Thesis data/Top/BLM_2022-07-01_2022-08-01_top.parquet    82\n",
       "/Users/fahad/Desktop/data/Thesis data/Top/BLM_2021-08-01_2021-09-01_top.parquet    82\n",
       "/Users/fahad/Desktop/data/Thesis data/Top/BLM_2020-09-01_2020-10-01_top.parquet    81\n",
       "/Users/fahad/Desktop/data/Thesis data/Top/BLM_2021-06-01_2021-07-01_top.parquet    81\n",
       "/Users/fahad/Desktop/data/Thesis data/Top/BLM_2021-11-01_2021-12-01_top.parquet    81\n",
       "/Users/fahad/Desktop/data/Thesis data/Top/BLM_2022-03-01_2022-04-01_top.parquet    81\n",
       "/Users/fahad/Desktop/data/Thesis data/Top/BLM_2021-05-01_2021-06-01_top.parquet    80\n",
       "/Users/fahad/Desktop/data/Thesis data/Top/BLM_2021-09-01_2021-10-01_top.parquet    80\n",
       "/Users/fahad/Desktop/data/Thesis data/Top/BLM_2021-12-01_2022-01-01_top.parquet    78\n",
       "/Users/fahad/Desktop/data/Thesis data/Top/BLM_2022-04-01_2022-05-01_top.parquet    78\n",
       "/Users/fahad/Desktop/data/Thesis data/Top/BLM_2021-01-01_2021-02-01_top.parquet    76\n",
       "/Users/fahad/Desktop/data/Thesis data/Top/BLM_2022-12-01_2023-01-01_top.parquet    76\n",
       "/Users/fahad/Desktop/data/Thesis data/Top/BLM_2022-02-01_2022-03-01_top.parquet    72\n",
       "/Users/fahad/Desktop/data/Thesis data/Top/BLM_2021-07-01_2021-08-01_top.parquet    67\n",
       "Name: count, dtype: int64"
      ]
     },
     "execution_count": 5,
     "metadata": {},
     "output_type": "execute_result"
    }
   ],
   "source": [
    "df['filepath'].value_counts()"
   ]
  },
  {
   "cell_type": "code",
   "execution_count": 46,
   "metadata": {},
   "outputs": [],
   "source": [
    "df['category'] = df['FilePath'].apply(lambda x: os.path.basename(os.path.dirname(x)))"
   ]
  },
  {
   "cell_type": "code",
   "execution_count": 6,
   "metadata": {},
   "outputs": [],
   "source": [
    "df['category'] = df['FilePath'].apply(lambda path: path.split(\"/\")[6])"
   ]
  },
  {
   "cell_type": "code",
   "execution_count": 6,
   "metadata": {},
   "outputs": [],
   "source": [
    "df['category'] = \"Big Cities\""
   ]
  },
  {
   "cell_type": "code",
   "execution_count": 7,
   "metadata": {},
   "outputs": [
    {
     "data": {
      "text/plain": [
       "category\n",
       "Big Cities    2658\n",
       "Name: count, dtype: int64"
      ]
     },
     "execution_count": 7,
     "metadata": {},
     "output_type": "execute_result"
    }
   ],
   "source": [
    "df['category'].value_counts()"
   ]
  },
  {
   "cell_type": "code",
   "execution_count": 8,
   "metadata": {},
   "outputs": [
    {
     "data": {
      "text/plain": [
       "0"
      ]
     },
     "execution_count": 8,
     "metadata": {},
     "output_type": "execute_result"
    }
   ],
   "source": [
    "df['category'].isna().sum()"
   ]
  },
  {
   "cell_type": "code",
   "execution_count": 8,
   "metadata": {},
   "outputs": [],
   "source": [
    "df = df[[\"date\", \"rawContent\", \"id\", \"category\"]]"
   ]
  },
  {
   "cell_type": "code",
   "execution_count": 34,
   "metadata": {},
   "outputs": [],
   "source": [
    "df['category'] = df['category'].apply(lambda value: re.search(r'BLM_(.*?)_\\d{4}-\\d{2}-\\d{2}_\\d{4}-\\d{2}-\\d{2}\\.parquet', value).group(1))"
   ]
  },
  {
   "cell_type": "code",
   "execution_count": 7,
   "metadata": {},
   "outputs": [],
   "source": [
    "df['category'] = df['filename'].str.extract(r'BLM_(.*?)_\\d{4}-\\d{2}-\\d{2}_\\d{4}-\\d{2}-\\d{2}')"
   ]
  },
  {
   "cell_type": "code",
   "execution_count": 8,
   "metadata": {},
   "outputs": [],
   "source": [
    "df['category'] = df['category'].str.replace('County_', '')"
   ]
  },
  {
   "cell_type": "code",
   "execution_count": 22,
   "metadata": {},
   "outputs": [],
   "source": [
    "df['category'] = df['filename'].str.replace('BLM_', '')"
   ]
  },
  {
   "cell_type": "code",
   "execution_count": 48,
   "metadata": {},
   "outputs": [],
   "source": [
    "county_df = pd.read_csv('County-Type-Share.csv')\n",
    "county_df.drop(columns=['county_cleaned', 'county_state', 'State', 'Type Number', 'FIPS', 'Type Number2', 'Key', 'New Names' ], inplace=True)\n",
    "new_df = df.merge(county_df, how='left', left_on='category', right_on='County')"
   ]
  },
  {
   "cell_type": "code",
   "execution_count": 49,
   "metadata": {},
   "outputs": [
    {
     "data": {
      "text/plain": [
       "category_y\n",
       "Graying America           791185\n",
       "Rural Middle America      252249\n",
       "Evangelical Hubs          216134\n",
       "College Towns             140069\n",
       "Hispanic Centers           68057\n",
       "Exurbs                     66065\n",
       "Middle Suburbs             48035\n",
       "Urban Suburbs              38060\n",
       "Working Class Country      33093\n",
       "Big Cities                 30042\n",
       "African American South     26094\n",
       "Aging Farmlands             8056\n",
       "Military Posts              4025\n",
       "LDS Enclaves                  18\n",
       "Native American Lands          9\n",
       "Name: count, dtype: int64"
      ]
     },
     "execution_count": 49,
     "metadata": {},
     "output_type": "execute_result"
    }
   ],
   "source": [
    "new_df['category_y'].value_counts()"
   ]
  },
  {
   "cell_type": "code",
   "execution_count": 50,
   "metadata": {},
   "outputs": [
    {
     "data": {
      "text/plain": [
       "0"
      ]
     },
     "execution_count": 50,
     "metadata": {},
     "output_type": "execute_result"
    }
   ],
   "source": [
    "new_df['category_y'].isna().sum()"
   ]
  },
  {
   "cell_type": "code",
   "execution_count": 12,
   "metadata": {},
   "outputs": [],
   "source": [
    "new_df['category_y'].fillna('Big Cities', inplace=True)"
   ]
  },
  {
   "cell_type": "code",
   "execution_count": 51,
   "metadata": {},
   "outputs": [],
   "source": [
    "df = new_df[[\"date\", \"rawContent\", \"id\", \"category_y\"]]"
   ]
  },
  {
   "cell_type": "code",
   "execution_count": 10,
   "metadata": {},
   "outputs": [],
   "source": [
    "df.to_parquet(r\"C:\\Users\\fashaikh\\Desktop\\Thesis main\\selected_data\\selectedData32.parquet\")"
   ]
  },
  {
   "attachments": {},
   "cell_type": "markdown",
   "metadata": {},
   "source": [
    "# Cleaning Data"
   ]
  },
  {
   "cell_type": "code",
   "execution_count": 2,
   "metadata": {},
   "outputs": [],
   "source": [
    "df = pd.read_parquet(r'C:\\Users\\fashaikh\\Desktop\\Thesis main\\combined_data.parquet')"
   ]
  },
  {
   "cell_type": "code",
   "execution_count": 3,
   "metadata": {},
   "outputs": [
    {
     "data": {
      "text/html": [
       "<div>\n",
       "<style scoped>\n",
       "    .dataframe tbody tr th:only-of-type {\n",
       "        vertical-align: middle;\n",
       "    }\n",
       "\n",
       "    .dataframe tbody tr th {\n",
       "        vertical-align: top;\n",
       "    }\n",
       "\n",
       "    .dataframe thead th {\n",
       "        text-align: right;\n",
       "    }\n",
       "</style>\n",
       "<table border=\"1\" class=\"dataframe\">\n",
       "  <thead>\n",
       "    <tr style=\"text-align: right;\">\n",
       "      <th></th>\n",
       "      <th>date</th>\n",
       "      <th>rawContent</th>\n",
       "      <th>id</th>\n",
       "      <th>category</th>\n",
       "    </tr>\n",
       "  </thead>\n",
       "  <tbody>\n",
       "    <tr>\n",
       "      <th>0</th>\n",
       "      <td>2022-12-30 19:13:04+00:00</td>\n",
       "      <td>@ohmybeautybank skintype : combi to dry, oily ...</td>\n",
       "      <td>1608904017383653377</td>\n",
       "      <td>African American South</td>\n",
       "    </tr>\n",
       "    <tr>\n",
       "      <th>1</th>\n",
       "      <td>2022-12-30 13:17:11+00:00</td>\n",
       "      <td>Really sitting with these inquiry questions th...</td>\n",
       "      <td>1608814457924513792</td>\n",
       "      <td>African American South</td>\n",
       "    </tr>\n",
       "    <tr>\n",
       "      <th>2</th>\n",
       "      <td>2022-12-30 02:40:41+00:00</td>\n",
       "      <td>@IanVRowe Narrative feeds Democrats propaganda...</td>\n",
       "      <td>1608654278281023488</td>\n",
       "      <td>African American South</td>\n",
       "    </tr>\n",
       "    <tr>\n",
       "      <th>3</th>\n",
       "      <td>2022-12-30 02:32:16+00:00</td>\n",
       "      <td>@Jack_Royston @cbouzy \"Criticized\". Ms. Weiss ...</td>\n",
       "      <td>1608652157020147712</td>\n",
       "      <td>African American South</td>\n",
       "    </tr>\n",
       "    <tr>\n",
       "      <th>4</th>\n",
       "      <td>2022-12-30 01:28:06+00:00</td>\n",
       "      <td>@RepMTG LIAR!!! PROPAGANDA!!! Only domestic te...</td>\n",
       "      <td>1608636011390840832</td>\n",
       "      <td>African American South</td>\n",
       "    </tr>\n",
       "  </tbody>\n",
       "</table>\n",
       "</div>"
      ],
      "text/plain": [
       "                       date   \n",
       "0 2022-12-30 19:13:04+00:00  \\\n",
       "1 2022-12-30 13:17:11+00:00   \n",
       "2 2022-12-30 02:40:41+00:00   \n",
       "3 2022-12-30 02:32:16+00:00   \n",
       "4 2022-12-30 01:28:06+00:00   \n",
       "\n",
       "                                          rawContent                   id   \n",
       "0  @ohmybeautybank skintype : combi to dry, oily ...  1608904017383653377  \\\n",
       "1  Really sitting with these inquiry questions th...  1608814457924513792   \n",
       "2  @IanVRowe Narrative feeds Democrats propaganda...  1608654278281023488   \n",
       "3  @Jack_Royston @cbouzy \"Criticized\". Ms. Weiss ...  1608652157020147712   \n",
       "4  @RepMTG LIAR!!! PROPAGANDA!!! Only domestic te...  1608636011390840832   \n",
       "\n",
       "                 category  \n",
       "0  African American South  \n",
       "1  African American South  \n",
       "2  African American South  \n",
       "3  African American South  \n",
       "4  African American South  "
      ]
     },
     "execution_count": 3,
     "metadata": {},
     "output_type": "execute_result"
    }
   ],
   "source": [
    "df.head()"
   ]
  },
  {
   "cell_type": "code",
   "execution_count": 9,
   "metadata": {},
   "outputs": [
    {
     "data": {
      "text/plain": [
       "category\n",
       "Big Cities                6942499\n",
       "Graying America           4731866\n",
       "Rural Middle America      1557254\n",
       "Exurbs                    1341199\n",
       "Evangelical Hubs          1019493\n",
       "College Towns              939110\n",
       "Middle Suburbs             299360\n",
       "Hispanic Centers           299139\n",
       "Urban Suburbs              249073\n",
       "Working Class Country      168364\n",
       "African American South      96221\n",
       "Aging Farmlands             68476\n",
       "Military Posts              24460\n",
       "Native American Lands       11830\n",
       "LDS Enclaves                 6899\n",
       "Name: count, dtype: int64"
      ]
     },
     "execution_count": 9,
     "metadata": {},
     "output_type": "execute_result"
    }
   ],
   "source": [
    "df['category'].value_counts()"
   ]
  },
  {
   "cell_type": "code",
   "execution_count": 6,
   "metadata": {},
   "outputs": [
    {
     "name": "stderr",
     "output_type": "stream",
     "text": [
      "C:\\Users\\fashaikh\\AppData\\Local\\Temp\\ipykernel_15756\\4288224649.py:1: SettingWithCopyWarning: \n",
      "A value is trying to be set on a copy of a slice from a DataFrame\n",
      "\n",
      "See the caveats in the documentation: https://pandas.pydata.org/pandas-docs/stable/user_guide/indexing.html#returning-a-view-versus-a-copy\n",
      "  df[df['date'] >= '2022-12-01'].drop_duplicates('id', inplace=True)\n"
     ]
    }
   ],
   "source": [
    "df[df['date'] >= '2022-12-01'].drop_duplicates('id', inplace=True)"
   ]
  },
  {
   "cell_type": "code",
   "execution_count": 7,
   "metadata": {},
   "outputs": [],
   "source": [
    "filtered_df = df[df['date'] >= '2022-12-01']"
   ]
  },
  {
   "cell_type": "code",
   "execution_count": 8,
   "metadata": {},
   "outputs": [
    {
     "name": "stderr",
     "output_type": "stream",
     "text": [
      "C:\\Users\\fashaikh\\AppData\\Local\\Temp\\ipykernel_15756\\3313486687.py:1: SettingWithCopyWarning: \n",
      "A value is trying to be set on a copy of a slice from a DataFrame\n",
      "\n",
      "See the caveats in the documentation: https://pandas.pydata.org/pandas-docs/stable/user_guide/indexing.html#returning-a-view-versus-a-copy\n",
      "  filtered_df.drop_duplicates('id', inplace=True)\n"
     ]
    }
   ],
   "source": [
    "filtered_df.drop_duplicates('id', inplace=True)"
   ]
  },
  {
   "cell_type": "code",
   "execution_count": 9,
   "metadata": {},
   "outputs": [],
   "source": [
    "df = df[df['date'] < '2022-12-01']"
   ]
  },
  {
   "cell_type": "code",
   "execution_count": 10,
   "metadata": {},
   "outputs": [],
   "source": [
    "df = pd.concat([df,filtered_df])"
   ]
  },
  {
   "cell_type": "code",
   "execution_count": null,
   "metadata": {},
   "outputs": [],
   "source": [
    "df.to_parquet(r'C:\\Users\\fashaikh\\Desktop\\Thesis main\\combined_data.parquet')"
   ]
  },
  {
   "attachments": {},
   "cell_type": "markdown",
   "metadata": {},
   "source": [
    "# Partition Data"
   ]
  },
  {
   "cell_type": "code",
   "execution_count": 2,
   "metadata": {},
   "outputs": [],
   "source": [
    "df = pd.read_parquet(r'C:\\Users\\fashaikh\\Desktop\\Thesis main\\cleaned_data_emotion.parquet')"
   ]
  },
  {
   "cell_type": "code",
   "execution_count": 4,
   "metadata": {},
   "outputs": [],
   "source": [
    "df.to_parquet(r'C:\\Users\\fashaikh\\Desktop\\Thesis main\\partitioned_data', partition_cols='category')"
   ]
  },
  {
   "attachments": {},
   "cell_type": "markdown",
   "metadata": {},
   "source": [
    "# Fine-tuning Sentiment"
   ]
  },
  {
   "cell_type": "code",
   "execution_count": 1,
   "metadata": {},
   "outputs": [
    {
     "name": "stderr",
     "output_type": "stream",
     "text": [
      "c:\\Users\\fashaikh\\Desktop\\Thesis main\\thesis\\.venv\\lib\\site-packages\\tqdm\\auto.py:21: TqdmWarning: IProgress not found. Please update jupyter and ipywidgets. See https://ipywidgets.readthedocs.io/en/stable/user_install.html\n",
      "  from .autonotebook import tqdm as notebook_tqdm\n",
      "2023-06-11 15:29:41 WARNING  Found cached dataset tweet_eval (C:/Users/fashaikh/.cache/huggingface/datasets/tweet_eval/sentiment/1.1.0/12aee5282b8784f3e95459466db4cdf45c6bf49719c25cdb0743d71ed0410343)\n",
      "100%|██████████| 3/3 [00:00<00:00, 750.01it/s]\n",
      "2023-06-11 15:29:41 INFO     TrainerTextClassification: cardiffnlp/twitter-roberta-base-sentiment-latest, DatasetDict({\n",
      "    train: Dataset({\n",
      "        features: ['text', 'label'],\n",
      "        num_rows: 45615\n",
      "    })\n",
      "    test: Dataset({\n",
      "        features: ['text', 'label'],\n",
      "        num_rows: 12284\n",
      "    })\n",
      "    validation: Dataset({\n",
      "        features: ['text', 'label'],\n",
      "        num_rows: 2000\n",
      "    })\n",
      "})\n",
      "Some weights of the model checkpoint at cardiffnlp/twitter-roberta-base-sentiment-latest were not used when initializing RobertaForSequenceClassification: ['roberta.pooler.dense.weight', 'roberta.pooler.dense.bias']\n",
      "- This IS expected if you are initializing RobertaForSequenceClassification from the checkpoint of a model trained on another task or with another architecture (e.g. initializing a BertForSequenceClassification model from a BertForPreTraining model).\n",
      "- This IS NOT expected if you are initializing RobertaForSequenceClassification from the checkpoint of a model that you expect to be exactly identical (initializing a BertForSequenceClassification model from a BertForSequenceClassification model).\n",
      "2023-06-11 15:29:46 WARNING  Loading cached processed dataset at C:\\Users\\fashaikh\\.cache\\huggingface\\datasets\\tweet_eval\\sentiment\\1.1.0\\12aee5282b8784f3e95459466db4cdf45c6bf49719c25cdb0743d71ed0410343\\cache-79ea2d3ce58ce655.arrow\n",
      "2023-06-11 15:29:47 WARNING  Loading cached processed dataset at C:\\Users\\fashaikh\\.cache\\huggingface\\datasets\\tweet_eval\\sentiment\\1.1.0\\12aee5282b8784f3e95459466db4cdf45c6bf49719c25cdb0743d71ed0410343\\cache-66a2234ecbd1eab7.arrow\n",
      "2023-06-11 15:29:49 WARNING  Loading cached processed dataset at C:\\Users\\fashaikh\\.cache\\huggingface\\datasets\\tweet_eval\\sentiment\\1.1.0\\12aee5282b8784f3e95459466db4cdf45c6bf49719c25cdb0743d71ed0410343\\cache-d566b1b47e5022a0.arrow\n",
      "c:\\Users\\fashaikh\\Desktop\\Thesis main\\thesis\\.venv\\lib\\site-packages\\tweetnlp\\text_classification\\trainer.py:94: FutureWarning: load_metric is deprecated and will be removed in the next major version of datasets. Use 'evaluate.load' instead, from the new library 🤗 Evaluate: https://huggingface.co/docs/evaluate\n",
      "  metric_accuracy = load_metric(\"accuracy\")\n"
     ]
    }
   ],
   "source": [
    "import logging\n",
    "import tweetnlp\n",
    "from pprint import pprint\n",
    "\n",
    "logging.basicConfig(format='%(asctime)s %(levelname)-8s %(message)s', level=logging.INFO, datefmt='%Y-%m-%d %H:%M:%S')\n",
    "\n",
    "# set language model and task\n",
    "language_model = f\"cardiffnlp/twitter-roberta-base-sentiment-latest\"\n",
    "task = \"sentiment\"\n",
    "\n",
    "# load dataset\n",
    "dataset, label_to_id = tweetnlp.load_dataset(task)\n",
    "\n",
    "# load trainer\n",
    "trainer_class = tweetnlp.load_trainer(task)\n",
    "\n",
    "# define trainer\n",
    "trainer = trainer_class(\n",
    "    language_model=language_model,\n",
    "    dataset=dataset,\n",
    "    label_to_id=label_to_id,\n",
    "    max_length=128,\n",
    "    split_train='train',\n",
    "    split_test='test',\n",
    "    output_dir=r'C:\\Users\\fashaikh\\Desktop\\Thesis main'\n",
    ")\n"
   ]
  },
  {
   "cell_type": "code",
   "execution_count": 2,
   "metadata": {},
   "outputs": [
    {
     "name": "stderr",
     "output_type": "stream",
     "text": [
      "2023-06-11 15:29:53 WARNING  Loading cached shuffled indices for dataset at C:\\Users\\fashaikh\\.cache\\huggingface\\datasets\\tweet_eval\\sentiment\\1.1.0\\12aee5282b8784f3e95459466db4cdf45c6bf49719c25cdb0743d71ed0410343\\cache-25e4fe137f6cca7c.arrow\n",
      "2023-06-11 15:29:53 WARNING  setup trainer without hyperparameter tuning. (provide `split_validation` for hyperparameter search)\n",
      "The following columns in the training set don't have a corresponding argument in `RobertaForSequenceClassification.forward` and have been ignored: text. If text are not expected by `RobertaForSequenceClassification.forward`,  you can safely ignore this message.\n",
      "c:\\Users\\fashaikh\\Desktop\\Thesis main\\thesis\\.venv\\lib\\site-packages\\transformers\\optimization.py:306: FutureWarning: This implementation of AdamW is deprecated and will be removed in a future version. Use the PyTorch implementation torch.optim.AdamW instead, or set `no_deprecation_warning=True` to disable this warning\n",
      "  warnings.warn(\n",
      "***** Running training *****\n",
      "  Num examples = 45615\n",
      "  Num Epochs = 3\n",
      "  Instantaneous batch size per device = 8\n",
      "  Total train batch size (w. parallel, distributed & accumulation) = 8\n",
      "  Gradient Accumulation steps = 1\n",
      "  Total optimization steps = 17106\n",
      "  0%|          | 26/17106 [00:10<1:40:53,  2.82it/s]"
     ]
    },
    {
     "ename": "KeyboardInterrupt",
     "evalue": "",
     "output_type": "error",
     "traceback": [
      "\u001b[1;31m---------------------------------------------------------------------------\u001b[0m",
      "\u001b[1;31mKeyboardInterrupt\u001b[0m                         Traceback (most recent call last)",
      "Cell \u001b[1;32mIn[2], line 2\u001b[0m\n\u001b[0;32m      1\u001b[0m \u001b[39m# train\u001b[39;00m\n\u001b[1;32m----> 2\u001b[0m trainer\u001b[39m.\u001b[39;49mtrain(down_sample_size_train\u001b[39m=\u001b[39;49m\u001b[39m1000\u001b[39;49m, ray_result_dir\u001b[39m=\u001b[39;49m\u001b[39m\"\u001b[39;49m\u001b[39mray_results/test\u001b[39;49m\u001b[39m\"\u001b[39;49m, parallel_cpu\u001b[39m=\u001b[39;49m\u001b[39mTrue\u001b[39;49;00m)\n\u001b[0;32m      4\u001b[0m \u001b[39m# save model checkpoint\u001b[39;00m\n\u001b[0;32m      5\u001b[0m trainer\u001b[39m.\u001b[39msave_model()\n",
      "File \u001b[1;32mc:\\Users\\fashaikh\\Desktop\\Thesis main\\thesis\\.venv\\lib\\site-packages\\tweetnlp\\text_classification\\trainer.py:228\u001b[0m, in \u001b[0;36mTrainerTextClassification.train\u001b[1;34m(self, output_dir, random_seed, eval_step, n_trials, split_train, split_validation, parallel_cpu, search_range_lr, search_range_epoch, search_list_batch, ray_result_dir, down_sample_size_train, down_sample_size_validation, training_arguments)\u001b[0m\n\u001b[0;32m    226\u001b[0m     \u001b[39msetattr\u001b[39m(\u001b[39mself\u001b[39m\u001b[39m.\u001b[39mtrainer, \u001b[39m\"\u001b[39m\u001b[39mtrain_dataset\u001b[39m\u001b[39m\"\u001b[39m, full_train_dataset)\n\u001b[0;32m    227\u001b[0m     \u001b[39msetattr\u001b[39m(\u001b[39mself\u001b[39m\u001b[39m.\u001b[39mtrainer\u001b[39m.\u001b[39margs, \u001b[39m\"\u001b[39m\u001b[39mevaluation_strategy\u001b[39m\u001b[39m\"\u001b[39m, \u001b[39m'\u001b[39m\u001b[39mno\u001b[39m\u001b[39m'\u001b[39m)\n\u001b[1;32m--> 228\u001b[0m \u001b[39mself\u001b[39;49m\u001b[39m.\u001b[39;49mtrainer\u001b[39m.\u001b[39;49mtrain()\n\u001b[0;32m    229\u001b[0m logging\u001b[39m.\u001b[39minfo(\u001b[39m'\u001b[39m\u001b[39mtraining finished\u001b[39m\u001b[39m'\u001b[39m)\n\u001b[0;32m    230\u001b[0m \u001b[39mself\u001b[39m\u001b[39m.\u001b[39mmodel \u001b[39m=\u001b[39m \u001b[39mself\u001b[39m\u001b[39m.\u001b[39mtrainer\u001b[39m.\u001b[39mmodel\n",
      "File \u001b[1;32mc:\\Users\\fashaikh\\Desktop\\Thesis main\\thesis\\.venv\\lib\\site-packages\\transformers\\trainer.py:1498\u001b[0m, in \u001b[0;36mTrainer.train\u001b[1;34m(self, resume_from_checkpoint, trial, ignore_keys_for_eval, **kwargs)\u001b[0m\n\u001b[0;32m   1493\u001b[0m     \u001b[39mself\u001b[39m\u001b[39m.\u001b[39mmodel_wrapped \u001b[39m=\u001b[39m \u001b[39mself\u001b[39m\u001b[39m.\u001b[39mmodel\n\u001b[0;32m   1495\u001b[0m inner_training_loop \u001b[39m=\u001b[39m find_executable_batch_size(\n\u001b[0;32m   1496\u001b[0m     \u001b[39mself\u001b[39m\u001b[39m.\u001b[39m_inner_training_loop, \u001b[39mself\u001b[39m\u001b[39m.\u001b[39m_train_batch_size, args\u001b[39m.\u001b[39mauto_find_batch_size\n\u001b[0;32m   1497\u001b[0m )\n\u001b[1;32m-> 1498\u001b[0m \u001b[39mreturn\u001b[39;00m inner_training_loop(\n\u001b[0;32m   1499\u001b[0m     args\u001b[39m=\u001b[39;49margs,\n\u001b[0;32m   1500\u001b[0m     resume_from_checkpoint\u001b[39m=\u001b[39;49mresume_from_checkpoint,\n\u001b[0;32m   1501\u001b[0m     trial\u001b[39m=\u001b[39;49mtrial,\n\u001b[0;32m   1502\u001b[0m     ignore_keys_for_eval\u001b[39m=\u001b[39;49mignore_keys_for_eval,\n\u001b[0;32m   1503\u001b[0m )\n",
      "File \u001b[1;32mc:\\Users\\fashaikh\\Desktop\\Thesis main\\thesis\\.venv\\lib\\site-packages\\transformers\\trainer.py:1745\u001b[0m, in \u001b[0;36mTrainer._inner_training_loop\u001b[1;34m(self, batch_size, args, resume_from_checkpoint, trial, ignore_keys_for_eval)\u001b[0m\n\u001b[0;32m   1739\u001b[0m \u001b[39melse\u001b[39;00m:\n\u001b[0;32m   1740\u001b[0m     tr_loss_step \u001b[39m=\u001b[39m \u001b[39mself\u001b[39m\u001b[39m.\u001b[39mtraining_step(model, inputs)\n\u001b[0;32m   1742\u001b[0m \u001b[39mif\u001b[39;00m (\n\u001b[0;32m   1743\u001b[0m     args\u001b[39m.\u001b[39mlogging_nan_inf_filter\n\u001b[0;32m   1744\u001b[0m     \u001b[39mand\u001b[39;00m \u001b[39mnot\u001b[39;00m is_torch_tpu_available()\n\u001b[1;32m-> 1745\u001b[0m     \u001b[39mand\u001b[39;00m (torch\u001b[39m.\u001b[39misnan(tr_loss_step) \u001b[39mor\u001b[39;00m torch\u001b[39m.\u001b[39;49misinf(tr_loss_step))\n\u001b[0;32m   1746\u001b[0m ):\n\u001b[0;32m   1747\u001b[0m     \u001b[39m# if loss is nan or inf simply add the average of previous logged losses\u001b[39;00m\n\u001b[0;32m   1748\u001b[0m     tr_loss \u001b[39m+\u001b[39m\u001b[39m=\u001b[39m tr_loss \u001b[39m/\u001b[39m (\u001b[39m1\u001b[39m \u001b[39m+\u001b[39m \u001b[39mself\u001b[39m\u001b[39m.\u001b[39mstate\u001b[39m.\u001b[39mglobal_step \u001b[39m-\u001b[39m \u001b[39mself\u001b[39m\u001b[39m.\u001b[39m_globalstep_last_logged)\n\u001b[0;32m   1749\u001b[0m \u001b[39melse\u001b[39;00m:\n",
      "\u001b[1;31mKeyboardInterrupt\u001b[0m: "
     ]
    }
   ],
   "source": [
    "# train\n",
    "trainer.train(down_sample_size_train=1000, ray_result_dir=\"ray_results/test\", parallel_cpu=True)\n",
    "\n",
    "# save model checkpoint\n",
    "trainer.save_model()"
   ]
  },
  {
   "cell_type": "code",
   "execution_count": null,
   "metadata": {},
   "outputs": [],
   "source": [
    "# run prediction\n",
    "trainer.predict('If you wanna look like a badass, have drama on social media')"
   ]
  },
  {
   "cell_type": "code",
   "execution_count": 2,
   "metadata": {},
   "outputs": [],
   "source": [
    "df = pd.read_parquet(r'C:\\Users\\fashaikh\\Desktop\\Thesis main\\emotion_results\\LDSEnclaves_emotion.parquet')"
   ]
  },
  {
   "cell_type": "code",
   "execution_count": 3,
   "metadata": {},
   "outputs": [
    {
     "data": {
      "text/html": [
       "<div>\n",
       "<style scoped>\n",
       "    .dataframe tbody tr th:only-of-type {\n",
       "        vertical-align: middle;\n",
       "    }\n",
       "\n",
       "    .dataframe tbody tr th {\n",
       "        vertical-align: top;\n",
       "    }\n",
       "\n",
       "    .dataframe thead th {\n",
       "        text-align: right;\n",
       "    }\n",
       "</style>\n",
       "<table border=\"1\" class=\"dataframe\">\n",
       "  <thead>\n",
       "    <tr style=\"text-align: right;\">\n",
       "      <th></th>\n",
       "      <th>date</th>\n",
       "      <th>id</th>\n",
       "      <th>cleanedContent</th>\n",
       "      <th>label</th>\n",
       "      <th>probability.anger</th>\n",
       "      <th>probability.anticipation</th>\n",
       "      <th>probability.disgust</th>\n",
       "      <th>probability.fear</th>\n",
       "      <th>probability.joy</th>\n",
       "      <th>probability.love</th>\n",
       "      <th>probability.optimism</th>\n",
       "      <th>probability.pessimism</th>\n",
       "      <th>probability.sadness</th>\n",
       "      <th>probability.surprise</th>\n",
       "      <th>probability.trust</th>\n",
       "    </tr>\n",
       "  </thead>\n",
       "  <tbody>\n",
       "    <tr>\n",
       "      <th>0</th>\n",
       "      <td>2020-05-01 07:12:14+00:00</td>\n",
       "      <td>1256119219990626305</td>\n",
       "      <td>@user WY isn't WY without wild horses. Stop BL...</td>\n",
       "      <td>anger</td>\n",
       "      <td>0.473839</td>\n",
       "      <td>0.052323</td>\n",
       "      <td>0.388494</td>\n",
       "      <td>0.025329</td>\n",
       "      <td>0.009346</td>\n",
       "      <td>0.000815</td>\n",
       "      <td>0.021053</td>\n",
       "      <td>0.009066</td>\n",
       "      <td>0.010938</td>\n",
       "      <td>0.005183</td>\n",
       "      <td>0.003613</td>\n",
       "    </tr>\n",
       "    <tr>\n",
       "      <th>1</th>\n",
       "      <td>2020-05-01 07:12:48+00:00</td>\n",
       "      <td>1256119363205128192</td>\n",
       "      <td>@user BLM must abandon plan to eradicate 40% o...</td>\n",
       "      <td>anticipation</td>\n",
       "      <td>0.148803</td>\n",
       "      <td>0.322108</td>\n",
       "      <td>0.124264</td>\n",
       "      <td>0.013845</td>\n",
       "      <td>0.025416</td>\n",
       "      <td>0.001834</td>\n",
       "      <td>0.294473</td>\n",
       "      <td>0.019674</td>\n",
       "      <td>0.013567</td>\n",
       "      <td>0.010044</td>\n",
       "      <td>0.025972</td>\n",
       "    </tr>\n",
       "    <tr>\n",
       "      <th>2</th>\n",
       "      <td>2020-05-01 12:20:34+00:00</td>\n",
       "      <td>1256196815340343296</td>\n",
       "      <td>@user @user @user @user @user - as your consti...</td>\n",
       "      <td>anger</td>\n",
       "      <td>0.785090</td>\n",
       "      <td>0.000765</td>\n",
       "      <td>0.209164</td>\n",
       "      <td>0.001733</td>\n",
       "      <td>0.000199</td>\n",
       "      <td>0.000082</td>\n",
       "      <td>0.000520</td>\n",
       "      <td>0.000749</td>\n",
       "      <td>0.001346</td>\n",
       "      <td>0.000193</td>\n",
       "      <td>0.000159</td>\n",
       "    </tr>\n",
       "    <tr>\n",
       "      <th>3</th>\n",
       "      <td>2020-05-01 14:46:36+00:00</td>\n",
       "      <td>1256233565592977413</td>\n",
       "      <td>@user BLM must abandon plan to eradicate 40% o...</td>\n",
       "      <td>anticipation</td>\n",
       "      <td>0.148803</td>\n",
       "      <td>0.322108</td>\n",
       "      <td>0.124264</td>\n",
       "      <td>0.013845</td>\n",
       "      <td>0.025416</td>\n",
       "      <td>0.001834</td>\n",
       "      <td>0.294473</td>\n",
       "      <td>0.019674</td>\n",
       "      <td>0.013567</td>\n",
       "      <td>0.010044</td>\n",
       "      <td>0.025972</td>\n",
       "    </tr>\n",
       "    <tr>\n",
       "      <th>4</th>\n",
       "      <td>2020-05-01 14:46:52+00:00</td>\n",
       "      <td>1256233631682568193</td>\n",
       "      <td>@user BLM must abandon plan to eradicate 40% o...</td>\n",
       "      <td>anticipation</td>\n",
       "      <td>0.148803</td>\n",
       "      <td>0.322108</td>\n",
       "      <td>0.124264</td>\n",
       "      <td>0.013845</td>\n",
       "      <td>0.025416</td>\n",
       "      <td>0.001834</td>\n",
       "      <td>0.294473</td>\n",
       "      <td>0.019674</td>\n",
       "      <td>0.013567</td>\n",
       "      <td>0.010044</td>\n",
       "      <td>0.025972</td>\n",
       "    </tr>\n",
       "  </tbody>\n",
       "</table>\n",
       "</div>"
      ],
      "text/plain": [
       "                       date                   id   \n",
       "0 2020-05-01 07:12:14+00:00  1256119219990626305  \\\n",
       "1 2020-05-01 07:12:48+00:00  1256119363205128192   \n",
       "2 2020-05-01 12:20:34+00:00  1256196815340343296   \n",
       "3 2020-05-01 14:46:36+00:00  1256233565592977413   \n",
       "4 2020-05-01 14:46:52+00:00  1256233631682568193   \n",
       "\n",
       "                                      cleanedContent         label   \n",
       "0  @user WY isn't WY without wild horses. Stop BL...         anger  \\\n",
       "1  @user BLM must abandon plan to eradicate 40% o...  anticipation   \n",
       "2  @user @user @user @user @user - as your consti...         anger   \n",
       "3  @user BLM must abandon plan to eradicate 40% o...  anticipation   \n",
       "4  @user BLM must abandon plan to eradicate 40% o...  anticipation   \n",
       "\n",
       "   probability.anger  probability.anticipation  probability.disgust   \n",
       "0           0.473839                  0.052323             0.388494  \\\n",
       "1           0.148803                  0.322108             0.124264   \n",
       "2           0.785090                  0.000765             0.209164   \n",
       "3           0.148803                  0.322108             0.124264   \n",
       "4           0.148803                  0.322108             0.124264   \n",
       "\n",
       "   probability.fear  probability.joy  probability.love  probability.optimism   \n",
       "0          0.025329         0.009346          0.000815              0.021053  \\\n",
       "1          0.013845         0.025416          0.001834              0.294473   \n",
       "2          0.001733         0.000199          0.000082              0.000520   \n",
       "3          0.013845         0.025416          0.001834              0.294473   \n",
       "4          0.013845         0.025416          0.001834              0.294473   \n",
       "\n",
       "   probability.pessimism  probability.sadness  probability.surprise   \n",
       "0               0.009066             0.010938              0.005183  \\\n",
       "1               0.019674             0.013567              0.010044   \n",
       "2               0.000749             0.001346              0.000193   \n",
       "3               0.019674             0.013567              0.010044   \n",
       "4               0.019674             0.013567              0.010044   \n",
       "\n",
       "   probability.trust  \n",
       "0           0.003613  \n",
       "1           0.025972  \n",
       "2           0.000159  \n",
       "3           0.025972  \n",
       "4           0.025972  "
      ]
     },
     "execution_count": 3,
     "metadata": {},
     "output_type": "execute_result"
    }
   ],
   "source": [
    "df.head()"
   ]
  },
  {
   "cell_type": "code",
   "execution_count": null,
   "metadata": {},
   "outputs": [],
   "source": []
  },
  {
   "cell_type": "code",
   "execution_count": 1,
   "metadata": {},
   "outputs": [],
   "source": [
    "import pandas as pd"
   ]
  },
  {
   "cell_type": "code",
   "execution_count": 2,
   "metadata": {},
   "outputs": [],
   "source": [
    "df1 = pd.read_parquet(r\"C:\\Users\\fashaikh\\Desktop\\Thesis_main\\combined_sentiment.parquet\")"
   ]
  },
  {
   "cell_type": "code",
   "execution_count": 3,
   "metadata": {},
   "outputs": [
    {
     "data": {
      "text/plain": [
       "Index(['date', 'id', 'cleanedContent', 'label', 'probability.negative',\n",
       "       'probability.neutral', 'probability.positive', 'category'],\n",
       "      dtype='object')"
      ]
     },
     "execution_count": 3,
     "metadata": {},
     "output_type": "execute_result"
    }
   ],
   "source": [
    "df1.columns"
   ]
  },
  {
   "cell_type": "code",
   "execution_count": 5,
   "metadata": {},
   "outputs": [],
   "source": [
    "df1 = df1[['id', 'cleanedContent', 'label', 'category']]"
   ]
  },
  {
   "cell_type": "code",
   "execution_count": 6,
   "metadata": {},
   "outputs": [
    {
     "data": {
      "text/html": [
       "<div>\n",
       "<style scoped>\n",
       "    .dataframe tbody tr th:only-of-type {\n",
       "        vertical-align: middle;\n",
       "    }\n",
       "\n",
       "    .dataframe tbody tr th {\n",
       "        vertical-align: top;\n",
       "    }\n",
       "\n",
       "    .dataframe thead th {\n",
       "        text-align: right;\n",
       "    }\n",
       "</style>\n",
       "<table border=\"1\" class=\"dataframe\">\n",
       "  <thead>\n",
       "    <tr style=\"text-align: right;\">\n",
       "      <th></th>\n",
       "      <th>id</th>\n",
       "      <th>cleanedContent</th>\n",
       "      <th>label</th>\n",
       "      <th>category</th>\n",
       "    </tr>\n",
       "  </thead>\n",
       "  <tbody>\n",
       "    <tr>\n",
       "      <th>0</th>\n",
       "      <td>1257990410028359681</td>\n",
       "      <td>Everyday that the killers of #AhmaudArbery rem...</td>\n",
       "      <td>negative</td>\n",
       "      <td>African American South</td>\n",
       "    </tr>\n",
       "    <tr>\n",
       "      <th>1</th>\n",
       "      <td>1258706164054929408</td>\n",
       "      <td>It took 59 days for the @user to arrest #Grego...</td>\n",
       "      <td>negative</td>\n",
       "      <td>African American South</td>\n",
       "    </tr>\n",
       "    <tr>\n",
       "      <th>2</th>\n",
       "      <td>1258706164054929408</td>\n",
       "      <td>It took 59 days for the @user to arrest #Grego...</td>\n",
       "      <td>negative</td>\n",
       "      <td>African American South</td>\n",
       "    </tr>\n",
       "    <tr>\n",
       "      <th>3</th>\n",
       "      <td>1258706164054929408</td>\n",
       "      <td>It took 59 days for the @user to arrest #Grego...</td>\n",
       "      <td>negative</td>\n",
       "      <td>African American South</td>\n",
       "    </tr>\n",
       "    <tr>\n",
       "      <th>4</th>\n",
       "      <td>1258706164054929408</td>\n",
       "      <td>It took 59 days for the @user to arrest #Grego...</td>\n",
       "      <td>negative</td>\n",
       "      <td>African American South</td>\n",
       "    </tr>\n",
       "  </tbody>\n",
       "</table>\n",
       "</div>"
      ],
      "text/plain": [
       "                    id                                     cleanedContent  \\\n",
       "0  1257990410028359681  Everyday that the killers of #AhmaudArbery rem...   \n",
       "1  1258706164054929408  It took 59 days for the @user to arrest #Grego...   \n",
       "2  1258706164054929408  It took 59 days for the @user to arrest #Grego...   \n",
       "3  1258706164054929408  It took 59 days for the @user to arrest #Grego...   \n",
       "4  1258706164054929408  It took 59 days for the @user to arrest #Grego...   \n",
       "\n",
       "      label                category  \n",
       "0  negative  African American South  \n",
       "1  negative  African American South  \n",
       "2  negative  African American South  \n",
       "3  negative  African American South  \n",
       "4  negative  African American South  "
      ]
     },
     "execution_count": 6,
     "metadata": {},
     "output_type": "execute_result"
    }
   ],
   "source": [
    "df1.head()"
   ]
  },
  {
   "cell_type": "code",
   "execution_count": 7,
   "metadata": {},
   "outputs": [],
   "source": [
    "df2 = pd.read_parquet(r\"C:\\Users\\fashaikh\\Desktop\\Thesis_main\\combined_emotion.parquet\")"
   ]
  },
  {
   "cell_type": "code",
   "execution_count": 8,
   "metadata": {},
   "outputs": [
    {
     "data": {
      "text/plain": [
       "Index(['date', 'id', 'cleanedContent', 'label', 'probability.anger',\n",
       "       'probability.anticipation', 'probability.disgust', 'probability.fear',\n",
       "       'probability.joy', 'probability.love', 'probability.optimism',\n",
       "       'probability.pessimism', 'probability.sadness', 'probability.surprise',\n",
       "       'probability.trust', 'category'],\n",
       "      dtype='object')"
      ]
     },
     "execution_count": 8,
     "metadata": {},
     "output_type": "execute_result"
    }
   ],
   "source": [
    "df2.columns"
   ]
  },
  {
   "cell_type": "code",
   "execution_count": 14,
   "metadata": {},
   "outputs": [],
   "source": [
    "df2 = df2[['label']]"
   ]
  },
  {
   "cell_type": "code",
   "execution_count": 15,
   "metadata": {},
   "outputs": [],
   "source": [
    "df2.rename(columns={'label':'emotion_label'}, inplace=True)"
   ]
  },
  {
   "cell_type": "code",
   "execution_count": 16,
   "metadata": {},
   "outputs": [],
   "source": [
    "df_main = pd.concat([df1, df2], axis=1)"
   ]
  },
  {
   "cell_type": "code",
   "execution_count": 18,
   "metadata": {},
   "outputs": [],
   "source": [
    "df_main.to_parquet(r\"C:\\Users\\fashaikh\\Desktop\\Thesis_main\\combined_emotion_sentiment.parquet\")"
   ]
  },
  {
   "cell_type": "code",
   "execution_count": 1,
   "metadata": {},
   "outputs": [],
   "source": [
    "import pandas as pd\n",
    "import polars as pl"
   ]
  },
  {
   "cell_type": "code",
   "execution_count": 2,
   "metadata": {},
   "outputs": [],
   "source": [
    "df = pd.read_parquet(r\"C:\\Users\\fashaikh\\Desktop\\Thesis_main\\users_data.parquet\")"
   ]
  },
  {
   "cell_type": "code",
   "execution_count": 3,
   "metadata": {},
   "outputs": [
    {
     "data": {
      "text/plain": [
       "505829284              33770\n",
       "135213588              29588\n",
       "1268961880250482691    26934\n",
       "702628629814124545     22470\n",
       "1298671741347213312    20031\n",
       "                       ...  \n",
       "992999963775913990         1\n",
       "1022297195515719680        1\n",
       "1273050412267048960        1\n",
       "1098251149067599879        1\n",
       "1562973168                 1\n",
       "Name: user_id, Length: 1629236, dtype: int64"
      ]
     },
     "execution_count": 3,
     "metadata": {},
     "output_type": "execute_result"
    }
   ],
   "source": [
    "df['user_id'].value_counts()"
   ]
  },
  {
   "cell_type": "code",
   "execution_count": 4,
   "metadata": {},
   "outputs": [],
   "source": [
    "top_user = df[df['user_id'] == 505829284]"
   ]
  },
  {
   "cell_type": "code",
   "execution_count": 5,
   "metadata": {},
   "outputs": [
    {
     "data": {
      "text/plain": [
       "1608409819140198400    47\n",
       "1608402830452486146    43\n",
       "1311440557047250946    37\n",
       "1311432712180375553    37\n",
       "1311414739554234372    37\n",
       "                       ..\n",
       "1460147886084308993     1\n",
       "1460154892979478528     1\n",
       "1460163467676164098     1\n",
       "1460186431121506306     1\n",
       "1532742566885658625     1\n",
       "Name: id, Length: 17524, dtype: int64"
      ]
     },
     "execution_count": 5,
     "metadata": {},
     "output_type": "execute_result"
    }
   ],
   "source": [
    "top_user['id'].value_counts()"
   ]
  },
  {
   "cell_type": "code",
   "execution_count": 11,
   "metadata": {},
   "outputs": [],
   "source": [
    "combined = pd.read_parquet(r\"C:\\Users\\fashaikh\\Desktop\\Thesis_main\\combined_emotion_sentiment.parquet\")"
   ]
  },
  {
   "cell_type": "code",
   "execution_count": 7,
   "metadata": {},
   "outputs": [],
   "source": [
    "df = df[['id', 'user_id']]"
   ]
  },
  {
   "cell_type": "code",
   "execution_count": 12,
   "metadata": {},
   "outputs": [],
   "source": [
    "combined = combined.merge(df, 'left', on='id')"
   ]
  },
  {
   "cell_type": "markdown",
   "metadata": {},
   "source": [
    "# new"
   ]
  },
  {
   "cell_type": "code",
   "execution_count": 2,
   "metadata": {},
   "outputs": [],
   "source": [
    "df = pd.read_parquet(\"/Users/fahad/development/thesis/final_v2.parquet\")"
   ]
  },
  {
   "cell_type": "code",
   "execution_count": 3,
   "metadata": {},
   "outputs": [
    {
     "data": {
      "text/plain": [
       "emotion_label\n",
       "anger           3048518\n",
       "optimism         621653\n",
       "joy              380545\n",
       "anticipation     214635\n",
       "sadness          213073\n",
       "fear             207647\n",
       "Name: count, dtype: int64"
      ]
     },
     "execution_count": 3,
     "metadata": {},
     "output_type": "execute_result"
    }
   ],
   "source": [
    "df['emotion_label'].value_counts()"
   ]
  },
  {
   "cell_type": "code",
   "execution_count": 13,
   "metadata": {},
   "outputs": [
    {
     "data": {
      "text/plain": [
       "array(['We are manufacturer and exporters all kinds of sports wear Fully Sublimated and customize With Your Custom Design for order come inbox or WhatsAap:+923127356746 #sweatsuits #tracksuit #hoodies #tbt #BlackOwned #BlackLivesMatter #promoteblackbussiness http',\n",
       "       \"We're happy and proud to be the community bank within the cities of Harlem, NY, Newark, NJ, Forestville and Oxon Hill in PG County Maryland, and Washington, DC. #communitybanking #bankblack #buyblack #qurantine #blackankstosupport #blackbusiness #blackbusinessestosupport #blm http\",\n",
       "       'I am very proud that Jackson was confirmed to the Supreme Court I am very ashamed that it took 233 years to appoint a Black woman... . . . . . #KetanjiBrownJackson #SupremeCourtconfirmation #SupremeCourtJusticeJackson #AmericanHistory #equality #BlackLivesMatter #BlackWomen',\n",
       "       \"Don't get me wrong- I love seeing everybody in my feed being vocal about BLM. But it takes more than retweeting. Donate. Sign petitions. Protest. You can never do too much 😎\",\n",
       "       '@user My favorite (yes I have favorites) was a militia guy pointing a ar type gun at me in rural Nevada telling me I was on private property as he stood next to a blm public land sign.',\n",
       "       \"Now here we come on our thrones, sittin' high Follow my parade, oh, black parade #BlackParade #BLM #MySunMySon #AfroLatino #BecauseIHaveABlackSon http\",\n",
       "       '@user they were live on youtube!! they had guest speakers supporting blm n then they read this scene',\n",
       "       '@user @user I have 3 older white women walk by my house every morning around 6 am. They’re hollering so they can hear each other walking single file 6 or so feet apart. I cheers em up with my coffee. It’s kinda cute and a funny part of my morning. They never get tazed tho. #blm',\n",
       "       '@user I got some Hip Hop Stamps &amp; Harlem Renaissance Stamps #USPS #BLM',\n",
       "       \"He stood up when Everyone Else didn't understand. Now Everyone knows what we Always Knew #BlackLivesMatter #HappyBirthday @user #VOTE\"],\n",
       "      dtype=object)"
      ]
     },
     "execution_count": 13,
     "metadata": {},
     "output_type": "execute_result"
    }
   ],
   "source": [
    "df[df['emotion_label'] == 'joy']['cleanedContent'].sample(10).values"
   ]
  },
  {
   "cell_type": "code",
   "execution_count": 14,
   "metadata": {},
   "outputs": [
    {
     "data": {
      "text/plain": [
       "4686071"
      ]
     },
     "execution_count": 14,
     "metadata": {},
     "output_type": "execute_result"
    }
   ],
   "source": [
    "len(df)"
   ]
  },
  {
   "cell_type": "code",
   "execution_count": 6,
   "metadata": {},
   "outputs": [
    {
     "data": {
      "text/html": [
       "<div>\n",
       "<style scoped>\n",
       "    .dataframe tbody tr th:only-of-type {\n",
       "        vertical-align: middle;\n",
       "    }\n",
       "\n",
       "    .dataframe tbody tr th {\n",
       "        vertical-align: top;\n",
       "    }\n",
       "\n",
       "    .dataframe thead th {\n",
       "        text-align: right;\n",
       "    }\n",
       "</style>\n",
       "<table border=\"1\" class=\"dataframe\">\n",
       "  <thead>\n",
       "    <tr style=\"text-align: right;\">\n",
       "      <th></th>\n",
       "      <th>id</th>\n",
       "      <th>cleanedContent</th>\n",
       "      <th>label</th>\n",
       "      <th>category</th>\n",
       "      <th>emotion_label</th>\n",
       "      <th>text</th>\n",
       "      <th>text_without_stopwords</th>\n",
       "      <th>text_lemmatized</th>\n",
       "      <th>text_without_stopwords_freq</th>\n",
       "      <th>date</th>\n",
       "      <th>...</th>\n",
       "      <th>probability.negative</th>\n",
       "      <th>probability.neutral</th>\n",
       "      <th>probability.positive</th>\n",
       "      <th>probability.anger</th>\n",
       "      <th>probability.anticipation</th>\n",
       "      <th>probability.fear</th>\n",
       "      <th>probability.joy</th>\n",
       "      <th>probability.optimism</th>\n",
       "      <th>probability.sadness</th>\n",
       "      <th>Normalized_sentiment_score</th>\n",
       "    </tr>\n",
       "  </thead>\n",
       "  <tbody>\n",
       "    <tr>\n",
       "      <th>0</th>\n",
       "      <td>1257990410028359681</td>\n",
       "      <td>Everyday that the killers of #AhmaudArbery rem...</td>\n",
       "      <td>negative</td>\n",
       "      <td>African American South</td>\n",
       "      <td>fear</td>\n",
       "      <td>everyday that the killers of ahmaudarbery rema...</td>\n",
       "      <td>everyday killers ahmaudarbery remain free anot...</td>\n",
       "      <td>everyday killer ahmaudarbery remain free anoth...</td>\n",
       "      <td>everyday killer ahmaudarbery remain free anoth...</td>\n",
       "      <td>2020-05-06 11:07:40+00:00</td>\n",
       "      <td>...</td>\n",
       "      <td>0.830641</td>\n",
       "      <td>0.159382</td>\n",
       "      <td>0.009977</td>\n",
       "      <td>0.279881</td>\n",
       "      <td>0.004095</td>\n",
       "      <td>0.352227</td>\n",
       "      <td>0.000745</td>\n",
       "      <td>0.003695</td>\n",
       "      <td>0.359357</td>\n",
       "      <td>-0.850836</td>\n",
       "    </tr>\n",
       "    <tr>\n",
       "      <th>2</th>\n",
       "      <td>1258706164054929408</td>\n",
       "      <td>It took 59 days for the @user to arrest #Grego...</td>\n",
       "      <td>negative</td>\n",
       "      <td>African American South</td>\n",
       "      <td>anger</td>\n",
       "      <td>it took days for the to arrest gregorymcmichae...</td>\n",
       "      <td>took days arrest gregorymcmichael travismcmich...</td>\n",
       "      <td>take day arrest gregorymcmichael travismcmicha...</td>\n",
       "      <td>take day arrest gregorymcmichael travismcmicha...</td>\n",
       "      <td>2020-05-08 10:31:49+00:00</td>\n",
       "      <td>...</td>\n",
       "      <td>0.806295</td>\n",
       "      <td>0.188493</td>\n",
       "      <td>0.005212</td>\n",
       "      <td>0.796906</td>\n",
       "      <td>0.005784</td>\n",
       "      <td>0.159391</td>\n",
       "      <td>0.000317</td>\n",
       "      <td>0.000924</td>\n",
       "      <td>0.036677</td>\n",
       "      <td>-0.830837</td>\n",
       "    </tr>\n",
       "    <tr>\n",
       "      <th>12</th>\n",
       "      <td>1260986640148955136</td>\n",
       "      <td>TN is already starting. They say that #COVID19...</td>\n",
       "      <td>negative</td>\n",
       "      <td>African American South</td>\n",
       "      <td>anger</td>\n",
       "      <td>tn is already starting they say that covid is ...</td>\n",
       "      <td>tn already starting say covid good reason vote...</td>\n",
       "      <td>tn already start say covid good reason votebym...</td>\n",
       "      <td>tn already start covid good reason votebymail ...</td>\n",
       "      <td>2020-05-14 17:33:37+00:00</td>\n",
       "      <td>...</td>\n",
       "      <td>0.484034</td>\n",
       "      <td>0.357467</td>\n",
       "      <td>0.158500</td>\n",
       "      <td>0.810908</td>\n",
       "      <td>0.010574</td>\n",
       "      <td>0.014736</td>\n",
       "      <td>0.002848</td>\n",
       "      <td>0.137127</td>\n",
       "      <td>0.023808</td>\n",
       "      <td>-0.345149</td>\n",
       "    </tr>\n",
       "    <tr>\n",
       "      <th>20</th>\n",
       "      <td>1265664683941474309</td>\n",
       "      <td>5) I pledge that I will keep myself aware of w...</td>\n",
       "      <td>neutral</td>\n",
       "      <td>African American South</td>\n",
       "      <td>optimism</td>\n",
       "      <td>i pledge that i will keep myself aware of what...</td>\n",
       "      <td>pledge keep aware actions help actions hurt pl...</td>\n",
       "      <td>pledge keep aware action help action hurt pled...</td>\n",
       "      <td>pledge keep aware action help action hurt pled...</td>\n",
       "      <td>2020-05-27 15:22:30+00:00</td>\n",
       "      <td>...</td>\n",
       "      <td>0.170736</td>\n",
       "      <td>0.617685</td>\n",
       "      <td>0.211579</td>\n",
       "      <td>0.013011</td>\n",
       "      <td>0.030190</td>\n",
       "      <td>0.004790</td>\n",
       "      <td>0.005827</td>\n",
       "      <td>0.929707</td>\n",
       "      <td>0.016474</td>\n",
       "      <td>0.029040</td>\n",
       "    </tr>\n",
       "    <tr>\n",
       "      <th>28</th>\n",
       "      <td>1265698571053142016</td>\n",
       "      <td>@user Many may not know me, but I am a progres...</td>\n",
       "      <td>positive</td>\n",
       "      <td>African American South</td>\n",
       "      <td>optimism</td>\n",
       "      <td>many may not know me but i am a progressive ca...</td>\n",
       "      <td>many may know progressive candidate tn support...</td>\n",
       "      <td>many may know progressive candidate tn support...</td>\n",
       "      <td>many may progressive candidate tn ubi end citi...</td>\n",
       "      <td>2020-05-27 17:37:09+00:00</td>\n",
       "      <td>...</td>\n",
       "      <td>0.005067</td>\n",
       "      <td>0.107326</td>\n",
       "      <td>0.887606</td>\n",
       "      <td>0.007553</td>\n",
       "      <td>0.072251</td>\n",
       "      <td>0.001653</td>\n",
       "      <td>0.069170</td>\n",
       "      <td>0.847429</td>\n",
       "      <td>0.001945</td>\n",
       "      <td>0.888683</td>\n",
       "    </tr>\n",
       "  </tbody>\n",
       "</table>\n",
       "<p>5 rows × 21 columns</p>\n",
       "</div>"
      ],
      "text/plain": [
       "                     id                                     cleanedContent   \n",
       "0   1257990410028359681  Everyday that the killers of #AhmaudArbery rem...  \\\n",
       "2   1258706164054929408  It took 59 days for the @user to arrest #Grego...   \n",
       "12  1260986640148955136  TN is already starting. They say that #COVID19...   \n",
       "20  1265664683941474309  5) I pledge that I will keep myself aware of w...   \n",
       "28  1265698571053142016  @user Many may not know me, but I am a progres...   \n",
       "\n",
       "       label                category emotion_label   \n",
       "0   negative  African American South          fear  \\\n",
       "2   negative  African American South         anger   \n",
       "12  negative  African American South         anger   \n",
       "20   neutral  African American South      optimism   \n",
       "28  positive  African American South      optimism   \n",
       "\n",
       "                                                 text   \n",
       "0   everyday that the killers of ahmaudarbery rema...  \\\n",
       "2   it took days for the to arrest gregorymcmichae...   \n",
       "12  tn is already starting they say that covid is ...   \n",
       "20  i pledge that i will keep myself aware of what...   \n",
       "28  many may not know me but i am a progressive ca...   \n",
       "\n",
       "                               text_without_stopwords   \n",
       "0   everyday killers ahmaudarbery remain free anot...  \\\n",
       "2   took days arrest gregorymcmichael travismcmich...   \n",
       "12  tn already starting say covid good reason vote...   \n",
       "20  pledge keep aware actions help actions hurt pl...   \n",
       "28  many may know progressive candidate tn support...   \n",
       "\n",
       "                                      text_lemmatized   \n",
       "0   everyday killer ahmaudarbery remain free anoth...  \\\n",
       "2   take day arrest gregorymcmichael travismcmicha...   \n",
       "12  tn already start say covid good reason votebym...   \n",
       "20  pledge keep aware action help action hurt pled...   \n",
       "28  many may know progressive candidate tn support...   \n",
       "\n",
       "                          text_without_stopwords_freq   \n",
       "0   everyday killer ahmaudarbery remain free anoth...  \\\n",
       "2   take day arrest gregorymcmichael travismcmicha...   \n",
       "12  tn already start covid good reason votebymail ...   \n",
       "20  pledge keep aware action help action hurt pled...   \n",
       "28  many may progressive candidate tn ubi end citi...   \n",
       "\n",
       "                        date  ... probability.negative  probability.neutral   \n",
       "0  2020-05-06 11:07:40+00:00  ...             0.830641             0.159382  \\\n",
       "2  2020-05-08 10:31:49+00:00  ...             0.806295             0.188493   \n",
       "12 2020-05-14 17:33:37+00:00  ...             0.484034             0.357467   \n",
       "20 2020-05-27 15:22:30+00:00  ...             0.170736             0.617685   \n",
       "28 2020-05-27 17:37:09+00:00  ...             0.005067             0.107326   \n",
       "\n",
       "    probability.positive  probability.anger  probability.anticipation   \n",
       "0               0.009977           0.279881                  0.004095  \\\n",
       "2               0.005212           0.796906                  0.005784   \n",
       "12              0.158500           0.810908                  0.010574   \n",
       "20              0.211579           0.013011                  0.030190   \n",
       "28              0.887606           0.007553                  0.072251   \n",
       "\n",
       "    probability.fear  probability.joy  probability.optimism   \n",
       "0           0.352227         0.000745              0.003695  \\\n",
       "2           0.159391         0.000317              0.000924   \n",
       "12          0.014736         0.002848              0.137127   \n",
       "20          0.004790         0.005827              0.929707   \n",
       "28          0.001653         0.069170              0.847429   \n",
       "\n",
       "    probability.sadness  Normalized_sentiment_score  \n",
       "0              0.359357                   -0.850836  \n",
       "2              0.036677                   -0.830837  \n",
       "12             0.023808                   -0.345149  \n",
       "20             0.016474                    0.029040  \n",
       "28             0.001945                    0.888683  \n",
       "\n",
       "[5 rows x 21 columns]"
      ]
     },
     "execution_count": 6,
     "metadata": {},
     "output_type": "execute_result"
    }
   ],
   "source": [
    "df.head()"
   ]
  },
  {
   "cell_type": "code",
   "execution_count": 8,
   "metadata": {},
   "outputs": [
    {
     "data": {
      "text/plain": [
       "Index(['id', 'cleanedContent', 'label', 'category', 'emotion_label', 'text',\n",
       "       'text_without_stopwords', 'text_lemmatized',\n",
       "       'text_without_stopwords_freq', 'date', 'rawContent',\n",
       "       'probability.negative', 'probability.neutral', 'probability.positive',\n",
       "       'probability.anger', 'probability.anticipation', 'probability.fear',\n",
       "       'probability.joy', 'probability.optimism', 'probability.sadness',\n",
       "       'Normalized_sentiment_score'],\n",
       "      dtype='object')"
      ]
     },
     "execution_count": 8,
     "metadata": {},
     "output_type": "execute_result"
    }
   ],
   "source": [
    "df.columns"
   ]
  },
  {
   "cell_type": "code",
   "execution_count": 3,
   "metadata": {},
   "outputs": [],
   "source": [
    "df = df[['category', 'Normalized_sentiment_score']]"
   ]
  },
  {
   "cell_type": "code",
   "execution_count": 4,
   "metadata": {},
   "outputs": [],
   "source": [
    "df = df.groupby('category').mean()"
   ]
  },
  {
   "cell_type": "code",
   "execution_count": 11,
   "metadata": {},
   "outputs": [
    {
     "data": {
      "text/html": [
       "<div>\n",
       "<style scoped>\n",
       "    .dataframe tbody tr th:only-of-type {\n",
       "        vertical-align: middle;\n",
       "    }\n",
       "\n",
       "    .dataframe tbody tr th {\n",
       "        vertical-align: top;\n",
       "    }\n",
       "\n",
       "    .dataframe thead th {\n",
       "        text-align: right;\n",
       "    }\n",
       "</style>\n",
       "<table border=\"1\" class=\"dataframe\">\n",
       "  <thead>\n",
       "    <tr style=\"text-align: right;\">\n",
       "      <th></th>\n",
       "      <th>Normalized_sentiment_score</th>\n",
       "    </tr>\n",
       "    <tr>\n",
       "      <th>category</th>\n",
       "      <th></th>\n",
       "    </tr>\n",
       "  </thead>\n",
       "  <tbody>\n",
       "    <tr>\n",
       "      <th>African American South</th>\n",
       "      <td>-0.448874</td>\n",
       "    </tr>\n",
       "    <tr>\n",
       "      <th>Aging Farmlands</th>\n",
       "      <td>-0.421124</td>\n",
       "    </tr>\n",
       "    <tr>\n",
       "      <th>Big Cities</th>\n",
       "      <td>-0.349284</td>\n",
       "    </tr>\n",
       "    <tr>\n",
       "      <th>College Towns</th>\n",
       "      <td>-0.467725</td>\n",
       "    </tr>\n",
       "    <tr>\n",
       "      <th>Evangelical Hubs</th>\n",
       "      <td>-0.521461</td>\n",
       "    </tr>\n",
       "    <tr>\n",
       "      <th>Exurbs</th>\n",
       "      <td>-0.387603</td>\n",
       "    </tr>\n",
       "    <tr>\n",
       "      <th>Graying America</th>\n",
       "      <td>-0.447931</td>\n",
       "    </tr>\n",
       "    <tr>\n",
       "      <th>Hispanic Centers</th>\n",
       "      <td>-0.499610</td>\n",
       "    </tr>\n",
       "    <tr>\n",
       "      <th>LDS Enclaves</th>\n",
       "      <td>-0.284632</td>\n",
       "    </tr>\n",
       "    <tr>\n",
       "      <th>Middle Suburbs</th>\n",
       "      <td>-0.488966</td>\n",
       "    </tr>\n",
       "    <tr>\n",
       "      <th>Military Posts</th>\n",
       "      <td>-0.447181</td>\n",
       "    </tr>\n",
       "    <tr>\n",
       "      <th>Native American Lands</th>\n",
       "      <td>-0.335419</td>\n",
       "    </tr>\n",
       "    <tr>\n",
       "      <th>Rural Middle America</th>\n",
       "      <td>-0.515262</td>\n",
       "    </tr>\n",
       "    <tr>\n",
       "      <th>Urban Suburbs</th>\n",
       "      <td>-0.371152</td>\n",
       "    </tr>\n",
       "    <tr>\n",
       "      <th>Working Class Country</th>\n",
       "      <td>-0.559725</td>\n",
       "    </tr>\n",
       "  </tbody>\n",
       "</table>\n",
       "</div>"
      ],
      "text/plain": [
       "                        Normalized_sentiment_score\n",
       "category                                          \n",
       "African American South                   -0.448874\n",
       "Aging Farmlands                          -0.421124\n",
       "Big Cities                               -0.349284\n",
       "College Towns                            -0.467725\n",
       "Evangelical Hubs                         -0.521461\n",
       "Exurbs                                   -0.387603\n",
       "Graying America                          -0.447931\n",
       "Hispanic Centers                         -0.499610\n",
       "LDS Enclaves                             -0.284632\n",
       "Middle Suburbs                           -0.488966\n",
       "Military Posts                           -0.447181\n",
       "Native American Lands                    -0.335419\n",
       "Rural Middle America                     -0.515262\n",
       "Urban Suburbs                            -0.371152\n",
       "Working Class Country                    -0.559725"
      ]
     },
     "execution_count": 11,
     "metadata": {},
     "output_type": "execute_result"
    }
   ],
   "source": [
    "df"
   ]
  },
  {
   "cell_type": "code",
   "execution_count": 11,
   "metadata": {},
   "outputs": [],
   "source": [
    "from scipy import stats\n",
    "import matplotlib.pyplot as plt"
   ]
  },
  {
   "cell_type": "code",
   "execution_count": 6,
   "metadata": {},
   "outputs": [],
   "source": [
    "res = stats.shapiro(df['Normalized_sentiment_score'])"
   ]
  },
  {
   "cell_type": "code",
   "execution_count": 7,
   "metadata": {},
   "outputs": [
    {
     "data": {
      "text/plain": [
       "0.972080647945404"
      ]
     },
     "execution_count": 7,
     "metadata": {},
     "output_type": "execute_result"
    }
   ],
   "source": [
    "res.statistic"
   ]
  },
  {
   "cell_type": "code",
   "execution_count": null,
   "metadata": {},
   "outputs": [],
   "source": []
  },
  {
   "cell_type": "code",
   "execution_count": 8,
   "metadata": {},
   "outputs": [
    {
     "data": {
      "text/plain": [
       "0.8875840902328491"
      ]
     },
     "execution_count": 8,
     "metadata": {},
     "output_type": "execute_result"
    }
   ],
   "source": [
    "res.pvalue"
   ]
  },
  {
   "cell_type": "code",
   "execution_count": 15,
   "metadata": {},
   "outputs": [
    {
     "data": {
      "image/png": "[encoded data removed]",
      "text/plain": [
       "<Figure size 640x480 with 1 Axes>"
      ]
     },
     "metadata": {},
     "output_type": "display_data"
    }
   ],
   "source": [
    "stats.probplot(df['Normalized_sentiment_score'], dist=\"norm\", plot=plt)\n",
    "plt.title(\"Residuals Q-Q Plot\")\n",
    "plt.legend(['Actual','Theoretical'])\n",
    "plt.show()"
   ]
  },
  {
   "cell_type": "code",
   "execution_count": null,
   "metadata": {},
   "outputs": [],
   "source": []
  }
 ],
 "metadata": {
  "kernelspec": {
   "display_name": ".venv",
   "language": "python",
   "name": "python3"
  },
  "language_info": {
   "codemirror_mode": {
    "name": "ipython",
    "version": 3
   },
   "file_extension": ".py",
   "mimetype": "text/x-python",
   "name": "python",
   "nbconvert_exporter": "python",
   "pygments_lexer": "ipython3",
   "version": "3.9.1"
  },
  "orig_nbformat": 4
 },
 "nbformat": 4,
 "nbformat_minor": 2
}
