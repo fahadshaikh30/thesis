{
 "cells": [
  {
   "cell_type": "code",
   "execution_count": 1,
   "metadata": {},
   "outputs": [],
   "source": [
    "import pandas as pd\n",
    "import os\n",
    "import re\n",
    "import numpy as np"
   ]
  },
  {
   "attachments": {},
   "cell_type": "markdown",
   "metadata": {},
   "source": [
    "# Combining data"
   ]
  },
  {
   "cell_type": "code",
   "execution_count": 36,
   "metadata": {},
   "outputs": [],
   "source": [
    "df = pd.read_parquet(r\"C:\\Users\\fashaikh\\Desktop\\Thesis main\\selected_data\\selectedData23.parquet\")"
   ]
  },
  {
   "cell_type": "code",
   "execution_count": 37,
   "metadata": {},
   "outputs": [
    {
     "data": {
      "text/plain": [
       "Index(['date', 'rawContent', 'id', 'category'], dtype='object')"
      ]
     },
     "execution_count": 37,
     "metadata": {},
     "output_type": "execute_result"
    }
   ],
   "source": [
    "df.columns"
   ]
  },
  {
   "cell_type": "code",
   "execution_count": 27,
   "metadata": {},
   "outputs": [],
   "source": [
    "df.rename(columns={\"category_y\": \"category\"}, inplace=True)"
   ]
  },
  {
   "cell_type": "code",
   "execution_count": 29,
   "metadata": {},
   "outputs": [],
   "source": [
    "df.to_parquet(r\"C:\\Users\\fashaikh\\Desktop\\Thesis main\\selected_data\\selectedData30.parquet\")"
   ]
  },
  {
   "cell_type": "code",
   "execution_count": 6,
   "metadata": {},
   "outputs": [
    {
     "data": {
      "text/plain": [
       "Index(['url', 'date', 'rawContent', 'renderedContent', 'id', 'user',\n",
       "       'replyCount', 'retweetCount', 'likeCount', 'quoteCount',\n",
       "       'conversationId', 'lang', 'source', 'sourceUrl', 'sourceLabel', 'links',\n",
       "       'media', 'retweetedTweet', 'quotedTweet', 'inReplyToTweetId',\n",
       "       'inReplyToUser', 'mentionedUsers', 'coordinates', 'place', 'hashtags',\n",
       "       'cashtags', 'card', 'viewCount', 'vibe', 'bookmarkCount', 'filename',\n",
       "       'filepath'],\n",
       "      dtype='object')"
      ]
     },
     "execution_count": 6,
     "metadata": {},
     "output_type": "execute_result"
    }
   ],
   "source": [
    "df.columns"
   ]
  },
  {
   "cell_type": "code",
   "execution_count": 5,
   "metadata": {},
   "outputs": [
    {
     "data": {
      "text/plain": [
       "filepath\n",
       "/Users/fahad/Desktop/data/Thesis data/Top/BLM_2020-05-01_2020-06-01_top.parquet    94\n",
       "/Users/fahad/Desktop/data/Thesis data/Top/BLM_2020-07-01_2020-08-01_top.parquet    93\n",
       "/Users/fahad/Desktop/data/Thesis data/Top/BLM_2021-02-01_2021-03-01_top.parquet    92\n",
       "/Users/fahad/Desktop/data/Thesis data/Top/BLM_2021-03-01_2021-04-01_top.parquet    91\n",
       "/Users/fahad/Desktop/data/Thesis data/Top/BLM_2020-11-01_2020-12-01_top.parquet    90\n",
       "/Users/fahad/Desktop/data/Thesis data/Top/BLM_2020-08-01_2020-09-01_top.parquet    87\n",
       "/Users/fahad/Desktop/data/Thesis data/Top/BLM_2022-06-01_2022-07-01_top.parquet    86\n",
       "/Users/fahad/Desktop/data/Thesis data/Top/BLM_2021-10-01_2021-11-01_top.parquet    86\n",
       "/Users/fahad/Desktop/data/Thesis data/Top/BLM_2020-06-01_2020-07-01_top.parquet    86\n",
       "/Users/fahad/Desktop/data/Thesis data/Top/BLM_2022-11-01_2022-12-01_top.parquet    86\n",
       "/Users/fahad/Desktop/data/Thesis data/Top/BLM_2022-09-01_2022-10-01_top.parquet    86\n",
       "/Users/fahad/Desktop/data/Thesis data/Top/BLM_2022-05-01_2022-06-01_top.parquet    85\n",
       "/Users/fahad/Desktop/data/Thesis data/Top/BLM_2021-04-01_2021-05-01_top.parquet    85\n",
       "/Users/fahad/Desktop/data/Thesis data/Top/BLM_2022-08-01_2022-09-01_top.parquet    84\n",
       "/Users/fahad/Desktop/data/Thesis data/Top/BLM_2022-10-01_2022-11-01_top.parquet    84\n",
       "/Users/fahad/Desktop/data/Thesis data/Top/BLM_2020-10-01_2020-11-01_top.parquet    83\n",
       "/Users/fahad/Desktop/data/Thesis data/Top/BLM_2020-12-01_2021-01-01_top.parquet    83\n",
       "/Users/fahad/Desktop/data/Thesis data/Top/BLM_2022-01-01_2022-02-01_top.parquet    82\n",
       "/Users/fahad/Desktop/data/Thesis data/Top/BLM_2022-07-01_2022-08-01_top.parquet    82\n",
       "/Users/fahad/Desktop/data/Thesis data/Top/BLM_2021-08-01_2021-09-01_top.parquet    82\n",
       "/Users/fahad/Desktop/data/Thesis data/Top/BLM_2020-09-01_2020-10-01_top.parquet    81\n",
       "/Users/fahad/Desktop/data/Thesis data/Top/BLM_2021-06-01_2021-07-01_top.parquet    81\n",
       "/Users/fahad/Desktop/data/Thesis data/Top/BLM_2021-11-01_2021-12-01_top.parquet    81\n",
       "/Users/fahad/Desktop/data/Thesis data/Top/BLM_2022-03-01_2022-04-01_top.parquet    81\n",
       "/Users/fahad/Desktop/data/Thesis data/Top/BLM_2021-05-01_2021-06-01_top.parquet    80\n",
       "/Users/fahad/Desktop/data/Thesis data/Top/BLM_2021-09-01_2021-10-01_top.parquet    80\n",
       "/Users/fahad/Desktop/data/Thesis data/Top/BLM_2021-12-01_2022-01-01_top.parquet    78\n",
       "/Users/fahad/Desktop/data/Thesis data/Top/BLM_2022-04-01_2022-05-01_top.parquet    78\n",
       "/Users/fahad/Desktop/data/Thesis data/Top/BLM_2021-01-01_2021-02-01_top.parquet    76\n",
       "/Users/fahad/Desktop/data/Thesis data/Top/BLM_2022-12-01_2023-01-01_top.parquet    76\n",
       "/Users/fahad/Desktop/data/Thesis data/Top/BLM_2022-02-01_2022-03-01_top.parquet    72\n",
       "/Users/fahad/Desktop/data/Thesis data/Top/BLM_2021-07-01_2021-08-01_top.parquet    67\n",
       "Name: count, dtype: int64"
      ]
     },
     "execution_count": 5,
     "metadata": {},
     "output_type": "execute_result"
    }
   ],
   "source": [
    "df['filepath'].value_counts()"
   ]
  },
  {
   "cell_type": "code",
   "execution_count": 46,
   "metadata": {},
   "outputs": [],
   "source": [
    "df['category'] = df['FilePath'].apply(lambda x: os.path.basename(os.path.dirname(x)))"
   ]
  },
  {
   "cell_type": "code",
   "execution_count": 6,
   "metadata": {},
   "outputs": [],
   "source": [
    "df['category'] = df['FilePath'].apply(lambda path: path.split(\"/\")[6])"
   ]
  },
  {
   "cell_type": "code",
   "execution_count": 6,
   "metadata": {},
   "outputs": [],
   "source": [
    "df['category'] = \"Big Cities\""
   ]
  },
  {
   "cell_type": "code",
   "execution_count": 7,
   "metadata": {},
   "outputs": [
    {
     "data": {
      "text/plain": [
       "category\n",
       "Big Cities    2658\n",
       "Name: count, dtype: int64"
      ]
     },
     "execution_count": 7,
     "metadata": {},
     "output_type": "execute_result"
    }
   ],
   "source": [
    "df['category'].value_counts()"
   ]
  },
  {
   "cell_type": "code",
   "execution_count": 8,
   "metadata": {},
   "outputs": [
    {
     "data": {
      "text/plain": [
       "0"
      ]
     },
     "execution_count": 8,
     "metadata": {},
     "output_type": "execute_result"
    }
   ],
   "source": [
    "df['category'].isna().sum()"
   ]
  },
  {
   "cell_type": "code",
   "execution_count": 8,
   "metadata": {},
   "outputs": [],
   "source": [
    "df = df[[\"date\", \"rawContent\", \"id\", \"category\"]]"
   ]
  },
  {
   "cell_type": "code",
   "execution_count": 34,
   "metadata": {},
   "outputs": [],
   "source": [
    "df['category'] = df['category'].apply(lambda value: re.search(r'BLM_(.*?)_\\d{4}-\\d{2}-\\d{2}_\\d{4}-\\d{2}-\\d{2}\\.parquet', value).group(1))"
   ]
  },
  {
   "cell_type": "code",
   "execution_count": 7,
   "metadata": {},
   "outputs": [],
   "source": [
    "df['category'] = df['filename'].str.extract(r'BLM_(.*?)_\\d{4}-\\d{2}-\\d{2}_\\d{4}-\\d{2}-\\d{2}')"
   ]
  },
  {
   "cell_type": "code",
   "execution_count": 8,
   "metadata": {},
   "outputs": [],
   "source": [
    "df['category'] = df['category'].str.replace('County_', '')"
   ]
  },
  {
   "cell_type": "code",
   "execution_count": 22,
   "metadata": {},
   "outputs": [],
   "source": [
    "df['category'] = df['filename'].str.replace('BLM_', '')"
   ]
  },
  {
   "cell_type": "code",
   "execution_count": 48,
   "metadata": {},
   "outputs": [],
   "source": [
    "county_df = pd.read_csv('County-Type-Share.csv')\n",
    "county_df.drop(columns=['county_cleaned', 'county_state', 'State', 'Type Number', 'FIPS', 'Type Number2', 'Key', 'New Names' ], inplace=True)\n",
    "new_df = df.merge(county_df, how='left', left_on='category', right_on='County')"
   ]
  },
  {
   "cell_type": "code",
   "execution_count": 49,
   "metadata": {},
   "outputs": [
    {
     "data": {
      "text/plain": [
       "category_y\n",
       "Graying America           791185\n",
       "Rural Middle America      252249\n",
       "Evangelical Hubs          216134\n",
       "College Towns             140069\n",
       "Hispanic Centers           68057\n",
       "Exurbs                     66065\n",
       "Middle Suburbs             48035\n",
       "Urban Suburbs              38060\n",
       "Working Class Country      33093\n",
       "Big Cities                 30042\n",
       "African American South     26094\n",
       "Aging Farmlands             8056\n",
       "Military Posts              4025\n",
       "LDS Enclaves                  18\n",
       "Native American Lands          9\n",
       "Name: count, dtype: int64"
      ]
     },
     "execution_count": 49,
     "metadata": {},
     "output_type": "execute_result"
    }
   ],
   "source": [
    "new_df['category_y'].value_counts()"
   ]
  },
  {
   "cell_type": "code",
   "execution_count": 50,
   "metadata": {},
   "outputs": [
    {
     "data": {
      "text/plain": [
       "0"
      ]
     },
     "execution_count": 50,
     "metadata": {},
     "output_type": "execute_result"
    }
   ],
   "source": [
    "new_df['category_y'].isna().sum()"
   ]
  },
  {
   "cell_type": "code",
   "execution_count": 12,
   "metadata": {},
   "outputs": [],
   "source": [
    "new_df['category_y'].fillna('Big Cities', inplace=True)"
   ]
  },
  {
   "cell_type": "code",
   "execution_count": 51,
   "metadata": {},
   "outputs": [],
   "source": [
    "df = new_df[[\"date\", \"rawContent\", \"id\", \"category_y\"]]"
   ]
  },
  {
   "cell_type": "code",
   "execution_count": 10,
   "metadata": {},
   "outputs": [],
   "source": [
    "df.to_parquet(r\"C:\\Users\\fashaikh\\Desktop\\Thesis main\\selected_data\\selectedData32.parquet\")"
   ]
  },
  {
   "attachments": {},
   "cell_type": "markdown",
   "metadata": {},
   "source": [
    "# Cleaning Data"
   ]
  },
  {
   "cell_type": "code",
   "execution_count": 2,
   "metadata": {},
   "outputs": [],
   "source": [
    "df = pd.read_parquet(r'C:\\Users\\fashaikh\\Desktop\\Thesis main\\combined_data.parquet')"
   ]
  },
  {
   "cell_type": "code",
   "execution_count": 3,
   "metadata": {},
   "outputs": [
    {
     "data": {
      "text/html": [
       "<div>\n",
       "<style scoped>\n",
       "    .dataframe tbody tr th:only-of-type {\n",
       "        vertical-align: middle;\n",
       "    }\n",
       "\n",
       "    .dataframe tbody tr th {\n",
       "        vertical-align: top;\n",
       "    }\n",
       "\n",
       "    .dataframe thead th {\n",
       "        text-align: right;\n",
       "    }\n",
       "</style>\n",
       "<table border=\"1\" class=\"dataframe\">\n",
       "  <thead>\n",
       "    <tr style=\"text-align: right;\">\n",
       "      <th></th>\n",
       "      <th>date</th>\n",
       "      <th>rawContent</th>\n",
       "      <th>id</th>\n",
       "      <th>category</th>\n",
       "    </tr>\n",
       "  </thead>\n",
       "  <tbody>\n",
       "    <tr>\n",
       "      <th>0</th>\n",
       "      <td>2022-12-30 19:13:04+00:00</td>\n",
       "      <td>@ohmybeautybank skintype : combi to dry, oily ...</td>\n",
       "      <td>1608904017383653377</td>\n",
       "      <td>African American South</td>\n",
       "    </tr>\n",
       "    <tr>\n",
       "      <th>1</th>\n",
       "      <td>2022-12-30 13:17:11+00:00</td>\n",
       "      <td>Really sitting with these inquiry questions th...</td>\n",
       "      <td>1608814457924513792</td>\n",
       "      <td>African American South</td>\n",
       "    </tr>\n",
       "    <tr>\n",
       "      <th>2</th>\n",
       "      <td>2022-12-30 02:40:41+00:00</td>\n",
       "      <td>@IanVRowe Narrative feeds Democrats propaganda...</td>\n",
       "      <td>1608654278281023488</td>\n",
       "      <td>African American South</td>\n",
       "    </tr>\n",
       "    <tr>\n",
       "      <th>3</th>\n",
       "      <td>2022-12-30 02:32:16+00:00</td>\n",
       "      <td>@Jack_Royston @cbouzy \"Criticized\". Ms. Weiss ...</td>\n",
       "      <td>1608652157020147712</td>\n",
       "      <td>African American South</td>\n",
       "    </tr>\n",
       "    <tr>\n",
       "      <th>4</th>\n",
       "      <td>2022-12-30 01:28:06+00:00</td>\n",
       "      <td>@RepMTG LIAR!!! PROPAGANDA!!! Only domestic te...</td>\n",
       "      <td>1608636011390840832</td>\n",
       "      <td>African American South</td>\n",
       "    </tr>\n",
       "  </tbody>\n",
       "</table>\n",
       "</div>"
      ],
      "text/plain": [
       "                       date   \n",
       "0 2022-12-30 19:13:04+00:00  \\\n",
       "1 2022-12-30 13:17:11+00:00   \n",
       "2 2022-12-30 02:40:41+00:00   \n",
       "3 2022-12-30 02:32:16+00:00   \n",
       "4 2022-12-30 01:28:06+00:00   \n",
       "\n",
       "                                          rawContent                   id   \n",
       "0  @ohmybeautybank skintype : combi to dry, oily ...  1608904017383653377  \\\n",
       "1  Really sitting with these inquiry questions th...  1608814457924513792   \n",
       "2  @IanVRowe Narrative feeds Democrats propaganda...  1608654278281023488   \n",
       "3  @Jack_Royston @cbouzy \"Criticized\". Ms. Weiss ...  1608652157020147712   \n",
       "4  @RepMTG LIAR!!! PROPAGANDA!!! Only domestic te...  1608636011390840832   \n",
       "\n",
       "                 category  \n",
       "0  African American South  \n",
       "1  African American South  \n",
       "2  African American South  \n",
       "3  African American South  \n",
       "4  African American South  "
      ]
     },
     "execution_count": 3,
     "metadata": {},
     "output_type": "execute_result"
    }
   ],
   "source": [
    "df.head()"
   ]
  },
  {
   "cell_type": "code",
   "execution_count": 9,
   "metadata": {},
   "outputs": [
    {
     "data": {
      "text/plain": [
       "category\n",
       "Big Cities                6942499\n",
       "Graying America           4731866\n",
       "Rural Middle America      1557254\n",
       "Exurbs                    1341199\n",
       "Evangelical Hubs          1019493\n",
       "College Towns              939110\n",
       "Middle Suburbs             299360\n",
       "Hispanic Centers           299139\n",
       "Urban Suburbs              249073\n",
       "Working Class Country      168364\n",
       "African American South      96221\n",
       "Aging Farmlands             68476\n",
       "Military Posts              24460\n",
       "Native American Lands       11830\n",
       "LDS Enclaves                 6899\n",
       "Name: count, dtype: int64"
      ]
     },
     "execution_count": 9,
     "metadata": {},
     "output_type": "execute_result"
    }
   ],
   "source": [
    "df['category'].value_counts()"
   ]
  },
  {
   "cell_type": "code",
   "execution_count": 6,
   "metadata": {},
   "outputs": [
    {
     "name": "stderr",
     "output_type": "stream",
     "text": [
      "C:\\Users\\fashaikh\\AppData\\Local\\Temp\\ipykernel_15756\\4288224649.py:1: SettingWithCopyWarning: \n",
      "A value is trying to be set on a copy of a slice from a DataFrame\n",
      "\n",
      "See the caveats in the documentation: https://pandas.pydata.org/pandas-docs/stable/user_guide/indexing.html#returning-a-view-versus-a-copy\n",
      "  df[df['date'] >= '2022-12-01'].drop_duplicates('id', inplace=True)\n"
     ]
    }
   ],
   "source": [
    "df[df['date'] >= '2022-12-01'].drop_duplicates('id', inplace=True)"
   ]
  },
  {
   "cell_type": "code",
   "execution_count": 7,
   "metadata": {},
   "outputs": [],
   "source": [
    "filtered_df = df[df['date'] >= '2022-12-01']"
   ]
  },
  {
   "cell_type": "code",
   "execution_count": 8,
   "metadata": {},
   "outputs": [
    {
     "name": "stderr",
     "output_type": "stream",
     "text": [
      "C:\\Users\\fashaikh\\AppData\\Local\\Temp\\ipykernel_15756\\3313486687.py:1: SettingWithCopyWarning: \n",
      "A value is trying to be set on a copy of a slice from a DataFrame\n",
      "\n",
      "See the caveats in the documentation: https://pandas.pydata.org/pandas-docs/stable/user_guide/indexing.html#returning-a-view-versus-a-copy\n",
      "  filtered_df.drop_duplicates('id', inplace=True)\n"
     ]
    }
   ],
   "source": [
    "filtered_df.drop_duplicates('id', inplace=True)"
   ]
  },
  {
   "cell_type": "code",
   "execution_count": 9,
   "metadata": {},
   "outputs": [],
   "source": [
    "df = df[df['date'] < '2022-12-01']"
   ]
  },
  {
   "cell_type": "code",
   "execution_count": 10,
   "metadata": {},
   "outputs": [],
   "source": [
    "df = pd.concat([df,filtered_df])"
   ]
  },
  {
   "cell_type": "code",
   "execution_count": null,
   "metadata": {},
   "outputs": [],
   "source": [
    "df.to_parquet(r'C:\\Users\\fashaikh\\Desktop\\Thesis main\\combined_data.parquet')"
   ]
  }
 ],
 "metadata": {
  "kernelspec": {
   "display_name": ".venv",
   "language": "python",
   "name": "python3"
  },
  "language_info": {
   "codemirror_mode": {
    "name": "ipython",
    "version": 3
   },
   "file_extension": ".py",
   "mimetype": "text/x-python",
   "name": "python",
   "nbconvert_exporter": "python",
   "pygments_lexer": "ipython3",
   "version": "3.10.7"
  },
  "orig_nbformat": 4
 },
 "nbformat": 4,
 "nbformat_minor": 2
}
